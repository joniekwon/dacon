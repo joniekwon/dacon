{
  "cells": [
    {
      "cell_type": "markdown",
      "metadata": {
        "id": "fZ776RK7HZ37"
      },
      "source": [
        "* kaggle 공유코드를 참고하여 작성하였습니다. :D\n",
        "https://www.kaggle.com/ayuraj/train-yolov5-cross-validation-ensemble-w-b"
      ]
    },
    {
      "cell_type": "code",
      "execution_count": null,
      "metadata": {
        "colab": {
          "base_uri": "https://localhost:8080/"
        },
        "id": "XZe6qG8TVT7w",
        "outputId": "a08076e1-c8d3-412f-9b39-73216908ebc3"
      },
      "outputs": [
        {
          "name": "stdout",
          "output_type": "stream",
          "text": [
            "Mounted at /content/drive\n"
          ]
        }
      ],
      "source": [
        "from google.colab import drive\n",
        "drive.mount('/content/drive')"
      ]
    },
    {
      "cell_type": "code",
      "execution_count": null,
      "metadata": {
        "id": "quuGN-Y9RkE3"
      },
      "outputs": [],
      "source": [
        "!unzip -qq '/content/drive/MyDrive/Colab Notebooks/DACON/작물병해진단/data/train.zip' -d '/content'\n",
        "!unzip -qq '/content/drive/MyDrive/Colab Notebooks/DACON/작물병해진단/data/test.zip' -d '/content/test'"
      ]
    },
    {
      "cell_type": "code",
      "execution_count": null,
      "metadata": {
        "colab": {
          "base_uri": "https://localhost:8080/"
        },
        "id": "iehJJNWKs_AV",
        "outputId": "0671cf71-7e7a-4a41-a74a-022da3f7405c"
      },
      "outputs": [
        {
          "name": "stdout",
          "output_type": "stream",
          "text": [
            "Collecting timm\n",
            "  Downloading timm-0.5.4-py3-none-any.whl (431 kB)\n",
            "\u001b[?25l\r",
            "\u001b[K     |▊                               | 10 kB 28.8 MB/s eta 0:00:01\r",
            "\u001b[K     |█▌                              | 20 kB 19.0 MB/s eta 0:00:01\r",
            "\u001b[K     |██▎                             | 30 kB 10.2 MB/s eta 0:00:01\r",
            "\u001b[K     |███                             | 40 kB 8.3 MB/s eta 0:00:01\r",
            "\u001b[K     |███▉                            | 51 kB 5.2 MB/s eta 0:00:01\r",
            "\u001b[K     |████▋                           | 61 kB 5.3 MB/s eta 0:00:01\r",
            "\u001b[K     |█████▎                          | 71 kB 5.3 MB/s eta 0:00:01\r",
            "\u001b[K     |██████                          | 81 kB 6.0 MB/s eta 0:00:01\r",
            "\u001b[K     |██████▉                         | 92 kB 6.0 MB/s eta 0:00:01\r",
            "\u001b[K     |███████▋                        | 102 kB 5.1 MB/s eta 0:00:01\r",
            "\u001b[K     |████████▍                       | 112 kB 5.1 MB/s eta 0:00:01\r",
            "\u001b[K     |█████████▏                      | 122 kB 5.1 MB/s eta 0:00:01\r",
            "\u001b[K     |█████████▉                      | 133 kB 5.1 MB/s eta 0:00:01\r",
            "\u001b[K     |██████████▋                     | 143 kB 5.1 MB/s eta 0:00:01\r",
            "\u001b[K     |███████████▍                    | 153 kB 5.1 MB/s eta 0:00:01\r",
            "\u001b[K     |████████████▏                   | 163 kB 5.1 MB/s eta 0:00:01\r",
            "\u001b[K     |█████████████                   | 174 kB 5.1 MB/s eta 0:00:01\r",
            "\u001b[K     |█████████████▊                  | 184 kB 5.1 MB/s eta 0:00:01\r",
            "\u001b[K     |██████████████▍                 | 194 kB 5.1 MB/s eta 0:00:01\r",
            "\u001b[K     |███████████████▏                | 204 kB 5.1 MB/s eta 0:00:01\r",
            "\u001b[K     |████████████████                | 215 kB 5.1 MB/s eta 0:00:01\r",
            "\u001b[K     |████████████████▊               | 225 kB 5.1 MB/s eta 0:00:01\r",
            "\u001b[K     |█████████████████▌              | 235 kB 5.1 MB/s eta 0:00:01\r",
            "\u001b[K     |██████████████████▎             | 245 kB 5.1 MB/s eta 0:00:01\r",
            "\u001b[K     |███████████████████             | 256 kB 5.1 MB/s eta 0:00:01\r",
            "\u001b[K     |███████████████████▊            | 266 kB 5.1 MB/s eta 0:00:01\r",
            "\u001b[K     |████████████████████▌           | 276 kB 5.1 MB/s eta 0:00:01\r",
            "\u001b[K     |█████████████████████▎          | 286 kB 5.1 MB/s eta 0:00:01\r",
            "\u001b[K     |██████████████████████          | 296 kB 5.1 MB/s eta 0:00:01\r",
            "\u001b[K     |██████████████████████▉         | 307 kB 5.1 MB/s eta 0:00:01\r",
            "\u001b[K     |███████████████████████▌        | 317 kB 5.1 MB/s eta 0:00:01\r",
            "\u001b[K     |████████████████████████▎       | 327 kB 5.1 MB/s eta 0:00:01\r",
            "\u001b[K     |█████████████████████████       | 337 kB 5.1 MB/s eta 0:00:01\r",
            "\u001b[K     |█████████████████████████▉      | 348 kB 5.1 MB/s eta 0:00:01\r",
            "\u001b[K     |██████████████████████████▋     | 358 kB 5.1 MB/s eta 0:00:01\r",
            "\u001b[K     |███████████████████████████▍    | 368 kB 5.1 MB/s eta 0:00:01\r",
            "\u001b[K     |████████████████████████████    | 378 kB 5.1 MB/s eta 0:00:01\r",
            "\u001b[K     |████████████████████████████▉   | 389 kB 5.1 MB/s eta 0:00:01\r",
            "\u001b[K     |█████████████████████████████▋  | 399 kB 5.1 MB/s eta 0:00:01\r",
            "\u001b[K     |██████████████████████████████▍ | 409 kB 5.1 MB/s eta 0:00:01\r",
            "\u001b[K     |███████████████████████████████▏| 419 kB 5.1 MB/s eta 0:00:01\r",
            "\u001b[K     |████████████████████████████████| 430 kB 5.1 MB/s eta 0:00:01\r",
            "\u001b[K     |████████████████████████████████| 431 kB 5.1 MB/s \n",
            "\u001b[?25hRequirement already satisfied: torch>=1.4 in /usr/local/lib/python3.7/dist-packages (from timm) (1.10.0+cu111)\n",
            "Requirement already satisfied: torchvision in /usr/local/lib/python3.7/dist-packages (from timm) (0.11.1+cu111)\n",
            "Requirement already satisfied: typing-extensions in /usr/local/lib/python3.7/dist-packages (from torch>=1.4->timm) (3.10.0.2)\n",
            "Requirement already satisfied: numpy in /usr/local/lib/python3.7/dist-packages (from torchvision->timm) (1.19.5)\n",
            "Requirement already satisfied: pillow!=8.3.0,>=5.3.0 in /usr/local/lib/python3.7/dist-packages (from torchvision->timm) (7.1.2)\n",
            "Installing collected packages: timm\n",
            "Successfully installed timm-0.5.4\n"
          ]
        }
      ],
      "source": [
        "# !pip install timm"
      ]
    },
    {
      "cell_type": "code",
      "execution_count": null,
      "metadata": {
        "id": "IgucuEi2vuq3"
      },
      "outputs": [],
      "source": [
        "!pip install wandb\n",
        "!wandb login "
      ]
    },
    {
      "cell_type": "code",
      "execution_count": null,
      "metadata": {
        "colab": {
          "base_uri": "https://localhost:8080/"
        },
        "id": "l0AugvY4VPNn",
        "outputId": "59d92c83-db20-437e-deb9-c343e4800cc0"
      },
      "outputs": [
        {
          "name": "stdout",
          "output_type": "stream",
          "text": [
            "Cloning into 'yolov5'...\n",
            "remote: Enumerating objects: 10882, done.\u001b[K\n",
            "remote: Total 10882 (delta 0), reused 0 (delta 0), pack-reused 10882\u001b[K\n",
            "Receiving objects: 100% (10882/10882), 10.92 MiB | 15.11 MiB/s, done.\n",
            "Resolving deltas: 100% (7524/7524), done.\n",
            "/content/yolov5\n",
            "\u001b[K     |████████████████████████████████| 596 kB 6.7 MB/s \n",
            "\u001b[?25h/content\n"
          ]
        }
      ],
      "source": [
        "!git clone https://github.com/ultralytics/yolov5  # clone\n",
        "#/content/yolov5\n",
        "%cd yolov5\n",
        "%pip install -qr requirements.txt  # install\n",
        "\n",
        "# from yolov5 import utils\n",
        "# display = utils.notebook_init()  # checks\n",
        "%cd ../"
      ]
    },
    {
      "cell_type": "code",
      "execution_count": null,
      "metadata": {
        "colab": {
          "base_uri": "https://localhost:8080/"
        },
        "id": "p60NMWfXuPkm",
        "outputId": "e95bbd55-2246-4ecb-98e3-f783d975cd51"
      },
      "outputs": [
        {
          "name": "stdout",
          "output_type": "stream",
          "text": [
            "Setup complete. Using torch 1.10.0+cu111 (Tesla P100-PCIE-16GB)\n",
            "- os: Linux-5.4.144+-x86_64-with-Ubuntu-18.04-bionic\n",
            "- python: 3.7.12 (default, Jan 15 2022, 18:48:18) \n",
            "[GCC 7.5.0]\n",
            "- pandas: 1.3.5\n",
            "- numpy: 1.19.5\n",
            "- sklearn: 1.0.2\n",
            "- pytorch: 1.10.0+cu111\n",
            "- opencv: 4.1.2\n"
          ]
        }
      ],
      "source": [
        "import pandas as pd\n",
        "pd.set_option('mode.chained_assignment', None)\n",
        "import numpy as np\n",
        "import matplotlib.pyplot as plt\n",
        "from PIL import Image\n",
        "import random\n",
        "from sklearn.preprocessing import LabelEncoder\n",
        "from sklearn.metrics import f1_score, precision_recall_fscore_support\n",
        "from sklearn.model_selection import train_test_split\n",
        "from tqdm import tqdm\n",
        "import seaborn as sns\n",
        "sns.set_style('dark')\n",
        "import warnings\n",
        "warnings.filterwarnings('ignore')\n",
        "\n",
        "import torch\n",
        "from torch import nn\n",
        "import torchvision\n",
        "from torchvision import models\n",
        "from torch.utils.data import Dataset, DataLoader\n",
        "# from timm.data.dataset import ImageDataset\n",
        "# from timm.data.random_erasing import RandomErasing\n",
        "from torchvision import transforms\n",
        "\n",
        "import platform\n",
        "import sys\n",
        "import os\n",
        "import sklearn \n",
        "import cv2\n",
        "import json\n",
        "from glob import glob\n",
        "\n",
        "print(f\"Setup complete. Using torch {torch.__version__} ({torch.cuda.get_device_properties(0).name if torch.cuda.is_available() else 'CPU'})\")\n",
        "print(f\"- os: {platform.platform()}\")\n",
        "print(f\"- python: {sys.version}\")\n",
        "print(f\"- pandas: {pd.__version__}\")\n",
        "print(f\"- numpy: {np.__version__}\")\n",
        "print(f\"- sklearn: {sklearn.__version__}\")\n",
        "print(f\"- pytorch: {torch.__version__}\")\n",
        "print(f\"- opencv: {cv2.__version__}\")"
      ]
    },
    {
      "cell_type": "code",
      "execution_count": null,
      "metadata": {
        "id": "6Ce3r1S6vm-S"
      },
      "outputs": [],
      "source": [
        "from shutil import copyfile\n",
        "from sklearn.model_selection import StratifiedKFold\n",
        "\n",
        "#customize iPython writefile so we can write variables\n",
        "from IPython.core.magic import register_line_cell_magic\n",
        "\n",
        "@register_line_cell_magic\n",
        "def writetemplate(line, cell):\n",
        "    with open(line, 'w') as f:\n",
        "        f.write(cell.format(**globals()))"
      ]
    },
    {
      "cell_type": "code",
      "execution_count": null,
      "metadata": {
        "id": "Uq_WhkBPv3YI"
      },
      "outputs": [],
      "source": [
        "TRAIN_PATH = '/content/train/'\n",
        "TEST_PATH = '/content/test/'\n",
        "DATASET_NAME = 'CROP_DISEASE_2folds'\n",
        "BATCH_SIZE = 128\n",
        "EPOCHS = 150\n",
        "USE_FOLD = True\n",
        "FLIP_IMG = True\n",
        "BLUR_IMG = True\n",
        "\n",
        "SEED = 42\n",
        "NUM_FOLD = 2\n",
        "\n",
        "# image resize\n",
        "IMG_SIZE = 128"
      ]
    },
    {
      "cell_type": "code",
      "execution_count": null,
      "metadata": {
        "id": "2B-F6DzoUsAl"
      },
      "outputs": [],
      "source": [
        "def print_prams():\n",
        "    print(f'BATCH_SIZE: {BATCH_SIZE}')\n",
        "    print(f'EPOCHS: {EPOCHS}')\n",
        "    print(f'SEED: {SEED}')\n",
        "    print(f'NUM_FOLD: {NUM_FOLD}')\n",
        "    print(f'DATASET_NAME: {DATASET_NAME}')\n",
        "    print(f'IMG_SIZE: {IMG_SIZE}')\n",
        "    print(f'FLIP_IMG: {FLIP_IMG}')\n",
        "    print(f'BLUR_IMG: {BLUR_IMG}')"
      ]
    },
    {
      "cell_type": "markdown",
      "metadata": {
        "id": "9oAcm1XaVkdD"
      },
      "source": [
        "# 데이터 로드"
      ]
    },
    {
      "cell_type": "code",
      "execution_count": null,
      "metadata": {
        "id": "l9t69rJWwQr9"
      },
      "outputs": [],
      "source": [
        "train_csv = sorted(glob(TRAIN_PATH +'*/*.csv'))\n",
        "train_json = sorted(glob(TRAIN_PATH +'*/*.json'))\n",
        "test_csv = sorted(glob(TEST_PATH +'*/*.csv'))"
      ]
    },
    {
      "cell_type": "markdown",
      "metadata": {
        "id": "y_-K3fzR6XM9"
      },
      "source": [
        "## 함수 정의"
      ]
    },
    {
      "cell_type": "code",
      "execution_count": null,
      "metadata": {
        "id": "CRI-hqzDcebh"
      },
      "outputs": [],
      "source": [
        "def img_load(path):\n",
        "    img = cv2.imread(path)\n",
        "    #img = cv2.cvtColor(img, cv2.COLOR_BGR2RGB)\n",
        "    return img\n",
        "\n",
        "def seed_everything(seed):\n",
        "    random.seed(seed)\n",
        "    os.environ['PYTHONHASHSEED'] = str(seed)\n",
        "    np.random.seed(seed)\n",
        "    torch.manual_seed(seed)\n",
        "    torch.cuda.manual_seed(seed)\n",
        "    torch.backends.cudnn.deterministic = True\n",
        "    torch.backends.cudnn.benchmark = True\n",
        "\n",
        "seed_everything(SEED)\n",
        "\n",
        "def json_data_load(train_json):\n",
        "    crops = []\n",
        "    areas = []\n",
        "    diseases = []\n",
        "    risks = []\n",
        "    labels = []\n",
        "    img_names = []\n",
        "    parts=[]\n",
        "    objects = []\n",
        "    img_w = []\n",
        "    img_h = []\n",
        "    grows = []\n",
        "    img_dirs = []\n",
        "    for i in range(len(train_json)):\n",
        "        with open(train_json[i], 'r') as f:\n",
        "            sample = json.load(f)\n",
        "            \n",
        "            crop = sample['annotations']['crop']\n",
        "            area = sample['annotations']['area']\n",
        "            disease = sample['annotations']['disease']\n",
        "            grow = sample['annotations']['grow']\n",
        "            risk = sample['annotations']['risk']\n",
        "            label=f\"{crop}_{disease}_{risk}\"        \n",
        "            img_name = sample['description']['image'].replace('.jpg','')\n",
        "            img_dir = train_json[i].replace('.json', '.jpg')\n",
        "            width = sample['description']['width']\n",
        "            height = sample['description']['height']\n",
        "\n",
        "            crops.append(crop)\n",
        "            areas.append(area)\n",
        "            diseases.append(disease)\n",
        "            risks.append(risk)\n",
        "            labels.append(label)\n",
        "            img_names.append(img_name)\n",
        "            img_w.append(width)\n",
        "            img_h.append(height)\n",
        "            img_dirs.append(img_dir)\n",
        "            grows.append(grow)\n",
        "            r = sample['annotations']['bbox'][0]\n",
        "            temp = [int(r['x']), int(r['y']), int(r['w']), int(r['h'])]\n",
        "            objects.append(temp)    \n",
        "            \n",
        "            p = []\n",
        "            \n",
        "            for part in sample['annotations']['part']:\n",
        "                p.append([int(part['x']), int(part['y']), int(part['w']), int(part['h'])])\n",
        "            parts.append(p)\n",
        "\n",
        "    df = pd.DataFrame({'image':img_names, 'img_w':img_w, 'img_h':img_h, 'crops':crops,'areas':areas,'diseases':diseases,'risks':risks, \n",
        "                       'grows':grows, 'bbox':objects, 'parts':parts, 'labels':labels, 'dir':img_dirs})\n",
        "    df['crop_area'] = df.crops.astype(str) + '_' + df.areas.astype(str)\n",
        "    df['disease_risk'] = df.diseases.astype(str) + '_' + df.risks.astype(str)\n",
        "\n",
        "    df['x'] = df.bbox.apply(lambda x: x[0])\n",
        "    df['y'] = df.bbox.apply(lambda x: x[1])\n",
        "    df['w'] = df.bbox.apply(lambda x: x[2])\n",
        "    df['h'] = df.bbox.apply(lambda x: x[3])\n",
        "    df['xc'] = df.x + df.w.apply(lambda x:x//2)\n",
        "    df['yc'] = df.y + df.h.apply(lambda x:x//2)\n",
        "    \n",
        "    df.dir = df.dir.apply(lambda x: x.replace('\\\\','/'))\n",
        "    df = df[['image','crops','areas','diseases','risks','grows','xc','yc','w','h', 'img_w', 'img_h', 'parts', 'dir']]\n",
        "\n",
        "    return df\n",
        "\n",
        "# Gaussian이미지 생성\n",
        "def add_gaussian_img(df:pd.DataFrame):\n",
        "    df_disease = df[df.diseases!='00']\n",
        "    \n",
        "    for img_dir in tqdm(df_disease.dir):\n",
        "        img = cv2.imread(img_dir)\n",
        "        temp_dir = img_dir.replace('.jpg', f'_blur.jpg')\n",
        "        gaussian_img = cv2.GaussianBlur(img, (0, 0), 1)\n",
        "        cv2.imwrite(temp_dir, gaussian_img)\n",
        "        \n",
        "    df_blur = df_disease.copy()\n",
        "    df_blur.dir = df_blur.dir.apply(lambda x: x.replace('.jpg', '_blur.jpg'))\n",
        "    df_blur.image = df_blur.image.apply(lambda x: x+'_blur')\n",
        "    df = pd.concat([df, df_blur])\n",
        "    df.reset_index(inplace=True, drop=True)\n",
        "    return df\n",
        "\n",
        "# filp 이미지 생성\n",
        "def add_filp_img(df:pd.DataFrame):\n",
        "    df_disease = df[df.diseases!='00']\n",
        "    \n",
        "    for img_dir in tqdm(df_disease.dir):\n",
        "        img = cv2.imread(img_dir)\n",
        "        for flip in range(2):\n",
        "            flip_dir = img_dir.replace('.jpg', f'_flip{flip}.jpg')\n",
        "            cv2.imwrite(flip_dir, cv2.flip(img, flip))\n",
        "    \n",
        "    # 좌표 변경\n",
        "    df_flip0 = df_disease.copy()\n",
        "    df_flip0.yc = df_flip0.img_h - df_flip0.yc\n",
        "    df_flip0.image = df_flip0.image + '_flip0'\n",
        "    df_flip0.dir = df_flip0.dir.apply(lambda x: x.replace('.jpg', '_flip0.jpg'))\n",
        "\n",
        "    df_flip1 = df_disease.copy()\n",
        "    df_flip1.xc = df_flip1.img_w - df_flip1.xc\n",
        "    df_flip1.image = df_flip1.image + '_flip1'\n",
        "    df_flip1.dir = df_flip1.dir.apply(lambda x: x.replace('.jpg', '_flip1.jpg'))\n",
        "    \n",
        "    df = pd.concat([df, df_flip0, df_flip1])\n",
        "    df.reset_index(inplace=True, drop=True)\n",
        "\n",
        "    return df \n",
        "    \n",
        "def add_randomErase_img(df:pd.DataFrame):\n",
        "    df_disease = df[df.diseases!='00']\n",
        "\n",
        "    for img_dir in tqdm(df_disease.dir):\n",
        "        img = Image.open(img_dir)\n",
        "        x = transforms.ToTensor()(img)\n",
        "        random_erase = RandomErasing(probability=1, mode='pixel', device='cpu')\n",
        "        result = random_erase(x).permute(1,2,0).numpy()\n",
        "        re_dir = img_dir.replace('.jpg', f'_re.jpg')\n",
        "        result = cv2.cvtColor(result, cv2.COLOR_RGB2BGR)\n",
        "        cv2.imwrite(re_dir,result*255)      \n",
        "        \n",
        "    df_erase = df_disease.copy()\n",
        "    df_erase.image = df_erase.image + '_re'\n",
        "    df_erase.dir = df_erase.dir.apply(lambda x: x.replace('.jpg', '_re.jpg'))\n",
        "\n",
        "    df = pd.concat([df, df_erase])\n",
        "    df.reset_index(inplace=True, drop=True)\n",
        "\n",
        "    return df    "
      ]
    },
    {
      "cell_type": "markdown",
      "metadata": {
        "id": "KAUuiNQeUsAx"
      },
      "source": [
        "# 학습 이미지 생성"
      ]
    },
    {
      "cell_type": "code",
      "execution_count": null,
      "metadata": {
        "colab": {
          "base_uri": "https://localhost:8080/",
          "height": 423
        },
        "id": "5_TS3Qj7wXmF",
        "outputId": "7c46712e-6379-4d67-8016-448fa01ffcb7"
      },
      "outputs": [
        {
          "data": {
            "text/html": [
              "\n",
              "  <div id=\"df-02b6dc0a-792b-463d-b8b7-40863791d26a\">\n",
              "    <div class=\"colab-df-container\">\n",
              "      <div>\n",
              "<style scoped>\n",
              "    .dataframe tbody tr th:only-of-type {\n",
              "        vertical-align: middle;\n",
              "    }\n",
              "\n",
              "    .dataframe tbody tr th {\n",
              "        vertical-align: top;\n",
              "    }\n",
              "\n",
              "    .dataframe thead th {\n",
              "        text-align: right;\n",
              "    }\n",
              "</style>\n",
              "<table border=\"1\" class=\"dataframe\">\n",
              "  <thead>\n",
              "    <tr style=\"text-align: right;\">\n",
              "      <th></th>\n",
              "      <th>image</th>\n",
              "      <th>crops</th>\n",
              "      <th>areas</th>\n",
              "      <th>diseases</th>\n",
              "      <th>risks</th>\n",
              "      <th>grows</th>\n",
              "      <th>xc</th>\n",
              "      <th>yc</th>\n",
              "      <th>w</th>\n",
              "      <th>h</th>\n",
              "      <th>img_w</th>\n",
              "      <th>img_h</th>\n",
              "      <th>parts</th>\n",
              "      <th>dir</th>\n",
              "    </tr>\n",
              "  </thead>\n",
              "  <tbody>\n",
              "    <tr>\n",
              "      <th>0</th>\n",
              "      <td>10027</td>\n",
              "      <td>3</td>\n",
              "      <td>3</td>\n",
              "      <td>b7</td>\n",
              "      <td>1</td>\n",
              "      <td>13</td>\n",
              "      <td>171</td>\n",
              "      <td>280</td>\n",
              "      <td>165</td>\n",
              "      <td>237</td>\n",
              "      <td>384</td>\n",
              "      <td>512</td>\n",
              "      <td>[[125, 177, 32, 78], [162, 187, 35, 57]]</td>\n",
              "      <td>/content/train/10027/10027.jpg</td>\n",
              "    </tr>\n",
              "    <tr>\n",
              "      <th>1</th>\n",
              "      <td>10037</td>\n",
              "      <td>3</td>\n",
              "      <td>5</td>\n",
              "      <td>00</td>\n",
              "      <td>0</td>\n",
              "      <td>11</td>\n",
              "      <td>190</td>\n",
              "      <td>159</td>\n",
              "      <td>48</td>\n",
              "      <td>315</td>\n",
              "      <td>384</td>\n",
              "      <td>512</td>\n",
              "      <td>[]</td>\n",
              "      <td>/content/train/10037/10037.jpg</td>\n",
              "    </tr>\n",
              "    <tr>\n",
              "      <th>2</th>\n",
              "      <td>10043</td>\n",
              "      <td>3</td>\n",
              "      <td>1</td>\n",
              "      <td>00</td>\n",
              "      <td>0</td>\n",
              "      <td>13</td>\n",
              "      <td>191</td>\n",
              "      <td>251</td>\n",
              "      <td>272</td>\n",
              "      <td>271</td>\n",
              "      <td>384</td>\n",
              "      <td>512</td>\n",
              "      <td>[]</td>\n",
              "      <td>/content/train/10043/10043.jpg</td>\n",
              "    </tr>\n",
              "    <tr>\n",
              "      <th>3</th>\n",
              "      <td>10045</td>\n",
              "      <td>3</td>\n",
              "      <td>3</td>\n",
              "      <td>00</td>\n",
              "      <td>0</td>\n",
              "      <td>11</td>\n",
              "      <td>214</td>\n",
              "      <td>319</td>\n",
              "      <td>172</td>\n",
              "      <td>263</td>\n",
              "      <td>384</td>\n",
              "      <td>512</td>\n",
              "      <td>[]</td>\n",
              "      <td>/content/train/10045/10045.jpg</td>\n",
              "    </tr>\n",
              "    <tr>\n",
              "      <th>4</th>\n",
              "      <td>10063</td>\n",
              "      <td>3</td>\n",
              "      <td>1</td>\n",
              "      <td>00</td>\n",
              "      <td>0</td>\n",
              "      <td>13</td>\n",
              "      <td>184</td>\n",
              "      <td>287</td>\n",
              "      <td>285</td>\n",
              "      <td>283</td>\n",
              "      <td>384</td>\n",
              "      <td>512</td>\n",
              "      <td>[]</td>\n",
              "      <td>/content/train/10063/10063.jpg</td>\n",
              "    </tr>\n",
              "    <tr>\n",
              "      <th>...</th>\n",
              "      <td>...</td>\n",
              "      <td>...</td>\n",
              "      <td>...</td>\n",
              "      <td>...</td>\n",
              "      <td>...</td>\n",
              "      <td>...</td>\n",
              "      <td>...</td>\n",
              "      <td>...</td>\n",
              "      <td>...</td>\n",
              "      <td>...</td>\n",
              "      <td>...</td>\n",
              "      <td>...</td>\n",
              "      <td>...</td>\n",
              "      <td>...</td>\n",
              "    </tr>\n",
              "    <tr>\n",
              "      <th>5762</th>\n",
              "      <td>67640</td>\n",
              "      <td>3</td>\n",
              "      <td>5</td>\n",
              "      <td>00</td>\n",
              "      <td>0</td>\n",
              "      <td>11</td>\n",
              "      <td>131</td>\n",
              "      <td>185</td>\n",
              "      <td>160</td>\n",
              "      <td>370</td>\n",
              "      <td>384</td>\n",
              "      <td>512</td>\n",
              "      <td>[]</td>\n",
              "      <td>/content/train/67640/67640.jpg</td>\n",
              "    </tr>\n",
              "    <tr>\n",
              "      <th>5763</th>\n",
              "      <td>67644</td>\n",
              "      <td>1</td>\n",
              "      <td>3</td>\n",
              "      <td>00</td>\n",
              "      <td>0</td>\n",
              "      <td>11</td>\n",
              "      <td>401</td>\n",
              "      <td>258</td>\n",
              "      <td>560</td>\n",
              "      <td>488</td>\n",
              "      <td>682</td>\n",
              "      <td>512</td>\n",
              "      <td>[]</td>\n",
              "      <td>/content/train/67644/67644.jpg</td>\n",
              "    </tr>\n",
              "    <tr>\n",
              "      <th>5764</th>\n",
              "      <td>67647</td>\n",
              "      <td>2</td>\n",
              "      <td>3</td>\n",
              "      <td>a5</td>\n",
              "      <td>2</td>\n",
              "      <td>12</td>\n",
              "      <td>374</td>\n",
              "      <td>303</td>\n",
              "      <td>322</td>\n",
              "      <td>174</td>\n",
              "      <td>682</td>\n",
              "      <td>512</td>\n",
              "      <td>[[215, 218, 317, 170]]</td>\n",
              "      <td>/content/train/67647/67647.jpg</td>\n",
              "    </tr>\n",
              "    <tr>\n",
              "      <th>5765</th>\n",
              "      <td>67649</td>\n",
              "      <td>1</td>\n",
              "      <td>3</td>\n",
              "      <td>00</td>\n",
              "      <td>0</td>\n",
              "      <td>12</td>\n",
              "      <td>261</td>\n",
              "      <td>154</td>\n",
              "      <td>220</td>\n",
              "      <td>239</td>\n",
              "      <td>384</td>\n",
              "      <td>512</td>\n",
              "      <td>[]</td>\n",
              "      <td>/content/train/67649/67649.jpg</td>\n",
              "    </tr>\n",
              "    <tr>\n",
              "      <th>5766</th>\n",
              "      <td>67678</td>\n",
              "      <td>5</td>\n",
              "      <td>3</td>\n",
              "      <td>b6</td>\n",
              "      <td>1</td>\n",
              "      <td>13</td>\n",
              "      <td>205</td>\n",
              "      <td>253</td>\n",
              "      <td>184</td>\n",
              "      <td>424</td>\n",
              "      <td>384</td>\n",
              "      <td>512</td>\n",
              "      <td>[[124, 51, 161, 404]]</td>\n",
              "      <td>/content/train/67678/67678.jpg</td>\n",
              "    </tr>\n",
              "  </tbody>\n",
              "</table>\n",
              "<p>5767 rows × 14 columns</p>\n",
              "</div>\n",
              "      <button class=\"colab-df-convert\" onclick=\"convertToInteractive('df-02b6dc0a-792b-463d-b8b7-40863791d26a')\"\n",
              "              title=\"Convert this dataframe to an interactive table.\"\n",
              "              style=\"display:none;\">\n",
              "        \n",
              "  <svg xmlns=\"http://www.w3.org/2000/svg\" height=\"24px\"viewBox=\"0 0 24 24\"\n",
              "       width=\"24px\">\n",
              "    <path d=\"M0 0h24v24H0V0z\" fill=\"none\"/>\n",
              "    <path d=\"M18.56 5.44l.94 2.06.94-2.06 2.06-.94-2.06-.94-.94-2.06-.94 2.06-2.06.94zm-11 1L8.5 8.5l.94-2.06 2.06-.94-2.06-.94L8.5 2.5l-.94 2.06-2.06.94zm10 10l.94 2.06.94-2.06 2.06-.94-2.06-.94-.94-2.06-.94 2.06-2.06.94z\"/><path d=\"M17.41 7.96l-1.37-1.37c-.4-.4-.92-.59-1.43-.59-.52 0-1.04.2-1.43.59L10.3 9.45l-7.72 7.72c-.78.78-.78 2.05 0 2.83L4 21.41c.39.39.9.59 1.41.59.51 0 1.02-.2 1.41-.59l7.78-7.78 2.81-2.81c.8-.78.8-2.07 0-2.86zM5.41 20L4 18.59l7.72-7.72 1.47 1.35L5.41 20z\"/>\n",
              "  </svg>\n",
              "      </button>\n",
              "      \n",
              "  <style>\n",
              "    .colab-df-container {\n",
              "      display:flex;\n",
              "      flex-wrap:wrap;\n",
              "      gap: 12px;\n",
              "    }\n",
              "\n",
              "    .colab-df-convert {\n",
              "      background-color: #E8F0FE;\n",
              "      border: none;\n",
              "      border-radius: 50%;\n",
              "      cursor: pointer;\n",
              "      display: none;\n",
              "      fill: #1967D2;\n",
              "      height: 32px;\n",
              "      padding: 0 0 0 0;\n",
              "      width: 32px;\n",
              "    }\n",
              "\n",
              "    .colab-df-convert:hover {\n",
              "      background-color: #E2EBFA;\n",
              "      box-shadow: 0px 1px 2px rgba(60, 64, 67, 0.3), 0px 1px 3px 1px rgba(60, 64, 67, 0.15);\n",
              "      fill: #174EA6;\n",
              "    }\n",
              "\n",
              "    [theme=dark] .colab-df-convert {\n",
              "      background-color: #3B4455;\n",
              "      fill: #D2E3FC;\n",
              "    }\n",
              "\n",
              "    [theme=dark] .colab-df-convert:hover {\n",
              "      background-color: #434B5C;\n",
              "      box-shadow: 0px 1px 3px 1px rgba(0, 0, 0, 0.15);\n",
              "      filter: drop-shadow(0px 1px 2px rgba(0, 0, 0, 0.3));\n",
              "      fill: #FFFFFF;\n",
              "    }\n",
              "  </style>\n",
              "\n",
              "      <script>\n",
              "        const buttonEl =\n",
              "          document.querySelector('#df-02b6dc0a-792b-463d-b8b7-40863791d26a button.colab-df-convert');\n",
              "        buttonEl.style.display =\n",
              "          google.colab.kernel.accessAllowed ? 'block' : 'none';\n",
              "\n",
              "        async function convertToInteractive(key) {\n",
              "          const element = document.querySelector('#df-02b6dc0a-792b-463d-b8b7-40863791d26a');\n",
              "          const dataTable =\n",
              "            await google.colab.kernel.invokeFunction('convertToInteractive',\n",
              "                                                     [key], {});\n",
              "          if (!dataTable) return;\n",
              "\n",
              "          const docLinkHtml = 'Like what you see? Visit the ' +\n",
              "            '<a target=\"_blank\" href=https://colab.research.google.com/notebooks/data_table.ipynb>data table notebook</a>'\n",
              "            + ' to learn more about interactive tables.';\n",
              "          element.innerHTML = '';\n",
              "          dataTable['output_type'] = 'display_data';\n",
              "          await google.colab.output.renderOutput(dataTable, element);\n",
              "          const docLink = document.createElement('div');\n",
              "          docLink.innerHTML = docLinkHtml;\n",
              "          element.appendChild(docLink);\n",
              "        }\n",
              "      </script>\n",
              "    </div>\n",
              "  </div>\n",
              "  "
            ],
            "text/plain": [
              "      image  ...                             dir\n",
              "0     10027  ...  /content/train/10027/10027.jpg\n",
              "1     10037  ...  /content/train/10037/10037.jpg\n",
              "2     10043  ...  /content/train/10043/10043.jpg\n",
              "3     10045  ...  /content/train/10045/10045.jpg\n",
              "4     10063  ...  /content/train/10063/10063.jpg\n",
              "...     ...  ...                             ...\n",
              "5762  67640  ...  /content/train/67640/67640.jpg\n",
              "5763  67644  ...  /content/train/67644/67644.jpg\n",
              "5764  67647  ...  /content/train/67647/67647.jpg\n",
              "5765  67649  ...  /content/train/67649/67649.jpg\n",
              "5766  67678  ...  /content/train/67678/67678.jpg\n",
              "\n",
              "[5767 rows x 14 columns]"
            ]
          },
          "execution_count": 12,
          "metadata": {},
          "output_type": "execute_result"
        }
      ],
      "source": [
        "df_train = json_data_load(train_json)\n",
        "df_train"
      ]
    },
    {
      "cell_type": "code",
      "execution_count": null,
      "metadata": {
        "colab": {
          "base_uri": "https://localhost:8080/"
        },
        "id": "GE7G4wfIzJbk",
        "outputId": "04a6c11f-21ee-4db0-da19-c9cd694663fb"
      },
      "outputs": [
        {
          "name": "stderr",
          "output_type": "stream",
          "text": [
            "100%|██████████| 1823/1823 [00:22<00:00, 80.76it/s]\n",
            "100%|██████████| 3646/3646 [00:42<00:00, 86.26it/s]\n"
          ]
        }
      ],
      "source": [
        "df = df_train.copy()\n",
        "if BLUR_IMG:\n",
        "    df = add_gaussian_img(df)\n",
        "if FLIP_IMG:\n",
        "    df = add_filp_img(df)\n",
        "ERASE_IMG = False\n",
        "if ERASE_IMG:\n",
        "    df = add_randomErase_img(df)"
      ]
    },
    {
      "cell_type": "markdown",
      "metadata": {
        "id": "2wPrqzf7UsA7"
      },
      "source": [
        "## 라벨 생성"
      ]
    },
    {
      "cell_type": "code",
      "execution_count": null,
      "metadata": {
        "colab": {
          "base_uri": "https://localhost:8080/",
          "height": 423
        },
        "id": "JeEznRGfxGg6",
        "outputId": "cfbfc0ea-be42-4ab3-e53d-bb7886b752c6"
      },
      "outputs": [
        {
          "data": {
            "text/html": [
              "\n",
              "  <div id=\"df-52a8c492-3b89-4cc2-9e65-9808a9392c66\">\n",
              "    <div class=\"colab-df-container\">\n",
              "      <div>\n",
              "<style scoped>\n",
              "    .dataframe tbody tr th:only-of-type {\n",
              "        vertical-align: middle;\n",
              "    }\n",
              "\n",
              "    .dataframe tbody tr th {\n",
              "        vertical-align: top;\n",
              "    }\n",
              "\n",
              "    .dataframe thead th {\n",
              "        text-align: right;\n",
              "    }\n",
              "</style>\n",
              "<table border=\"1\" class=\"dataframe\">\n",
              "  <thead>\n",
              "    <tr style=\"text-align: right;\">\n",
              "      <th></th>\n",
              "      <th>image</th>\n",
              "      <th>xc</th>\n",
              "      <th>yc</th>\n",
              "      <th>w</th>\n",
              "      <th>h</th>\n",
              "      <th>label</th>\n",
              "      <th>path</th>\n",
              "      <th>img_w</th>\n",
              "      <th>img_h</th>\n",
              "    </tr>\n",
              "  </thead>\n",
              "  <tbody>\n",
              "    <tr>\n",
              "      <th>0</th>\n",
              "      <td>10027</td>\n",
              "      <td>171</td>\n",
              "      <td>280</td>\n",
              "      <td>165</td>\n",
              "      <td>237</td>\n",
              "      <td>3_b7_1_3_13</td>\n",
              "      <td>/content/train/10027/10027.jpg</td>\n",
              "      <td>384</td>\n",
              "      <td>512</td>\n",
              "    </tr>\n",
              "    <tr>\n",
              "      <th>1</th>\n",
              "      <td>10037</td>\n",
              "      <td>190</td>\n",
              "      <td>159</td>\n",
              "      <td>48</td>\n",
              "      <td>315</td>\n",
              "      <td>3_00_0_5_11</td>\n",
              "      <td>/content/train/10037/10037.jpg</td>\n",
              "      <td>384</td>\n",
              "      <td>512</td>\n",
              "    </tr>\n",
              "    <tr>\n",
              "      <th>2</th>\n",
              "      <td>10043</td>\n",
              "      <td>191</td>\n",
              "      <td>251</td>\n",
              "      <td>272</td>\n",
              "      <td>271</td>\n",
              "      <td>3_00_0_1_13</td>\n",
              "      <td>/content/train/10043/10043.jpg</td>\n",
              "      <td>384</td>\n",
              "      <td>512</td>\n",
              "    </tr>\n",
              "    <tr>\n",
              "      <th>3</th>\n",
              "      <td>10045</td>\n",
              "      <td>214</td>\n",
              "      <td>319</td>\n",
              "      <td>172</td>\n",
              "      <td>263</td>\n",
              "      <td>3_00_0_3_11</td>\n",
              "      <td>/content/train/10045/10045.jpg</td>\n",
              "      <td>384</td>\n",
              "      <td>512</td>\n",
              "    </tr>\n",
              "    <tr>\n",
              "      <th>4</th>\n",
              "      <td>10063</td>\n",
              "      <td>184</td>\n",
              "      <td>287</td>\n",
              "      <td>285</td>\n",
              "      <td>283</td>\n",
              "      <td>3_00_0_1_13</td>\n",
              "      <td>/content/train/10063/10063.jpg</td>\n",
              "      <td>384</td>\n",
              "      <td>512</td>\n",
              "    </tr>\n",
              "    <tr>\n",
              "      <th>...</th>\n",
              "      <td>...</td>\n",
              "      <td>...</td>\n",
              "      <td>...</td>\n",
              "      <td>...</td>\n",
              "      <td>...</td>\n",
              "      <td>...</td>\n",
              "      <td>...</td>\n",
              "      <td>...</td>\n",
              "      <td>...</td>\n",
              "    </tr>\n",
              "    <tr>\n",
              "      <th>14877</th>\n",
              "      <td>67574_blur_flip1</td>\n",
              "      <td>320</td>\n",
              "      <td>298</td>\n",
              "      <td>146</td>\n",
              "      <td>380</td>\n",
              "      <td>5_a7_2_1_13</td>\n",
              "      <td>/content/train/67574/67574_blur_flip1.jpg</td>\n",
              "      <td>682</td>\n",
              "      <td>512</td>\n",
              "    </tr>\n",
              "    <tr>\n",
              "      <th>14878</th>\n",
              "      <td>67595_blur_flip1</td>\n",
              "      <td>304</td>\n",
              "      <td>265</td>\n",
              "      <td>160</td>\n",
              "      <td>430</td>\n",
              "      <td>5_a7_2_1_13</td>\n",
              "      <td>/content/train/67595/67595_blur_flip1.jpg</td>\n",
              "      <td>682</td>\n",
              "      <td>512</td>\n",
              "    </tr>\n",
              "    <tr>\n",
              "      <th>14879</th>\n",
              "      <td>67636_blur_flip1</td>\n",
              "      <td>204</td>\n",
              "      <td>313</td>\n",
              "      <td>142</td>\n",
              "      <td>216</td>\n",
              "      <td>3_b6_1_3_13</td>\n",
              "      <td>/content/train/67636/67636_blur_flip1.jpg</td>\n",
              "      <td>384</td>\n",
              "      <td>512</td>\n",
              "    </tr>\n",
              "    <tr>\n",
              "      <th>14880</th>\n",
              "      <td>67647_blur_flip1</td>\n",
              "      <td>308</td>\n",
              "      <td>303</td>\n",
              "      <td>322</td>\n",
              "      <td>174</td>\n",
              "      <td>2_a5_2_3_12</td>\n",
              "      <td>/content/train/67647/67647_blur_flip1.jpg</td>\n",
              "      <td>682</td>\n",
              "      <td>512</td>\n",
              "    </tr>\n",
              "    <tr>\n",
              "      <th>14881</th>\n",
              "      <td>67678_blur_flip1</td>\n",
              "      <td>179</td>\n",
              "      <td>253</td>\n",
              "      <td>184</td>\n",
              "      <td>424</td>\n",
              "      <td>5_b6_1_3_13</td>\n",
              "      <td>/content/train/67678/67678_blur_flip1.jpg</td>\n",
              "      <td>384</td>\n",
              "      <td>512</td>\n",
              "    </tr>\n",
              "  </tbody>\n",
              "</table>\n",
              "<p>14882 rows × 9 columns</p>\n",
              "</div>\n",
              "      <button class=\"colab-df-convert\" onclick=\"convertToInteractive('df-52a8c492-3b89-4cc2-9e65-9808a9392c66')\"\n",
              "              title=\"Convert this dataframe to an interactive table.\"\n",
              "              style=\"display:none;\">\n",
              "        \n",
              "  <svg xmlns=\"http://www.w3.org/2000/svg\" height=\"24px\"viewBox=\"0 0 24 24\"\n",
              "       width=\"24px\">\n",
              "    <path d=\"M0 0h24v24H0V0z\" fill=\"none\"/>\n",
              "    <path d=\"M18.56 5.44l.94 2.06.94-2.06 2.06-.94-2.06-.94-.94-2.06-.94 2.06-2.06.94zm-11 1L8.5 8.5l.94-2.06 2.06-.94-2.06-.94L8.5 2.5l-.94 2.06-2.06.94zm10 10l.94 2.06.94-2.06 2.06-.94-2.06-.94-.94-2.06-.94 2.06-2.06.94z\"/><path d=\"M17.41 7.96l-1.37-1.37c-.4-.4-.92-.59-1.43-.59-.52 0-1.04.2-1.43.59L10.3 9.45l-7.72 7.72c-.78.78-.78 2.05 0 2.83L4 21.41c.39.39.9.59 1.41.59.51 0 1.02-.2 1.41-.59l7.78-7.78 2.81-2.81c.8-.78.8-2.07 0-2.86zM5.41 20L4 18.59l7.72-7.72 1.47 1.35L5.41 20z\"/>\n",
              "  </svg>\n",
              "      </button>\n",
              "      \n",
              "  <style>\n",
              "    .colab-df-container {\n",
              "      display:flex;\n",
              "      flex-wrap:wrap;\n",
              "      gap: 12px;\n",
              "    }\n",
              "\n",
              "    .colab-df-convert {\n",
              "      background-color: #E8F0FE;\n",
              "      border: none;\n",
              "      border-radius: 50%;\n",
              "      cursor: pointer;\n",
              "      display: none;\n",
              "      fill: #1967D2;\n",
              "      height: 32px;\n",
              "      padding: 0 0 0 0;\n",
              "      width: 32px;\n",
              "    }\n",
              "\n",
              "    .colab-df-convert:hover {\n",
              "      background-color: #E2EBFA;\n",
              "      box-shadow: 0px 1px 2px rgba(60, 64, 67, 0.3), 0px 1px 3px 1px rgba(60, 64, 67, 0.15);\n",
              "      fill: #174EA6;\n",
              "    }\n",
              "\n",
              "    [theme=dark] .colab-df-convert {\n",
              "      background-color: #3B4455;\n",
              "      fill: #D2E3FC;\n",
              "    }\n",
              "\n",
              "    [theme=dark] .colab-df-convert:hover {\n",
              "      background-color: #434B5C;\n",
              "      box-shadow: 0px 1px 3px 1px rgba(0, 0, 0, 0.15);\n",
              "      filter: drop-shadow(0px 1px 2px rgba(0, 0, 0, 0.3));\n",
              "      fill: #FFFFFF;\n",
              "    }\n",
              "  </style>\n",
              "\n",
              "      <script>\n",
              "        const buttonEl =\n",
              "          document.querySelector('#df-52a8c492-3b89-4cc2-9e65-9808a9392c66 button.colab-df-convert');\n",
              "        buttonEl.style.display =\n",
              "          google.colab.kernel.accessAllowed ? 'block' : 'none';\n",
              "\n",
              "        async function convertToInteractive(key) {\n",
              "          const element = document.querySelector('#df-52a8c492-3b89-4cc2-9e65-9808a9392c66');\n",
              "          const dataTable =\n",
              "            await google.colab.kernel.invokeFunction('convertToInteractive',\n",
              "                                                     [key], {});\n",
              "          if (!dataTable) return;\n",
              "\n",
              "          const docLinkHtml = 'Like what you see? Visit the ' +\n",
              "            '<a target=\"_blank\" href=https://colab.research.google.com/notebooks/data_table.ipynb>data table notebook</a>'\n",
              "            + ' to learn more about interactive tables.';\n",
              "          element.innerHTML = '';\n",
              "          dataTable['output_type'] = 'display_data';\n",
              "          await google.colab.output.renderOutput(dataTable, element);\n",
              "          const docLink = document.createElement('div');\n",
              "          docLink.innerHTML = docLinkHtml;\n",
              "          element.appendChild(docLink);\n",
              "        }\n",
              "      </script>\n",
              "    </div>\n",
              "  </div>\n",
              "  "
            ],
            "text/plain": [
              "                  image   xc  ...  img_w  img_h\n",
              "0                 10027  171  ...    384    512\n",
              "1                 10037  190  ...    384    512\n",
              "2                 10043  191  ...    384    512\n",
              "3                 10045  214  ...    384    512\n",
              "4                 10063  184  ...    384    512\n",
              "...                 ...  ...  ...    ...    ...\n",
              "14877  67574_blur_flip1  320  ...    682    512\n",
              "14878  67595_blur_flip1  304  ...    682    512\n",
              "14879  67636_blur_flip1  204  ...    384    512\n",
              "14880  67647_blur_flip1  308  ...    682    512\n",
              "14881  67678_blur_flip1  179  ...    384    512\n",
              "\n",
              "[14882 rows x 9 columns]"
            ]
          },
          "execution_count": 14,
          "metadata": {},
          "output_type": "execute_result"
        }
      ],
      "source": [
        "disease_area = df.crops.apply(lambda x: str(x)) + '_' + df.diseases.apply(lambda x: str(x)) + '_' + df.risks.apply(lambda x: str(x)) + '_'+ df.areas.apply(lambda x: str(x)) + '_' + df.grows.apply(lambda x: str(x))\n",
        "df = pd.DataFrame({'image': df.image, 'xc':df.xc, 'yc': df.yc, 'w':df.w, 'h':df.h, 'label':disease_area,'path':df.dir,'img_w':df.img_w, 'img_h':df.img_h})\n",
        "df"
      ]
    },
    {
      "cell_type": "markdown",
      "metadata": {
        "id": "hSGaayegUsA4"
      },
      "source": [
        "# 5fold-split"
      ]
    },
    {
      "cell_type": "code",
      "execution_count": null,
      "metadata": {
        "colab": {
          "base_uri": "https://localhost:8080/",
          "height": 423
        },
        "id": "DtJo-s8qxAsg",
        "outputId": "89af1ae2-51b5-474d-d3d7-54c5e60ef10e"
      },
      "outputs": [
        {
          "data": {
            "text/html": [
              "\n",
              "  <div id=\"df-1c981631-aad7-447c-b714-a83eea4bfafd\">\n",
              "    <div class=\"colab-df-container\">\n",
              "      <div>\n",
              "<style scoped>\n",
              "    .dataframe tbody tr th:only-of-type {\n",
              "        vertical-align: middle;\n",
              "    }\n",
              "\n",
              "    .dataframe tbody tr th {\n",
              "        vertical-align: top;\n",
              "    }\n",
              "\n",
              "    .dataframe thead th {\n",
              "        text-align: right;\n",
              "    }\n",
              "</style>\n",
              "<table border=\"1\" class=\"dataframe\">\n",
              "  <thead>\n",
              "    <tr style=\"text-align: right;\">\n",
              "      <th></th>\n",
              "      <th>image</th>\n",
              "      <th>xc</th>\n",
              "      <th>yc</th>\n",
              "      <th>w</th>\n",
              "      <th>h</th>\n",
              "      <th>label</th>\n",
              "      <th>path</th>\n",
              "      <th>img_w</th>\n",
              "      <th>img_h</th>\n",
              "      <th>fold</th>\n",
              "    </tr>\n",
              "  </thead>\n",
              "  <tbody>\n",
              "    <tr>\n",
              "      <th>0</th>\n",
              "      <td>10027</td>\n",
              "      <td>171</td>\n",
              "      <td>280</td>\n",
              "      <td>165</td>\n",
              "      <td>237</td>\n",
              "      <td>3_b7_1_3_13</td>\n",
              "      <td>/content/train/10027/10027.jpg</td>\n",
              "      <td>384</td>\n",
              "      <td>512</td>\n",
              "      <td>0</td>\n",
              "    </tr>\n",
              "    <tr>\n",
              "      <th>1</th>\n",
              "      <td>10037</td>\n",
              "      <td>190</td>\n",
              "      <td>159</td>\n",
              "      <td>48</td>\n",
              "      <td>315</td>\n",
              "      <td>3_00_0_5_11</td>\n",
              "      <td>/content/train/10037/10037.jpg</td>\n",
              "      <td>384</td>\n",
              "      <td>512</td>\n",
              "      <td>0</td>\n",
              "    </tr>\n",
              "    <tr>\n",
              "      <th>2</th>\n",
              "      <td>10043</td>\n",
              "      <td>191</td>\n",
              "      <td>251</td>\n",
              "      <td>272</td>\n",
              "      <td>271</td>\n",
              "      <td>3_00_0_1_13</td>\n",
              "      <td>/content/train/10043/10043.jpg</td>\n",
              "      <td>384</td>\n",
              "      <td>512</td>\n",
              "      <td>0</td>\n",
              "    </tr>\n",
              "    <tr>\n",
              "      <th>3</th>\n",
              "      <td>10045</td>\n",
              "      <td>214</td>\n",
              "      <td>319</td>\n",
              "      <td>172</td>\n",
              "      <td>263</td>\n",
              "      <td>3_00_0_3_11</td>\n",
              "      <td>/content/train/10045/10045.jpg</td>\n",
              "      <td>384</td>\n",
              "      <td>512</td>\n",
              "      <td>0</td>\n",
              "    </tr>\n",
              "    <tr>\n",
              "      <th>4</th>\n",
              "      <td>10063</td>\n",
              "      <td>184</td>\n",
              "      <td>287</td>\n",
              "      <td>285</td>\n",
              "      <td>283</td>\n",
              "      <td>3_00_0_1_13</td>\n",
              "      <td>/content/train/10063/10063.jpg</td>\n",
              "      <td>384</td>\n",
              "      <td>512</td>\n",
              "      <td>1</td>\n",
              "    </tr>\n",
              "    <tr>\n",
              "      <th>...</th>\n",
              "      <td>...</td>\n",
              "      <td>...</td>\n",
              "      <td>...</td>\n",
              "      <td>...</td>\n",
              "      <td>...</td>\n",
              "      <td>...</td>\n",
              "      <td>...</td>\n",
              "      <td>...</td>\n",
              "      <td>...</td>\n",
              "      <td>...</td>\n",
              "    </tr>\n",
              "    <tr>\n",
              "      <th>14877</th>\n",
              "      <td>67574_blur_flip1</td>\n",
              "      <td>320</td>\n",
              "      <td>298</td>\n",
              "      <td>146</td>\n",
              "      <td>380</td>\n",
              "      <td>5_a7_2_1_13</td>\n",
              "      <td>/content/train/67574/67574_blur_flip1.jpg</td>\n",
              "      <td>682</td>\n",
              "      <td>512</td>\n",
              "      <td>0</td>\n",
              "    </tr>\n",
              "    <tr>\n",
              "      <th>14878</th>\n",
              "      <td>67595_blur_flip1</td>\n",
              "      <td>304</td>\n",
              "      <td>265</td>\n",
              "      <td>160</td>\n",
              "      <td>430</td>\n",
              "      <td>5_a7_2_1_13</td>\n",
              "      <td>/content/train/67595/67595_blur_flip1.jpg</td>\n",
              "      <td>682</td>\n",
              "      <td>512</td>\n",
              "      <td>1</td>\n",
              "    </tr>\n",
              "    <tr>\n",
              "      <th>14879</th>\n",
              "      <td>67636_blur_flip1</td>\n",
              "      <td>204</td>\n",
              "      <td>313</td>\n",
              "      <td>142</td>\n",
              "      <td>216</td>\n",
              "      <td>3_b6_1_3_13</td>\n",
              "      <td>/content/train/67636/67636_blur_flip1.jpg</td>\n",
              "      <td>384</td>\n",
              "      <td>512</td>\n",
              "      <td>0</td>\n",
              "    </tr>\n",
              "    <tr>\n",
              "      <th>14880</th>\n",
              "      <td>67647_blur_flip1</td>\n",
              "      <td>308</td>\n",
              "      <td>303</td>\n",
              "      <td>322</td>\n",
              "      <td>174</td>\n",
              "      <td>2_a5_2_3_12</td>\n",
              "      <td>/content/train/67647/67647_blur_flip1.jpg</td>\n",
              "      <td>682</td>\n",
              "      <td>512</td>\n",
              "      <td>1</td>\n",
              "    </tr>\n",
              "    <tr>\n",
              "      <th>14881</th>\n",
              "      <td>67678_blur_flip1</td>\n",
              "      <td>179</td>\n",
              "      <td>253</td>\n",
              "      <td>184</td>\n",
              "      <td>424</td>\n",
              "      <td>5_b6_1_3_13</td>\n",
              "      <td>/content/train/67678/67678_blur_flip1.jpg</td>\n",
              "      <td>384</td>\n",
              "      <td>512</td>\n",
              "      <td>0</td>\n",
              "    </tr>\n",
              "  </tbody>\n",
              "</table>\n",
              "<p>14882 rows × 10 columns</p>\n",
              "</div>\n",
              "      <button class=\"colab-df-convert\" onclick=\"convertToInteractive('df-1c981631-aad7-447c-b714-a83eea4bfafd')\"\n",
              "              title=\"Convert this dataframe to an interactive table.\"\n",
              "              style=\"display:none;\">\n",
              "        \n",
              "  <svg xmlns=\"http://www.w3.org/2000/svg\" height=\"24px\"viewBox=\"0 0 24 24\"\n",
              "       width=\"24px\">\n",
              "    <path d=\"M0 0h24v24H0V0z\" fill=\"none\"/>\n",
              "    <path d=\"M18.56 5.44l.94 2.06.94-2.06 2.06-.94-2.06-.94-.94-2.06-.94 2.06-2.06.94zm-11 1L8.5 8.5l.94-2.06 2.06-.94-2.06-.94L8.5 2.5l-.94 2.06-2.06.94zm10 10l.94 2.06.94-2.06 2.06-.94-2.06-.94-.94-2.06-.94 2.06-2.06.94z\"/><path d=\"M17.41 7.96l-1.37-1.37c-.4-.4-.92-.59-1.43-.59-.52 0-1.04.2-1.43.59L10.3 9.45l-7.72 7.72c-.78.78-.78 2.05 0 2.83L4 21.41c.39.39.9.59 1.41.59.51 0 1.02-.2 1.41-.59l7.78-7.78 2.81-2.81c.8-.78.8-2.07 0-2.86zM5.41 20L4 18.59l7.72-7.72 1.47 1.35L5.41 20z\"/>\n",
              "  </svg>\n",
              "      </button>\n",
              "      \n",
              "  <style>\n",
              "    .colab-df-container {\n",
              "      display:flex;\n",
              "      flex-wrap:wrap;\n",
              "      gap: 12px;\n",
              "    }\n",
              "\n",
              "    .colab-df-convert {\n",
              "      background-color: #E8F0FE;\n",
              "      border: none;\n",
              "      border-radius: 50%;\n",
              "      cursor: pointer;\n",
              "      display: none;\n",
              "      fill: #1967D2;\n",
              "      height: 32px;\n",
              "      padding: 0 0 0 0;\n",
              "      width: 32px;\n",
              "    }\n",
              "\n",
              "    .colab-df-convert:hover {\n",
              "      background-color: #E2EBFA;\n",
              "      box-shadow: 0px 1px 2px rgba(60, 64, 67, 0.3), 0px 1px 3px 1px rgba(60, 64, 67, 0.15);\n",
              "      fill: #174EA6;\n",
              "    }\n",
              "\n",
              "    [theme=dark] .colab-df-convert {\n",
              "      background-color: #3B4455;\n",
              "      fill: #D2E3FC;\n",
              "    }\n",
              "\n",
              "    [theme=dark] .colab-df-convert:hover {\n",
              "      background-color: #434B5C;\n",
              "      box-shadow: 0px 1px 3px 1px rgba(0, 0, 0, 0.15);\n",
              "      filter: drop-shadow(0px 1px 2px rgba(0, 0, 0, 0.3));\n",
              "      fill: #FFFFFF;\n",
              "    }\n",
              "  </style>\n",
              "\n",
              "      <script>\n",
              "        const buttonEl =\n",
              "          document.querySelector('#df-1c981631-aad7-447c-b714-a83eea4bfafd button.colab-df-convert');\n",
              "        buttonEl.style.display =\n",
              "          google.colab.kernel.accessAllowed ? 'block' : 'none';\n",
              "\n",
              "        async function convertToInteractive(key) {\n",
              "          const element = document.querySelector('#df-1c981631-aad7-447c-b714-a83eea4bfafd');\n",
              "          const dataTable =\n",
              "            await google.colab.kernel.invokeFunction('convertToInteractive',\n",
              "                                                     [key], {});\n",
              "          if (!dataTable) return;\n",
              "\n",
              "          const docLinkHtml = 'Like what you see? Visit the ' +\n",
              "            '<a target=\"_blank\" href=https://colab.research.google.com/notebooks/data_table.ipynb>data table notebook</a>'\n",
              "            + ' to learn more about interactive tables.';\n",
              "          element.innerHTML = '';\n",
              "          dataTable['output_type'] = 'display_data';\n",
              "          await google.colab.output.renderOutput(dataTable, element);\n",
              "          const docLink = document.createElement('div');\n",
              "          docLink.innerHTML = docLinkHtml;\n",
              "          element.appendChild(docLink);\n",
              "        }\n",
              "      </script>\n",
              "    </div>\n",
              "  </div>\n",
              "  "
            ],
            "text/plain": [
              "                  image   xc   yc  ...  img_w  img_h fold\n",
              "0                 10027  171  280  ...    384    512    0\n",
              "1                 10037  190  159  ...    384    512    0\n",
              "2                 10043  191  251  ...    384    512    0\n",
              "3                 10045  214  319  ...    384    512    0\n",
              "4                 10063  184  287  ...    384    512    1\n",
              "...                 ...  ...  ...  ...    ...    ...  ...\n",
              "14877  67574_blur_flip1  320  298  ...    682    512    0\n",
              "14878  67595_blur_flip1  304  265  ...    682    512    1\n",
              "14879  67636_blur_flip1  204  313  ...    384    512    0\n",
              "14880  67647_blur_flip1  308  303  ...    682    512    1\n",
              "14881  67678_blur_flip1  179  253  ...    384    512    0\n",
              "\n",
              "[14882 rows x 10 columns]"
            ]
          },
          "execution_count": 15,
          "metadata": {},
          "output_type": "execute_result"
        }
      ],
      "source": [
        "# Create train and validation split.\n",
        "# 병해 비율 유지하여 나눔\n",
        "Fold = StratifiedKFold(n_splits=NUM_FOLD, shuffle=True, random_state=SEED)\n",
        "\n",
        "for n, (train_index, val_index) in enumerate(Fold.split(df, df.label)):\n",
        "    df.loc[val_index, 'fold'] = int(n)\n",
        "df['fold'] = df['fold'].astype(int)\n",
        "df.to_csv('train_fold.csv', index=False)\n",
        "df"
      ]
    },
    {
      "cell_type": "markdown",
      "metadata": {
        "id": "R7ySIVaWUsA9"
      },
      "source": [
        "# 5 fold images copy"
      ]
    },
    {
      "cell_type": "code",
      "execution_count": null,
      "metadata": {
        "id": "1WDECexSxIAy"
      },
      "outputs": [],
      "source": [
        "# 디렉터리에 fold로 지정된 이미지 복사\n",
        "def nfold_img_copy(df):\n",
        "    # Remove existing dirs\n",
        "    for fold in range(NUM_FOLD):\n",
        "        print(f'{\"=\"*30} CREATE {NUM_FOLD}-FOLD DATASETS (IMAGE) FOLD_{fold} {\"=\"*30}')\n",
        "        \n",
        "        # Prepare train and valid df\n",
        "        train_df = df.loc[df.fold != fold].reset_index(drop=True)\n",
        "        valid_df = df.loc[df.fold == fold].reset_index(drop=True)\n",
        "\n",
        "        try:\n",
        "            shutil.rmtree(f'{DATASET_NAME}/dataset_folds_{fold}/images')\n",
        "            shutil.rmtree(f'{DATASET_NAME}/dataset_folds_{fold}/labels')\n",
        "        except:\n",
        "            print('No dirs')\n",
        "\n",
        "            # Make new dirs\n",
        "        os.makedirs(f'{DATASET_NAME}/dataset_folds_{fold}/images/train', exist_ok=True)\n",
        "        os.makedirs(f'{DATASET_NAME}/dataset_folds_{fold}/images/valid', exist_ok=True)\n",
        "        os.makedirs(f'{DATASET_NAME}/dataset_folds_{fold}/labels/train', exist_ok=True)\n",
        "        os.makedirs(f'{DATASET_NAME}/dataset_folds_{fold}/labels/valid', exist_ok=True)\n",
        "\n",
        "        # Move the images to relevant split folder.\n",
        "        for i in tqdm(range(len(train_df))):\n",
        "            row = train_df.loc[i]\n",
        "            copyfile(row.path, f'{DATASET_NAME}/dataset_folds_{fold}/images/train/{row.image}.jpg')\n",
        "        for i in tqdm(range(len(valid_df))):\n",
        "            row = valid_df.loc[i]\n",
        "            copyfile(row.path, f'{DATASET_NAME}/dataset_folds_{fold}/images/valid/{row.image}.jpg')"
      ]
    },
    {
      "cell_type": "code",
      "execution_count": null,
      "metadata": {
        "id": "Fp2mrQRVxKKP"
      },
      "outputs": [],
      "source": [
        "def get_yolo_format_bbox(row):\n",
        "    # yolo format bbox\n",
        "    xc = row.xc/row.img_w\n",
        "    yc = row.yc/row.img_h\n",
        "    w = row.w/row.img_w\n",
        "    h = row.h/row.img_h\n",
        "    if (xc*yc*w*h<0) | ((xc>1) | (yc>1) | (w>1) | (h>1)) :\n",
        "        raise Exception('Please check the bbox coordinates.')\n",
        "    \n",
        "    return [str(xc), str(yc), str(w), str(h)]"
      ]
    },
    {
      "cell_type": "code",
      "execution_count": null,
      "metadata": {
        "id": "06X5A-oFxLoN"
      },
      "outputs": [],
      "source": [
        "def write_bbox_files(tmp_df, fold_num, split):\n",
        "    path = f'{DATASET_NAME}/dataset_folds_{fold_num}/labels/{split}'\n",
        "    \n",
        "    for i in tqdm(range(len(tmp_df))):\n",
        "        row = tmp_df.loc[i]\n",
        "\n",
        "        # Get image name\n",
        "        img_name = row.image\n",
        "        \n",
        "        # Get label\n",
        "        label = le.transform([row.label])[0]\n",
        "\n",
        "        bbox_str = ' '.join(get_yolo_format_bbox(row))\n",
        "        \n",
        "        file_name = f'{path}/{img_name}.txt'\n",
        "\n",
        "        with open(file_name, 'w') as f:\n",
        "            f.write(str(label) + ' ' + bbox_str + '\\n')       "
      ]
    },
    {
      "cell_type": "code",
      "execution_count": null,
      "metadata": {
        "id": "Apr46skFxM6g"
      },
      "outputs": [],
      "source": [
        "def generate_nfold_annotation(df):\n",
        "    # Prepare the txt files for bounding box\n",
        "    for fold in range(NUM_FOLD):\n",
        "        print(f'{\"=\"*30} CREATE {NUM_FOLD}-FOLD DATASETS (ANNOTATION) FOLD_{fold} {\"=\"*30}')\n",
        "\n",
        "        # Prepare train and valid df\n",
        "        train_df = df.loc[df.fold != fold].reset_index(drop=True)\n",
        "        valid_df = df.loc[df.fold == fold].reset_index(drop=True)\n",
        "\n",
        "        # prepare label for train\n",
        "        write_bbox_files(train_df, fold, 'train')\n",
        "        # prepare label for valid\n",
        "        write_bbox_files(valid_df, fold, 'valid')"
      ]
    },
    {
      "cell_type": "code",
      "execution_count": null,
      "metadata": {
        "colab": {
          "base_uri": "https://localhost:8080/"
        },
        "id": "shZNQeHxUsA-",
        "outputId": "b6181fb7-5f05-4ad6-c3aa-97656f943241"
      },
      "outputs": [
        {
          "name": "stdout",
          "output_type": "stream",
          "text": [
            "============================== CREATE 2-FOLD DATASETS (IMAGE) FOLD_0 ==============================\n",
            "No dirs\n"
          ]
        },
        {
          "name": "stderr",
          "output_type": "stream",
          "text": [
            "100%|██████████| 7441/7441 [00:05<00:00, 1393.63it/s]\n",
            "100%|██████████| 7441/7441 [00:05<00:00, 1465.16it/s]\n"
          ]
        },
        {
          "name": "stdout",
          "output_type": "stream",
          "text": [
            "============================== CREATE 2-FOLD DATASETS (IMAGE) FOLD_1 ==============================\n",
            "No dirs\n"
          ]
        },
        {
          "name": "stderr",
          "output_type": "stream",
          "text": [
            "100%|██████████| 7441/7441 [00:04<00:00, 1694.04it/s]\n",
            "100%|██████████| 7441/7441 [00:03<00:00, 2074.35it/s]\n"
          ]
        },
        {
          "name": "stdout",
          "output_type": "stream",
          "text": [
            "============================== CREATE 2-FOLD DATASETS (ANNOTATION) FOLD_0 ==============================\n"
          ]
        },
        {
          "name": "stderr",
          "output_type": "stream",
          "text": [
            "100%|██████████| 7441/7441 [00:03<00:00, 2344.04it/s]\n",
            "100%|██████████| 7441/7441 [00:03<00:00, 2418.39it/s]\n"
          ]
        },
        {
          "name": "stdout",
          "output_type": "stream",
          "text": [
            "============================== CREATE 2-FOLD DATASETS (ANNOTATION) FOLD_1 ==============================\n"
          ]
        },
        {
          "name": "stderr",
          "output_type": "stream",
          "text": [
            "100%|██████████| 7441/7441 [00:03<00:00, 2365.80it/s]\n",
            "100%|██████████| 7441/7441 [00:03<00:00, 2376.68it/s]\n"
          ]
        }
      ],
      "source": [
        "if not USE_FOLD:\n",
        "    pass\n",
        "else:\n",
        "    le = LabelEncoder()\n",
        "    le.fit_transform(df.label.astype(str))\n",
        "    \n",
        "    # 이미지\n",
        "    nfold_img_copy(df)\n",
        "    \n",
        "    # 라벨\n",
        "    generate_nfold_annotation(df)"
      ]
    },
    {
      "cell_type": "code",
      "execution_count": null,
      "metadata": {
        "id": "kTDB3K8jxRJ5"
      },
      "outputs": [],
      "source": [
        "# Create .yaml file \n",
        "import yaml\n",
        "label_unique = le.classes_\n",
        "\n",
        "for fold in range(NUM_FOLD):\n",
        "    data_yaml = dict(\n",
        "            path = f'../{DATASET_NAME}/dataset_folds_{fold}/images',\n",
        "            train = 'train',\n",
        "            val = 'valid',\n",
        "            nc = len(label_unique),\n",
        "            names = label_unique.tolist()\n",
        "        )\n",
        "\n",
        "    with open(f'yolov5/data/{DATASET_NAME}_data_fold_{fold}.yaml', 'w') as outfile:\n",
        "        yaml.dump(data_yaml, outfile, default_flow_style=True)"
      ]
    },
    {
      "cell_type": "markdown",
      "metadata": {
        "id": "sPG88y5MUsA_"
      },
      "source": [
        "# 🚄🚄🚄"
      ]
    },
    {
      "cell_type": "code",
      "execution_count": null,
      "metadata": {
        "colab": {
          "base_uri": "https://localhost:8080/"
        },
        "id": "QN6ETE-pxXUA",
        "outputId": "ce352d73-28f9-4f61-98d7-483b0b91c26e"
      },
      "outputs": [
        {
          "name": "stdout",
          "output_type": "stream",
          "text": [
            "/content/yolov5\n"
          ]
        }
      ],
      "source": [
        "%cd  yolov5"
      ]
    },
    {
      "cell_type": "code",
      "execution_count": null,
      "metadata": {
        "colab": {
          "base_uri": "https://localhost:8080/"
        },
        "id": "ywQEJs79UsBA",
        "outputId": "ee63a8fa-a85e-4872-d155-10197ad17e99"
      },
      "outputs": [
        {
          "name": "stdout",
          "output_type": "stream",
          "text": [
            "BATCH_SIZE: 128\n",
            "EPOCHS: 150\n",
            "SEED: 42\n",
            "NUM_FOLD: 2\n",
            "DATASET_NAME: CROP_DISEASE_2folds\n",
            "IMG_SIZE: 128\n",
            "FLIP_IMG: True\n",
            "BLUR_IMG: True\n"
          ]
        }
      ],
      "source": [
        "print_prams()"
      ]
    },
    {
      "cell_type": "code",
      "execution_count": null,
      "metadata": {
        "colab": {
          "base_uri": "https://localhost:8080/"
        },
        "id": "hsFBJlQWoUNb",
        "outputId": "b0fb80dd-c2c4-49f2-fd53-86f46e74ea99"
      },
      "outputs": [
        {
          "name": "stdout",
          "output_type": "stream",
          "text": [
            "   110/149     4.24G   0.01266   0.00549  0.002884        36       128: 100% 59/59 [01:40<00:00,  1.70s/it]\n",
            "               Class     Images     Labels          P          R     mAP@.5 mAP@.5:.95: 100% 30/30 [00:43<00:00,  1.46s/it]\n",
            "                 all       7441       7441      0.952       0.91      0.917      0.841\n",
            "\n",
            "     Epoch   gpu_mem       box       obj       cls    labels  img_size\n",
            "   111/149     4.24G   0.01265  0.005485  0.003006        40       128: 100% 59/59 [01:41<00:00,  1.71s/it]\n",
            "               Class     Images     Labels          P          R     mAP@.5 mAP@.5:.95: 100% 30/30 [00:44<00:00,  1.47s/it]\n",
            "                 all       7441       7441      0.918      0.927       0.92       0.84\n",
            "\n",
            "     Epoch   gpu_mem       box       obj       cls    labels  img_size\n",
            "   112/149     4.24G   0.01259   0.00548  0.002807        46       128: 100% 59/59 [01:41<00:00,  1.72s/it]\n",
            "               Class     Images     Labels          P          R     mAP@.5 mAP@.5:.95: 100% 30/30 [00:43<00:00,  1.46s/it]\n",
            "                 all       7441       7441      0.913      0.927       0.92      0.843\n",
            "\n",
            "     Epoch   gpu_mem       box       obj       cls    labels  img_size\n",
            "   113/149     4.24G   0.01249  0.005537  0.002609        45       128: 100% 59/59 [01:40<00:00,  1.71s/it]\n",
            "               Class     Images     Labels          P          R     mAP@.5 mAP@.5:.95: 100% 30/30 [00:44<00:00,  1.47s/it]\n",
            "                 all       7441       7441       0.92      0.928      0.922      0.842\n",
            "\n",
            "     Epoch   gpu_mem       box       obj       cls    labels  img_size\n",
            "   114/149     4.24G   0.01236  0.005495  0.002674        45       128: 100% 59/59 [01:41<00:00,  1.71s/it]\n",
            "               Class     Images     Labels          P          R     mAP@.5 mAP@.5:.95: 100% 30/30 [00:44<00:00,  1.48s/it]\n",
            "                 all       7441       7441      0.933      0.928      0.925      0.848\n",
            "\n",
            "     Epoch   gpu_mem       box       obj       cls    labels  img_size\n",
            "   115/149     4.24G   0.01244  0.005487  0.002774        44       128: 100% 59/59 [01:40<00:00,  1.71s/it]\n",
            "               Class     Images     Labels          P          R     mAP@.5 mAP@.5:.95:  23% 7/30 [00:15<00:46,  2.02s/it]"
          ]
        }
      ],
      "source": [
        "yolo_weight = 'yolov5l'\n",
        "for fold in range(NUM_FOLD):\n",
        "    print('FOLD NUMBER: ', fold)\n",
        "    !python train.py --img {IMG_SIZE} \\\n",
        "                      --batch {BATCH_SIZE} \\\n",
        "                      --epochs {EPOCHS} \\\n",
        "                      --data {DATASET_NAME}_data_fold_{fold}.yaml \\\n",
        "                      --weights {yolo_weight}.pt \\\n",
        "                      --project {DATASET_NAME} \\\n",
        "                      --name {yolo_weight}-b-{BATCH_SIZE}-e-{EPOCHS}-img-{IMG_SIZE}-fold-{fold}                 \n",
        "    print('###########################################################################################\\n')"
      ]
    },
    {
      "cell_type": "markdown",
      "metadata": {
        "id": "2lRAOu8a5mRC"
      },
      "source": [
        "# VALIDATION"
      ]
    },
    {
      "cell_type": "code",
      "execution_count": null,
      "metadata": {
        "id": "R6aGu--L_cDa"
      },
      "outputs": [],
      "source": [
        "# for fold in NUM_FOLD:\n",
        "#     zip_name = f'/content/drive/MyDrive/dataset_folds_{fold}.zip'\n",
        "#     fname = f'/content/CROP_DISEASE_5folds/dataset_folds_{fold}/*/valid/*'\n",
        "#     !zip -r {zip_name} {fname}"
      ]
    },
    {
      "cell_type": "code",
      "execution_count": null,
      "metadata": {
        "id": "zmYXJsAP2oDZ"
      },
      "outputs": [],
      "source": [
        "# !zip -r /content/drive/MyDrive/dataset_folds_0.zip /content/CROP_DISEASE_5folds/dataset_folds_0/*/valid/*\n",
        "# !zip -r /content/drive/MyDrive/dataset_folds_1.zip /content/CROP_DISEASE_5folds/dataset_folds_1/*/valid/*\n",
        "# !zip -r /content/drive/MyDrive/dataset_folds_2.zip /content/CROP_DISEASE_5folds/dataset_folds_2/*/valid/*\n",
        "# !zip -r /content/drive/MyDrive/dataset_folds_3.zip /content/CROP_DISEASE_5folds/dataset_folds_3/*/valid/*\n",
        "# !zip -r /content/drive/MyDrive/dataset_folds_4.zip /content/CROP_DISEASE_5folds/dataset_folds_4/*/valid/*"
      ]
    },
    {
      "cell_type": "markdown",
      "metadata": {
        "id": "c7Jsp4Q8tZjz"
      },
      "source": [
        "## validation set에 대한 F1-score 구하기"
      ]
    },
    {
      "cell_type": "code",
      "execution_count": null,
      "metadata": {
        "colab": {
          "base_uri": "https://localhost:8080/"
        },
        "id": "8oJWSHbJtai9",
        "outputId": "ef4bd5cc-c878-4831-d007-5a1eb8cbb728"
      },
      "outputs": [
        {
          "name": "stdout",
          "output_type": "stream",
          "text": [
            "yolov5l-b-128-e-50-img-128-fold-0  yolov5l-b-128-e-50-img-128-fold-2\n",
            "yolov5l-b-128-e-50-img-128-fold-1\n"
          ]
        }
      ],
      "source": [
        "!ls {DATASET_NAME}"
      ]
    },
    {
      "cell_type": "code",
      "execution_count": null,
      "metadata": {
        "id": "3yJCz7w_qRry"
      },
      "outputs": [],
      "source": [
        "MODEL_LIST = ['yolov5l-b-128-e-50-img-128-fold-0', 'yolov5l-b-128-e-50-img-128-fold-2', 'yolov5l-b-128-e-50-img-128-fold-1']\n",
        "CONF_TH = [0.288, 0.177,0.245]"
      ]
    },
    {
      "cell_type": "code",
      "execution_count": null,
      "metadata": {
        "id": "jj2QJCRy0vOy"
      },
      "outputs": [],
      "source": [
        "#!rm -r runs/detect/*"
      ]
    },
    {
      "cell_type": "code",
      "execution_count": null,
      "metadata": {
        "id": "8IrYIOyaFbqM"
      },
      "outputs": [],
      "source": [
        "IS_HARF = True\n",
        "DETECTIONS = []\n",
        "for model_name in MODEL_LIST:\n",
        "    yolo_weight, fold = model_name.split('-')[0], model_name.split('-')[8]\n",
        "    _weight = f'{DATASET_NAME}/{model_name}/weights/best.pt'\n",
        "    _data = f'data/{DATASET_NAME}_data_fold_{fold}.yaml'\n",
        "    _source = f'../{DATASET_NAME}/dataset_folds_{fold}/images/valid'       \n",
        "    _conf_th = CONF_TH[int(fold)]\n",
        "    _name = f'{yolo_weight}_{DATASET_NAME}_VALID'\n",
        "    if IS_HARF:\n",
        "        _name += f'_half_{fold}'\n",
        "        !python detect.py --weights {_weight} --data {_data} --source {_source} --imgsz 128 --conf-thres {_conf_th} --iou-thres 0.1 --max-det 1 --name {_name} --save-txt --nosave --half\n",
        "    else:\n",
        "        _name += f'_{fold}'\n",
        "        !python detect.py --weights {_weight} --data {_data} --source {_source} --imgsz 128 --conf-thres {_conf_th} --iou-thres 0.1 --max-det 1 --name {_name} --save-txt --nosave\n",
        "    DETECTIONS.append(_name)"
      ]
    },
    {
      "cell_type": "code",
      "execution_count": null,
      "metadata": {
        "colab": {
          "base_uri": "https://localhost:8080/"
        },
        "id": "mBOJcpU9P9Xo",
        "outputId": "63a01092-86ad-4919-95fa-8169b686455f"
      },
      "outputs": [
        {
          "data": {
            "text/plain": [
              "['yolov5l_CROP_DISEASE_PRED_half_0',\n",
              " 'yolov5l_CROP_DISEASE_PRED_half_2',\n",
              " 'yolov5l_CROP_DISEASE_PRED_half_1']"
            ]
          },
          "execution_count": 143,
          "metadata": {},
          "output_type": "execute_result"
        }
      ],
      "source": [
        "DETECTIONS"
      ]
    },
    {
      "cell_type": "code",
      "execution_count": null,
      "metadata": {
        "id": "VxhJBhBSABZN"
      },
      "outputs": [],
      "source": [
        "def get_pred_df_use_fold(TEST_NAME):\n",
        "    pred_dir = sorted(glob(f'runs/detect/{TEST_NAME}/labels/*'))\n",
        "    pred = []\n",
        "    \n",
        "    for txt in pred_dir:\n",
        "        with open(txt, 'r') as f: \n",
        "            pred.append([txt.split('/')[-1].replace('.txt',''),f.readline().split()[0]])\n",
        "    df = pd.DataFrame(pred)\n",
        "    df.rename(columns={0:'image', 1:'pred'},inplace=True)\n",
        "    df\n",
        "    return df"
      ]
    },
    {
      "cell_type": "code",
      "execution_count": null,
      "metadata": {
        "id": "EWiSII8YrzMD"
      },
      "outputs": [],
      "source": [
        "def get_pred_df(TEST_NAME):\n",
        "    pred_dir = sorted(glob(f'runs/detect/{TEST_NAME}/labels/*'))\n",
        "    pred = []\n",
        "    \n",
        "    for txt in pred_dir:\n",
        "        with open(txt, 'r') as f: \n",
        "            pred.append([txt.split('/')[-1].replace('.txt',''),f.readline().split()[0]])\n",
        "    df = pd.DataFrame(pred)\n",
        "    df.rename(columns={0:'image', 1:'pred'},inplace=True)\n",
        "    df.pred = df.pred.apply(lambda x: class_dict[int(x)])\n",
        "\n",
        "    return df"
      ]
    },
    {
      "cell_type": "code",
      "execution_count": null,
      "metadata": {
        "id": "_T0kd07f9pmP"
      },
      "outputs": [],
      "source": [
        "def get_f1_score(df_real, df_pred):    \n",
        "    result = pd.merge(df_real, df_pred, on='image', how='outer')\n",
        "    score = f1_score(result.label, result.pred, average='macro')\n",
        "    return result, score"
      ]
    },
    {
      "cell_type": "markdown",
      "metadata": {
        "id": "4xwhe-WYqEvC"
      },
      "source": [
        "### RESULTS"
      ]
    },
    {
      "cell_type": "code",
      "execution_count": null,
      "metadata": {
        "id": "9CGdzvfQYDVC"
      },
      "outputs": [],
      "source": [
        "results = []\n",
        "class_dict = le.classes_\n",
        "\n",
        "for i in range(len(DETECTIONS)):\n",
        "    fold_num = DETECTIONS[i][-1]\n",
        "    real = df.copy().loc[df.fold==int(fold_num),['image','label']].reset_index()\n",
        "    pred = get_pred_df(DETECTIONS[i])\n",
        "    pred.pred = pred.pred.apply(lambda x: class_dict[int(x)])\n",
        "\n",
        "    res = pd.merge(real, pred, on='image', how='outer')\n",
        "    res = res.fillna('-')\n",
        "    score = f1_score(res.label, res.pred, average='macro')\n",
        "        \n",
        "    results.append([DETECTIONS[i], score, res])   #name, score, df\n"
      ]
    },
    {
      "cell_type": "code",
      "execution_count": null,
      "metadata": {
        "colab": {
          "base_uri": "https://localhost:8080/"
        },
        "id": "ObtZ0AvzijaQ",
        "outputId": "d54baf51-95e7-4a5b-c1dc-1d978b8d9f4d"
      },
      "outputs": [
        {
          "name": "stdout",
          "output_type": "stream",
          "text": [
            "[yolov5l_CROP_DISEASE_PRED_half_0] 1.0\n",
            "[yolov5l_CROP_DISEASE_PRED_half_2] 0.971283131686523\n",
            "[yolov5l_CROP_DISEASE_PRED_half_1] 0.9707537239414811\n"
          ]
        }
      ],
      "source": [
        "for i in range(len(DETECTIONS)):\n",
        "    print(f'[{results[i][0]}] {results[i][1]}')"
      ]
    },
    {
      "cell_type": "markdown",
      "metadata": {
        "id": "G5IEdVVw5t9-"
      },
      "source": [
        "# TEST"
      ]
    },
    {
      "cell_type": "markdown",
      "metadata": {
        "id": "L8YTJLQL6v1G"
      },
      "source": [
        "## SINGLE MODEL"
      ]
    },
    {
      "cell_type": "code",
      "execution_count": null,
      "metadata": {
        "id": "0-klnTo860ri"
      },
      "outputs": [],
      "source": [
        "MODEL_LIST = ['yolov5l-b-128-e-50-img-128-fold-0']#, 'yolov5l-b-128-e-50-img-128-fold-2', 'yolov5l-b-128-e-50-img-128-fold-1'\n",
        "CONF_TH = [0.288, 0.177,0.245]\n",
        "\n",
        "IS_HARF = True\n",
        "DETECTIONS = []\n",
        "for model_name in MODEL_LIST:\n",
        "    yolo_weight, fold = model_name.split('-')[0], model_name.split('-')[8]\n",
        "    _weight = f'{DATASET_NAME}/{model_name}/weights/best.pt'\n",
        "    _data = f'data/{DATASET_NAME}_data_fold_{fold}.yaml'\n",
        "    _source = f'../test/images'       \n",
        "    _conf_th = CONF_TH[int(fold)]\n",
        "    _name = f'{yolo_weight}_{DATASET_NAME}_PRED'\n",
        "    if IS_HARF:\n",
        "        _name += f'_half_{fold}'\n",
        "        !python detect.py --weights {_weight} --data {_data} --source {_source} --imgsz 128 --conf-thres {_conf_th} --iou-thres 0.1 --max-det 1 --name {_name} --save-txt --nosave --half\n",
        "    else:\n",
        "        _name += f'_{fold}'\n",
        "        !python detect.py --weights {_weight} --data {_data} --source {_source} --imgsz 128 --conf-thres {_conf_th} --iou-thres 0.1 --max-det 1 --name {_name} --save-txt --nosave\n",
        "    DETECTIONS.append(_name)"
      ]
    },
    {
      "cell_type": "markdown",
      "metadata": {
        "id": "aiwaM0dGvj4u"
      },
      "source": [
        "## ENSEMBLE MODEL"
      ]
    },
    {
      "cell_type": "code",
      "execution_count": null,
      "metadata": {
        "id": "hJaHCK6VMNKG"
      },
      "outputs": [],
      "source": [
        "'yolov5l_ensemble'"
      ]
    },
    {
      "cell_type": "code",
      "execution_count": null,
      "metadata": {
        "id": "lXFEQOx3QnLk"
      },
      "outputs": [],
      "source": [
        "MODEL_LIST = ['yolov5l-b-128-e-50-img-128-fold-0', 'yolov5l-b-128-e-50-img-128-fold-1','yolov5l-b-128-e-50-img-128-fold-2']\n",
        "MODEL_DIR = ['CROP_DISEASE/'+x+'/weights/best.pt' for x in MODEL_LIST]\n",
        "_weight = ' '.join(MODEL_DIR)\n",
        "CONF_TH = 0.19\n",
        "IS_HARF = True\n",
        "_name = 'yolov5l_ensemble'\n",
        "if IS_HARF:\n",
        "    _name += f'_half_{fold}'\n",
        "    !python detect.py --weights {_weight} --source ../test/images --imgsz 128 --conf-thres {CONF_TH} --iou-thres 0.1 --max-det 1 --name {_name} --save-txt --nosave --half\n",
        "else:\n",
        "    _name += f'_{fold}'\n",
        "    !python detect.py --weights {_weight} --source ../test/images --imgsz 128 --conf-thres {CONF_TH} --iou-thres 0.1 --max-det 1 --name {_name} --save-txt --nosave"
      ]
    },
    {
      "cell_type": "markdown",
      "metadata": {
        "id": "qUGs1kOy6qzo"
      },
      "source": [
        "## CONVERT LABEL"
      ]
    },
    {
      "cell_type": "code",
      "execution_count": null,
      "metadata": {
        "id": "HXAYi0juVkCq"
      },
      "outputs": [],
      "source": [
        "def convert_pred_label(df):\n",
        "    df.pred = df.pred.apply(lambda x: x[:6])\n",
        "    df.rename(columns={'pred':'label'}, inplace=True)\n",
        "    return df"
      ]
    },
    {
      "cell_type": "code",
      "execution_count": null,
      "metadata": {
        "colab": {
          "base_uri": "https://localhost:8080/",
          "height": 424
        },
        "id": "pAXRUdZjV1_o",
        "outputId": "eb7a15fb-3bf7-4110-844a-99f9481043c1"
      },
      "outputs": [
        {
          "data": {
            "text/html": [
              "\n",
              "  <div id=\"df-e02cba97-4621-4685-b619-c587d7ee0044\">\n",
              "    <div class=\"colab-df-container\">\n",
              "      <div>\n",
              "<style scoped>\n",
              "    .dataframe tbody tr th:only-of-type {\n",
              "        vertical-align: middle;\n",
              "    }\n",
              "\n",
              "    .dataframe tbody tr th {\n",
              "        vertical-align: top;\n",
              "    }\n",
              "\n",
              "    .dataframe thead th {\n",
              "        text-align: right;\n",
              "    }\n",
              "</style>\n",
              "<table border=\"1\" class=\"dataframe\">\n",
              "  <thead>\n",
              "    <tr style=\"text-align: right;\">\n",
              "      <th></th>\n",
              "      <th>image</th>\n",
              "      <th>pred</th>\n",
              "    </tr>\n",
              "  </thead>\n",
              "  <tbody>\n",
              "    <tr>\n",
              "      <th>0</th>\n",
              "      <td>10000</td>\n",
              "      <td>6_00_0</td>\n",
              "    </tr>\n",
              "    <tr>\n",
              "      <th>1</th>\n",
              "      <td>10001</td>\n",
              "      <td>5_b6_1</td>\n",
              "    </tr>\n",
              "    <tr>\n",
              "      <th>2</th>\n",
              "      <td>10002</td>\n",
              "      <td>4_00_0</td>\n",
              "    </tr>\n",
              "    <tr>\n",
              "      <th>3</th>\n",
              "      <td>10003</td>\n",
              "      <td>3_00_0</td>\n",
              "    </tr>\n",
              "    <tr>\n",
              "      <th>4</th>\n",
              "      <td>10004</td>\n",
              "      <td>3_b8_1</td>\n",
              "    </tr>\n",
              "    <tr>\n",
              "      <th>...</th>\n",
              "      <td>...</td>\n",
              "      <td>...</td>\n",
              "    </tr>\n",
              "    <tr>\n",
              "      <th>51884</th>\n",
              "      <td>67673</td>\n",
              "      <td>4_00_0</td>\n",
              "    </tr>\n",
              "    <tr>\n",
              "      <th>51885</th>\n",
              "      <td>67674</td>\n",
              "      <td>3_b7_1</td>\n",
              "    </tr>\n",
              "    <tr>\n",
              "      <th>51886</th>\n",
              "      <td>67675</td>\n",
              "      <td>6_00_0</td>\n",
              "    </tr>\n",
              "    <tr>\n",
              "      <th>51887</th>\n",
              "      <td>67676</td>\n",
              "      <td>2_a5_2</td>\n",
              "    </tr>\n",
              "    <tr>\n",
              "      <th>51888</th>\n",
              "      <td>67677</td>\n",
              "      <td>6_00_0</td>\n",
              "    </tr>\n",
              "  </tbody>\n",
              "</table>\n",
              "<p>51889 rows × 2 columns</p>\n",
              "</div>\n",
              "      <button class=\"colab-df-convert\" onclick=\"convertToInteractive('df-e02cba97-4621-4685-b619-c587d7ee0044')\"\n",
              "              title=\"Convert this dataframe to an interactive table.\"\n",
              "              style=\"display:none;\">\n",
              "        \n",
              "  <svg xmlns=\"http://www.w3.org/2000/svg\" height=\"24px\"viewBox=\"0 0 24 24\"\n",
              "       width=\"24px\">\n",
              "    <path d=\"M0 0h24v24H0V0z\" fill=\"none\"/>\n",
              "    <path d=\"M18.56 5.44l.94 2.06.94-2.06 2.06-.94-2.06-.94-.94-2.06-.94 2.06-2.06.94zm-11 1L8.5 8.5l.94-2.06 2.06-.94-2.06-.94L8.5 2.5l-.94 2.06-2.06.94zm10 10l.94 2.06.94-2.06 2.06-.94-2.06-.94-.94-2.06-.94 2.06-2.06.94z\"/><path d=\"M17.41 7.96l-1.37-1.37c-.4-.4-.92-.59-1.43-.59-.52 0-1.04.2-1.43.59L10.3 9.45l-7.72 7.72c-.78.78-.78 2.05 0 2.83L4 21.41c.39.39.9.59 1.41.59.51 0 1.02-.2 1.41-.59l7.78-7.78 2.81-2.81c.8-.78.8-2.07 0-2.86zM5.41 20L4 18.59l7.72-7.72 1.47 1.35L5.41 20z\"/>\n",
              "  </svg>\n",
              "      </button>\n",
              "      \n",
              "  <style>\n",
              "    .colab-df-container {\n",
              "      display:flex;\n",
              "      flex-wrap:wrap;\n",
              "      gap: 12px;\n",
              "    }\n",
              "\n",
              "    .colab-df-convert {\n",
              "      background-color: #E8F0FE;\n",
              "      border: none;\n",
              "      border-radius: 50%;\n",
              "      cursor: pointer;\n",
              "      display: none;\n",
              "      fill: #1967D2;\n",
              "      height: 32px;\n",
              "      padding: 0 0 0 0;\n",
              "      width: 32px;\n",
              "    }\n",
              "\n",
              "    .colab-df-convert:hover {\n",
              "      background-color: #E2EBFA;\n",
              "      box-shadow: 0px 1px 2px rgba(60, 64, 67, 0.3), 0px 1px 3px 1px rgba(60, 64, 67, 0.15);\n",
              "      fill: #174EA6;\n",
              "    }\n",
              "\n",
              "    [theme=dark] .colab-df-convert {\n",
              "      background-color: #3B4455;\n",
              "      fill: #D2E3FC;\n",
              "    }\n",
              "\n",
              "    [theme=dark] .colab-df-convert:hover {\n",
              "      background-color: #434B5C;\n",
              "      box-shadow: 0px 1px 3px 1px rgba(0, 0, 0, 0.15);\n",
              "      filter: drop-shadow(0px 1px 2px rgba(0, 0, 0, 0.3));\n",
              "      fill: #FFFFFF;\n",
              "    }\n",
              "  </style>\n",
              "\n",
              "      <script>\n",
              "        const buttonEl =\n",
              "          document.querySelector('#df-e02cba97-4621-4685-b619-c587d7ee0044 button.colab-df-convert');\n",
              "        buttonEl.style.display =\n",
              "          google.colab.kernel.accessAllowed ? 'block' : 'none';\n",
              "\n",
              "        async function convertToInteractive(key) {\n",
              "          const element = document.querySelector('#df-e02cba97-4621-4685-b619-c587d7ee0044');\n",
              "          const dataTable =\n",
              "            await google.colab.kernel.invokeFunction('convertToInteractive',\n",
              "                                                     [key], {});\n",
              "          if (!dataTable) return;\n",
              "\n",
              "          const docLinkHtml = 'Like what you see? Visit the ' +\n",
              "            '<a target=\"_blank\" href=https://colab.research.google.com/notebooks/data_table.ipynb>data table notebook</a>'\n",
              "            + ' to learn more about interactive tables.';\n",
              "          element.innerHTML = '';\n",
              "          dataTable['output_type'] = 'display_data';\n",
              "          await google.colab.output.renderOutput(dataTable, element);\n",
              "          const docLink = document.createElement('div');\n",
              "          docLink.innerHTML = docLinkHtml;\n",
              "          element.appendChild(docLink);\n",
              "        }\n",
              "      </script>\n",
              "    </div>\n",
              "  </div>\n",
              "  "
            ],
            "text/plain": [
              "       image    pred\n",
              "0      10000  6_00_0\n",
              "1      10001  5_b6_1\n",
              "2      10002  4_00_0\n",
              "3      10003  3_00_0\n",
              "4      10004  3_b8_1\n",
              "...      ...     ...\n",
              "51884  67673  4_00_0\n",
              "51885  67674  3_b7_1\n",
              "51886  67675  6_00_0\n",
              "51887  67676  2_a5_2\n",
              "51888  67677  6_00_0\n",
              "\n",
              "[51889 rows x 2 columns]"
            ]
          },
          "execution_count": 217,
          "metadata": {},
          "output_type": "execute_result"
        }
      ],
      "source": [
        "ensemble_pred = convert_pred_label(temp)\n",
        "ensemble_pred"
      ]
    }
  ],
  "metadata": {
    "accelerator": "GPU",
    "colab": {
      "collapsed_sections": [
        "QZ_SmiZG7ZFt"
      ],
      "name": "crop_disease_diagnosis_YOLOv5.ipynb",
      "provenance": []
    },
    "kernelspec": {
      "display_name": "Python 3 (ipykernel)",
      "language": "python",
      "name": "python3"
    },
    "language_info": {
      "codemirror_mode": {
        "name": "ipython",
        "version": 3
      },
      "file_extension": ".py",
      "mimetype": "text/x-python",
      "name": "python",
      "nbconvert_exporter": "python",
      "pygments_lexer": "ipython3",
      "version": "3.9.7"
    }
  },
  "nbformat": 4,
  "nbformat_minor": 0
}