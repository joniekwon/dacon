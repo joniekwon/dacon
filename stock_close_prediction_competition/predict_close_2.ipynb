{
 "cells": [
  {
   "cell_type": "code",
   "execution_count": null,
   "id": "a911428c",
   "metadata": {},
   "outputs": [],
   "source": [
    "import FinanceDataReader as fdr\n",
    "import pandas as pd\n",
    "import numpy as np\n",
    "import datetime\n",
    "\n",
    "from sklearn.preprocessing import StandardScaler\n",
    "from sklearn.decomposition import PCA\n",
    "from sklearn.linear_model import LogisticRegression\n",
    "from sklearn.pipeline import make_pipeline\n",
    "from sklearn.ensemble import RandomForestRegressor\n"
   ]
  },
  {
   "cell_type": "code",
   "execution_count": null,
   "id": "83081f7c",
   "metadata": {},
   "outputs": [],
   "source": [
    "def prep_data(stock_code, predict_date):\n",
    "    predict_date = pd.to_datetime(predict_date)\n",
    "    end_date = predict_date - datetime.timedelta(days=1) # 예측날짜의 하루전의 테이터까지만 사용\n",
    "    start_date = end_date - datetime.timedelta(days=period) # 1년 전의 데이터까지 사용\n",
    "    \n",
    "    start_weekday = pd.to_datetime(start_date).weekday()\n",
    "    max_weeknum = pd.to_datetime(end_date).strftime('%V')\n",
    "    Business_days = pd.DataFrame(pd.date_range(start_date,end_date,freq='B'), columns = ['Date'])\n",
    "\n",
    "    stock = fdr.DataReader(stock_code, start=start_date, end=end_date).reset_index()\n",
    "    stock_data = pd.merge(Business_days, stock, how='outer')\n",
    "    \n",
    "    stock_data['weekday'] = stock_data.Date.apply(lambda x : x.weekday())\n",
    "    stock_data['weeknum'] = stock_data.Date.apply(lambda x : x.strftime('%V'))\n",
    "    stock_data = stock_data.ffill()\n",
    "    \n",
    "    sample = pd.pivot_table(data = stock_data, values = 'Close', columns = 'weekday', index = 'weeknum').ffill()\n",
    "    \n",
    "    \n",
    "    x = sample.iloc[0:-2].to_numpy()\n",
    "    y = sample.iloc[1:-1].to_numpy()\n",
    "    y_0 = y[:,0]\n",
    "    y_1 = y[:,1]\n",
    "    y_2 = y[:,2]\n",
    "    y_3 = y[:,3]\n",
    "    y_4 = y[:,4]\n",
    "    \n",
    "    print(f\"type(y_0): {type(y_0)}\")\n",
    "    y_values = [y_0, y_1, y_2, y_3, y_4]\n",
    "    x_public = sample.iloc[-2].to_numpy()\n",
    "    \n",
    "    return x, y_values, x_public"
   ]
  },
  {
   "cell_type": "code",
   "execution_count": null,
   "id": "3cb74d67",
   "metadata": {},
   "outputs": [],
   "source": [
    "def SDS_PCA_RF(x, y_values, x_public):\n",
    "    for y_value in y_values:   \n",
    "        pipe_rf = make_pipeline(StandardScaler(),PCA(n_components=3),\n",
    "                            RandomForestRegressor(max_depth=100,random_state=1))\n",
    "\n",
    "        pipe_rf.fit(x, y_value)\n",
    "        prediction = pipe_rf.predict(np.expand_dims(x_public,0))\n",
    "\n",
    "        predict_rf.append(prediction[0])\n",
    "        print(f\"{prediction}\", end=' ')"
   ]
  },
  {
   "cell_type": "code",
   "execution_count": null,
   "id": "dd2fc559",
   "metadata": {
    "scrolled": false
   },
   "outputs": [],
   "source": [
    "stock_list = pd.read_csv(\"./_data/stock_list.csv\")\n",
    "stock_list['종목코드'] = stock_list['종목코드'].apply(lambda x: str(x).zfill(6)) #zfill 숫자만큼 자릿수 맞춰 0 채우기\n",
    "period = 365         # 1년간의 데이터를 사용\n",
    "sample_submission = pd.read_csv(\"./_data/sample_submission.csv\")\n",
    "columns = list(sample_submission.columns[1:])\n",
    "columns = ['Day'] + [str(x).zfill(6) for x in columns]\n",
    "sample_submission.columns = columns\n",
    "df = pd.DataFrame\n",
    "  # 29일의 종가 예측\n",
    "stock\n",
    "for stock_code in stock_list['종목코드']:\n",
    "    print(f\"{stock_list[stock_list['종목코드']==stock_code]}\")\n",
    "    predict_rf = []\n",
    "    print('-'*100)\n",
    "    x, y_values, x_public = prep_data(stock_code, '20211101')\n",
    "    SDS_PCA_RF(x, y_values, x_public)\n",
    "    x, y_values, x_public = prep_data(stock_code, '20211129')\n",
    "    SDS_PCA_RF(x, y_values, x_public)\n",
    "    print()\n",
    "    print('-'*100)\n",
    "    sample_submission.loc[:,stock_code] = predict_rf\n",
    "\n",
    "sample_submission.to_csv(\"./_data/submission.csv\", index=False)\n",
    "\n",
    "    "
   ]
  },
  {
   "cell_type": "code",
   "execution_count": null,
   "id": "83887267",
   "metadata": {},
   "outputs": [],
   "source": []
  },
  {
   "cell_type": "code",
   "execution_count": null,
   "id": "29013fb7",
   "metadata": {},
   "outputs": [],
   "source": []
  }
 ],
 "metadata": {
  "kernelspec": {
   "display_name": "Python 3 (ipykernel)",
   "language": "python",
   "name": "python3"
  },
  "language_info": {
   "codemirror_mode": {
    "name": "ipython",
    "version": 3
   },
   "file_extension": ".py",
   "mimetype": "text/x-python",
   "name": "python",
   "nbconvert_exporter": "python",
   "pygments_lexer": "ipython3",
   "version": "3.9.7"
  }
 },
 "nbformat": 4,
 "nbformat_minor": 5
}
