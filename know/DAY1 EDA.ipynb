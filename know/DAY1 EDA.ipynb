{
 "cells": [
  {
   "cell_type": "code",
   "execution_count": 1,
   "id": "56a3845d",
   "metadata": {},
   "outputs": [],
   "source": [
    "import pandas as pd\n",
    "import numpy as np\n",
    "import matplotlib.pyplot as plt\n",
    "import seaborn as sns\n",
    "sns.set_style('darkgrid')\n",
    "\n",
    "from glob import glob\n",
    "from tqdm import tqdm\n",
    "\n",
    "import warnings\n",
    "warnings.filterwarnings('ignore')\n",
    "import re"
   ]
  },
  {
   "cell_type": "code",
   "execution_count": 2,
   "id": "7e340bf8",
   "metadata": {},
   "outputs": [],
   "source": [
    "know_train = [pd.read_csv(path, index_col=0) for path in sorted(glob('./_data/train/*.csv'))]\n",
    "know_test = [pd.read_csv(path, index_col=0) for path in sorted(glob('./_data/test/*.csv'))]\n",
    "submission = pd.read_csv('./_data/sample_submission.csv')"
   ]
  },
  {
   "cell_type": "markdown",
   "id": "bc319a6f",
   "metadata": {},
   "source": [
    "## 공백 `' '` 으로 되어있는 결측치를 np.nan으로 변경"
   ]
  },
  {
   "cell_type": "code",
   "execution_count": 6,
   "id": "3e856acb",
   "metadata": {},
   "outputs": [],
   "source": [
    "for train, test in zip(know_train, know_test):\n",
    "    for col in test.columns:\n",
    "        train[col].replace(' ', np.nan, inplace=True)\n",
    "        test[col].replace(' ', np.nan, inplace=True)"
   ]
  },
  {
   "cell_type": "code",
   "execution_count": 15,
   "id": "aed98c03",
   "metadata": {},
   "outputs": [
    {
     "name": "stdout",
     "output_type": "stream",
     "text": [
      "2017 train 결측치\n",
      " aq1_1          0\n",
      "aq1_2        585\n",
      "aq2_1          0\n",
      "aq2_2        861\n",
      "aq3_1          0\n",
      "            ... \n",
      "bq40        1301\n",
      "bq41_1      1332\n",
      "bq41_2      8222\n",
      "bq41_3      1316\n",
      "knowcode       0\n",
      "Length: 155, dtype: int64\n",
      "2017 test 결측치\n",
      ": aq1_1        0\n",
      "aq1_2      598\n",
      "aq2_1        0\n",
      "aq2_2      862\n",
      "aq3_1        0\n",
      "          ... \n",
      "bq39_2       0\n",
      "bq40      1333\n",
      "bq41_1    1371\n",
      "bq41_2    8191\n",
      "bq41_3    1342\n",
      "Length: 154, dtype: int64\n",
      "2018 train 결측치\n",
      " cq1            0\n",
      "cq2            0\n",
      "cq3            0\n",
      "cq4            0\n",
      "cq5            0\n",
      "            ... \n",
      "bq40           3\n",
      "bq41_1      1270\n",
      "bq41_2      1388\n",
      "bq41_3      7824\n",
      "knowcode       0\n",
      "Length: 140, dtype: int64\n",
      "2018 test 결측치\n",
      ": cq1          0\n",
      "cq2          0\n",
      "cq3          0\n",
      "cq4          0\n",
      "cq5          0\n",
      "          ... \n",
      "bq39      1331\n",
      "bq40         0\n",
      "bq41_1    1298\n",
      "bq41_2    1423\n",
      "bq41_3    7794\n",
      "Length: 139, dtype: int64\n",
      "2019 train 결측치\n",
      " sq1            0\n",
      "sq2            0\n",
      "sq3            0\n",
      "sq4            0\n",
      "sq5            0\n",
      "            ... \n",
      "bq30          23\n",
      "bq31_1      1416\n",
      "bq31_2      1503\n",
      "bq31_3      7342\n",
      "knowcode       0\n",
      "Length: 152, dtype: int64\n",
      "2019 test 결측치\n",
      ": sq1          0\n",
      "sq2          0\n",
      "sq3          0\n",
      "sq4          0\n",
      "sq5          0\n",
      "          ... \n",
      "bq29      1228\n",
      "bq30        25\n",
      "bq31_1    1384\n",
      "bq31_2    1478\n",
      "bq31_3    7385\n",
      "Length: 151, dtype: int64\n",
      "2020 train 결측치\n",
      " saq1_1         0\n",
      "saq1_2       676\n",
      "saq2_1         0\n",
      "saq2_2       457\n",
      "saq3_1         0\n",
      "            ... \n",
      "bq29           0\n",
      "bq30_1      1016\n",
      "bq30_2      1018\n",
      "bq30_3      7104\n",
      "knowcode       0\n",
      "Length: 184, dtype: int64\n",
      "2020 test 결측치\n",
      ": saq1_1       0\n",
      "saq1_2     683\n",
      "saq2_1       0\n",
      "saq2_2     456\n",
      "saq3_1       0\n",
      "          ... \n",
      "bq28         6\n",
      "bq29         0\n",
      "bq30_1    1014\n",
      "bq30_2    1014\n",
      "bq30_3    7108\n",
      "Length: 183, dtype: int64\n"
     ]
    }
   ],
   "source": [
    "i=0\n",
    "for train, test in zip(know_train, know_test):\n",
    "    print(f'{2017+i} train 결측치\\n {train.isna().sum()}')\n",
    "    print(f'{2017+i} test 결측치\\n: {test.isna().sum()}')\n",
    "    i+=1"
   ]
  },
  {
   "cell_type": "markdown",
   "id": "8b2d6ecd",
   "metadata": {},
   "source": [
    "### 결측치가 포함된 열 확인"
   ]
  },
  {
   "cell_type": "code",
   "execution_count": 38,
   "id": "fec413f6",
   "metadata": {},
   "outputs": [],
   "source": [
    "include_na_col_train = []\n",
    "for i in range(len(know_train)):\n",
    "    cols =[]\n",
    "    for col in know_train[i].columns:\n",
    "        if know_train[i].loc[:,col].isna().sum()>0:\n",
    "            cols.append(col)\n",
    "    include_na_col_train.append(cols)"
   ]
  },
  {
   "cell_type": "code",
   "execution_count": 39,
   "id": "70ae4a42",
   "metadata": {},
   "outputs": [],
   "source": [
    "include_na_col_test = []\n",
    "for i in range(len(know_test)):\n",
    "    cols =[]\n",
    "    for col in know_test[i].columns:\n",
    "        if know_test[i].loc[:,col].isna().sum()>0:\n",
    "            cols.append(col)\n",
    "    include_na_col_test.append(cols)"
   ]
  },
  {
   "cell_type": "markdown",
   "id": "8a1c56eb",
   "metadata": {},
   "source": [
    "### 2017~2020 결측치가 발생한 열의 개수 모두 다름"
   ]
  },
  {
   "cell_type": "code",
   "execution_count": 47,
   "id": "b6230308",
   "metadata": {},
   "outputs": [
    {
     "name": "stdout",
     "output_type": "stream",
     "text": [
      "결측치가 포함된 열 수\n",
      "2017 train : 59 개\n",
      "2017 test : 60 개\n",
      "2018 train : 59 개\n",
      "2018 test : 60 개\n",
      "2019 train : 59 개\n",
      "2019 test : 60 개\n",
      "2020 train : 59 개\n",
      "2020 test : 60 개\n"
     ]
    }
   ],
   "source": [
    "print('결측치가 포함된 열 수')\n",
    "for i in range(4):\n",
    "    print(f'{2017+i} train : {len(include_na_col_train[0])} 개')\n",
    "    print(f'{2017+i} test : {len(include_na_col_test[0])} 개')"
   ]
  },
  {
   "cell_type": "code",
   "execution_count": 50,
   "id": "6e9044c7",
   "metadata": {
    "scrolled": true
   },
   "outputs": [
    {
     "name": "stdout",
     "output_type": "stream",
     "text": [
      "결측치가 포함된 열 목록\n",
      "==================================================\n",
      "2017 train \n",
      " ['aq1_2', 'aq2_2', 'aq3_2', 'aq4_2', 'aq5_2', 'aq6_2', 'aq7_2', 'aq8_2', 'aq9_2', 'aq10_2', 'aq11_2', 'aq12_2', 'aq13_2', 'aq14_2', 'aq15_2', 'aq16_2', 'aq17_2', 'aq18_2', 'aq19_2', 'aq20_2', 'aq21_2', 'aq22_2', 'aq23_2', 'aq24_2', 'aq25_2', 'aq26_2', 'aq27_2', 'aq28_2', 'aq29_2', 'aq30_2', 'aq31_2', 'aq32_2', 'aq33_2', 'aq34_2', 'aq35_2', 'aq36_2', 'aq37_2', 'aq38_2', 'aq39_2', 'aq40_2', 'aq41_2', 'bq4_1a', 'bq4_1b', 'bq4_1c', 'bq5_1', 'bq5_2', 'bq12_2', 'bq12_3', 'bq12_4', 'bq19_1', 'bq31', 'bq32', 'bq33', 'bq34', 'bq38_1', 'bq40', 'bq41_1', 'bq41_2', 'bq41_3']\n",
      "--------------------------------------------------\n",
      "2017 test : ['aq1_2', 'aq2_2', 'aq3_2', 'aq4_2', 'aq5_2', 'aq6_2', 'aq7_2', 'aq8_2', 'aq9_2', 'aq10_2', 'aq11_2', 'aq12_2', 'aq13_2', 'aq14_2', 'aq15_2', 'aq16_2', 'aq17_2', 'aq18_2', 'aq19_2', 'aq20_2', 'aq21_2', 'aq22_2', 'aq23_2', 'aq24_2', 'aq25_2', 'aq26_2', 'aq27_2', 'aq28_2', 'aq29_2', 'aq30_2', 'aq31_2', 'aq32_2', 'aq33_2', 'aq34_2', 'aq35_2', 'aq36_2', 'aq37_2', 'aq38_2', 'aq39_2', 'aq40_2', 'aq41_2', 'bq4_1a', 'bq4_1b', 'bq4_1c', 'bq5_1', 'bq5_2', 'bq12_2', 'bq12_3', 'bq12_4', 'bq19_1', 'bq30', 'bq31', 'bq32', 'bq33', 'bq34', 'bq38_1', 'bq40', 'bq41_1', 'bq41_2', 'bq41_3']\n",
      "==================================================\n",
      "2018 train \n",
      " ['aq1_2', 'aq2_2', 'aq3_2', 'aq4_2', 'aq5_2', 'aq6_2', 'aq7_2', 'aq8_2', 'aq9_2', 'aq10_2', 'aq11_2', 'aq12_2', 'aq13_2', 'aq14_2', 'aq15_2', 'aq16_2', 'aq17_2', 'aq18_2', 'aq19_2', 'aq20_2', 'aq21_2', 'aq22_2', 'aq23_2', 'aq24_2', 'aq25_2', 'aq26_2', 'aq27_2', 'aq28_2', 'aq29_2', 'aq30_2', 'aq31_2', 'aq32_2', 'aq33_2', 'aq34_2', 'aq35_2', 'aq36_2', 'aq37_2', 'aq38_2', 'aq39_2', 'aq40_2', 'aq41_2', 'bq4_1a', 'bq4_1b', 'bq4_1c', 'bq5_1', 'bq5_2', 'bq12_2', 'bq12_3', 'bq12_4', 'bq19_1', 'bq31', 'bq32', 'bq33', 'bq34', 'bq38_1', 'bq40', 'bq41_1', 'bq41_2', 'bq41_3']\n",
      "--------------------------------------------------\n",
      "2018 test : ['aq1_2', 'aq2_2', 'aq3_2', 'aq4_2', 'aq5_2', 'aq6_2', 'aq7_2', 'aq8_2', 'aq9_2', 'aq10_2', 'aq11_2', 'aq12_2', 'aq13_2', 'aq14_2', 'aq15_2', 'aq16_2', 'aq17_2', 'aq18_2', 'aq19_2', 'aq20_2', 'aq21_2', 'aq22_2', 'aq23_2', 'aq24_2', 'aq25_2', 'aq26_2', 'aq27_2', 'aq28_2', 'aq29_2', 'aq30_2', 'aq31_2', 'aq32_2', 'aq33_2', 'aq34_2', 'aq35_2', 'aq36_2', 'aq37_2', 'aq38_2', 'aq39_2', 'aq40_2', 'aq41_2', 'bq4_1a', 'bq4_1b', 'bq4_1c', 'bq5_1', 'bq5_2', 'bq12_2', 'bq12_3', 'bq12_4', 'bq19_1', 'bq30', 'bq31', 'bq32', 'bq33', 'bq34', 'bq38_1', 'bq40', 'bq41_1', 'bq41_2', 'bq41_3']\n",
      "==================================================\n",
      "2019 train \n",
      " ['aq1_2', 'aq2_2', 'aq3_2', 'aq4_2', 'aq5_2', 'aq6_2', 'aq7_2', 'aq8_2', 'aq9_2', 'aq10_2', 'aq11_2', 'aq12_2', 'aq13_2', 'aq14_2', 'aq15_2', 'aq16_2', 'aq17_2', 'aq18_2', 'aq19_2', 'aq20_2', 'aq21_2', 'aq22_2', 'aq23_2', 'aq24_2', 'aq25_2', 'aq26_2', 'aq27_2', 'aq28_2', 'aq29_2', 'aq30_2', 'aq31_2', 'aq32_2', 'aq33_2', 'aq34_2', 'aq35_2', 'aq36_2', 'aq37_2', 'aq38_2', 'aq39_2', 'aq40_2', 'aq41_2', 'bq4_1a', 'bq4_1b', 'bq4_1c', 'bq5_1', 'bq5_2', 'bq12_2', 'bq12_3', 'bq12_4', 'bq19_1', 'bq31', 'bq32', 'bq33', 'bq34', 'bq38_1', 'bq40', 'bq41_1', 'bq41_2', 'bq41_3']\n",
      "--------------------------------------------------\n",
      "2019 test : ['aq1_2', 'aq2_2', 'aq3_2', 'aq4_2', 'aq5_2', 'aq6_2', 'aq7_2', 'aq8_2', 'aq9_2', 'aq10_2', 'aq11_2', 'aq12_2', 'aq13_2', 'aq14_2', 'aq15_2', 'aq16_2', 'aq17_2', 'aq18_2', 'aq19_2', 'aq20_2', 'aq21_2', 'aq22_2', 'aq23_2', 'aq24_2', 'aq25_2', 'aq26_2', 'aq27_2', 'aq28_2', 'aq29_2', 'aq30_2', 'aq31_2', 'aq32_2', 'aq33_2', 'aq34_2', 'aq35_2', 'aq36_2', 'aq37_2', 'aq38_2', 'aq39_2', 'aq40_2', 'aq41_2', 'bq4_1a', 'bq4_1b', 'bq4_1c', 'bq5_1', 'bq5_2', 'bq12_2', 'bq12_3', 'bq12_4', 'bq19_1', 'bq30', 'bq31', 'bq32', 'bq33', 'bq34', 'bq38_1', 'bq40', 'bq41_1', 'bq41_2', 'bq41_3']\n",
      "==================================================\n",
      "2020 train \n",
      " ['aq1_2', 'aq2_2', 'aq3_2', 'aq4_2', 'aq5_2', 'aq6_2', 'aq7_2', 'aq8_2', 'aq9_2', 'aq10_2', 'aq11_2', 'aq12_2', 'aq13_2', 'aq14_2', 'aq15_2', 'aq16_2', 'aq17_2', 'aq18_2', 'aq19_2', 'aq20_2', 'aq21_2', 'aq22_2', 'aq23_2', 'aq24_2', 'aq25_2', 'aq26_2', 'aq27_2', 'aq28_2', 'aq29_2', 'aq30_2', 'aq31_2', 'aq32_2', 'aq33_2', 'aq34_2', 'aq35_2', 'aq36_2', 'aq37_2', 'aq38_2', 'aq39_2', 'aq40_2', 'aq41_2', 'bq4_1a', 'bq4_1b', 'bq4_1c', 'bq5_1', 'bq5_2', 'bq12_2', 'bq12_3', 'bq12_4', 'bq19_1', 'bq31', 'bq32', 'bq33', 'bq34', 'bq38_1', 'bq40', 'bq41_1', 'bq41_2', 'bq41_3']\n",
      "--------------------------------------------------\n",
      "2020 test : ['aq1_2', 'aq2_2', 'aq3_2', 'aq4_2', 'aq5_2', 'aq6_2', 'aq7_2', 'aq8_2', 'aq9_2', 'aq10_2', 'aq11_2', 'aq12_2', 'aq13_2', 'aq14_2', 'aq15_2', 'aq16_2', 'aq17_2', 'aq18_2', 'aq19_2', 'aq20_2', 'aq21_2', 'aq22_2', 'aq23_2', 'aq24_2', 'aq25_2', 'aq26_2', 'aq27_2', 'aq28_2', 'aq29_2', 'aq30_2', 'aq31_2', 'aq32_2', 'aq33_2', 'aq34_2', 'aq35_2', 'aq36_2', 'aq37_2', 'aq38_2', 'aq39_2', 'aq40_2', 'aq41_2', 'bq4_1a', 'bq4_1b', 'bq4_1c', 'bq5_1', 'bq5_2', 'bq12_2', 'bq12_3', 'bq12_4', 'bq19_1', 'bq30', 'bq31', 'bq32', 'bq33', 'bq34', 'bq38_1', 'bq40', 'bq41_1', 'bq41_2', 'bq41_3']\n",
      "==================================================\n"
     ]
    }
   ],
   "source": [
    "print('결측치가 포함된 열 목록')\n",
    "print('='*50)\n",
    "for i in range(4):\n",
    "    print(f'{2017+i} train \\n {include_na_col_train[0]}')\n",
    "    print('-'*50)\n",
    "    print(f'{2017+i} test : {include_na_col_test[0]}')\n",
    "    print('='*50)"
   ]
  },
  {
   "cell_type": "markdown",
   "id": "708900ba",
   "metadata": {},
   "source": [
    "## 데이터 타입 확인\n",
    "### float64 1개, int64 94개 object 60개"
   ]
  },
  {
   "cell_type": "code",
   "execution_count": 54,
   "id": "20b25ff6",
   "metadata": {},
   "outputs": [
    {
     "name": "stdout",
     "output_type": "stream",
     "text": [
      "<class 'pandas.core.frame.DataFrame'>\n",
      "Int64Index: 9486 entries, 0 to 9485\n",
      "Columns: 155 entries, aq1_1 to knowcode\n",
      "dtypes: float64(1), int64(94), object(60)\n",
      "memory usage: 11.3+ MB\n"
     ]
    }
   ],
   "source": [
    "know_train[0].info()"
   ]
  },
  {
   "cell_type": "code",
   "execution_count": 57,
   "id": "4fe091aa",
   "metadata": {},
   "outputs": [
    {
     "data": {
      "text/html": [
       "<div>\n",
       "<style scoped>\n",
       "    .dataframe tbody tr th:only-of-type {\n",
       "        vertical-align: middle;\n",
       "    }\n",
       "\n",
       "    .dataframe tbody tr th {\n",
       "        vertical-align: top;\n",
       "    }\n",
       "\n",
       "    .dataframe thead th {\n",
       "        text-align: right;\n",
       "    }\n",
       "</style>\n",
       "<table border=\"1\" class=\"dataframe\">\n",
       "  <thead>\n",
       "    <tr style=\"text-align: right;\">\n",
       "      <th></th>\n",
       "      <th>bq23</th>\n",
       "    </tr>\n",
       "    <tr>\n",
       "      <th>idx</th>\n",
       "      <th></th>\n",
       "    </tr>\n",
       "  </thead>\n",
       "  <tbody>\n",
       "    <tr>\n",
       "      <th>0</th>\n",
       "      <td>10.0</td>\n",
       "    </tr>\n",
       "    <tr>\n",
       "      <th>1</th>\n",
       "      <td>50.0</td>\n",
       "    </tr>\n",
       "    <tr>\n",
       "      <th>2</th>\n",
       "      <td>40.0</td>\n",
       "    </tr>\n",
       "    <tr>\n",
       "      <th>3</th>\n",
       "      <td>30.0</td>\n",
       "    </tr>\n",
       "    <tr>\n",
       "      <th>4</th>\n",
       "      <td>40.0</td>\n",
       "    </tr>\n",
       "    <tr>\n",
       "      <th>...</th>\n",
       "      <td>...</td>\n",
       "    </tr>\n",
       "    <tr>\n",
       "      <th>9481</th>\n",
       "      <td>10.0</td>\n",
       "    </tr>\n",
       "    <tr>\n",
       "      <th>9482</th>\n",
       "      <td>20.0</td>\n",
       "    </tr>\n",
       "    <tr>\n",
       "      <th>9483</th>\n",
       "      <td>0.0</td>\n",
       "    </tr>\n",
       "    <tr>\n",
       "      <th>9484</th>\n",
       "      <td>20.0</td>\n",
       "    </tr>\n",
       "    <tr>\n",
       "      <th>9485</th>\n",
       "      <td>0.0</td>\n",
       "    </tr>\n",
       "  </tbody>\n",
       "</table>\n",
       "<p>9486 rows × 1 columns</p>\n",
       "</div>"
      ],
      "text/plain": [
       "      bq23\n",
       "idx       \n",
       "0     10.0\n",
       "1     50.0\n",
       "2     40.0\n",
       "3     30.0\n",
       "4     40.0\n",
       "...    ...\n",
       "9481  10.0\n",
       "9482  20.0\n",
       "9483   0.0\n",
       "9484  20.0\n",
       "9485   0.0\n",
       "\n",
       "[9486 rows x 1 columns]"
      ]
     },
     "execution_count": 57,
     "metadata": {},
     "output_type": "execute_result"
    }
   ],
   "source": [
    "know_train[0].select_dtypes('float64')"
   ]
  },
  {
   "cell_type": "code",
   "execution_count": 59,
   "id": "87bfd56c",
   "metadata": {},
   "outputs": [
    {
     "data": {
      "text/plain": [
       "Index(['aq1_1', 'aq2_1', 'aq3_1', 'aq4_1', 'aq5_1', 'aq6_1', 'aq7_1', 'aq8_1',\n",
       "       'aq9_1', 'aq10_1', 'aq11_1', 'aq12_1', 'aq13_1', 'aq14_1', 'aq15_1',\n",
       "       'aq16_1', 'aq17_1', 'aq18_1', 'aq19_1', 'aq20_1', 'aq21_1', 'aq22_1',\n",
       "       'aq23_1', 'aq24_1', 'aq25_1', 'aq26_1', 'aq27_1', 'aq28_1', 'aq29_1',\n",
       "       'aq30_1', 'aq31_1', 'aq32_1', 'aq33_1', 'aq34_1', 'aq35_1', 'aq36_1',\n",
       "       'aq37_1', 'aq38_1', 'aq39_1', 'aq40_1', 'aq41_1', 'bq1', 'bq2', 'bq3',\n",
       "       'bq4', 'bq5', 'bq6', 'bq7', 'bq8_1', 'bq8_2', 'bq8_3', 'bq9', 'bq10',\n",
       "       'bq11', 'bq12_1', 'bq12_5', 'bq13', 'bq14', 'bq15_1', 'bq15_2',\n",
       "       'bq15_3', 'bq16', 'bq17', 'bq18_1', 'bq18_2', 'bq18_3', 'bq18_4',\n",
       "       'bq18_5', 'bq18_6', 'bq18_7', 'bq19', 'bq20', 'bq21', 'bq22', 'bq24_1',\n",
       "       'bq24_2', 'bq24_3', 'bq24_4', 'bq24_5', 'bq24_6', 'bq24_7', 'bq24_8',\n",
       "       'bq25', 'bq26', 'bq27', 'bq28', 'bq29', 'bq35', 'bq36', 'bq37', 'bq38',\n",
       "       'bq39_1', 'bq39_2', 'knowcode'],\n",
       "      dtype='object')"
      ]
     },
     "execution_count": 59,
     "metadata": {},
     "output_type": "execute_result"
    }
   ],
   "source": [
    "know_train[0].select_dtypes('int64').columns"
   ]
  },
  {
   "cell_type": "code",
   "execution_count": 60,
   "id": "e2b2e582",
   "metadata": {},
   "outputs": [
    {
     "data": {
      "text/plain": [
       "Index(['aq1_2', 'aq2_2', 'aq3_2', 'aq4_2', 'aq5_2', 'aq6_2', 'aq7_2', 'aq8_2',\n",
       "       'aq9_2', 'aq10_2', 'aq11_2', 'aq12_2', 'aq13_2', 'aq14_2', 'aq15_2',\n",
       "       'aq16_2', 'aq17_2', 'aq18_2', 'aq19_2', 'aq20_2', 'aq21_2', 'aq22_2',\n",
       "       'aq23_2', 'aq24_2', 'aq25_2', 'aq26_2', 'aq27_2', 'aq28_2', 'aq29_2',\n",
       "       'aq30_2', 'aq31_2', 'aq32_2', 'aq33_2', 'aq34_2', 'aq35_2', 'aq36_2',\n",
       "       'aq37_2', 'aq38_2', 'aq39_2', 'aq40_2', 'aq41_2', 'bq4_1a', 'bq4_1b',\n",
       "       'bq4_1c', 'bq5_1', 'bq5_2', 'bq12_2', 'bq12_3', 'bq12_4', 'bq19_1',\n",
       "       'bq30', 'bq31', 'bq32', 'bq33', 'bq34', 'bq38_1', 'bq40', 'bq41_1',\n",
       "       'bq41_2', 'bq41_3'],\n",
       "      dtype='object')"
      ]
     },
     "execution_count": 60,
     "metadata": {},
     "output_type": "execute_result"
    }
   ],
   "source": [
    "know_train[0].select_dtypes('object').columns"
   ]
  },
  {
   "cell_type": "code",
   "execution_count": null,
   "id": "3ab17df2",
   "metadata": {},
   "outputs": [],
   "source": []
  }
 ],
 "metadata": {
  "kernelspec": {
   "display_name": "py37",
   "language": "python",
   "name": "py37"
  },
  "language_info": {
   "codemirror_mode": {
    "name": "ipython",
    "version": 3
   },
   "file_extension": ".py",
   "mimetype": "text/x-python",
   "name": "python",
   "nbconvert_exporter": "python",
   "pygments_lexer": "ipython3",
   "version": "3.7.11"
  }
 },
 "nbformat": 4,
 "nbformat_minor": 5
}
