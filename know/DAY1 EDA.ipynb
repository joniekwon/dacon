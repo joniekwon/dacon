{
 "cells": [
  {
   "cell_type": "code",
   "execution_count": 1,
   "id": "56a3845d",
   "metadata": {},
   "outputs": [],
   "source": [
    "import pandas as pd\n",
    "import numpy as np\n",
    "import matplotlib.pyplot as plt\n",
    "import seaborn as sns\n",
    "sns.set_style('darkgrid')\n",
    "\n",
    "from glob import glob\n",
    "from tqdm import tqdm\n",
    "\n",
    "import warnings\n",
    "warnings.filterwarnings('ignore')\n",
    "import re"
   ]
  },
  {
   "cell_type": "code",
   "execution_count": 2,
   "id": "7e340bf8",
   "metadata": {},
   "outputs": [],
   "source": [
    "know_train = [pd.read_csv(path, index_col=0) for path in sorted(glob('./_data/train/*.csv'))]\n",
    "know_test = [pd.read_csv(path, index_col=0) for path in sorted(glob('./_data/test/*.csv'))]\n",
    "submission = pd.read_csv('./_data/sample_submission.csv')"
   ]
  },
  {
   "cell_type": "markdown",
   "id": "bc319a6f",
   "metadata": {},
   "source": [
    "## 공백 `' '` 으로 되어있는 결측치를 np.nan으로 변경"
   ]
  },
  {
   "cell_type": "code",
   "execution_count": 3,
   "id": "3e856acb",
   "metadata": {},
   "outputs": [],
   "source": [
    "for train, test in zip(know_train, know_test):\n",
    "    for col in test.columns:\n",
    "        train[col].replace(' ', np.nan, inplace=True)\n",
    "        test[col].replace(' ', np.nan, inplace=True)"
   ]
  },
  {
   "cell_type": "code",
   "execution_count": 4,
   "id": "aed98c03",
   "metadata": {},
   "outputs": [
    {
     "name": "stdout",
     "output_type": "stream",
     "text": [
      "2017 train 결측치\n",
      " aq1_1          0\n",
      "aq1_2        585\n",
      "aq2_1          0\n",
      "aq2_2        861\n",
      "aq3_1          0\n",
      "            ... \n",
      "bq40        1301\n",
      "bq41_1      1332\n",
      "bq41_2      8222\n",
      "bq41_3      1316\n",
      "knowcode       0\n",
      "Length: 155, dtype: int64\n",
      "2017 test 결측치\n",
      ": aq1_1        0\n",
      "aq1_2      598\n",
      "aq2_1        0\n",
      "aq2_2      862\n",
      "aq3_1        0\n",
      "          ... \n",
      "bq39_2       0\n",
      "bq40      1333\n",
      "bq41_1    1371\n",
      "bq41_2    8191\n",
      "bq41_3    1342\n",
      "Length: 154, dtype: int64\n",
      "2018 train 결측치\n",
      " cq1            0\n",
      "cq2            0\n",
      "cq3            0\n",
      "cq4            0\n",
      "cq5            0\n",
      "            ... \n",
      "bq40           3\n",
      "bq41_1      1270\n",
      "bq41_2      1388\n",
      "bq41_3      7824\n",
      "knowcode       0\n",
      "Length: 140, dtype: int64\n",
      "2018 test 결측치\n",
      ": cq1          0\n",
      "cq2          0\n",
      "cq3          0\n",
      "cq4          0\n",
      "cq5          0\n",
      "          ... \n",
      "bq39      1331\n",
      "bq40         0\n",
      "bq41_1    1298\n",
      "bq41_2    1423\n",
      "bq41_3    7794\n",
      "Length: 139, dtype: int64\n",
      "2019 train 결측치\n",
      " sq1            0\n",
      "sq2            0\n",
      "sq3            0\n",
      "sq4            0\n",
      "sq5            0\n",
      "            ... \n",
      "bq30          23\n",
      "bq31_1      1416\n",
      "bq31_2      1503\n",
      "bq31_3      7342\n",
      "knowcode       0\n",
      "Length: 152, dtype: int64\n",
      "2019 test 결측치\n",
      ": sq1          0\n",
      "sq2          0\n",
      "sq3          0\n",
      "sq4          0\n",
      "sq5          0\n",
      "          ... \n",
      "bq29      1228\n",
      "bq30        25\n",
      "bq31_1    1384\n",
      "bq31_2    1478\n",
      "bq31_3    7385\n",
      "Length: 151, dtype: int64\n",
      "2020 train 결측치\n",
      " saq1_1         0\n",
      "saq1_2       676\n",
      "saq2_1         0\n",
      "saq2_2       457\n",
      "saq3_1         0\n",
      "            ... \n",
      "bq29           0\n",
      "bq30_1      1016\n",
      "bq30_2      1018\n",
      "bq30_3      7104\n",
      "knowcode       0\n",
      "Length: 184, dtype: int64\n",
      "2020 test 결측치\n",
      ": saq1_1       0\n",
      "saq1_2     683\n",
      "saq2_1       0\n",
      "saq2_2     456\n",
      "saq3_1       0\n",
      "          ... \n",
      "bq28         6\n",
      "bq29         0\n",
      "bq30_1    1014\n",
      "bq30_2    1014\n",
      "bq30_3    7108\n",
      "Length: 183, dtype: int64\n"
     ]
    }
   ],
   "source": [
    "i=0\n",
    "for train, test in zip(know_train, know_test):\n",
    "    print(f'{2017+i} train 결측치\\n {train.isna().sum()}')\n",
    "    print(f'{2017+i} test 결측치\\n: {test.isna().sum()}')\n",
    "    i+=1"
   ]
  },
  {
   "cell_type": "markdown",
   "id": "8b2d6ecd",
   "metadata": {},
   "source": [
    "### 결측치가 포함된 열 확인"
   ]
  },
  {
   "cell_type": "code",
   "execution_count": 5,
   "id": "fec413f6",
   "metadata": {},
   "outputs": [],
   "source": [
    "include_na_col_train = []\n",
    "include_na_col_test = []\n",
    "for i in range(4):\n",
    "    include_na_col_train.append(know_train[i].columns[know_train[i].isna().sum()>0].tolist())\n",
    "    include_na_col_test.append(know_test[i].columns[know_test[i].isna().sum()>0].tolist())"
   ]
  },
  {
   "cell_type": "markdown",
   "id": "8a1c56eb",
   "metadata": {},
   "source": [
    "### 2017~2020 결측치가 발생한 열의 개수 모두 다름"
   ]
  },
  {
   "cell_type": "code",
   "execution_count": 6,
   "id": "b6230308",
   "metadata": {},
   "outputs": [
    {
     "name": "stdout",
     "output_type": "stream",
     "text": [
      "결측치가 포함된 열 수\n",
      "2017 train : 59 개\n",
      "2017 test : 60 개\n",
      "2018 train : 59 개\n",
      "2018 test : 60 개\n",
      "2019 train : 59 개\n",
      "2019 test : 60 개\n",
      "2020 train : 59 개\n",
      "2020 test : 60 개\n"
     ]
    }
   ],
   "source": [
    "print('결측치가 포함된 열 수')\n",
    "for i in range(4):\n",
    "    print(f'{2017+i} train : {len(include_na_col_train[0])} 개')\n",
    "    print(f'{2017+i} test : {len(include_na_col_test[0])} 개')"
   ]
  },
  {
   "cell_type": "code",
   "execution_count": 7,
   "id": "6e9044c7",
   "metadata": {
    "scrolled": true
   },
   "outputs": [
    {
     "name": "stdout",
     "output_type": "stream",
     "text": [
      "결측치가 포함된 열 목록\n",
      "==================================================\n",
      "2017 train \n",
      " ['aq1_2', 'aq2_2', 'aq3_2', 'aq4_2', 'aq5_2', 'aq6_2', 'aq7_2', 'aq8_2', 'aq9_2', 'aq10_2', 'aq11_2', 'aq12_2', 'aq13_2', 'aq14_2', 'aq15_2', 'aq16_2', 'aq17_2', 'aq18_2', 'aq19_2', 'aq20_2', 'aq21_2', 'aq22_2', 'aq23_2', 'aq24_2', 'aq25_2', 'aq26_2', 'aq27_2', 'aq28_2', 'aq29_2', 'aq30_2', 'aq31_2', 'aq32_2', 'aq33_2', 'aq34_2', 'aq35_2', 'aq36_2', 'aq37_2', 'aq38_2', 'aq39_2', 'aq40_2', 'aq41_2', 'bq4_1a', 'bq4_1b', 'bq4_1c', 'bq5_1', 'bq5_2', 'bq12_2', 'bq12_3', 'bq12_4', 'bq19_1', 'bq31', 'bq32', 'bq33', 'bq34', 'bq38_1', 'bq40', 'bq41_1', 'bq41_2', 'bq41_3']\n",
      "--------------------------------------------------\n",
      "2017 test : ['aq1_2', 'aq2_2', 'aq3_2', 'aq4_2', 'aq5_2', 'aq6_2', 'aq7_2', 'aq8_2', 'aq9_2', 'aq10_2', 'aq11_2', 'aq12_2', 'aq13_2', 'aq14_2', 'aq15_2', 'aq16_2', 'aq17_2', 'aq18_2', 'aq19_2', 'aq20_2', 'aq21_2', 'aq22_2', 'aq23_2', 'aq24_2', 'aq25_2', 'aq26_2', 'aq27_2', 'aq28_2', 'aq29_2', 'aq30_2', 'aq31_2', 'aq32_2', 'aq33_2', 'aq34_2', 'aq35_2', 'aq36_2', 'aq37_2', 'aq38_2', 'aq39_2', 'aq40_2', 'aq41_2', 'bq4_1a', 'bq4_1b', 'bq4_1c', 'bq5_1', 'bq5_2', 'bq12_2', 'bq12_3', 'bq12_4', 'bq19_1', 'bq30', 'bq31', 'bq32', 'bq33', 'bq34', 'bq38_1', 'bq40', 'bq41_1', 'bq41_2', 'bq41_3']\n",
      "==================================================\n",
      "2018 train \n",
      " ['aq1_2', 'aq2_2', 'aq3_2', 'aq4_2', 'aq5_2', 'aq6_2', 'aq7_2', 'aq8_2', 'aq9_2', 'aq10_2', 'aq11_2', 'aq12_2', 'aq13_2', 'aq14_2', 'aq15_2', 'aq16_2', 'aq17_2', 'aq18_2', 'aq19_2', 'aq20_2', 'aq21_2', 'aq22_2', 'aq23_2', 'aq24_2', 'aq25_2', 'aq26_2', 'aq27_2', 'aq28_2', 'aq29_2', 'aq30_2', 'aq31_2', 'aq32_2', 'aq33_2', 'aq34_2', 'aq35_2', 'aq36_2', 'aq37_2', 'aq38_2', 'aq39_2', 'aq40_2', 'aq41_2', 'bq4_1a', 'bq4_1b', 'bq4_1c', 'bq5_1', 'bq5_2', 'bq12_2', 'bq12_3', 'bq12_4', 'bq19_1', 'bq31', 'bq32', 'bq33', 'bq34', 'bq38_1', 'bq40', 'bq41_1', 'bq41_2', 'bq41_3']\n",
      "--------------------------------------------------\n",
      "2018 test : ['aq1_2', 'aq2_2', 'aq3_2', 'aq4_2', 'aq5_2', 'aq6_2', 'aq7_2', 'aq8_2', 'aq9_2', 'aq10_2', 'aq11_2', 'aq12_2', 'aq13_2', 'aq14_2', 'aq15_2', 'aq16_2', 'aq17_2', 'aq18_2', 'aq19_2', 'aq20_2', 'aq21_2', 'aq22_2', 'aq23_2', 'aq24_2', 'aq25_2', 'aq26_2', 'aq27_2', 'aq28_2', 'aq29_2', 'aq30_2', 'aq31_2', 'aq32_2', 'aq33_2', 'aq34_2', 'aq35_2', 'aq36_2', 'aq37_2', 'aq38_2', 'aq39_2', 'aq40_2', 'aq41_2', 'bq4_1a', 'bq4_1b', 'bq4_1c', 'bq5_1', 'bq5_2', 'bq12_2', 'bq12_3', 'bq12_4', 'bq19_1', 'bq30', 'bq31', 'bq32', 'bq33', 'bq34', 'bq38_1', 'bq40', 'bq41_1', 'bq41_2', 'bq41_3']\n",
      "==================================================\n",
      "2019 train \n",
      " ['aq1_2', 'aq2_2', 'aq3_2', 'aq4_2', 'aq5_2', 'aq6_2', 'aq7_2', 'aq8_2', 'aq9_2', 'aq10_2', 'aq11_2', 'aq12_2', 'aq13_2', 'aq14_2', 'aq15_2', 'aq16_2', 'aq17_2', 'aq18_2', 'aq19_2', 'aq20_2', 'aq21_2', 'aq22_2', 'aq23_2', 'aq24_2', 'aq25_2', 'aq26_2', 'aq27_2', 'aq28_2', 'aq29_2', 'aq30_2', 'aq31_2', 'aq32_2', 'aq33_2', 'aq34_2', 'aq35_2', 'aq36_2', 'aq37_2', 'aq38_2', 'aq39_2', 'aq40_2', 'aq41_2', 'bq4_1a', 'bq4_1b', 'bq4_1c', 'bq5_1', 'bq5_2', 'bq12_2', 'bq12_3', 'bq12_4', 'bq19_1', 'bq31', 'bq32', 'bq33', 'bq34', 'bq38_1', 'bq40', 'bq41_1', 'bq41_2', 'bq41_3']\n",
      "--------------------------------------------------\n",
      "2019 test : ['aq1_2', 'aq2_2', 'aq3_2', 'aq4_2', 'aq5_2', 'aq6_2', 'aq7_2', 'aq8_2', 'aq9_2', 'aq10_2', 'aq11_2', 'aq12_2', 'aq13_2', 'aq14_2', 'aq15_2', 'aq16_2', 'aq17_2', 'aq18_2', 'aq19_2', 'aq20_2', 'aq21_2', 'aq22_2', 'aq23_2', 'aq24_2', 'aq25_2', 'aq26_2', 'aq27_2', 'aq28_2', 'aq29_2', 'aq30_2', 'aq31_2', 'aq32_2', 'aq33_2', 'aq34_2', 'aq35_2', 'aq36_2', 'aq37_2', 'aq38_2', 'aq39_2', 'aq40_2', 'aq41_2', 'bq4_1a', 'bq4_1b', 'bq4_1c', 'bq5_1', 'bq5_2', 'bq12_2', 'bq12_3', 'bq12_4', 'bq19_1', 'bq30', 'bq31', 'bq32', 'bq33', 'bq34', 'bq38_1', 'bq40', 'bq41_1', 'bq41_2', 'bq41_3']\n",
      "==================================================\n",
      "2020 train \n",
      " ['aq1_2', 'aq2_2', 'aq3_2', 'aq4_2', 'aq5_2', 'aq6_2', 'aq7_2', 'aq8_2', 'aq9_2', 'aq10_2', 'aq11_2', 'aq12_2', 'aq13_2', 'aq14_2', 'aq15_2', 'aq16_2', 'aq17_2', 'aq18_2', 'aq19_2', 'aq20_2', 'aq21_2', 'aq22_2', 'aq23_2', 'aq24_2', 'aq25_2', 'aq26_2', 'aq27_2', 'aq28_2', 'aq29_2', 'aq30_2', 'aq31_2', 'aq32_2', 'aq33_2', 'aq34_2', 'aq35_2', 'aq36_2', 'aq37_2', 'aq38_2', 'aq39_2', 'aq40_2', 'aq41_2', 'bq4_1a', 'bq4_1b', 'bq4_1c', 'bq5_1', 'bq5_2', 'bq12_2', 'bq12_3', 'bq12_4', 'bq19_1', 'bq31', 'bq32', 'bq33', 'bq34', 'bq38_1', 'bq40', 'bq41_1', 'bq41_2', 'bq41_3']\n",
      "--------------------------------------------------\n",
      "2020 test : ['aq1_2', 'aq2_2', 'aq3_2', 'aq4_2', 'aq5_2', 'aq6_2', 'aq7_2', 'aq8_2', 'aq9_2', 'aq10_2', 'aq11_2', 'aq12_2', 'aq13_2', 'aq14_2', 'aq15_2', 'aq16_2', 'aq17_2', 'aq18_2', 'aq19_2', 'aq20_2', 'aq21_2', 'aq22_2', 'aq23_2', 'aq24_2', 'aq25_2', 'aq26_2', 'aq27_2', 'aq28_2', 'aq29_2', 'aq30_2', 'aq31_2', 'aq32_2', 'aq33_2', 'aq34_2', 'aq35_2', 'aq36_2', 'aq37_2', 'aq38_2', 'aq39_2', 'aq40_2', 'aq41_2', 'bq4_1a', 'bq4_1b', 'bq4_1c', 'bq5_1', 'bq5_2', 'bq12_2', 'bq12_3', 'bq12_4', 'bq19_1', 'bq30', 'bq31', 'bq32', 'bq33', 'bq34', 'bq38_1', 'bq40', 'bq41_1', 'bq41_2', 'bq41_3']\n",
      "==================================================\n"
     ]
    }
   ],
   "source": [
    "print('결측치가 포함된 열 목록')\n",
    "print('='*50)\n",
    "for i in range(4):\n",
    "    print(f'{2017+i} train \\n {include_na_col_train[0]}')\n",
    "    print('-'*50)\n",
    "    print(f'{2017+i} test : {include_na_col_test[0]}')\n",
    "    print('='*50)"
   ]
  },
  {
   "cell_type": "markdown",
   "id": "708900ba",
   "metadata": {},
   "source": [
    "## 데이터 타입 확인\n",
    "### 2017 train: float64 1개, int64 94개 object 60개"
   ]
  },
  {
   "cell_type": "code",
   "execution_count": 8,
   "id": "20b25ff6",
   "metadata": {},
   "outputs": [
    {
     "name": "stdout",
     "output_type": "stream",
     "text": [
      "<class 'pandas.core.frame.DataFrame'>\n",
      "Int64Index: 9486 entries, 0 to 9485\n",
      "Columns: 155 entries, aq1_1 to knowcode\n",
      "dtypes: float64(1), int64(94), object(60)\n",
      "memory usage: 11.3+ MB\n"
     ]
    }
   ],
   "source": [
    "know_train[0].info()"
   ]
  },
  {
   "cell_type": "code",
   "execution_count": 9,
   "id": "4fe091aa",
   "metadata": {},
   "outputs": [
    {
     "data": {
      "text/html": [
       "<div>\n",
       "<style scoped>\n",
       "    .dataframe tbody tr th:only-of-type {\n",
       "        vertical-align: middle;\n",
       "    }\n",
       "\n",
       "    .dataframe tbody tr th {\n",
       "        vertical-align: top;\n",
       "    }\n",
       "\n",
       "    .dataframe thead th {\n",
       "        text-align: right;\n",
       "    }\n",
       "</style>\n",
       "<table border=\"1\" class=\"dataframe\">\n",
       "  <thead>\n",
       "    <tr style=\"text-align: right;\">\n",
       "      <th></th>\n",
       "      <th>bq23</th>\n",
       "    </tr>\n",
       "    <tr>\n",
       "      <th>idx</th>\n",
       "      <th></th>\n",
       "    </tr>\n",
       "  </thead>\n",
       "  <tbody>\n",
       "    <tr>\n",
       "      <th>0</th>\n",
       "      <td>10.0</td>\n",
       "    </tr>\n",
       "    <tr>\n",
       "      <th>1</th>\n",
       "      <td>50.0</td>\n",
       "    </tr>\n",
       "    <tr>\n",
       "      <th>2</th>\n",
       "      <td>40.0</td>\n",
       "    </tr>\n",
       "    <tr>\n",
       "      <th>3</th>\n",
       "      <td>30.0</td>\n",
       "    </tr>\n",
       "    <tr>\n",
       "      <th>4</th>\n",
       "      <td>40.0</td>\n",
       "    </tr>\n",
       "    <tr>\n",
       "      <th>...</th>\n",
       "      <td>...</td>\n",
       "    </tr>\n",
       "    <tr>\n",
       "      <th>9481</th>\n",
       "      <td>10.0</td>\n",
       "    </tr>\n",
       "    <tr>\n",
       "      <th>9482</th>\n",
       "      <td>20.0</td>\n",
       "    </tr>\n",
       "    <tr>\n",
       "      <th>9483</th>\n",
       "      <td>0.0</td>\n",
       "    </tr>\n",
       "    <tr>\n",
       "      <th>9484</th>\n",
       "      <td>20.0</td>\n",
       "    </tr>\n",
       "    <tr>\n",
       "      <th>9485</th>\n",
       "      <td>0.0</td>\n",
       "    </tr>\n",
       "  </tbody>\n",
       "</table>\n",
       "<p>9486 rows × 1 columns</p>\n",
       "</div>"
      ],
      "text/plain": [
       "      bq23\n",
       "idx       \n",
       "0     10.0\n",
       "1     50.0\n",
       "2     40.0\n",
       "3     30.0\n",
       "4     40.0\n",
       "...    ...\n",
       "9481  10.0\n",
       "9482  20.0\n",
       "9483   0.0\n",
       "9484  20.0\n",
       "9485   0.0\n",
       "\n",
       "[9486 rows x 1 columns]"
      ]
     },
     "execution_count": 9,
     "metadata": {},
     "output_type": "execute_result"
    }
   ],
   "source": [
    "# bq23 : 기술적 변화요인으로 인한 업무 대체 비율\n",
    "know_train[0].select_dtypes('float64')"
   ]
  },
  {
   "cell_type": "code",
   "execution_count": 10,
   "id": "87bfd56c",
   "metadata": {},
   "outputs": [
    {
     "data": {
      "text/plain": [
       "Index(['aq1_1', 'aq2_1', 'aq3_1', 'aq4_1', 'aq5_1', 'aq6_1', 'aq7_1', 'aq8_1',\n",
       "       'aq9_1', 'aq10_1', 'aq11_1', 'aq12_1', 'aq13_1', 'aq14_1', 'aq15_1',\n",
       "       'aq16_1', 'aq17_1', 'aq18_1', 'aq19_1', 'aq20_1', 'aq21_1', 'aq22_1',\n",
       "       'aq23_1', 'aq24_1', 'aq25_1', 'aq26_1', 'aq27_1', 'aq28_1', 'aq29_1',\n",
       "       'aq30_1', 'aq31_1', 'aq32_1', 'aq33_1', 'aq34_1', 'aq35_1', 'aq36_1',\n",
       "       'aq37_1', 'aq38_1', 'aq39_1', 'aq40_1', 'aq41_1', 'bq1', 'bq2', 'bq3',\n",
       "       'bq4', 'bq5', 'bq6', 'bq7', 'bq8_1', 'bq8_2', 'bq8_3', 'bq9', 'bq10',\n",
       "       'bq11', 'bq12_1', 'bq12_5', 'bq13', 'bq14', 'bq15_1', 'bq15_2',\n",
       "       'bq15_3', 'bq16', 'bq17', 'bq18_1', 'bq18_2', 'bq18_3', 'bq18_4',\n",
       "       'bq18_5', 'bq18_6', 'bq18_7', 'bq19', 'bq20', 'bq21', 'bq22', 'bq24_1',\n",
       "       'bq24_2', 'bq24_3', 'bq24_4', 'bq24_5', 'bq24_6', 'bq24_7', 'bq24_8',\n",
       "       'bq25', 'bq26', 'bq27', 'bq28', 'bq29', 'bq35', 'bq36', 'bq37', 'bq38',\n",
       "       'bq39_1', 'bq39_2', 'knowcode'],\n",
       "      dtype='object')"
      ]
     },
     "execution_count": 10,
     "metadata": {},
     "output_type": "execute_result"
    }
   ],
   "source": [
    "know_train[0].select_dtypes('int64').columns"
   ]
  },
  {
   "cell_type": "code",
   "execution_count": 11,
   "id": "e2b2e582",
   "metadata": {},
   "outputs": [
    {
     "data": {
      "text/plain": [
       "Index(['aq1_2', 'aq2_2', 'aq3_2', 'aq4_2', 'aq5_2', 'aq6_2', 'aq7_2', 'aq8_2',\n",
       "       'aq9_2', 'aq10_2', 'aq11_2', 'aq12_2', 'aq13_2', 'aq14_2', 'aq15_2',\n",
       "       'aq16_2', 'aq17_2', 'aq18_2', 'aq19_2', 'aq20_2', 'aq21_2', 'aq22_2',\n",
       "       'aq23_2', 'aq24_2', 'aq25_2', 'aq26_2', 'aq27_2', 'aq28_2', 'aq29_2',\n",
       "       'aq30_2', 'aq31_2', 'aq32_2', 'aq33_2', 'aq34_2', 'aq35_2', 'aq36_2',\n",
       "       'aq37_2', 'aq38_2', 'aq39_2', 'aq40_2', 'aq41_2', 'bq4_1a', 'bq4_1b',\n",
       "       'bq4_1c', 'bq5_1', 'bq5_2', 'bq12_2', 'bq12_3', 'bq12_4', 'bq19_1',\n",
       "       'bq30', 'bq31', 'bq32', 'bq33', 'bq34', 'bq38_1', 'bq40', 'bq41_1',\n",
       "       'bq41_2', 'bq41_3'],\n",
       "      dtype='object')"
      ]
     },
     "execution_count": 11,
     "metadata": {},
     "output_type": "execute_result"
    }
   ],
   "source": [
    "know_train[0].select_dtypes('object').columns"
   ]
  },
  {
   "cell_type": "markdown",
   "id": "c69c6de9",
   "metadata": {},
   "source": [
    "* aq는 모두 int64값이어야 함.\n",
    "* bq는 float와 텍스트 데이터 제외하고 int64로 변경해야 함."
   ]
  },
  {
   "cell_type": "code",
   "execution_count": null,
   "id": "e396b4be",
   "metadata": {},
   "outputs": [],
   "source": []
  },
  {
   "cell_type": "markdown",
   "id": "ab98b709",
   "metadata": {},
   "source": [
    "# 결측치 처리 (2017)"
   ]
  },
  {
   "cell_type": "code",
   "execution_count": 12,
   "id": "ff2854c7",
   "metadata": {},
   "outputs": [
    {
     "data": {
      "text/plain": [
       "585"
      ]
     },
     "execution_count": 12,
     "metadata": {},
     "output_type": "execute_result"
    }
   ],
   "source": [
    "know_train[0].loc[know_train[0]['aq1_1']==1, 'aq1_2'].isna().sum()"
   ]
  },
  {
   "cell_type": "markdown",
   "id": "b4f62420",
   "metadata": {},
   "source": [
    "* aq1_1에 1. 중요하지 않다라고 답했을 경우 aq1_2 문항을 건너뛰기 때문에 결측치 존재\n",
    "## aq_1 문항을 1이라고 답한 행의 aq_2문항을 0으로 변경"
   ]
  },
  {
   "cell_type": "code",
   "execution_count": 13,
   "id": "8708509b",
   "metadata": {},
   "outputs": [
    {
     "name": "stdout",
     "output_type": "stream",
     "text": [
      "aq1_2열 결측치: 0\n",
      "aq2_2열 결측치: 0\n",
      "aq3_2열 결측치: 0\n",
      "aq4_2열 결측치: 0\n",
      "aq5_2열 결측치: 0\n",
      "aq6_2열 결측치: 0\n",
      "aq7_2열 결측치: 0\n",
      "aq8_2열 결측치: 0\n",
      "aq9_2열 결측치: 0\n",
      "aq10_2열 결측치: 0\n",
      "aq11_2열 결측치: 4\n",
      "aq12_2열 결측치: 0\n",
      "aq13_2열 결측치: 0\n",
      "aq14_2열 결측치: 3\n",
      "aq15_2열 결측치: 0\n",
      "aq16_2열 결측치: 0\n",
      "aq17_2열 결측치: 0\n",
      "aq18_2열 결측치: 0\n",
      "aq19_2열 결측치: 0\n",
      "aq20_2열 결측치: 0\n",
      "aq21_2열 결측치: 0\n",
      "aq22_2열 결측치: 0\n",
      "aq23_2열 결측치: 0\n",
      "aq24_2열 결측치: 0\n",
      "aq25_2열 결측치: 0\n",
      "aq26_2열 결측치: 0\n",
      "aq27_2열 결측치: 7\n",
      "aq28_2열 결측치: 0\n",
      "aq29_2열 결측치: 0\n",
      "aq30_2열 결측치: 0\n",
      "aq31_2열 결측치: 0\n",
      "aq32_2열 결측치: 11\n",
      "aq33_2열 결측치: 0\n",
      "aq34_2열 결측치: 0\n",
      "aq35_2열 결측치: 0\n",
      "aq36_2열 결측치: 0\n",
      "aq37_2열 결측치: 0\n",
      "aq38_2열 결측치: 0\n",
      "aq39_2열 결측치: 0\n",
      "aq40_2열 결측치: 0\n",
      "aq41_2열 결측치: 4\n"
     ]
    }
   ],
   "source": [
    "import re\n",
    "for col in know_train[0].columns:\n",
    "    if re.findall('aq.*_1', col):\n",
    "        na_col = re.sub('_1', '_2', col)\n",
    "        know_train[0].loc[(know_train[0][col] == 1), na_col] = 0\n",
    "        print(f'{na_col}열 결측치: {know_train[0][na_col].isna().sum()}')"
   ]
  },
  {
   "cell_type": "code",
   "execution_count": 14,
   "id": "c1d0e0db",
   "metadata": {},
   "outputs": [
    {
     "name": "stdout",
     "output_type": "stream",
     "text": [
      "aq1_2열 결측치: 0\n",
      "aq2_2열 결측치: 0\n",
      "aq3_2열 결측치: 0\n",
      "aq4_2열 결측치: 0\n",
      "aq5_2열 결측치: 0\n",
      "aq6_2열 결측치: 0\n",
      "aq7_2열 결측치: 0\n",
      "aq8_2열 결측치: 0\n",
      "aq9_2열 결측치: 0\n",
      "aq10_2열 결측치: 0\n",
      "aq11_2열 결측치: 6\n",
      "aq12_2열 결측치: 0\n",
      "aq13_2열 결측치: 0\n",
      "aq14_2열 결측치: 9\n",
      "aq15_2열 결측치: 0\n",
      "aq16_2열 결측치: 0\n",
      "aq17_2열 결측치: 0\n",
      "aq18_2열 결측치: 0\n",
      "aq19_2열 결측치: 0\n",
      "aq20_2열 결측치: 0\n",
      "aq21_2열 결측치: 0\n",
      "aq22_2열 결측치: 0\n",
      "aq23_2열 결측치: 0\n",
      "aq24_2열 결측치: 0\n",
      "aq25_2열 결측치: 0\n",
      "aq26_2열 결측치: 0\n",
      "aq27_2열 결측치: 6\n",
      "aq28_2열 결측치: 0\n",
      "aq29_2열 결측치: 0\n",
      "aq30_2열 결측치: 0\n",
      "aq31_2열 결측치: 0\n",
      "aq32_2열 결측치: 10\n",
      "aq33_2열 결측치: 0\n",
      "aq34_2열 결측치: 0\n",
      "aq35_2열 결측치: 0\n",
      "aq36_2열 결측치: 0\n",
      "aq37_2열 결측치: 0\n",
      "aq38_2열 결측치: 0\n",
      "aq39_2열 결측치: 0\n",
      "aq40_2열 결측치: 0\n",
      "aq41_2열 결측치: 5\n"
     ]
    }
   ],
   "source": [
    "for col in know_test[0].columns:\n",
    "    if re.findall('aq.*_1', col):\n",
    "        na_col = re.sub('_1', '_2', col)\n",
    "        know_test[0].loc[(know_test[0][col] == 1), na_col] = 0\n",
    "        print(f'{na_col}열 결측치: {know_test[0][na_col].isna().sum()}')"
   ]
  },
  {
   "cell_type": "code",
   "execution_count": 15,
   "id": "2be0e40c",
   "metadata": {},
   "outputs": [
    {
     "name": "stdout",
     "output_type": "stream",
     "text": [
      "train\n",
      "['aq11_2', 'aq14_2', 'aq27_2', 'aq32_2', 'aq41_2', 'bq4_1a', 'bq4_1b', 'bq4_1c', 'bq5_1', 'bq5_2', 'bq12_2', 'bq12_3', 'bq12_4', 'bq19_1', 'bq31', 'bq32', 'bq33', 'bq34', 'bq38_1', 'bq40', 'bq41_1', 'bq41_2', 'bq41_3']\n",
      "--------------------------------------------------\n",
      "test\n",
      "['aq11_2', 'aq14_2', 'aq27_2', 'aq32_2', 'aq41_2', 'bq4_1a', 'bq4_1b', 'bq4_1c', 'bq5_1', 'bq5_2', 'bq12_2', 'bq12_3', 'bq12_4', 'bq19_1', 'bq30', 'bq31', 'bq32', 'bq33', 'bq34', 'bq38_1', 'bq40', 'bq41_1', 'bq41_2', 'bq41_3']\n"
     ]
    }
   ],
   "source": [
    "print(f'train\\n{know_train[0].columns[know_train[0].isna().sum()>0].tolist()}')\n",
    "print('-'*50)\n",
    "print(f'test\\n{know_test[0].columns[know_test[0].isna().sum()>0].tolist()}')"
   ]
  },
  {
   "cell_type": "markdown",
   "id": "e4757393",
   "metadata": {},
   "source": [
    "## 'aq11_2', 'aq14_2', 'aq27_2', 'aq32_2', 'aq41_2'문항에 결측치가 여전히 존재함."
   ]
  },
  {
   "cell_type": "code",
   "execution_count": 16,
   "id": "643b43e1",
   "metadata": {},
   "outputs": [
    {
     "data": {
      "text/html": [
       "<div>\n",
       "<style scoped>\n",
       "    .dataframe tbody tr th:only-of-type {\n",
       "        vertical-align: middle;\n",
       "    }\n",
       "\n",
       "    .dataframe tbody tr th {\n",
       "        vertical-align: top;\n",
       "    }\n",
       "\n",
       "    .dataframe thead th {\n",
       "        text-align: right;\n",
       "    }\n",
       "</style>\n",
       "<table border=\"1\" class=\"dataframe\">\n",
       "  <thead>\n",
       "    <tr style=\"text-align: right;\">\n",
       "      <th></th>\n",
       "      <th>aq11_1</th>\n",
       "      <th>aq11_2</th>\n",
       "    </tr>\n",
       "    <tr>\n",
       "      <th>idx</th>\n",
       "      <th></th>\n",
       "      <th></th>\n",
       "    </tr>\n",
       "  </thead>\n",
       "  <tbody>\n",
       "    <tr>\n",
       "      <th>89</th>\n",
       "      <td>3</td>\n",
       "      <td>NaN</td>\n",
       "    </tr>\n",
       "    <tr>\n",
       "      <th>577</th>\n",
       "      <td>3</td>\n",
       "      <td>NaN</td>\n",
       "    </tr>\n",
       "    <tr>\n",
       "      <th>2422</th>\n",
       "      <td>3</td>\n",
       "      <td>NaN</td>\n",
       "    </tr>\n",
       "    <tr>\n",
       "      <th>4568</th>\n",
       "      <td>3</td>\n",
       "      <td>NaN</td>\n",
       "    </tr>\n",
       "  </tbody>\n",
       "</table>\n",
       "</div>"
      ],
      "text/plain": [
       "      aq11_1 aq11_2\n",
       "idx                \n",
       "89         3    NaN\n",
       "577        3    NaN\n",
       "2422       3    NaN\n",
       "4568       3    NaN"
      ]
     },
     "execution_count": 16,
     "metadata": {},
     "output_type": "execute_result"
    }
   ],
   "source": [
    "know_train[0].loc[know_train[0]['aq11_2'].isna(), ['aq11_1','aq11_2']]"
   ]
  },
  {
   "cell_type": "markdown",
   "id": "40147e33",
   "metadata": {},
   "source": [
    "* 모두 aq11_1에 3. '중요하다' 라고 답했으나 aq11_2 항목을 건너뜀..'ㅅ';; aq11_1=3을 선택한 사람들이 aq11_2를 어떻게 답했는지 확인"
   ]
  },
  {
   "cell_type": "code",
   "execution_count": 17,
   "id": "918354e6",
   "metadata": {},
   "outputs": [
    {
     "data": {
      "text/plain": [
       "4    1102\n",
       "3     591\n",
       "5     377\n",
       "2      86\n",
       "6      37\n",
       "1       8\n",
       "7       6\n",
       "Name: aq11_2, dtype: int64"
      ]
     },
     "execution_count": 17,
     "metadata": {},
     "output_type": "execute_result"
    }
   ],
   "source": [
    "know_train[0].loc[know_train[0]['aq11_1']==3, 'aq11_2'].value_counts()"
   ]
  },
  {
   "cell_type": "code",
   "execution_count": 18,
   "id": "0e070610",
   "metadata": {},
   "outputs": [
    {
     "data": {
      "text/plain": [
       "4.0"
      ]
     },
     "execution_count": 18,
     "metadata": {},
     "output_type": "execute_result"
    }
   ],
   "source": [
    "know_train[0].loc[(know_train[0]['aq11_1']==3)& (know_train[0]['aq11_2'].isna()==False), 'aq11_2'].astype(int).median()"
   ]
  },
  {
   "cell_type": "code",
   "execution_count": 19,
   "id": "1bb9e0c1",
   "metadata": {},
   "outputs": [],
   "source": [
    "know_train[0].loc[89, 'aq11_2'] = know_train[0].loc[(know_train[0]['aq11_1']==3) & (know_train[0]['aq11_2'].isna()==False), 'aq11_2'].astype(int).median()"
   ]
  },
  {
   "cell_type": "markdown",
   "id": "b1537a7c",
   "metadata": {},
   "source": [
    "중앙값으로 결측치를 채움"
   ]
  },
  {
   "cell_type": "markdown",
   "id": "c85edf76",
   "metadata": {},
   "source": [
    "## 다른 열들도 동일한 방법으로 결측치 채우기"
   ]
  },
  {
   "cell_type": "code",
   "execution_count": 20,
   "id": "cfc5af2c",
   "metadata": {},
   "outputs": [
    {
     "name": "stdout",
     "output_type": "stream",
     "text": [
      "577행 aq11_2열의 결측치를 aq11_1에 같은 응답(=3)을 한 사람들의 중앙값 4.0으로 대체합니다.\n",
      "2422행 aq11_2열의 결측치를 aq11_1에 같은 응답(=3)을 한 사람들의 중앙값 4.0으로 대체합니다.\n",
      "4568행 aq11_2열의 결측치를 aq11_1에 같은 응답(=3)을 한 사람들의 중앙값 4.0으로 대체합니다.\n",
      "3137행 aq14_2열의 결측치를 aq14_1에 같은 응답(=4)을 한 사람들의 중앙값 5.0으로 대체합니다.\n",
      "4564행 aq14_2열의 결측치를 aq14_1에 같은 응답(=4)을 한 사람들의 중앙값 5.0으로 대체합니다.\n",
      "6539행 aq14_2열의 결측치를 aq14_1에 같은 응답(=3)을 한 사람들의 중앙값 4.0으로 대체합니다.\n",
      "715행 aq27_2열의 결측치를 aq27_1에 같은 응답(=3)을 한 사람들의 중앙값 4.0으로 대체합니다.\n",
      "792행 aq27_2열의 결측치를 aq27_1에 같은 응답(=3)을 한 사람들의 중앙값 4.0으로 대체합니다.\n",
      "3960행 aq27_2열의 결측치를 aq27_1에 같은 응답(=3)을 한 사람들의 중앙값 4.0으로 대체합니다.\n",
      "4060행 aq27_2열의 결측치를 aq27_1에 같은 응답(=3)을 한 사람들의 중앙값 4.0으로 대체합니다.\n",
      "5388행 aq27_2열의 결측치를 aq27_1에 같은 응답(=3)을 한 사람들의 중앙값 4.0으로 대체합니다.\n",
      "6383행 aq27_2열의 결측치를 aq27_1에 같은 응답(=4)을 한 사람들의 중앙값 5.0으로 대체합니다.\n",
      "9449행 aq27_2열의 결측치를 aq27_1에 같은 응답(=3)을 한 사람들의 중앙값 4.0으로 대체합니다.\n",
      "1458행 aq32_2열의 결측치를 aq32_1에 같은 응답(=3)을 한 사람들의 중앙값 4.0으로 대체합니다.\n",
      "2680행 aq32_2열의 결측치를 aq32_1에 같은 응답(=3)을 한 사람들의 중앙값 4.0으로 대체합니다.\n",
      "3523행 aq32_2열의 결측치를 aq32_1에 같은 응답(=3)을 한 사람들의 중앙값 4.0으로 대체합니다.\n",
      "3656행 aq32_2열의 결측치를 aq32_1에 같은 응답(=3)을 한 사람들의 중앙값 4.0으로 대체합니다.\n",
      "5301행 aq32_2열의 결측치를 aq32_1에 같은 응답(=3)을 한 사람들의 중앙값 4.0으로 대체합니다.\n",
      "6368행 aq32_2열의 결측치를 aq32_1에 같은 응답(=3)을 한 사람들의 중앙값 4.0으로 대체합니다.\n",
      "6711행 aq32_2열의 결측치를 aq32_1에 같은 응답(=3)을 한 사람들의 중앙값 4.0으로 대체합니다.\n",
      "6864행 aq32_2열의 결측치를 aq32_1에 같은 응답(=3)을 한 사람들의 중앙값 4.0으로 대체합니다.\n",
      "7435행 aq32_2열의 결측치를 aq32_1에 같은 응답(=3)을 한 사람들의 중앙값 4.0으로 대체합니다.\n",
      "9316행 aq32_2열의 결측치를 aq32_1에 같은 응답(=3)을 한 사람들의 중앙값 4.0으로 대체합니다.\n",
      "9319행 aq32_2열의 결측치를 aq32_1에 같은 응답(=3)을 한 사람들의 중앙값 4.0으로 대체합니다.\n",
      "1798행 aq41_2열의 결측치를 aq41_1에 같은 응답(=3)을 한 사람들의 중앙값 4.0으로 대체합니다.\n",
      "6894행 aq41_2열의 결측치를 aq41_1에 같은 응답(=3)을 한 사람들의 중앙값 4.0으로 대체합니다.\n",
      "7118행 aq41_2열의 결측치를 aq41_1에 같은 응답(=3)을 한 사람들의 중앙값 4.0으로 대체합니다.\n",
      "8289행 aq41_2열의 결측치를 aq41_1에 같은 응답(=3)을 한 사람들의 중앙값 4.0으로 대체합니다.\n"
     ]
    }
   ],
   "source": [
    "na_cols = ['aq11_2', 'aq14_2', 'aq27_2', 'aq32_2', 'aq41_2']\n",
    "for col in na_cols:\n",
    "    na_indexs = know_train[0][know_train[0][col].isna()].index.tolist()\n",
    "    for index in na_indexs:\n",
    "        forward_col = re.sub('_2', '_1', col)\n",
    "        \n",
    "        # _1에 한 응답\n",
    "        val_1 = know_train[0].iloc[index][forward_col]\n",
    "        \n",
    "        # 같은 응답한 사람들의 _2 중앙값\n",
    "        val_2 = know_train[0].loc[(know_train[0][forward_col]==val_1)& (know_train[0][col].isna()==False), col].astype(int).median()\n",
    "        \n",
    "        know_train[0].loc[index, col] = val_2\n",
    "        print(f'{index}행 {col}열의 결측치를 {forward_col}에 같은 응답(={val_1})을 한 사람들의 중앙값 {val_2}으로 대체합니다.')"
   ]
  },
  {
   "cell_type": "code",
   "execution_count": 22,
   "id": "600624e0",
   "metadata": {},
   "outputs": [
    {
     "name": "stdout",
     "output_type": "stream",
     "text": [
      "4319행 aq11_2열의 결측치를 aq11_1에 같은 응답(=3)을 한 사람들의 중앙값 4.0으로 대체합니다.\n",
      "5290행 aq11_2열의 결측치를 aq11_1에 같은 응답(=3)을 한 사람들의 중앙값 4.0으로 대체합니다.\n",
      "5960행 aq11_2열의 결측치를 aq11_1에 같은 응답(=3)을 한 사람들의 중앙값 4.0으로 대체합니다.\n",
      "6775행 aq11_2열의 결측치를 aq11_1에 같은 응답(=3)을 한 사람들의 중앙값 4.0으로 대체합니다.\n",
      "6877행 aq11_2열의 결측치를 aq11_1에 같은 응답(=3)을 한 사람들의 중앙값 4.0으로 대체합니다.\n",
      "7350행 aq11_2열의 결측치를 aq11_1에 같은 응답(=3)을 한 사람들의 중앙값 4.0으로 대체합니다.\n",
      "723행 aq14_2열의 결측치를 aq14_1에 같은 응답(=3)을 한 사람들의 중앙값 4.0으로 대체합니다.\n",
      "1234행 aq14_2열의 결측치를 aq14_1에 같은 응답(=3)을 한 사람들의 중앙값 4.0으로 대체합니다.\n",
      "1452행 aq14_2열의 결측치를 aq14_1에 같은 응답(=3)을 한 사람들의 중앙값 4.0으로 대체합니다.\n",
      "2026행 aq14_2열의 결측치를 aq14_1에 같은 응답(=3)을 한 사람들의 중앙값 4.0으로 대체합니다.\n",
      "3083행 aq14_2열의 결측치를 aq14_1에 같은 응답(=3)을 한 사람들의 중앙값 4.0으로 대체합니다.\n",
      "5078행 aq14_2열의 결측치를 aq14_1에 같은 응답(=4)을 한 사람들의 중앙값 5.0으로 대체합니다.\n",
      "6270행 aq14_2열의 결측치를 aq14_1에 같은 응답(=3)을 한 사람들의 중앙값 4.0으로 대체합니다.\n",
      "7139행 aq14_2열의 결측치를 aq14_1에 같은 응답(=3)을 한 사람들의 중앙값 4.0으로 대체합니다.\n",
      "7320행 aq14_2열의 결측치를 aq14_1에 같은 응답(=3)을 한 사람들의 중앙값 4.0으로 대체합니다.\n",
      "2302행 aq27_2열의 결측치를 aq27_1에 같은 응답(=3)을 한 사람들의 중앙값 4.0으로 대체합니다.\n",
      "2479행 aq27_2열의 결측치를 aq27_1에 같은 응답(=3)을 한 사람들의 중앙값 4.0으로 대체합니다.\n",
      "2667행 aq27_2열의 결측치를 aq27_1에 같은 응답(=3)을 한 사람들의 중앙값 4.0으로 대체합니다.\n",
      "3334행 aq27_2열의 결측치를 aq27_1에 같은 응답(=4)을 한 사람들의 중앙값 5.0으로 대체합니다.\n",
      "6279행 aq27_2열의 결측치를 aq27_1에 같은 응답(=3)을 한 사람들의 중앙값 4.0으로 대체합니다.\n",
      "8052행 aq27_2열의 결측치를 aq27_1에 같은 응답(=3)을 한 사람들의 중앙값 4.0으로 대체합니다.\n",
      "1362행 aq32_2열의 결측치를 aq32_1에 같은 응답(=3)을 한 사람들의 중앙값 4.0으로 대체합니다.\n",
      "1651행 aq32_2열의 결측치를 aq32_1에 같은 응답(=3)을 한 사람들의 중앙값 4.0으로 대체합니다.\n",
      "2854행 aq32_2열의 결측치를 aq32_1에 같은 응답(=3)을 한 사람들의 중앙값 4.0으로 대체합니다.\n",
      "3194행 aq32_2열의 결측치를 aq32_1에 같은 응답(=3)을 한 사람들의 중앙값 4.0으로 대체합니다.\n",
      "3216행 aq32_2열의 결측치를 aq32_1에 같은 응답(=3)을 한 사람들의 중앙값 4.0으로 대체합니다.\n",
      "3280행 aq32_2열의 결측치를 aq32_1에 같은 응답(=3)을 한 사람들의 중앙값 4.0으로 대체합니다.\n",
      "7749행 aq32_2열의 결측치를 aq32_1에 같은 응답(=33)을 한 사람들의 중앙값 nan으로 대체합니다.\n",
      "8775행 aq32_2열의 결측치를 aq32_1에 같은 응답(=3)을 한 사람들의 중앙값 4.0으로 대체합니다.\n",
      "8811행 aq32_2열의 결측치를 aq32_1에 같은 응답(=3)을 한 사람들의 중앙값 4.0으로 대체합니다.\n",
      "8853행 aq32_2열의 결측치를 aq32_1에 같은 응답(=3)을 한 사람들의 중앙값 4.0으로 대체합니다.\n",
      "1284행 aq41_2열의 결측치를 aq41_1에 같은 응답(=3)을 한 사람들의 중앙값 4.0으로 대체합니다.\n",
      "3460행 aq41_2열의 결측치를 aq41_1에 같은 응답(=3)을 한 사람들의 중앙값 4.0으로 대체합니다.\n",
      "5419행 aq41_2열의 결측치를 aq41_1에 같은 응답(=3)을 한 사람들의 중앙값 4.0으로 대체합니다.\n",
      "6893행 aq41_2열의 결측치를 aq41_1에 같은 응답(=3)을 한 사람들의 중앙값 4.0으로 대체합니다.\n",
      "8305행 aq41_2열의 결측치를 aq41_1에 같은 응답(=3)을 한 사람들의 중앙값 4.0으로 대체합니다.\n"
     ]
    }
   ],
   "source": [
    "na_cols = ['aq11_2', 'aq14_2', 'aq27_2', 'aq32_2', 'aq41_2']\n",
    "for col in na_cols:\n",
    "    na_indexs = know_test[0][know_test[0][col].isna()].index.tolist()\n",
    "    for index in na_indexs:\n",
    "        forward_col = re.sub('_2', '_1', col)\n",
    "        \n",
    "        # _1에 같은 응답\n",
    "        val_1 = know_test[0].iloc[index][forward_col]\n",
    "        \n",
    "        # 같은 응답한 사람들의 _2 중앙값\n",
    "        val_2 = know_test[0].loc[(know_test[0][forward_col]==val_1)& (know_test[0][col].isna()==False), col].astype(int).median()\n",
    "        \n",
    "        know_test[0].loc[index, col] = val_2\n",
    "        print(f'{index}행 {col}열의 결측치를 {forward_col}에 같은 응답(={val_1})을 한 사람들의 중앙값 {val_2}으로 대체합니다.')"
   ]
  },
  {
   "cell_type": "markdown",
   "id": "7321fc9b",
   "metadata": {},
   "source": [
    "## 7749행 aq32_2열의 결측치를 aq32_1에 같은 응답(=33)을 한 사람들의 중앙값 nan으로 대체합니다.\n",
    "* 33..?"
   ]
  },
  {
   "cell_type": "code",
   "execution_count": 23,
   "id": "ac3d7b7a",
   "metadata": {},
   "outputs": [
    {
     "data": {
      "text/plain": [
       "33"
      ]
     },
     "execution_count": 23,
     "metadata": {},
     "output_type": "execute_result"
    }
   ],
   "source": [
    "know_test[0].iloc[7749]['aq32_1']"
   ]
  },
  {
   "cell_type": "code",
   "execution_count": 24,
   "id": "47f69ef4",
   "metadata": {},
   "outputs": [],
   "source": [
    "know_test[0].loc[7749,'aq32_1'] = 3"
   ]
  },
  {
   "cell_type": "code",
   "execution_count": 25,
   "id": "1b21ea7d",
   "metadata": {},
   "outputs": [],
   "source": [
    "know_test[0].loc[7749,'aq32_2'] = know_test[0].loc[(know_test[0]['aq32_1']==3) & (know_test[0]['aq32_2'].isna()==False), 'aq32_2'].astype(int).median()"
   ]
  },
  {
   "cell_type": "code",
   "execution_count": 26,
   "id": "bd515b18",
   "metadata": {},
   "outputs": [
    {
     "data": {
      "text/plain": [
       "4.0"
      ]
     },
     "execution_count": 26,
     "metadata": {},
     "output_type": "execute_result"
    }
   ],
   "source": [
    "know_test[0].loc[7749,'aq32_2']"
   ]
  },
  {
   "cell_type": "markdown",
   "id": "77a82cdd",
   "metadata": {},
   "source": [
    "# 이상치 확인\n",
    "## 값의 범위\n",
    "* aq*_1 : 1~5\n",
    "* aq*_2 : 1~7"
   ]
  },
  {
   "cell_type": "code",
   "execution_count": 27,
   "id": "ca1b252b",
   "metadata": {},
   "outputs": [
    {
     "name": "stdout",
     "output_type": "stream",
     "text": [
      "[3985]행 aq41_1열에 이상치 존재\n"
     ]
    }
   ],
   "source": [
    "for col in know_train[0].columns:\n",
    "    if re.findall('aq.*_1', col):\n",
    "        outofval = know_train[0].loc[know_train[0][col].astype(int)>5,col].index.tolist()\n",
    "        if outofval:\n",
    "            print(f'{outofval}행 {col}열에 이상치 존재')\n",
    "    elif re.findall('aq.*_2', col):\n",
    "        outofval = know_train[0].loc[know_train[0][col].astype(int)>7,col].index.tolist()\n",
    "        if outofval:\n",
    "            print(f'{outofval}행 {col}열에 이상치 존재')"
   ]
  },
  {
   "cell_type": "code",
   "execution_count": 28,
   "id": "a9a92c27",
   "metadata": {},
   "outputs": [
    {
     "data": {
      "text/plain": [
       "33"
      ]
     },
     "execution_count": 28,
     "metadata": {},
     "output_type": "execute_result"
    }
   ],
   "source": [
    "know_train[0].loc[3985, 'aq41_1']"
   ]
  },
  {
   "cell_type": "code",
   "execution_count": 29,
   "id": "dd535e29",
   "metadata": {},
   "outputs": [],
   "source": [
    "know_train[0].loc[3985, 'aq41_1'] = 3"
   ]
  },
  {
   "cell_type": "code",
   "execution_count": 30,
   "id": "6cf8fa69",
   "metadata": {},
   "outputs": [],
   "source": [
    "for col in know_test[0].columns:\n",
    "    if re.findall('aq.*_1', col):\n",
    "        outofval = know_test[0].loc[know_test[0][col].astype(int)>5,col].index.tolist()\n",
    "        if outofval:\n",
    "            print(f'{outofval}행 {col}열에 이상치 존재')\n",
    "    elif re.findall('aq.*_2', col):\n",
    "        outofval = know_test[0].loc[know_test[0][col].astype(int)>7,col].index.tolist()\n",
    "        if outofval:\n",
    "            print(f'{outofval}행 {col}열에 이상치 존재')"
   ]
  },
  {
   "cell_type": "markdown",
   "id": "fc13eff4",
   "metadata": {},
   "source": [
    "* 나중에 다시 할때는 이상치 먼저 변경\n",
    "* know_test[0].loc[7749,'aq32_1'] = 3\n",
    "* know_train[0].loc[3985, 'aq41_1'] = 3\n"
   ]
  },
  {
   "cell_type": "markdown",
   "id": "d1b77f9c",
   "metadata": {},
   "source": [
    "## 결측치 재확인"
   ]
  },
  {
   "cell_type": "code",
   "execution_count": 35,
   "id": "ea1772c8",
   "metadata": {},
   "outputs": [
    {
     "name": "stdout",
     "output_type": "stream",
     "text": [
      "train\n",
      "['bq4_1b', 'bq4_1c', 'bq5_1', 'bq5_2', 'bq12_2', 'bq12_3', 'bq12_4', 'bq19_1', 'bq31', 'bq32', 'bq33', 'bq34', 'bq38_1', 'bq40', 'bq41_1', 'bq41_2', 'bq41_3']\n",
      "--------------------------------------------------\n",
      "test\n",
      "['bq4_1a', 'bq4_1b', 'bq4_1c', 'bq5_1', 'bq5_2', 'bq12_2', 'bq12_3', 'bq12_4', 'bq19_1', 'bq30', 'bq31', 'bq32', 'bq33', 'bq34', 'bq38_1', 'bq40', 'bq41_1', 'bq41_2', 'bq41_3']\n"
     ]
    }
   ],
   "source": [
    "print(f'train\\n{know_train[0].columns[know_train[0].isna().sum()>0].tolist()}')\n",
    "print('-'*50)\n",
    "print(f'test\\n{know_test[0].columns[know_test[0].isna().sum()>0].tolist()}')"
   ]
  },
  {
   "cell_type": "markdown",
   "id": "838b7940",
   "metadata": {},
   "source": [
    "# bq 문항 이상치 확인\n",
    "* bq1 : 1~21\n",
    "* bq2, bq3, bq22: 1~6\n",
    "* bq6, bq7: 1~7\n",
    "* bq8_1 ~ bq19, bq21, bq25 ~ 29: 1 ~ 5\n",
    "* bq19_1 : 텍스트\n",
    "* bq20 :1~4\n",
    "* bq23 : 기술적 변화요인으로 인한 업무 대체 비율, float 1~100\n",
    "* bq24_1 ~ 8 : 1 ~ 2\n",
    "* bq30 ~ 34: 텍스트\n",
    "* bq36: 성별 1.남 2.여\n",
    "* bq37: 나이\n",
    "* bq38: 학력\n",
    "    * bq38_1: 학과 텍스트\n",
    "* bq39_1: 고용형태, 1~4 선택시 bq40\n",
    "* bq39_2: 5~7 선택시 bq41_3\n",
    "* bq40: 1.정규직 2비정규직\n",
    "* bq41_1~3 : 소득"
   ]
  },
  {
   "cell_type": "markdown",
   "id": "63d83460",
   "metadata": {},
   "source": [
    "# bq4\n",
    "* bq4_1a : 업무에서 요구되는 자격증. bq4==1일때만, 텍스트 데이터\n",
    "* bq4_1b : 업무에서 요구되는 자격증. bq4==1일때만, 텍스트 데이터\n",
    "* bq4_1c : 업무에서 요구되는 자격증. bq4==1일때만, 텍스트 데이터\n",
    "### bq4=2라고 대답할 경우 a,b,c 미응답"
   ]
  },
  {
   "cell_type": "code",
   "execution_count": 31,
   "id": "4349c47b",
   "metadata": {},
   "outputs": [
    {
     "data": {
      "text/html": [
       "<div>\n",
       "<style scoped>\n",
       "    .dataframe tbody tr th:only-of-type {\n",
       "        vertical-align: middle;\n",
       "    }\n",
       "\n",
       "    .dataframe tbody tr th {\n",
       "        vertical-align: top;\n",
       "    }\n",
       "\n",
       "    .dataframe thead th {\n",
       "        text-align: right;\n",
       "    }\n",
       "</style>\n",
       "<table border=\"1\" class=\"dataframe\">\n",
       "  <thead>\n",
       "    <tr style=\"text-align: right;\">\n",
       "      <th></th>\n",
       "      <th>bq4</th>\n",
       "      <th>bq4_1a</th>\n",
       "      <th>bq4_1b</th>\n",
       "      <th>bq4_1c</th>\n",
       "    </tr>\n",
       "    <tr>\n",
       "      <th>idx</th>\n",
       "      <th></th>\n",
       "      <th></th>\n",
       "      <th></th>\n",
       "      <th></th>\n",
       "    </tr>\n",
       "  </thead>\n",
       "  <tbody>\n",
       "    <tr>\n",
       "      <th>0</th>\n",
       "      <td>1</td>\n",
       "      <td>자동차도장기능사</td>\n",
       "      <td>NaN</td>\n",
       "      <td>NaN</td>\n",
       "    </tr>\n",
       "    <tr>\n",
       "      <th>1</th>\n",
       "      <td>1</td>\n",
       "      <td>건축전기설비기술사</td>\n",
       "      <td>NaN</td>\n",
       "      <td>NaN</td>\n",
       "    </tr>\n",
       "    <tr>\n",
       "      <th>2</th>\n",
       "      <td>1</td>\n",
       "      <td>건축전기설비기술사</td>\n",
       "      <td>NaN</td>\n",
       "      <td>NaN</td>\n",
       "    </tr>\n",
       "    <tr>\n",
       "      <th>3</th>\n",
       "      <td>1</td>\n",
       "      <td>지적기사</td>\n",
       "      <td>NaN</td>\n",
       "      <td>NaN</td>\n",
       "    </tr>\n",
       "    <tr>\n",
       "      <th>4</th>\n",
       "      <td>1</td>\n",
       "      <td>건축전기설비기술사</td>\n",
       "      <td>NaN</td>\n",
       "      <td>NaN</td>\n",
       "    </tr>\n",
       "    <tr>\n",
       "      <th>...</th>\n",
       "      <td>...</td>\n",
       "      <td>...</td>\n",
       "      <td>...</td>\n",
       "      <td>...</td>\n",
       "    </tr>\n",
       "    <tr>\n",
       "      <th>9481</th>\n",
       "      <td>2</td>\n",
       "      <td>NaN</td>\n",
       "      <td>NaN</td>\n",
       "      <td>NaN</td>\n",
       "    </tr>\n",
       "    <tr>\n",
       "      <th>9482</th>\n",
       "      <td>2</td>\n",
       "      <td>NaN</td>\n",
       "      <td>NaN</td>\n",
       "      <td>NaN</td>\n",
       "    </tr>\n",
       "    <tr>\n",
       "      <th>9483</th>\n",
       "      <td>2</td>\n",
       "      <td>NaN</td>\n",
       "      <td>NaN</td>\n",
       "      <td>NaN</td>\n",
       "    </tr>\n",
       "    <tr>\n",
       "      <th>9484</th>\n",
       "      <td>2</td>\n",
       "      <td>NaN</td>\n",
       "      <td>NaN</td>\n",
       "      <td>NaN</td>\n",
       "    </tr>\n",
       "    <tr>\n",
       "      <th>9485</th>\n",
       "      <td>2</td>\n",
       "      <td>NaN</td>\n",
       "      <td>NaN</td>\n",
       "      <td>NaN</td>\n",
       "    </tr>\n",
       "  </tbody>\n",
       "</table>\n",
       "<p>9486 rows × 4 columns</p>\n",
       "</div>"
      ],
      "text/plain": [
       "      bq4     bq4_1a bq4_1b bq4_1c\n",
       "idx                               \n",
       "0       1   자동차도장기능사    NaN    NaN\n",
       "1       1  건축전기설비기술사    NaN    NaN\n",
       "2       1  건축전기설비기술사    NaN    NaN\n",
       "3       1       지적기사    NaN    NaN\n",
       "4       1  건축전기설비기술사    NaN    NaN\n",
       "...   ...        ...    ...    ...\n",
       "9481    2        NaN    NaN    NaN\n",
       "9482    2        NaN    NaN    NaN\n",
       "9483    2        NaN    NaN    NaN\n",
       "9484    2        NaN    NaN    NaN\n",
       "9485    2        NaN    NaN    NaN\n",
       "\n",
       "[9486 rows x 4 columns]"
      ]
     },
     "execution_count": 31,
     "metadata": {},
     "output_type": "execute_result"
    }
   ],
   "source": [
    "know_train[0][['bq4','bq4_1a','bq4_1b','bq4_1c']]"
   ]
  },
  {
   "cell_type": "code",
   "execution_count": 32,
   "id": "a94c9b83",
   "metadata": {},
   "outputs": [],
   "source": [
    "know_train[0].loc[know_train[0].bq4==2, ['bq4_1a','bq4_1b','bq4_1c']]= '없음'"
   ]
  },
  {
   "cell_type": "code",
   "execution_count": 33,
   "id": "e14f8732",
   "metadata": {},
   "outputs": [
    {
     "data": {
      "text/html": [
       "<div>\n",
       "<style scoped>\n",
       "    .dataframe tbody tr th:only-of-type {\n",
       "        vertical-align: middle;\n",
       "    }\n",
       "\n",
       "    .dataframe tbody tr th {\n",
       "        vertical-align: top;\n",
       "    }\n",
       "\n",
       "    .dataframe thead th {\n",
       "        text-align: right;\n",
       "    }\n",
       "</style>\n",
       "<table border=\"1\" class=\"dataframe\">\n",
       "  <thead>\n",
       "    <tr style=\"text-align: right;\">\n",
       "      <th></th>\n",
       "      <th>bq4</th>\n",
       "      <th>bq4_1a</th>\n",
       "      <th>bq4_1b</th>\n",
       "      <th>bq4_1c</th>\n",
       "    </tr>\n",
       "    <tr>\n",
       "      <th>idx</th>\n",
       "      <th></th>\n",
       "      <th></th>\n",
       "      <th></th>\n",
       "      <th></th>\n",
       "    </tr>\n",
       "  </thead>\n",
       "  <tbody>\n",
       "    <tr>\n",
       "      <th>0</th>\n",
       "      <td>1</td>\n",
       "      <td>자동차도장기능사</td>\n",
       "      <td>NaN</td>\n",
       "      <td>NaN</td>\n",
       "    </tr>\n",
       "    <tr>\n",
       "      <th>1</th>\n",
       "      <td>1</td>\n",
       "      <td>건축전기설비기술사</td>\n",
       "      <td>NaN</td>\n",
       "      <td>NaN</td>\n",
       "    </tr>\n",
       "    <tr>\n",
       "      <th>2</th>\n",
       "      <td>1</td>\n",
       "      <td>건축전기설비기술사</td>\n",
       "      <td>NaN</td>\n",
       "      <td>NaN</td>\n",
       "    </tr>\n",
       "    <tr>\n",
       "      <th>3</th>\n",
       "      <td>1</td>\n",
       "      <td>지적기사</td>\n",
       "      <td>NaN</td>\n",
       "      <td>NaN</td>\n",
       "    </tr>\n",
       "    <tr>\n",
       "      <th>4</th>\n",
       "      <td>1</td>\n",
       "      <td>건축전기설비기술사</td>\n",
       "      <td>NaN</td>\n",
       "      <td>NaN</td>\n",
       "    </tr>\n",
       "    <tr>\n",
       "      <th>...</th>\n",
       "      <td>...</td>\n",
       "      <td>...</td>\n",
       "      <td>...</td>\n",
       "      <td>...</td>\n",
       "    </tr>\n",
       "    <tr>\n",
       "      <th>9481</th>\n",
       "      <td>2</td>\n",
       "      <td>없음</td>\n",
       "      <td>없음</td>\n",
       "      <td>없음</td>\n",
       "    </tr>\n",
       "    <tr>\n",
       "      <th>9482</th>\n",
       "      <td>2</td>\n",
       "      <td>없음</td>\n",
       "      <td>없음</td>\n",
       "      <td>없음</td>\n",
       "    </tr>\n",
       "    <tr>\n",
       "      <th>9483</th>\n",
       "      <td>2</td>\n",
       "      <td>없음</td>\n",
       "      <td>없음</td>\n",
       "      <td>없음</td>\n",
       "    </tr>\n",
       "    <tr>\n",
       "      <th>9484</th>\n",
       "      <td>2</td>\n",
       "      <td>없음</td>\n",
       "      <td>없음</td>\n",
       "      <td>없음</td>\n",
       "    </tr>\n",
       "    <tr>\n",
       "      <th>9485</th>\n",
       "      <td>2</td>\n",
       "      <td>없음</td>\n",
       "      <td>없음</td>\n",
       "      <td>없음</td>\n",
       "    </tr>\n",
       "  </tbody>\n",
       "</table>\n",
       "<p>9486 rows × 4 columns</p>\n",
       "</div>"
      ],
      "text/plain": [
       "      bq4     bq4_1a bq4_1b bq4_1c\n",
       "idx                               \n",
       "0       1   자동차도장기능사    NaN    NaN\n",
       "1       1  건축전기설비기술사    NaN    NaN\n",
       "2       1  건축전기설비기술사    NaN    NaN\n",
       "3       1       지적기사    NaN    NaN\n",
       "4       1  건축전기설비기술사    NaN    NaN\n",
       "...   ...        ...    ...    ...\n",
       "9481    2         없음     없음     없음\n",
       "9482    2         없음     없음     없음\n",
       "9483    2         없음     없음     없음\n",
       "9484    2         없음     없음     없음\n",
       "9485    2         없음     없음     없음\n",
       "\n",
       "[9486 rows x 4 columns]"
      ]
     },
     "execution_count": 33,
     "metadata": {},
     "output_type": "execute_result"
    }
   ],
   "source": [
    "know_train[0][['bq4','bq4_1a','bq4_1b','bq4_1c']]"
   ]
  },
  {
   "cell_type": "code",
   "execution_count": 34,
   "id": "77d44a85",
   "metadata": {},
   "outputs": [
    {
     "data": {
      "text/html": [
       "<div>\n",
       "<style scoped>\n",
       "    .dataframe tbody tr th:only-of-type {\n",
       "        vertical-align: middle;\n",
       "    }\n",
       "\n",
       "    .dataframe tbody tr th {\n",
       "        vertical-align: top;\n",
       "    }\n",
       "\n",
       "    .dataframe thead th {\n",
       "        text-align: right;\n",
       "    }\n",
       "</style>\n",
       "<table border=\"1\" class=\"dataframe\">\n",
       "  <thead>\n",
       "    <tr style=\"text-align: right;\">\n",
       "      <th></th>\n",
       "      <th>bq4_1b</th>\n",
       "      <th>bq4_1c</th>\n",
       "    </tr>\n",
       "    <tr>\n",
       "      <th>idx</th>\n",
       "      <th></th>\n",
       "      <th></th>\n",
       "    </tr>\n",
       "  </thead>\n",
       "  <tbody>\n",
       "    <tr>\n",
       "      <th>0</th>\n",
       "      <td>없음</td>\n",
       "      <td>없음</td>\n",
       "    </tr>\n",
       "    <tr>\n",
       "      <th>1</th>\n",
       "      <td>없음</td>\n",
       "      <td>없음</td>\n",
       "    </tr>\n",
       "    <tr>\n",
       "      <th>2</th>\n",
       "      <td>없음</td>\n",
       "      <td>없음</td>\n",
       "    </tr>\n",
       "    <tr>\n",
       "      <th>3</th>\n",
       "      <td>없음</td>\n",
       "      <td>없음</td>\n",
       "    </tr>\n",
       "    <tr>\n",
       "      <th>4</th>\n",
       "      <td>없음</td>\n",
       "      <td>없음</td>\n",
       "    </tr>\n",
       "    <tr>\n",
       "      <th>...</th>\n",
       "      <td>...</td>\n",
       "      <td>...</td>\n",
       "    </tr>\n",
       "    <tr>\n",
       "      <th>9470</th>\n",
       "      <td>없음</td>\n",
       "      <td>없음</td>\n",
       "    </tr>\n",
       "    <tr>\n",
       "      <th>9472</th>\n",
       "      <td>제빵기능사</td>\n",
       "      <td>없음</td>\n",
       "    </tr>\n",
       "    <tr>\n",
       "      <th>9473</th>\n",
       "      <td>변액보험판매관리사</td>\n",
       "      <td>없음</td>\n",
       "    </tr>\n",
       "    <tr>\n",
       "      <th>9476</th>\n",
       "      <td>없음</td>\n",
       "      <td>없음</td>\n",
       "    </tr>\n",
       "    <tr>\n",
       "      <th>9478</th>\n",
       "      <td>없음</td>\n",
       "      <td>없음</td>\n",
       "    </tr>\n",
       "  </tbody>\n",
       "</table>\n",
       "<p>4100 rows × 2 columns</p>\n",
       "</div>"
      ],
      "text/plain": [
       "         bq4_1b bq4_1c\n",
       "idx                   \n",
       "0            없음     없음\n",
       "1            없음     없음\n",
       "2            없음     없음\n",
       "3            없음     없음\n",
       "4            없음     없음\n",
       "...         ...    ...\n",
       "9470         없음     없음\n",
       "9472      제빵기능사     없음\n",
       "9473  변액보험판매관리사     없음\n",
       "9476         없음     없음\n",
       "9478         없음     없음\n",
       "\n",
       "[4100 rows x 2 columns]"
      ]
     },
     "execution_count": 34,
     "metadata": {},
     "output_type": "execute_result"
    }
   ],
   "source": [
    "know_train[0].loc[know_train[0].bq4==1, ['bq4_1b','bq4_1c']].fillna('없음')"
   ]
  },
  {
   "cell_type": "code",
   "execution_count": 87,
   "id": "6d355e5e",
   "metadata": {},
   "outputs": [
    {
     "data": {
      "text/html": [
       "<div>\n",
       "<style scoped>\n",
       "    .dataframe tbody tr th:only-of-type {\n",
       "        vertical-align: middle;\n",
       "    }\n",
       "\n",
       "    .dataframe tbody tr th {\n",
       "        vertical-align: top;\n",
       "    }\n",
       "\n",
       "    .dataframe thead th {\n",
       "        text-align: right;\n",
       "    }\n",
       "</style>\n",
       "<table border=\"1\" class=\"dataframe\">\n",
       "  <thead>\n",
       "    <tr style=\"text-align: right;\">\n",
       "      <th></th>\n",
       "      <th>bq4</th>\n",
       "      <th>bq4_1a</th>\n",
       "      <th>bq4_1b</th>\n",
       "      <th>bq4_1c</th>\n",
       "    </tr>\n",
       "    <tr>\n",
       "      <th>idx</th>\n",
       "      <th></th>\n",
       "      <th></th>\n",
       "      <th></th>\n",
       "      <th></th>\n",
       "    </tr>\n",
       "  </thead>\n",
       "  <tbody>\n",
       "    <tr>\n",
       "      <th>0</th>\n",
       "      <td>2</td>\n",
       "      <td>NaN</td>\n",
       "      <td>NaN</td>\n",
       "      <td>NaN</td>\n",
       "    </tr>\n",
       "    <tr>\n",
       "      <th>1</th>\n",
       "      <td>1</td>\n",
       "      <td>품질관리기사</td>\n",
       "      <td>NaN</td>\n",
       "      <td>NaN</td>\n",
       "    </tr>\n",
       "    <tr>\n",
       "      <th>2</th>\n",
       "      <td>2</td>\n",
       "      <td>NaN</td>\n",
       "      <td>NaN</td>\n",
       "      <td>NaN</td>\n",
       "    </tr>\n",
       "    <tr>\n",
       "      <th>3</th>\n",
       "      <td>2</td>\n",
       "      <td>NaN</td>\n",
       "      <td>NaN</td>\n",
       "      <td>NaN</td>\n",
       "    </tr>\n",
       "    <tr>\n",
       "      <th>4</th>\n",
       "      <td>2</td>\n",
       "      <td>NaN</td>\n",
       "      <td>NaN</td>\n",
       "      <td>NaN</td>\n",
       "    </tr>\n",
       "    <tr>\n",
       "      <th>...</th>\n",
       "      <td>...</td>\n",
       "      <td>...</td>\n",
       "      <td>...</td>\n",
       "      <td>...</td>\n",
       "    </tr>\n",
       "    <tr>\n",
       "      <th>9481</th>\n",
       "      <td>1</td>\n",
       "      <td>굴삭기 운전</td>\n",
       "      <td>NaN</td>\n",
       "      <td>NaN</td>\n",
       "    </tr>\n",
       "    <tr>\n",
       "      <th>9482</th>\n",
       "      <td>2</td>\n",
       "      <td>NaN</td>\n",
       "      <td>NaN</td>\n",
       "      <td>NaN</td>\n",
       "    </tr>\n",
       "    <tr>\n",
       "      <th>9483</th>\n",
       "      <td>1</td>\n",
       "      <td>건설기계 면허</td>\n",
       "      <td>NaN</td>\n",
       "      <td>NaN</td>\n",
       "    </tr>\n",
       "    <tr>\n",
       "      <th>9484</th>\n",
       "      <td>1</td>\n",
       "      <td>CCIE</td>\n",
       "      <td>정보처리기사</td>\n",
       "      <td>NaN</td>\n",
       "    </tr>\n",
       "    <tr>\n",
       "      <th>9485</th>\n",
       "      <td>1</td>\n",
       "      <td>굴삭기운전기능사</td>\n",
       "      <td>NaN</td>\n",
       "      <td>NaN</td>\n",
       "    </tr>\n",
       "  </tbody>\n",
       "</table>\n",
       "<p>9486 rows × 4 columns</p>\n",
       "</div>"
      ],
      "text/plain": [
       "      bq4    bq4_1a  bq4_1b bq4_1c\n",
       "idx                               \n",
       "0       2       NaN     NaN    NaN\n",
       "1       1    품질관리기사     NaN    NaN\n",
       "2       2       NaN     NaN    NaN\n",
       "3       2       NaN     NaN    NaN\n",
       "4       2       NaN     NaN    NaN\n",
       "...   ...       ...     ...    ...\n",
       "9481    1    굴삭기 운전     NaN    NaN\n",
       "9482    2       NaN     NaN    NaN\n",
       "9483    1   건설기계 면허     NaN    NaN\n",
       "9484    1      CCIE  정보처리기사    NaN\n",
       "9485    1  굴삭기운전기능사     NaN    NaN\n",
       "\n",
       "[9486 rows x 4 columns]"
      ]
     },
     "execution_count": 87,
     "metadata": {},
     "output_type": "execute_result"
    }
   ],
   "source": [
    "know_test[0][['bq4','bq4_1a','bq4_1b','bq4_1c']]"
   ]
  },
  {
   "cell_type": "code",
   "execution_count": 88,
   "id": "7f0424e1",
   "metadata": {},
   "outputs": [
    {
     "data": {
      "text/html": [
       "<div>\n",
       "<style scoped>\n",
       "    .dataframe tbody tr th:only-of-type {\n",
       "        vertical-align: middle;\n",
       "    }\n",
       "\n",
       "    .dataframe tbody tr th {\n",
       "        vertical-align: top;\n",
       "    }\n",
       "\n",
       "    .dataframe thead th {\n",
       "        text-align: right;\n",
       "    }\n",
       "</style>\n",
       "<table border=\"1\" class=\"dataframe\">\n",
       "  <thead>\n",
       "    <tr style=\"text-align: right;\">\n",
       "      <th></th>\n",
       "      <th>bq4</th>\n",
       "      <th>bq4_1a</th>\n",
       "      <th>bq4_1b</th>\n",
       "      <th>bq4_1c</th>\n",
       "    </tr>\n",
       "    <tr>\n",
       "      <th>idx</th>\n",
       "      <th></th>\n",
       "      <th></th>\n",
       "      <th></th>\n",
       "      <th></th>\n",
       "    </tr>\n",
       "  </thead>\n",
       "  <tbody>\n",
       "    <tr>\n",
       "      <th>0</th>\n",
       "      <td>2</td>\n",
       "      <td>없음</td>\n",
       "      <td>없음</td>\n",
       "      <td>없음</td>\n",
       "    </tr>\n",
       "    <tr>\n",
       "      <th>1</th>\n",
       "      <td>1</td>\n",
       "      <td>품질관리기사</td>\n",
       "      <td>NaN</td>\n",
       "      <td>NaN</td>\n",
       "    </tr>\n",
       "    <tr>\n",
       "      <th>2</th>\n",
       "      <td>2</td>\n",
       "      <td>없음</td>\n",
       "      <td>없음</td>\n",
       "      <td>없음</td>\n",
       "    </tr>\n",
       "    <tr>\n",
       "      <th>3</th>\n",
       "      <td>2</td>\n",
       "      <td>없음</td>\n",
       "      <td>없음</td>\n",
       "      <td>없음</td>\n",
       "    </tr>\n",
       "    <tr>\n",
       "      <th>4</th>\n",
       "      <td>2</td>\n",
       "      <td>없음</td>\n",
       "      <td>없음</td>\n",
       "      <td>없음</td>\n",
       "    </tr>\n",
       "    <tr>\n",
       "      <th>...</th>\n",
       "      <td>...</td>\n",
       "      <td>...</td>\n",
       "      <td>...</td>\n",
       "      <td>...</td>\n",
       "    </tr>\n",
       "    <tr>\n",
       "      <th>9481</th>\n",
       "      <td>1</td>\n",
       "      <td>굴삭기 운전</td>\n",
       "      <td>NaN</td>\n",
       "      <td>NaN</td>\n",
       "    </tr>\n",
       "    <tr>\n",
       "      <th>9482</th>\n",
       "      <td>2</td>\n",
       "      <td>없음</td>\n",
       "      <td>없음</td>\n",
       "      <td>없음</td>\n",
       "    </tr>\n",
       "    <tr>\n",
       "      <th>9483</th>\n",
       "      <td>1</td>\n",
       "      <td>건설기계 면허</td>\n",
       "      <td>NaN</td>\n",
       "      <td>NaN</td>\n",
       "    </tr>\n",
       "    <tr>\n",
       "      <th>9484</th>\n",
       "      <td>1</td>\n",
       "      <td>CCIE</td>\n",
       "      <td>정보처리기사</td>\n",
       "      <td>NaN</td>\n",
       "    </tr>\n",
       "    <tr>\n",
       "      <th>9485</th>\n",
       "      <td>1</td>\n",
       "      <td>굴삭기운전기능사</td>\n",
       "      <td>NaN</td>\n",
       "      <td>NaN</td>\n",
       "    </tr>\n",
       "  </tbody>\n",
       "</table>\n",
       "<p>9486 rows × 4 columns</p>\n",
       "</div>"
      ],
      "text/plain": [
       "      bq4    bq4_1a  bq4_1b bq4_1c\n",
       "idx                               \n",
       "0       2        없음      없음     없음\n",
       "1       1    품질관리기사     NaN    NaN\n",
       "2       2        없음      없음     없음\n",
       "3       2        없음      없음     없음\n",
       "4       2        없음      없음     없음\n",
       "...   ...       ...     ...    ...\n",
       "9481    1    굴삭기 운전     NaN    NaN\n",
       "9482    2        없음      없음     없음\n",
       "9483    1   건설기계 면허     NaN    NaN\n",
       "9484    1      CCIE  정보처리기사    NaN\n",
       "9485    1  굴삭기운전기능사     NaN    NaN\n",
       "\n",
       "[9486 rows x 4 columns]"
      ]
     },
     "execution_count": 88,
     "metadata": {},
     "output_type": "execute_result"
    }
   ],
   "source": [
    "know_test[0].loc[know_test[0].bq4==2, ['bq4_1a','bq4_1b','bq4_1c']]= '없음'\n",
    "know_test[0][['bq4','bq4_1a','bq4_1b','bq4_1c']]"
   ]
  },
  {
   "cell_type": "code",
   "execution_count": 89,
   "id": "6291c418",
   "metadata": {},
   "outputs": [
    {
     "data": {
      "text/html": [
       "<div>\n",
       "<style scoped>\n",
       "    .dataframe tbody tr th:only-of-type {\n",
       "        vertical-align: middle;\n",
       "    }\n",
       "\n",
       "    .dataframe tbody tr th {\n",
       "        vertical-align: top;\n",
       "    }\n",
       "\n",
       "    .dataframe thead th {\n",
       "        text-align: right;\n",
       "    }\n",
       "</style>\n",
       "<table border=\"1\" class=\"dataframe\">\n",
       "  <thead>\n",
       "    <tr style=\"text-align: right;\">\n",
       "      <th></th>\n",
       "      <th>bq4_1b</th>\n",
       "      <th>bq4_1c</th>\n",
       "    </tr>\n",
       "    <tr>\n",
       "      <th>idx</th>\n",
       "      <th></th>\n",
       "      <th></th>\n",
       "    </tr>\n",
       "  </thead>\n",
       "  <tbody>\n",
       "    <tr>\n",
       "      <th>1</th>\n",
       "      <td>없음</td>\n",
       "      <td>없음</td>\n",
       "    </tr>\n",
       "    <tr>\n",
       "      <th>6</th>\n",
       "      <td>없음</td>\n",
       "      <td>없음</td>\n",
       "    </tr>\n",
       "    <tr>\n",
       "      <th>13</th>\n",
       "      <td>수질환경산업기사</td>\n",
       "      <td>없음</td>\n",
       "    </tr>\n",
       "    <tr>\n",
       "      <th>14</th>\n",
       "      <td>없음</td>\n",
       "      <td>없음</td>\n",
       "    </tr>\n",
       "    <tr>\n",
       "      <th>18</th>\n",
       "      <td>없음</td>\n",
       "      <td>없음</td>\n",
       "    </tr>\n",
       "    <tr>\n",
       "      <th>...</th>\n",
       "      <td>...</td>\n",
       "      <td>...</td>\n",
       "    </tr>\n",
       "    <tr>\n",
       "      <th>9479</th>\n",
       "      <td>없음</td>\n",
       "      <td>없음</td>\n",
       "    </tr>\n",
       "    <tr>\n",
       "      <th>9481</th>\n",
       "      <td>없음</td>\n",
       "      <td>없음</td>\n",
       "    </tr>\n",
       "    <tr>\n",
       "      <th>9483</th>\n",
       "      <td>없음</td>\n",
       "      <td>없음</td>\n",
       "    </tr>\n",
       "    <tr>\n",
       "      <th>9484</th>\n",
       "      <td>정보처리기사</td>\n",
       "      <td>없음</td>\n",
       "    </tr>\n",
       "    <tr>\n",
       "      <th>9485</th>\n",
       "      <td>없음</td>\n",
       "      <td>없음</td>\n",
       "    </tr>\n",
       "  </tbody>\n",
       "</table>\n",
       "<p>4053 rows × 2 columns</p>\n",
       "</div>"
      ],
      "text/plain": [
       "        bq4_1b bq4_1c\n",
       "idx                  \n",
       "1           없음     없음\n",
       "6           없음     없음\n",
       "13    수질환경산업기사     없음\n",
       "14          없음     없음\n",
       "18          없음     없음\n",
       "...        ...    ...\n",
       "9479        없음     없음\n",
       "9481        없음     없음\n",
       "9483        없음     없음\n",
       "9484    정보처리기사     없음\n",
       "9485        없음     없음\n",
       "\n",
       "[4053 rows x 2 columns]"
      ]
     },
     "execution_count": 89,
     "metadata": {},
     "output_type": "execute_result"
    }
   ],
   "source": [
    "know_test[0].loc[know_test[0].bq4==1, ['bq4_1b','bq4_1c']].fillna('없음')"
   ]
  },
  {
   "cell_type": "code",
   "execution_count": 92,
   "id": "0ca63d81",
   "metadata": {},
   "outputs": [
    {
     "data": {
      "text/plain": [
       "bq4_1a    0\n",
       "dtype: int64"
      ]
     },
     "execution_count": 92,
     "metadata": {},
     "output_type": "execute_result"
    }
   ],
   "source": [
    "know_train[0].loc[know_train[0].bq4==1, ['bq4_1a']].isna().sum()"
   ]
  },
  {
   "cell_type": "code",
   "execution_count": 91,
   "id": "8d9eb8a0",
   "metadata": {},
   "outputs": [
    {
     "data": {
      "text/plain": [
       "bq4_1a    0\n",
       "dtype: int64"
      ]
     },
     "execution_count": 91,
     "metadata": {},
     "output_type": "execute_result"
    }
   ],
   "source": [
    "know_test[0].loc[know_test[0].bq4==1, ['bq4_1a']].isna().sum()"
   ]
  },
  {
   "cell_type": "markdown",
   "id": "79f8b777",
   "metadata": {},
   "source": [
    "# bq5\n",
    "* bq5 : 1~2 훈련 필요하다/필요없다\n",
    "    * bq5_1 : 1~6, 훈련기간, bq5==1일때만\n",
    "    * bq5_2 : 훈련종류, bq5==1일때만, 텍스트"
   ]
  },
  {
   "cell_type": "code",
   "execution_count": 36,
   "id": "35e3b897",
   "metadata": {},
   "outputs": [
    {
     "data": {
      "text/html": [
       "<div>\n",
       "<style scoped>\n",
       "    .dataframe tbody tr th:only-of-type {\n",
       "        vertical-align: middle;\n",
       "    }\n",
       "\n",
       "    .dataframe tbody tr th {\n",
       "        vertical-align: top;\n",
       "    }\n",
       "\n",
       "    .dataframe thead th {\n",
       "        text-align: right;\n",
       "    }\n",
       "</style>\n",
       "<table border=\"1\" class=\"dataframe\">\n",
       "  <thead>\n",
       "    <tr style=\"text-align: right;\">\n",
       "      <th></th>\n",
       "      <th>bq5</th>\n",
       "      <th>bq5_1</th>\n",
       "      <th>bq5_2</th>\n",
       "    </tr>\n",
       "    <tr>\n",
       "      <th>idx</th>\n",
       "      <th></th>\n",
       "      <th></th>\n",
       "      <th></th>\n",
       "    </tr>\n",
       "  </thead>\n",
       "  <tbody>\n",
       "    <tr>\n",
       "      <th>0</th>\n",
       "      <td>1</td>\n",
       "      <td>2</td>\n",
       "      <td>실무교육</td>\n",
       "    </tr>\n",
       "    <tr>\n",
       "      <th>1</th>\n",
       "      <td>2</td>\n",
       "      <td>NaN</td>\n",
       "      <td>NaN</td>\n",
       "    </tr>\n",
       "    <tr>\n",
       "      <th>2</th>\n",
       "      <td>2</td>\n",
       "      <td>NaN</td>\n",
       "      <td>NaN</td>\n",
       "    </tr>\n",
       "    <tr>\n",
       "      <th>3</th>\n",
       "      <td>1</td>\n",
       "      <td>1</td>\n",
       "      <td>측량 및 정보통신기술 교육</td>\n",
       "    </tr>\n",
       "    <tr>\n",
       "      <th>4</th>\n",
       "      <td>2</td>\n",
       "      <td>NaN</td>\n",
       "      <td>NaN</td>\n",
       "    </tr>\n",
       "    <tr>\n",
       "      <th>...</th>\n",
       "      <td>...</td>\n",
       "      <td>...</td>\n",
       "      <td>...</td>\n",
       "    </tr>\n",
       "    <tr>\n",
       "      <th>9481</th>\n",
       "      <td>1</td>\n",
       "      <td>2</td>\n",
       "      <td>편집기술에 원리와 이해능력</td>\n",
       "    </tr>\n",
       "    <tr>\n",
       "      <th>9482</th>\n",
       "      <td>1</td>\n",
       "      <td>5</td>\n",
       "      <td>도면 작성 교육, 전자 기초 이해</td>\n",
       "    </tr>\n",
       "    <tr>\n",
       "      <th>9483</th>\n",
       "      <td>2</td>\n",
       "      <td>NaN</td>\n",
       "      <td>NaN</td>\n",
       "    </tr>\n",
       "    <tr>\n",
       "      <th>9484</th>\n",
       "      <td>2</td>\n",
       "      <td>NaN</td>\n",
       "      <td>NaN</td>\n",
       "    </tr>\n",
       "    <tr>\n",
       "      <th>9485</th>\n",
       "      <td>2</td>\n",
       "      <td>NaN</td>\n",
       "      <td>NaN</td>\n",
       "    </tr>\n",
       "  </tbody>\n",
       "</table>\n",
       "<p>9486 rows × 3 columns</p>\n",
       "</div>"
      ],
      "text/plain": [
       "      bq5 bq5_1               bq5_2\n",
       "idx                                \n",
       "0       1     2                실무교육\n",
       "1       2   NaN                 NaN\n",
       "2       2   NaN                 NaN\n",
       "3       1     1      측량 및 정보통신기술 교육\n",
       "4       2   NaN                 NaN\n",
       "...   ...   ...                 ...\n",
       "9481    1     2      편집기술에 원리와 이해능력\n",
       "9482    1     5  도면 작성 교육, 전자 기초 이해\n",
       "9483    2   NaN                 NaN\n",
       "9484    2   NaN                 NaN\n",
       "9485    2   NaN                 NaN\n",
       "\n",
       "[9486 rows x 3 columns]"
      ]
     },
     "execution_count": 36,
     "metadata": {},
     "output_type": "execute_result"
    }
   ],
   "source": [
    "know_train[0][['bq5','bq5_1','bq5_2']]"
   ]
  },
  {
   "cell_type": "code",
   "execution_count": 39,
   "id": "11b34e67",
   "metadata": {},
   "outputs": [],
   "source": [
    "know_train[0].loc[know_train[0].bq5==2,['bq5_1','bq5_2']] = '필요없음'"
   ]
  },
  {
   "cell_type": "code",
   "execution_count": 40,
   "id": "74eccbc1",
   "metadata": {},
   "outputs": [
    {
     "data": {
      "text/html": [
       "<div>\n",
       "<style scoped>\n",
       "    .dataframe tbody tr th:only-of-type {\n",
       "        vertical-align: middle;\n",
       "    }\n",
       "\n",
       "    .dataframe tbody tr th {\n",
       "        vertical-align: top;\n",
       "    }\n",
       "\n",
       "    .dataframe thead th {\n",
       "        text-align: right;\n",
       "    }\n",
       "</style>\n",
       "<table border=\"1\" class=\"dataframe\">\n",
       "  <thead>\n",
       "    <tr style=\"text-align: right;\">\n",
       "      <th></th>\n",
       "      <th>bq5_1</th>\n",
       "      <th>bq5_2</th>\n",
       "    </tr>\n",
       "    <tr>\n",
       "      <th>idx</th>\n",
       "      <th></th>\n",
       "      <th></th>\n",
       "    </tr>\n",
       "  </thead>\n",
       "  <tbody>\n",
       "    <tr>\n",
       "      <th>1</th>\n",
       "      <td>필요없음</td>\n",
       "      <td>필요없음</td>\n",
       "    </tr>\n",
       "    <tr>\n",
       "      <th>2</th>\n",
       "      <td>필요없음</td>\n",
       "      <td>필요없음</td>\n",
       "    </tr>\n",
       "    <tr>\n",
       "      <th>4</th>\n",
       "      <td>필요없음</td>\n",
       "      <td>필요없음</td>\n",
       "    </tr>\n",
       "    <tr>\n",
       "      <th>7</th>\n",
       "      <td>필요없음</td>\n",
       "      <td>필요없음</td>\n",
       "    </tr>\n",
       "    <tr>\n",
       "      <th>12</th>\n",
       "      <td>필요없음</td>\n",
       "      <td>필요없음</td>\n",
       "    </tr>\n",
       "    <tr>\n",
       "      <th>...</th>\n",
       "      <td>...</td>\n",
       "      <td>...</td>\n",
       "    </tr>\n",
       "    <tr>\n",
       "      <th>9478</th>\n",
       "      <td>필요없음</td>\n",
       "      <td>필요없음</td>\n",
       "    </tr>\n",
       "    <tr>\n",
       "      <th>9480</th>\n",
       "      <td>필요없음</td>\n",
       "      <td>필요없음</td>\n",
       "    </tr>\n",
       "    <tr>\n",
       "      <th>9483</th>\n",
       "      <td>필요없음</td>\n",
       "      <td>필요없음</td>\n",
       "    </tr>\n",
       "    <tr>\n",
       "      <th>9484</th>\n",
       "      <td>필요없음</td>\n",
       "      <td>필요없음</td>\n",
       "    </tr>\n",
       "    <tr>\n",
       "      <th>9485</th>\n",
       "      <td>필요없음</td>\n",
       "      <td>필요없음</td>\n",
       "    </tr>\n",
       "  </tbody>\n",
       "</table>\n",
       "<p>4976 rows × 2 columns</p>\n",
       "</div>"
      ],
      "text/plain": [
       "     bq5_1 bq5_2\n",
       "idx             \n",
       "1     필요없음  필요없음\n",
       "2     필요없음  필요없음\n",
       "4     필요없음  필요없음\n",
       "7     필요없음  필요없음\n",
       "12    필요없음  필요없음\n",
       "...    ...   ...\n",
       "9478  필요없음  필요없음\n",
       "9480  필요없음  필요없음\n",
       "9483  필요없음  필요없음\n",
       "9484  필요없음  필요없음\n",
       "9485  필요없음  필요없음\n",
       "\n",
       "[4976 rows x 2 columns]"
      ]
     },
     "execution_count": 40,
     "metadata": {},
     "output_type": "execute_result"
    }
   ],
   "source": [
    "know_train[0].loc[know_train[0].bq5==2,['bq5_1','bq5_2']]"
   ]
  },
  {
   "cell_type": "code",
   "execution_count": 42,
   "id": "7e836dee",
   "metadata": {},
   "outputs": [
    {
     "data": {
      "text/plain": [
       "bq5_1    0\n",
       "bq5_2    1\n",
       "dtype: int64"
      ]
     },
     "execution_count": 42,
     "metadata": {},
     "output_type": "execute_result"
    }
   ],
   "source": [
    "know_train[0].loc[know_train[0].bq5==1,['bq5_1','bq5_2']].isna().sum()"
   ]
  },
  {
   "cell_type": "code",
   "execution_count": 52,
   "id": "d2c51e32",
   "metadata": {},
   "outputs": [],
   "source": [
    "know_train[0].loc[know_train[0].bq5==1, 'bq5_2'] = '미응답'"
   ]
  },
  {
   "cell_type": "code",
   "execution_count": 81,
   "id": "81a2df78",
   "metadata": {},
   "outputs": [
    {
     "data": {
      "text/html": [
       "<div>\n",
       "<style scoped>\n",
       "    .dataframe tbody tr th:only-of-type {\n",
       "        vertical-align: middle;\n",
       "    }\n",
       "\n",
       "    .dataframe tbody tr th {\n",
       "        vertical-align: top;\n",
       "    }\n",
       "\n",
       "    .dataframe thead th {\n",
       "        text-align: right;\n",
       "    }\n",
       "</style>\n",
       "<table border=\"1\" class=\"dataframe\">\n",
       "  <thead>\n",
       "    <tr style=\"text-align: right;\">\n",
       "      <th></th>\n",
       "      <th>bq5</th>\n",
       "      <th>bq5_1</th>\n",
       "      <th>bq5_2</th>\n",
       "    </tr>\n",
       "    <tr>\n",
       "      <th>idx</th>\n",
       "      <th></th>\n",
       "      <th></th>\n",
       "      <th></th>\n",
       "    </tr>\n",
       "  </thead>\n",
       "  <tbody>\n",
       "    <tr>\n",
       "      <th>0</th>\n",
       "      <td>2</td>\n",
       "      <td>NaN</td>\n",
       "      <td>NaN</td>\n",
       "    </tr>\n",
       "    <tr>\n",
       "      <th>1</th>\n",
       "      <td>1</td>\n",
       "      <td>1</td>\n",
       "      <td>실무교육</td>\n",
       "    </tr>\n",
       "    <tr>\n",
       "      <th>2</th>\n",
       "      <td>1</td>\n",
       "      <td>6</td>\n",
       "      <td>기획력, 현장경험 등</td>\n",
       "    </tr>\n",
       "    <tr>\n",
       "      <th>3</th>\n",
       "      <td>2</td>\n",
       "      <td>NaN</td>\n",
       "      <td>NaN</td>\n",
       "    </tr>\n",
       "    <tr>\n",
       "      <th>4</th>\n",
       "      <td>2</td>\n",
       "      <td>NaN</td>\n",
       "      <td>NaN</td>\n",
       "    </tr>\n",
       "    <tr>\n",
       "      <th>...</th>\n",
       "      <td>...</td>\n",
       "      <td>...</td>\n",
       "      <td>...</td>\n",
       "    </tr>\n",
       "    <tr>\n",
       "      <th>9481</th>\n",
       "      <td>2</td>\n",
       "      <td>NaN</td>\n",
       "      <td>NaN</td>\n",
       "    </tr>\n",
       "    <tr>\n",
       "      <th>9482</th>\n",
       "      <td>1</td>\n",
       "      <td>1</td>\n",
       "      <td>도면의 이해,기본서류작성(PPT,EXCEL)</td>\n",
       "    </tr>\n",
       "    <tr>\n",
       "      <th>9483</th>\n",
       "      <td>2</td>\n",
       "      <td>NaN</td>\n",
       "      <td>NaN</td>\n",
       "    </tr>\n",
       "    <tr>\n",
       "      <th>9484</th>\n",
       "      <td>1</td>\n",
       "      <td>5</td>\n",
       "      <td>직무교육</td>\n",
       "    </tr>\n",
       "    <tr>\n",
       "      <th>9485</th>\n",
       "      <td>1</td>\n",
       "      <td>4</td>\n",
       "      <td>장비사용법과 간단한정비방법</td>\n",
       "    </tr>\n",
       "  </tbody>\n",
       "</table>\n",
       "<p>9486 rows × 3 columns</p>\n",
       "</div>"
      ],
      "text/plain": [
       "      bq5 bq5_1                     bq5_2\n",
       "idx                                      \n",
       "0       2   NaN                       NaN\n",
       "1       1     1                      실무교육\n",
       "2       1     6               기획력, 현장경험 등\n",
       "3       2   NaN                       NaN\n",
       "4       2   NaN                       NaN\n",
       "...   ...   ...                       ...\n",
       "9481    2   NaN                       NaN\n",
       "9482    1     1  도면의 이해,기본서류작성(PPT,EXCEL)\n",
       "9483    2   NaN                       NaN\n",
       "9484    1     5                      직무교육\n",
       "9485    1     4            장비사용법과 간단한정비방법\n",
       "\n",
       "[9486 rows x 3 columns]"
      ]
     },
     "execution_count": 81,
     "metadata": {},
     "output_type": "execute_result"
    }
   ],
   "source": [
    "know_test[0][['bq5','bq5_1','bq5_2']]"
   ]
  },
  {
   "cell_type": "code",
   "execution_count": 83,
   "id": "4a92ed31",
   "metadata": {},
   "outputs": [
    {
     "data": {
      "text/html": [
       "<div>\n",
       "<style scoped>\n",
       "    .dataframe tbody tr th:only-of-type {\n",
       "        vertical-align: middle;\n",
       "    }\n",
       "\n",
       "    .dataframe tbody tr th {\n",
       "        vertical-align: top;\n",
       "    }\n",
       "\n",
       "    .dataframe thead th {\n",
       "        text-align: right;\n",
       "    }\n",
       "</style>\n",
       "<table border=\"1\" class=\"dataframe\">\n",
       "  <thead>\n",
       "    <tr style=\"text-align: right;\">\n",
       "      <th></th>\n",
       "      <th>bq5_1</th>\n",
       "      <th>bq5_2</th>\n",
       "    </tr>\n",
       "    <tr>\n",
       "      <th>idx</th>\n",
       "      <th></th>\n",
       "      <th></th>\n",
       "    </tr>\n",
       "  </thead>\n",
       "  <tbody>\n",
       "    <tr>\n",
       "      <th>0</th>\n",
       "      <td>필요없음</td>\n",
       "      <td>필요없음</td>\n",
       "    </tr>\n",
       "    <tr>\n",
       "      <th>3</th>\n",
       "      <td>필요없음</td>\n",
       "      <td>필요없음</td>\n",
       "    </tr>\n",
       "    <tr>\n",
       "      <th>4</th>\n",
       "      <td>필요없음</td>\n",
       "      <td>필요없음</td>\n",
       "    </tr>\n",
       "    <tr>\n",
       "      <th>6</th>\n",
       "      <td>필요없음</td>\n",
       "      <td>필요없음</td>\n",
       "    </tr>\n",
       "    <tr>\n",
       "      <th>9</th>\n",
       "      <td>필요없음</td>\n",
       "      <td>필요없음</td>\n",
       "    </tr>\n",
       "    <tr>\n",
       "      <th>...</th>\n",
       "      <td>...</td>\n",
       "      <td>...</td>\n",
       "    </tr>\n",
       "    <tr>\n",
       "      <th>9477</th>\n",
       "      <td>필요없음</td>\n",
       "      <td>필요없음</td>\n",
       "    </tr>\n",
       "    <tr>\n",
       "      <th>9478</th>\n",
       "      <td>필요없음</td>\n",
       "      <td>필요없음</td>\n",
       "    </tr>\n",
       "    <tr>\n",
       "      <th>9480</th>\n",
       "      <td>필요없음</td>\n",
       "      <td>필요없음</td>\n",
       "    </tr>\n",
       "    <tr>\n",
       "      <th>9481</th>\n",
       "      <td>필요없음</td>\n",
       "      <td>필요없음</td>\n",
       "    </tr>\n",
       "    <tr>\n",
       "      <th>9483</th>\n",
       "      <td>필요없음</td>\n",
       "      <td>필요없음</td>\n",
       "    </tr>\n",
       "  </tbody>\n",
       "</table>\n",
       "<p>4774 rows × 2 columns</p>\n",
       "</div>"
      ],
      "text/plain": [
       "     bq5_1 bq5_2\n",
       "idx             \n",
       "0     필요없음  필요없음\n",
       "3     필요없음  필요없음\n",
       "4     필요없음  필요없음\n",
       "6     필요없음  필요없음\n",
       "9     필요없음  필요없음\n",
       "...    ...   ...\n",
       "9477  필요없음  필요없음\n",
       "9478  필요없음  필요없음\n",
       "9480  필요없음  필요없음\n",
       "9481  필요없음  필요없음\n",
       "9483  필요없음  필요없음\n",
       "\n",
       "[4774 rows x 2 columns]"
      ]
     },
     "execution_count": 83,
     "metadata": {},
     "output_type": "execute_result"
    }
   ],
   "source": [
    "know_test[0].loc[know_test[0].bq5==2,['bq5_1','bq5_2']] = '필요없음'\n",
    "know_test[0].loc[know_test[0].bq5==2,['bq5_1','bq5_2']]"
   ]
  },
  {
   "cell_type": "code",
   "execution_count": 84,
   "id": "00743363",
   "metadata": {},
   "outputs": [
    {
     "data": {
      "text/plain": [
       "bq5_1    0\n",
       "bq5_2    1\n",
       "dtype: int64"
      ]
     },
     "execution_count": 84,
     "metadata": {},
     "output_type": "execute_result"
    }
   ],
   "source": [
    "know_test[0].loc[know_test[0].bq5==1,['bq5_1','bq5_2']].isna().sum()"
   ]
  },
  {
   "cell_type": "code",
   "execution_count": 85,
   "id": "577c4d51",
   "metadata": {},
   "outputs": [],
   "source": [
    "know_test[0].loc[know_test[0].bq5==1, 'bq5_2'] = '미응답'"
   ]
  },
  {
   "cell_type": "markdown",
   "id": "00f1da26",
   "metadata": {},
   "source": [
    "# bq12\n",
    "* 'bq12_2', 'bq12_3', 'bq12_4',"
   ]
  },
  {
   "cell_type": "code",
   "execution_count": 71,
   "id": "339aa8e1",
   "metadata": {},
   "outputs": [
    {
     "data": {
      "text/plain": [
       "bq12_2    1630\n",
       "bq12_3    1343\n",
       "bq12_4     879\n",
       "dtype: int64"
      ]
     },
     "execution_count": 71,
     "metadata": {},
     "output_type": "execute_result"
    }
   ],
   "source": [
    "know_train[0][['bq12_2','bq12_3','bq12_4']].isna().sum()"
   ]
  },
  {
   "cell_type": "code",
   "execution_count": null,
   "id": "53a51c9c",
   "metadata": {},
   "outputs": [],
   "source": [
    "print(know_train[0][know_train[0].bq12_2==9]['bq12_2'])\n",
    "print(know_train[0][know_train[0].bq12_3==9]['bq12_3'])\n",
    "print(know_train[0][know_train[0].bq12_4==9]['bq12_4'])"
   ]
  },
  {
   "cell_type": "markdown",
   "id": "c6f5e88d",
   "metadata": {},
   "source": [
    "* 'bq12_2','bq12_3','bq12_4' 열에 9값이 존재하지 않음. 따라서 na값을 9 해당없음으로 변경"
   ]
  },
  {
   "cell_type": "code",
   "execution_count": 73,
   "id": "e531f98c",
   "metadata": {},
   "outputs": [],
   "source": [
    "know_train[0].loc[know_train[0]['bq12_2'].isna(), 'bq12_2']= 9\n",
    "know_train[0].loc[know_train[0]['bq12_3'].isna(), 'bq12_3']= 9\n",
    "know_train[0].loc[know_train[0]['bq12_4'].isna(), 'bq12_4']= 9"
   ]
  },
  {
   "cell_type": "code",
   "execution_count": 74,
   "id": "df9f2183",
   "metadata": {},
   "outputs": [
    {
     "data": {
      "text/plain": [
       "bq12_2    1609\n",
       "bq12_3    1332\n",
       "bq12_4     884\n",
       "dtype: int64"
      ]
     },
     "execution_count": 74,
     "metadata": {},
     "output_type": "execute_result"
    }
   ],
   "source": [
    "know_test[0][['bq12_2','bq12_3','bq12_4']].isna().sum()"
   ]
  },
  {
   "cell_type": "code",
   "execution_count": 79,
   "id": "196783ab",
   "metadata": {},
   "outputs": [
    {
     "name": "stdout",
     "output_type": "stream",
     "text": [
      "Series([], Name: bq12_2, dtype: object)\n",
      "Series([], Name: bq12_3, dtype: object)\n",
      "Series([], Name: bq12_4, dtype: object)\n"
     ]
    }
   ],
   "source": [
    "print(know_test[0][know_test[0].bq12_2==9]['bq12_2'])\n",
    "print(know_test[0][know_test[0].bq12_3==9]['bq12_3'])\n",
    "print(know_test[0][know_test[0].bq12_4==9]['bq12_4'])"
   ]
  },
  {
   "cell_type": "code",
   "execution_count": 80,
   "id": "6ee4c3ac",
   "metadata": {},
   "outputs": [],
   "source": [
    "know_test[0].loc[know_test[0]['bq12_2'].isna(), 'bq12_2']= 9\n",
    "know_test[0].loc[know_test[0]['bq12_3'].isna(), 'bq12_3']= 9\n",
    "know_test[0].loc[know_test[0]['bq12_4'].isna(), 'bq12_4']= 9"
   ]
  },
  {
   "cell_type": "markdown",
   "id": "fb562ecd",
   "metadata": {},
   "source": [
    "# 'bq19_1',\n",
    "### bq19라고 생각하는 이유(일자리변화). 텍스트"
   ]
  },
  {
   "cell_type": "code",
   "execution_count": 95,
   "id": "42618c61",
   "metadata": {},
   "outputs": [
    {
     "data": {
      "text/html": [
       "<div>\n",
       "<style scoped>\n",
       "    .dataframe tbody tr th:only-of-type {\n",
       "        vertical-align: middle;\n",
       "    }\n",
       "\n",
       "    .dataframe tbody tr th {\n",
       "        vertical-align: top;\n",
       "    }\n",
       "\n",
       "    .dataframe thead th {\n",
       "        text-align: right;\n",
       "    }\n",
       "</style>\n",
       "<table border=\"1\" class=\"dataframe\">\n",
       "  <thead>\n",
       "    <tr style=\"text-align: right;\">\n",
       "      <th></th>\n",
       "      <th>bq19</th>\n",
       "      <th>bq19_1</th>\n",
       "    </tr>\n",
       "    <tr>\n",
       "      <th>idx</th>\n",
       "      <th></th>\n",
       "      <th></th>\n",
       "    </tr>\n",
       "  </thead>\n",
       "  <tbody>\n",
       "    <tr>\n",
       "      <th>227</th>\n",
       "      <td>2</td>\n",
       "      <td>NaN</td>\n",
       "    </tr>\n",
       "    <tr>\n",
       "      <th>811</th>\n",
       "      <td>3</td>\n",
       "      <td>NaN</td>\n",
       "    </tr>\n",
       "    <tr>\n",
       "      <th>1649</th>\n",
       "      <td>3</td>\n",
       "      <td>NaN</td>\n",
       "    </tr>\n",
       "    <tr>\n",
       "      <th>2986</th>\n",
       "      <td>3</td>\n",
       "      <td>NaN</td>\n",
       "    </tr>\n",
       "    <tr>\n",
       "      <th>4271</th>\n",
       "      <td>3</td>\n",
       "      <td>NaN</td>\n",
       "    </tr>\n",
       "    <tr>\n",
       "      <th>5673</th>\n",
       "      <td>2</td>\n",
       "      <td>NaN</td>\n",
       "    </tr>\n",
       "    <tr>\n",
       "      <th>8815</th>\n",
       "      <td>2</td>\n",
       "      <td>NaN</td>\n",
       "    </tr>\n",
       "  </tbody>\n",
       "</table>\n",
       "</div>"
      ],
      "text/plain": [
       "      bq19 bq19_1\n",
       "idx              \n",
       "227      2    NaN\n",
       "811      3    NaN\n",
       "1649     3    NaN\n",
       "2986     3    NaN\n",
       "4271     3    NaN\n",
       "5673     2    NaN\n",
       "8815     2    NaN"
      ]
     },
     "execution_count": 95,
     "metadata": {},
     "output_type": "execute_result"
    }
   ],
   "source": [
    "know_train[0].loc[know_train[0]['bq19_1'].isna(),['bq19','bq19_1']]"
   ]
  },
  {
   "cell_type": "code",
   "execution_count": 96,
   "id": "7ef1d892",
   "metadata": {},
   "outputs": [],
   "source": [
    "know_train[0].loc[know_train[0]['bq19_1'].isna(),'bq19_1'] = '이유없음'"
   ]
  },
  {
   "cell_type": "code",
   "execution_count": 94,
   "id": "cdc23de7",
   "metadata": {},
   "outputs": [
    {
     "data": {
      "text/html": [
       "<div>\n",
       "<style scoped>\n",
       "    .dataframe tbody tr th:only-of-type {\n",
       "        vertical-align: middle;\n",
       "    }\n",
       "\n",
       "    .dataframe tbody tr th {\n",
       "        vertical-align: top;\n",
       "    }\n",
       "\n",
       "    .dataframe thead th {\n",
       "        text-align: right;\n",
       "    }\n",
       "</style>\n",
       "<table border=\"1\" class=\"dataframe\">\n",
       "  <thead>\n",
       "    <tr style=\"text-align: right;\">\n",
       "      <th></th>\n",
       "      <th>bq19</th>\n",
       "      <th>bq19_1</th>\n",
       "    </tr>\n",
       "    <tr>\n",
       "      <th>idx</th>\n",
       "      <th></th>\n",
       "      <th></th>\n",
       "    </tr>\n",
       "  </thead>\n",
       "  <tbody>\n",
       "    <tr>\n",
       "      <th>201</th>\n",
       "      <td>3</td>\n",
       "      <td>NaN</td>\n",
       "    </tr>\n",
       "    <tr>\n",
       "      <th>2101</th>\n",
       "      <td>3</td>\n",
       "      <td>NaN</td>\n",
       "    </tr>\n",
       "    <tr>\n",
       "      <th>3287</th>\n",
       "      <td>4</td>\n",
       "      <td>NaN</td>\n",
       "    </tr>\n",
       "    <tr>\n",
       "      <th>4301</th>\n",
       "      <td>3</td>\n",
       "      <td>NaN</td>\n",
       "    </tr>\n",
       "    <tr>\n",
       "      <th>5371</th>\n",
       "      <td>3</td>\n",
       "      <td>NaN</td>\n",
       "    </tr>\n",
       "    <tr>\n",
       "      <th>7264</th>\n",
       "      <td>2</td>\n",
       "      <td>NaN</td>\n",
       "    </tr>\n",
       "    <tr>\n",
       "      <th>7640</th>\n",
       "      <td>3</td>\n",
       "      <td>NaN</td>\n",
       "    </tr>\n",
       "  </tbody>\n",
       "</table>\n",
       "</div>"
      ],
      "text/plain": [
       "      bq19 bq19_1\n",
       "idx              \n",
       "201      3    NaN\n",
       "2101     3    NaN\n",
       "3287     4    NaN\n",
       "4301     3    NaN\n",
       "5371     3    NaN\n",
       "7264     2    NaN\n",
       "7640     3    NaN"
      ]
     },
     "execution_count": 94,
     "metadata": {},
     "output_type": "execute_result"
    }
   ],
   "source": [
    "know_test[0].loc[know_test[0]['bq19_1'].isna(),['bq19','bq19_1']]"
   ]
  },
  {
   "cell_type": "code",
   "execution_count": 97,
   "id": "e977b135",
   "metadata": {},
   "outputs": [],
   "source": [
    "know_test[0].loc[know_test[0]['bq19_1'].isna(),'bq19_1'] = '이유없음'"
   ]
  },
  {
   "cell_type": "code",
   "execution_count": 98,
   "id": "babe633f",
   "metadata": {},
   "outputs": [
    {
     "name": "stdout",
     "output_type": "stream",
     "text": [
      "0\n",
      "0\n"
     ]
    }
   ],
   "source": [
    "print(know_train[0]['bq19_1'].isna().sum())\n",
    "print(know_test[0]['bq19_1'].isna().sum())"
   ]
  },
  {
   "cell_type": "markdown",
   "id": "43f01248",
   "metadata": {},
   "source": [
    " # 'bq30' \n",
    " ## 직업을 다르게 부르는 명칭이 있다면?"
   ]
  },
  {
   "cell_type": "code",
   "execution_count": 99,
   "id": "e7e0a504",
   "metadata": {},
   "outputs": [
    {
     "name": "stdout",
     "output_type": "stream",
     "text": [
      "0\n",
      "1\n"
     ]
    }
   ],
   "source": [
    "print(know_train[0]['bq30'].isna().sum())\n",
    "print(know_test[0]['bq30'].isna().sum())"
   ]
  },
  {
   "cell_type": "code",
   "execution_count": null,
   "id": "020ac131",
   "metadata": {},
   "outputs": [],
   "source": [
    "know_test[0].loc[know_test[0]['bq30'].isna(),'bq30']"
   ]
  },
  {
   "cell_type": "code",
   "execution_count": 103,
   "id": "2d5f14c6",
   "metadata": {},
   "outputs": [
    {
     "data": {
      "text/plain": [
       "없다        6606\n",
       "선생님        274\n",
       "없음         251\n",
       "기사          96\n",
       "연구원         55\n",
       "          ... \n",
       "갤러리스트        1\n",
       "슈즈디자이너       1\n",
       "팻턴사          1\n",
       "도장 기사        1\n",
       "음악제작자        1\n",
       "Name: bq30, Length: 1199, dtype: int64"
      ]
     },
     "execution_count": 103,
     "metadata": {},
     "output_type": "execute_result"
    }
   ],
   "source": [
    "know_train[0]['bq30'].value_counts()"
   ]
  },
  {
   "cell_type": "code",
   "execution_count": 102,
   "id": "014e4af6",
   "metadata": {},
   "outputs": [
    {
     "data": {
      "text/plain": [
       "없다         6561\n",
       "없음          292\n",
       "선생님         274\n",
       "기사           81\n",
       "연구원          71\n",
       "           ... \n",
       "기술사           1\n",
       "소프트엔지니어       1\n",
       "그림작가          1\n",
       "공인회계사         1\n",
       "3D자이너         1\n",
       "Name: bq30, Length: 1181, dtype: int64"
      ]
     },
     "execution_count": 102,
     "metadata": {},
     "output_type": "execute_result"
    }
   ],
   "source": [
    "know_test[0]['bq30'].value_counts()"
   ]
  },
  {
   "cell_type": "code",
   "execution_count": 105,
   "id": "38695fdc",
   "metadata": {},
   "outputs": [],
   "source": [
    "know_train[0].loc[know_train[0]['bq30']=='없다', 'bq30'] = '없음'\n",
    "know_test[0].loc[know_test[0]['bq30']=='없다', 'bq30'] = '없음'\n",
    "know_test[0].loc[know_test[0]['bq30'].isna(),'bq30'] = '없음'"
   ]
  },
  {
   "cell_type": "code",
   "execution_count": 106,
   "id": "f326966b",
   "metadata": {},
   "outputs": [
    {
     "name": "stdout",
     "output_type": "stream",
     "text": [
      "0\n",
      "0\n"
     ]
    }
   ],
   "source": [
    "print(know_train[0]['bq30'].isna().sum())\n",
    "print(know_test[0]['bq30'].isna().sum())"
   ]
  },
  {
   "cell_type": "markdown",
   "id": "07344642",
   "metadata": {},
   "source": [
    "# 'bq31', \n",
    "## 업무에 활용하는 도구나 프로그램"
   ]
  },
  {
   "cell_type": "code",
   "execution_count": 107,
   "id": "b24a3e3a",
   "metadata": {},
   "outputs": [
    {
     "name": "stdout",
     "output_type": "stream",
     "text": [
      "8\n",
      "5\n"
     ]
    }
   ],
   "source": [
    "print(know_train[0]['bq31'].isna().sum())\n",
    "print(know_test[0]['bq31'].isna().sum())"
   ]
  },
  {
   "cell_type": "code",
   "execution_count": 109,
   "id": "f0b70f53",
   "metadata": {},
   "outputs": [
    {
     "data": {
      "text/plain": [
       "컴퓨터                                          511\n",
       "없다                                           497\n",
       "PC                                           229\n",
       "컴퓨터, 엑셀                                       31\n",
       "장갑                                            29\n",
       "                                            ... \n",
       "문서 작성, 도면 작성 프로그램                              1\n",
       "프리미어, 3Dmax, 포토샵                               1\n",
       "피아노,악보                                         1\n",
       "컴퓨터, NCS, 한글, MSoffice program, JAVA, 포토샵      1\n",
       "PC, 공구, 설명서                                    1\n",
       "Name: bq31, Length: 6777, dtype: int64"
      ]
     },
     "execution_count": 109,
     "metadata": {},
     "output_type": "execute_result"
    }
   ],
   "source": [
    "know_train[0]['bq31'].value_counts()"
   ]
  },
  {
   "cell_type": "code",
   "execution_count": 110,
   "id": "2075c8eb",
   "metadata": {},
   "outputs": [
    {
     "data": {
      "text/plain": [
       "없다                   480\n",
       "컴퓨터                  470\n",
       "PC                   216\n",
       "엑셀                    38\n",
       "장갑                    34\n",
       "                    ... \n",
       "성형기, 가마                1\n",
       "PC,3DCAD, 그래픽프로그램      1\n",
       "한도 시스템                 1\n",
       "쇼핑카터, 정리도구             1\n",
       "컴퓨터,혈압측정기,온도계          1\n",
       "Name: bq31, Length: 6829, dtype: int64"
      ]
     },
     "execution_count": 110,
     "metadata": {},
     "output_type": "execute_result"
    }
   ],
   "source": [
    "know_test[0]['bq31'].value_counts()"
   ]
  },
  {
   "cell_type": "code",
   "execution_count": 112,
   "id": "e8a9ccf9",
   "metadata": {},
   "outputs": [],
   "source": [
    "know_train[0].loc[know_train[0].bq31.isna(),'bq31'] = '없다'\n",
    "know_test[0].loc[know_test[0].bq31.isna(),'bq31'] = '없다'"
   ]
  },
  {
   "cell_type": "markdown",
   "id": "f507d8cd",
   "metadata": {},
   "source": [
    "# 'bq32'\n",
    "## 직전직업"
   ]
  },
  {
   "cell_type": "code",
   "execution_count": 113,
   "id": "9f6e5a74",
   "metadata": {},
   "outputs": [
    {
     "data": {
      "text/plain": [
       "없다                 5723\n",
       "없음                  210\n",
       "주부                  147\n",
       "회사원                 125\n",
       "학생                  102\n",
       "                   ... \n",
       "선박관련쪽(구체적으로 거절)       1\n",
       "패션회사 알바               1\n",
       "공작기계 개발연구원            1\n",
       "보일러기사                 1\n",
       "신발가게 운영               1\n",
       "Name: bq32, Length: 1568, dtype: int64"
      ]
     },
     "execution_count": 113,
     "metadata": {},
     "output_type": "execute_result"
    }
   ],
   "source": [
    "know_train[0]['bq32'].value_counts()"
   ]
  },
  {
   "cell_type": "code",
   "execution_count": 114,
   "id": "cd0f9dd0",
   "metadata": {},
   "outputs": [
    {
     "data": {
      "text/plain": [
       "없다                         5565\n",
       "없음                          235\n",
       "주부                          155\n",
       "회사원                         128\n",
       "학생                          120\n",
       "                           ... \n",
       "같은 교사인데 다른 담당을 했음(국어교사)       1\n",
       "영상관련 회사원                      1\n",
       "기계, 영업업무                      1\n",
       "판매 아르바이트                      1\n",
       "총무 사무원                        1\n",
       "Name: bq32, Length: 1620, dtype: int64"
      ]
     },
     "execution_count": 114,
     "metadata": {},
     "output_type": "execute_result"
    }
   ],
   "source": [
    "know_test[0]['bq32'].value_counts()"
   ]
  },
  {
   "cell_type": "code",
   "execution_count": 115,
   "id": "578eac2e",
   "metadata": {},
   "outputs": [],
   "source": [
    "know_train[0].loc[know_train[0].bq32.isna(),'bq32'] = '없음'\n",
    "know_test[0].loc[know_test[0].bq32.isna(),'bq32'] = '없음'\n",
    "know_train[0].loc[know_train[0].bq32=='없다','bq32'] = '없음'\n",
    "know_test[0].loc[know_test[0].bq32=='없다','bq32'] = '없음'"
   ]
  },
  {
   "cell_type": "markdown",
   "id": "fa02326e",
   "metadata": {},
   "source": [
    "# 'bq33'\n",
    "## 경력을 활용하여 전직 가능한 직업"
   ]
  },
  {
   "cell_type": "code",
   "execution_count": 116,
   "id": "e4c9eee4",
   "metadata": {},
   "outputs": [
    {
     "data": {
      "text/plain": [
       "없다                        6667\n",
       "모름                         434\n",
       "없음                         218\n",
       "교수                          43\n",
       "대학교수                        22\n",
       "                          ... \n",
       "교수, 강사                       1\n",
       "제품디자이너, 인테리어 디자이너, UMD       1\n",
       "의료심사                         1\n",
       "보건소장, 개인클리닉원장                1\n",
       "피아노 학원원장                     1\n",
       "Name: bq33, Length: 1418, dtype: int64"
      ]
     },
     "execution_count": 116,
     "metadata": {},
     "output_type": "execute_result"
    }
   ],
   "source": [
    "know_train[0]['bq33'].value_counts()"
   ]
  },
  {
   "cell_type": "code",
   "execution_count": 117,
   "id": "67c8532b",
   "metadata": {},
   "outputs": [
    {
     "data": {
      "text/plain": [
       "없다                    6561\n",
       "모름                     413\n",
       "없음                     241\n",
       "교수                      57\n",
       "대학교수                    36\n",
       "                      ... \n",
       "공연마케터, 드라마출연, 영화감독       1\n",
       "화장품 품질관리 직업              1\n",
       "미술일일강좌                   1\n",
       "시간강사,학습교제저자,교수           1\n",
       "문화예술재단기획                 1\n",
       "Name: bq33, Length: 1428, dtype: int64"
      ]
     },
     "execution_count": 117,
     "metadata": {},
     "output_type": "execute_result"
    }
   ],
   "source": [
    "know_test[0]['bq33'].value_counts()"
   ]
  },
  {
   "cell_type": "code",
   "execution_count": 118,
   "id": "fc82cd2b",
   "metadata": {},
   "outputs": [],
   "source": [
    "know_train[0].loc[know_train[0].bq33.isna(),'bq33'] = '모름'\n",
    "know_test[0].loc[know_test[0].bq33.isna(),'bq33'] = '모름'\n",
    "know_train[0].loc[know_train[0].bq33=='없다','bq33'] = '없음'\n",
    "know_test[0].loc[know_test[0].bq33=='없다','bq33'] = '없음'"
   ]
  },
  {
   "cell_type": "markdown",
   "id": "fe99063f",
   "metadata": {},
   "source": [
    "# 'bq34'\n",
    "## 하고 있는 일과 관련된 신직업/직무"
   ]
  },
  {
   "cell_type": "code",
   "execution_count": 119,
   "id": "2c0e187e",
   "metadata": {},
   "outputs": [
    {
     "data": {
      "text/plain": [
       "없다                   7785\n",
       "없음                    344\n",
       "모름                     50\n",
       "심리치료사                   4\n",
       "쇼핑몰                     4\n",
       "                     ... \n",
       "체대입시학원                  1\n",
       "특수교사                    1\n",
       "UPN엔지니어, 방화벽 엔지니어       1\n",
       "타루점                     1\n",
       "재생토너 판매업체               1\n",
       "Name: bq34, Length: 339, dtype: int64"
      ]
     },
     "execution_count": 119,
     "metadata": {},
     "output_type": "execute_result"
    }
   ],
   "source": [
    "know_train[0]['bq34'].value_counts()"
   ]
  },
  {
   "cell_type": "code",
   "execution_count": 120,
   "id": "35433f5b",
   "metadata": {},
   "outputs": [
    {
     "data": {
      "text/plain": [
       "없다                   7751\n",
       "없음                    339\n",
       "모름                     58\n",
       "심리상담사                   4\n",
       "모르겠음                    4\n",
       "                     ... \n",
       "애견관련 유투브 운영,블로거활동       1\n",
       "귀금속 분석 가공기술자            1\n",
       "직영카센타                   1\n",
       "스포츠 엔터테인먼트 운영           1\n",
       "피부미용사                   1\n",
       "Name: bq34, Length: 345, dtype: int64"
      ]
     },
     "execution_count": 120,
     "metadata": {},
     "output_type": "execute_result"
    }
   ],
   "source": [
    "know_test[0]['bq34'].value_counts()"
   ]
  },
  {
   "cell_type": "code",
   "execution_count": 121,
   "id": "be1511d4",
   "metadata": {},
   "outputs": [],
   "source": [
    "know_train[0].loc[know_train[0].bq34.isna(),'bq34'] = '모름'\n",
    "know_test[0].loc[know_test[0].bq34.isna(),'bq34'] = '모름'\n",
    "know_train[0].loc[know_train[0].bq34=='없다','bq34'] = '없음'\n",
    "know_test[0].loc[know_test[0].bq34=='없다','bq34'] = '없음'\n",
    "know_train[0].loc[know_train[0].bq34=='모르겠음','bq34'] = '모름'\n",
    "know_test[0].loc[know_test[0].bq34=='모르겠음','bq34'] = '모름'"
   ]
  },
  {
   "cell_type": "code",
   "execution_count": 122,
   "id": "0d0b92b5",
   "metadata": {},
   "outputs": [
    {
     "name": "stdout",
     "output_type": "stream",
     "text": [
      "0\n",
      "0\n"
     ]
    }
   ],
   "source": [
    "print(know_train[0]['bq34'].isna().sum())\n",
    "print(know_test[0]['bq34'].isna().sum())"
   ]
  },
  {
   "cell_type": "markdown",
   "id": "f2ef3448",
   "metadata": {},
   "source": [
    " # 'bq38_1', \n",
    " ## 최종학력 학과"
   ]
  },
  {
   "cell_type": "code",
   "execution_count": 123,
   "id": "6c1b58ff",
   "metadata": {},
   "outputs": [
    {
     "data": {
      "text/plain": [
       "인문계       408\n",
       "기계        387\n",
       "경영학       346\n",
       "기계공학      203\n",
       "컴퓨터공학     161\n",
       "         ... \n",
       "아동심리치료      1\n",
       "재활의학        1\n",
       "의료기기        1\n",
       "자동화공학       1\n",
       "연예방송        1\n",
       "Name: bq38_1, Length: 1452, dtype: int64"
      ]
     },
     "execution_count": 123,
     "metadata": {},
     "output_type": "execute_result"
    }
   ],
   "source": [
    "know_train[0]['bq38_1'].value_counts()"
   ]
  },
  {
   "cell_type": "code",
   "execution_count": 124,
   "id": "b4315899",
   "metadata": {},
   "outputs": [
    {
     "data": {
      "text/plain": [
       "인문계       435\n",
       "기계        384\n",
       "경영학       314\n",
       "기계공학      177\n",
       "컴퓨터공학     166\n",
       "         ... \n",
       "패션마케팅학      1\n",
       "관광과         1\n",
       "청소년상담       1\n",
       "문예창작학과      1\n",
       "산업미술학       1\n",
       "Name: bq38_1, Length: 1417, dtype: int64"
      ]
     },
     "execution_count": 124,
     "metadata": {},
     "output_type": "execute_result"
    }
   ],
   "source": [
    "know_test[0]['bq38_1'].value_counts()"
   ]
  },
  {
   "cell_type": "code",
   "execution_count": 125,
   "id": "11d88e75",
   "metadata": {},
   "outputs": [
    {
     "name": "stdout",
     "output_type": "stream",
     "text": [
      "271\n",
      "278\n"
     ]
    }
   ],
   "source": [
    "print(know_train[0]['bq38_1'].isna().sum())\n",
    "print(know_test[0]['bq38_1'].isna().sum())"
   ]
  },
  {
   "cell_type": "code",
   "execution_count": 126,
   "id": "fdefe7ab",
   "metadata": {},
   "outputs": [],
   "source": [
    "know_train[0].loc[know_train[0].bq38_1.isna(),'bq38_1'] = '미응답'\n",
    "know_test[0].loc[know_test[0].bq38_1.isna(),'bq38_1'] = '미응답'"
   ]
  },
  {
   "cell_type": "code",
   "execution_count": 127,
   "id": "0c4c8111",
   "metadata": {},
   "outputs": [
    {
     "name": "stdout",
     "output_type": "stream",
     "text": [
      "0\n",
      "0\n"
     ]
    }
   ],
   "source": [
    "print(know_train[0]['bq38_1'].isna().sum())\n",
    "print(know_test[0]['bq38_1'].isna().sum())"
   ]
  },
  {
   "cell_type": "markdown",
   "id": "10306643",
   "metadata": {},
   "source": [
    "# bq39 고용형태\n",
    "### bq39_1에 답변했을 경우 41-3 null\n",
    "### bq39_2에 답변했을 경우 bq40, bq40_1, bq40_2 null 이어야함.\n",
    "### bq39_1은 1 ~ 4의 값을 bq39_2는 5 ~ 7의 값을 가짐"
   ]
  },
  {
   "cell_type": "code",
   "execution_count": 134,
   "id": "aebccc73",
   "metadata": {},
   "outputs": [
    {
     "data": {
      "text/html": [
       "<div>\n",
       "<style scoped>\n",
       "    .dataframe tbody tr th:only-of-type {\n",
       "        vertical-align: middle;\n",
       "    }\n",
       "\n",
       "    .dataframe tbody tr th {\n",
       "        vertical-align: top;\n",
       "    }\n",
       "\n",
       "    .dataframe thead th {\n",
       "        text-align: right;\n",
       "    }\n",
       "</style>\n",
       "<table border=\"1\" class=\"dataframe\">\n",
       "  <thead>\n",
       "    <tr style=\"text-align: right;\">\n",
       "      <th></th>\n",
       "      <th>bq39_1</th>\n",
       "      <th>bq39_2</th>\n",
       "      <th>bq40</th>\n",
       "      <th>bq41_1</th>\n",
       "      <th>bq41_2</th>\n",
       "      <th>bq41_3</th>\n",
       "    </tr>\n",
       "    <tr>\n",
       "      <th>idx</th>\n",
       "      <th></th>\n",
       "      <th></th>\n",
       "      <th></th>\n",
       "      <th></th>\n",
       "      <th></th>\n",
       "      <th></th>\n",
       "    </tr>\n",
       "  </thead>\n",
       "  <tbody>\n",
       "    <tr>\n",
       "      <th>0</th>\n",
       "      <td>1</td>\n",
       "      <td>1</td>\n",
       "      <td>1</td>\n",
       "      <td>4000</td>\n",
       "      <td>NaN</td>\n",
       "      <td>2200</td>\n",
       "    </tr>\n",
       "    <tr>\n",
       "      <th>1</th>\n",
       "      <td>1</td>\n",
       "      <td>1</td>\n",
       "      <td>1</td>\n",
       "      <td>NaN</td>\n",
       "      <td>NaN</td>\n",
       "      <td>2400</td>\n",
       "    </tr>\n",
       "    <tr>\n",
       "      <th>2</th>\n",
       "      <td>1</td>\n",
       "      <td>1</td>\n",
       "      <td>1</td>\n",
       "      <td>4000</td>\n",
       "      <td>NaN</td>\n",
       "      <td>2400</td>\n",
       "    </tr>\n",
       "    <tr>\n",
       "      <th>3</th>\n",
       "      <td>1</td>\n",
       "      <td>1</td>\n",
       "      <td>1</td>\n",
       "      <td>7000</td>\n",
       "      <td>NaN</td>\n",
       "      <td>3500</td>\n",
       "    </tr>\n",
       "    <tr>\n",
       "      <th>4</th>\n",
       "      <td>1</td>\n",
       "      <td>1</td>\n",
       "      <td>1</td>\n",
       "      <td>4000</td>\n",
       "      <td>NaN</td>\n",
       "      <td>2500</td>\n",
       "    </tr>\n",
       "    <tr>\n",
       "      <th>...</th>\n",
       "      <td>...</td>\n",
       "      <td>...</td>\n",
       "      <td>...</td>\n",
       "      <td>...</td>\n",
       "      <td>...</td>\n",
       "      <td>...</td>\n",
       "    </tr>\n",
       "    <tr>\n",
       "      <th>9481</th>\n",
       "      <td>1</td>\n",
       "      <td>1</td>\n",
       "      <td>1</td>\n",
       "      <td>5200</td>\n",
       "      <td>NaN</td>\n",
       "      <td>1800</td>\n",
       "    </tr>\n",
       "    <tr>\n",
       "      <th>9482</th>\n",
       "      <td>1</td>\n",
       "      <td>1</td>\n",
       "      <td>1</td>\n",
       "      <td>4000</td>\n",
       "      <td>NaN</td>\n",
       "      <td>3000</td>\n",
       "    </tr>\n",
       "    <tr>\n",
       "      <th>9483</th>\n",
       "      <td>1</td>\n",
       "      <td>4</td>\n",
       "      <td>2</td>\n",
       "      <td>2700</td>\n",
       "      <td>NaN</td>\n",
       "      <td>1500</td>\n",
       "    </tr>\n",
       "    <tr>\n",
       "      <th>9484</th>\n",
       "      <td>1</td>\n",
       "      <td>1</td>\n",
       "      <td>1</td>\n",
       "      <td>6800</td>\n",
       "      <td>NaN</td>\n",
       "      <td>2500</td>\n",
       "    </tr>\n",
       "    <tr>\n",
       "      <th>9485</th>\n",
       "      <td>1</td>\n",
       "      <td>1</td>\n",
       "      <td>1</td>\n",
       "      <td>4000</td>\n",
       "      <td>NaN</td>\n",
       "      <td>3700</td>\n",
       "    </tr>\n",
       "  </tbody>\n",
       "</table>\n",
       "<p>9486 rows × 6 columns</p>\n",
       "</div>"
      ],
      "text/plain": [
       "      bq39_1  bq39_2 bq40 bq41_1 bq41_2 bq41_3\n",
       "idx                                           \n",
       "0          1       1    1   4000    NaN   2200\n",
       "1          1       1    1    NaN    NaN   2400\n",
       "2          1       1    1   4000    NaN   2400\n",
       "3          1       1    1   7000    NaN   3500\n",
       "4          1       1    1   4000    NaN   2500\n",
       "...      ...     ...  ...    ...    ...    ...\n",
       "9481       1       1    1   5200    NaN   1800\n",
       "9482       1       1    1   4000    NaN   3000\n",
       "9483       1       4    2   2700    NaN   1500\n",
       "9484       1       1    1   6800    NaN   2500\n",
       "9485       1       1    1   4000    NaN   3700\n",
       "\n",
       "[9486 rows x 6 columns]"
      ]
     },
     "execution_count": 134,
     "metadata": {},
     "output_type": "execute_result"
    }
   ],
   "source": [
    "know_train[0].loc[:,['bq39_1','bq39_2','bq40', 'bq41_1', 'bq41_2', 'bq41_3']]"
   ]
  },
  {
   "cell_type": "code",
   "execution_count": 139,
   "id": "7bf1a994",
   "metadata": {},
   "outputs": [
    {
     "data": {
      "text/html": [
       "<div>\n",
       "<style scoped>\n",
       "    .dataframe tbody tr th:only-of-type {\n",
       "        vertical-align: middle;\n",
       "    }\n",
       "\n",
       "    .dataframe tbody tr th {\n",
       "        vertical-align: top;\n",
       "    }\n",
       "\n",
       "    .dataframe thead th {\n",
       "        text-align: right;\n",
       "    }\n",
       "</style>\n",
       "<table border=\"1\" class=\"dataframe\">\n",
       "  <thead>\n",
       "    <tr style=\"text-align: right;\">\n",
       "      <th></th>\n",
       "      <th>bq39_1</th>\n",
       "      <th>bq39_2</th>\n",
       "      <th>bq40</th>\n",
       "      <th>bq41_1</th>\n",
       "      <th>bq41_2</th>\n",
       "      <th>bq41_3</th>\n",
       "    </tr>\n",
       "    <tr>\n",
       "      <th>idx</th>\n",
       "      <th></th>\n",
       "      <th></th>\n",
       "      <th></th>\n",
       "      <th></th>\n",
       "      <th></th>\n",
       "      <th></th>\n",
       "    </tr>\n",
       "  </thead>\n",
       "  <tbody>\n",
       "    <tr>\n",
       "      <th>0</th>\n",
       "      <td>1</td>\n",
       "      <td>1</td>\n",
       "      <td>1</td>\n",
       "      <td>4000</td>\n",
       "      <td>NaN</td>\n",
       "      <td>2200</td>\n",
       "    </tr>\n",
       "    <tr>\n",
       "      <th>1</th>\n",
       "      <td>1</td>\n",
       "      <td>1</td>\n",
       "      <td>1</td>\n",
       "      <td>NaN</td>\n",
       "      <td>NaN</td>\n",
       "      <td>2400</td>\n",
       "    </tr>\n",
       "    <tr>\n",
       "      <th>2</th>\n",
       "      <td>1</td>\n",
       "      <td>1</td>\n",
       "      <td>1</td>\n",
       "      <td>4000</td>\n",
       "      <td>NaN</td>\n",
       "      <td>2400</td>\n",
       "    </tr>\n",
       "    <tr>\n",
       "      <th>3</th>\n",
       "      <td>1</td>\n",
       "      <td>1</td>\n",
       "      <td>1</td>\n",
       "      <td>7000</td>\n",
       "      <td>NaN</td>\n",
       "      <td>3500</td>\n",
       "    </tr>\n",
       "    <tr>\n",
       "      <th>4</th>\n",
       "      <td>1</td>\n",
       "      <td>1</td>\n",
       "      <td>1</td>\n",
       "      <td>4000</td>\n",
       "      <td>NaN</td>\n",
       "      <td>2500</td>\n",
       "    </tr>\n",
       "    <tr>\n",
       "      <th>...</th>\n",
       "      <td>...</td>\n",
       "      <td>...</td>\n",
       "      <td>...</td>\n",
       "      <td>...</td>\n",
       "      <td>...</td>\n",
       "      <td>...</td>\n",
       "    </tr>\n",
       "    <tr>\n",
       "      <th>9481</th>\n",
       "      <td>1</td>\n",
       "      <td>1</td>\n",
       "      <td>1</td>\n",
       "      <td>5200</td>\n",
       "      <td>NaN</td>\n",
       "      <td>1800</td>\n",
       "    </tr>\n",
       "    <tr>\n",
       "      <th>9482</th>\n",
       "      <td>1</td>\n",
       "      <td>1</td>\n",
       "      <td>1</td>\n",
       "      <td>4000</td>\n",
       "      <td>NaN</td>\n",
       "      <td>3000</td>\n",
       "    </tr>\n",
       "    <tr>\n",
       "      <th>9483</th>\n",
       "      <td>1</td>\n",
       "      <td>4</td>\n",
       "      <td>2</td>\n",
       "      <td>2700</td>\n",
       "      <td>NaN</td>\n",
       "      <td>1500</td>\n",
       "    </tr>\n",
       "    <tr>\n",
       "      <th>9484</th>\n",
       "      <td>1</td>\n",
       "      <td>1</td>\n",
       "      <td>1</td>\n",
       "      <td>6800</td>\n",
       "      <td>NaN</td>\n",
       "      <td>2500</td>\n",
       "    </tr>\n",
       "    <tr>\n",
       "      <th>9485</th>\n",
       "      <td>1</td>\n",
       "      <td>1</td>\n",
       "      <td>1</td>\n",
       "      <td>4000</td>\n",
       "      <td>NaN</td>\n",
       "      <td>3700</td>\n",
       "    </tr>\n",
       "  </tbody>\n",
       "</table>\n",
       "<p>8185 rows × 6 columns</p>\n",
       "</div>"
      ],
      "text/plain": [
       "      bq39_1  bq39_2 bq40 bq41_1 bq41_2 bq41_3\n",
       "idx                                           \n",
       "0          1       1    1   4000    NaN   2200\n",
       "1          1       1    1    NaN    NaN   2400\n",
       "2          1       1    1   4000    NaN   2400\n",
       "3          1       1    1   7000    NaN   3500\n",
       "4          1       1    1   4000    NaN   2500\n",
       "...      ...     ...  ...    ...    ...    ...\n",
       "9481       1       1    1   5200    NaN   1800\n",
       "9482       1       1    1   4000    NaN   3000\n",
       "9483       1       4    2   2700    NaN   1500\n",
       "9484       1       1    1   6800    NaN   2500\n",
       "9485       1       1    1   4000    NaN   3700\n",
       "\n",
       "[8185 rows x 6 columns]"
      ]
     },
     "execution_count": 139,
     "metadata": {},
     "output_type": "execute_result"
    }
   ],
   "source": [
    "know_train[0].loc[know_train[0].bq39_2<5,['bq39_1','bq39_2','bq40', 'bq41_1', 'bq41_2', 'bq41_3']]"
   ]
  },
  {
   "cell_type": "code",
   "execution_count": 140,
   "id": "d4aa9c0c",
   "metadata": {},
   "outputs": [
    {
     "data": {
      "text/html": [
       "<div>\n",
       "<style scoped>\n",
       "    .dataframe tbody tr th:only-of-type {\n",
       "        vertical-align: middle;\n",
       "    }\n",
       "\n",
       "    .dataframe tbody tr th {\n",
       "        vertical-align: top;\n",
       "    }\n",
       "\n",
       "    .dataframe thead th {\n",
       "        text-align: right;\n",
       "    }\n",
       "</style>\n",
       "<table border=\"1\" class=\"dataframe\">\n",
       "  <thead>\n",
       "    <tr style=\"text-align: right;\">\n",
       "      <th></th>\n",
       "      <th>bq39_1</th>\n",
       "      <th>bq39_2</th>\n",
       "      <th>bq40</th>\n",
       "      <th>bq41_1</th>\n",
       "      <th>bq41_2</th>\n",
       "      <th>bq41_3</th>\n",
       "    </tr>\n",
       "    <tr>\n",
       "      <th>idx</th>\n",
       "      <th></th>\n",
       "      <th></th>\n",
       "      <th></th>\n",
       "      <th></th>\n",
       "      <th></th>\n",
       "      <th></th>\n",
       "    </tr>\n",
       "  </thead>\n",
       "  <tbody>\n",
       "    <tr>\n",
       "      <th>0</th>\n",
       "      <td>1</td>\n",
       "      <td>1</td>\n",
       "      <td>1</td>\n",
       "      <td>3000</td>\n",
       "      <td>NaN</td>\n",
       "      <td>2300</td>\n",
       "    </tr>\n",
       "    <tr>\n",
       "      <th>1</th>\n",
       "      <td>1</td>\n",
       "      <td>1</td>\n",
       "      <td>1</td>\n",
       "      <td>5500</td>\n",
       "      <td>NaN</td>\n",
       "      <td>2500</td>\n",
       "    </tr>\n",
       "    <tr>\n",
       "      <th>2</th>\n",
       "      <td>1</td>\n",
       "      <td>1</td>\n",
       "      <td>1</td>\n",
       "      <td>4300</td>\n",
       "      <td>NaN</td>\n",
       "      <td>4000</td>\n",
       "    </tr>\n",
       "    <tr>\n",
       "      <th>3</th>\n",
       "      <td>1</td>\n",
       "      <td>1</td>\n",
       "      <td>1</td>\n",
       "      <td>4100</td>\n",
       "      <td>NaN</td>\n",
       "      <td>3000</td>\n",
       "    </tr>\n",
       "    <tr>\n",
       "      <th>4</th>\n",
       "      <td>1</td>\n",
       "      <td>1</td>\n",
       "      <td>1</td>\n",
       "      <td>2800</td>\n",
       "      <td>NaN</td>\n",
       "      <td>2000</td>\n",
       "    </tr>\n",
       "    <tr>\n",
       "      <th>...</th>\n",
       "      <td>...</td>\n",
       "      <td>...</td>\n",
       "      <td>...</td>\n",
       "      <td>...</td>\n",
       "      <td>...</td>\n",
       "      <td>...</td>\n",
       "    </tr>\n",
       "    <tr>\n",
       "      <th>9479</th>\n",
       "      <td>1</td>\n",
       "      <td>1</td>\n",
       "      <td>1</td>\n",
       "      <td>3200</td>\n",
       "      <td>NaN</td>\n",
       "      <td>2500</td>\n",
       "    </tr>\n",
       "    <tr>\n",
       "      <th>9480</th>\n",
       "      <td>1</td>\n",
       "      <td>1</td>\n",
       "      <td>1</td>\n",
       "      <td>3700</td>\n",
       "      <td>NaN</td>\n",
       "      <td>1800</td>\n",
       "    </tr>\n",
       "    <tr>\n",
       "      <th>9482</th>\n",
       "      <td>1</td>\n",
       "      <td>1</td>\n",
       "      <td>1</td>\n",
       "      <td>7000</td>\n",
       "      <td>NaN</td>\n",
       "      <td>2400</td>\n",
       "    </tr>\n",
       "    <tr>\n",
       "      <th>9484</th>\n",
       "      <td>1</td>\n",
       "      <td>1</td>\n",
       "      <td>1</td>\n",
       "      <td>6000</td>\n",
       "      <td>NaN</td>\n",
       "      <td>4000</td>\n",
       "    </tr>\n",
       "    <tr>\n",
       "      <th>9485</th>\n",
       "      <td>1</td>\n",
       "      <td>1</td>\n",
       "      <td>1</td>\n",
       "      <td>3000</td>\n",
       "      <td>NaN</td>\n",
       "      <td>2000</td>\n",
       "    </tr>\n",
       "  </tbody>\n",
       "</table>\n",
       "<p>8153 rows × 6 columns</p>\n",
       "</div>"
      ],
      "text/plain": [
       "      bq39_1  bq39_2 bq40 bq41_1 bq41_2 bq41_3\n",
       "idx                                           \n",
       "0          1       1    1   3000    NaN   2300\n",
       "1          1       1    1   5500    NaN   2500\n",
       "2          1       1    1   4300    NaN   4000\n",
       "3          1       1    1   4100    NaN   3000\n",
       "4          1       1    1   2800    NaN   2000\n",
       "...      ...     ...  ...    ...    ...    ...\n",
       "9479       1       1    1   3200    NaN   2500\n",
       "9480       1       1    1   3700    NaN   1800\n",
       "9482       1       1    1   7000    NaN   2400\n",
       "9484       1       1    1   6000    NaN   4000\n",
       "9485       1       1    1   3000    NaN   2000\n",
       "\n",
       "[8153 rows x 6 columns]"
      ]
     },
     "execution_count": 140,
     "metadata": {},
     "output_type": "execute_result"
    }
   ],
   "source": [
    "know_test[0].loc[know_test[0].bq39_2<5,['bq39_1','bq39_2','bq40', 'bq41_1', 'bq41_2', 'bq41_3']]"
   ]
  },
  {
   "cell_type": "code",
   "execution_count": null,
   "id": "5acead97",
   "metadata": {},
   "outputs": [],
   "source": []
  },
  {
   "cell_type": "code",
   "execution_count": 135,
   "id": "4298bfe8",
   "metadata": {},
   "outputs": [
    {
     "data": {
      "text/html": [
       "<div>\n",
       "<style scoped>\n",
       "    .dataframe tbody tr th:only-of-type {\n",
       "        vertical-align: middle;\n",
       "    }\n",
       "\n",
       "    .dataframe tbody tr th {\n",
       "        vertical-align: top;\n",
       "    }\n",
       "\n",
       "    .dataframe thead th {\n",
       "        text-align: right;\n",
       "    }\n",
       "</style>\n",
       "<table border=\"1\" class=\"dataframe\">\n",
       "  <thead>\n",
       "    <tr style=\"text-align: right;\">\n",
       "      <th></th>\n",
       "      <th>bq39_1</th>\n",
       "      <th>bq39_2</th>\n",
       "      <th>bq40</th>\n",
       "      <th>bq41_1</th>\n",
       "      <th>bq41_2</th>\n",
       "      <th>bq41_3</th>\n",
       "    </tr>\n",
       "    <tr>\n",
       "      <th>idx</th>\n",
       "      <th></th>\n",
       "      <th></th>\n",
       "      <th></th>\n",
       "      <th></th>\n",
       "      <th></th>\n",
       "      <th></th>\n",
       "    </tr>\n",
       "  </thead>\n",
       "  <tbody>\n",
       "    <tr>\n",
       "      <th>0</th>\n",
       "      <td>1</td>\n",
       "      <td>1</td>\n",
       "      <td>1</td>\n",
       "      <td>3000</td>\n",
       "      <td>NaN</td>\n",
       "      <td>2300</td>\n",
       "    </tr>\n",
       "    <tr>\n",
       "      <th>1</th>\n",
       "      <td>1</td>\n",
       "      <td>1</td>\n",
       "      <td>1</td>\n",
       "      <td>5500</td>\n",
       "      <td>NaN</td>\n",
       "      <td>2500</td>\n",
       "    </tr>\n",
       "    <tr>\n",
       "      <th>2</th>\n",
       "      <td>1</td>\n",
       "      <td>1</td>\n",
       "      <td>1</td>\n",
       "      <td>4300</td>\n",
       "      <td>NaN</td>\n",
       "      <td>4000</td>\n",
       "    </tr>\n",
       "    <tr>\n",
       "      <th>3</th>\n",
       "      <td>1</td>\n",
       "      <td>1</td>\n",
       "      <td>1</td>\n",
       "      <td>4100</td>\n",
       "      <td>NaN</td>\n",
       "      <td>3000</td>\n",
       "    </tr>\n",
       "    <tr>\n",
       "      <th>4</th>\n",
       "      <td>1</td>\n",
       "      <td>1</td>\n",
       "      <td>1</td>\n",
       "      <td>2800</td>\n",
       "      <td>NaN</td>\n",
       "      <td>2000</td>\n",
       "    </tr>\n",
       "    <tr>\n",
       "      <th>...</th>\n",
       "      <td>...</td>\n",
       "      <td>...</td>\n",
       "      <td>...</td>\n",
       "      <td>...</td>\n",
       "      <td>...</td>\n",
       "      <td>...</td>\n",
       "    </tr>\n",
       "    <tr>\n",
       "      <th>9481</th>\n",
       "      <td>2</td>\n",
       "      <td>6</td>\n",
       "      <td>NaN</td>\n",
       "      <td>NaN</td>\n",
       "      <td>3400</td>\n",
       "      <td>NaN</td>\n",
       "    </tr>\n",
       "    <tr>\n",
       "      <th>9482</th>\n",
       "      <td>1</td>\n",
       "      <td>1</td>\n",
       "      <td>1</td>\n",
       "      <td>7000</td>\n",
       "      <td>NaN</td>\n",
       "      <td>2400</td>\n",
       "    </tr>\n",
       "    <tr>\n",
       "      <th>9483</th>\n",
       "      <td>2</td>\n",
       "      <td>6</td>\n",
       "      <td>NaN</td>\n",
       "      <td>NaN</td>\n",
       "      <td>4500</td>\n",
       "      <td>NaN</td>\n",
       "    </tr>\n",
       "    <tr>\n",
       "      <th>9484</th>\n",
       "      <td>1</td>\n",
       "      <td>1</td>\n",
       "      <td>1</td>\n",
       "      <td>6000</td>\n",
       "      <td>NaN</td>\n",
       "      <td>4000</td>\n",
       "    </tr>\n",
       "    <tr>\n",
       "      <th>9485</th>\n",
       "      <td>1</td>\n",
       "      <td>1</td>\n",
       "      <td>1</td>\n",
       "      <td>3000</td>\n",
       "      <td>NaN</td>\n",
       "      <td>2000</td>\n",
       "    </tr>\n",
       "  </tbody>\n",
       "</table>\n",
       "<p>9486 rows × 6 columns</p>\n",
       "</div>"
      ],
      "text/plain": [
       "      bq39_1  bq39_2 bq40 bq41_1 bq41_2 bq41_3\n",
       "idx                                           \n",
       "0          1       1    1   3000    NaN   2300\n",
       "1          1       1    1   5500    NaN   2500\n",
       "2          1       1    1   4300    NaN   4000\n",
       "3          1       1    1   4100    NaN   3000\n",
       "4          1       1    1   2800    NaN   2000\n",
       "...      ...     ...  ...    ...    ...    ...\n",
       "9481       2       6  NaN    NaN   3400    NaN\n",
       "9482       1       1    1   7000    NaN   2400\n",
       "9483       2       6  NaN    NaN   4500    NaN\n",
       "9484       1       1    1   6000    NaN   4000\n",
       "9485       1       1    1   3000    NaN   2000\n",
       "\n",
       "[9486 rows x 6 columns]"
      ]
     },
     "execution_count": 135,
     "metadata": {},
     "output_type": "execute_result"
    }
   ],
   "source": [
    "know_test[0].loc[:,['bq39_1','bq39_2','bq40', 'bq41_1', 'bq41_2', 'bq41_3']]"
   ]
  },
  {
   "cell_type": "markdown",
   "id": "0e56690b",
   "metadata": {},
   "source": [
    "# 'bq40', \n",
    "## 1 정규직 2 비정규직"
   ]
  },
  {
   "cell_type": "code",
   "execution_count": 128,
   "id": "f9f638d1",
   "metadata": {},
   "outputs": [
    {
     "name": "stdout",
     "output_type": "stream",
     "text": [
      "1301\n",
      "1333\n"
     ]
    }
   ],
   "source": [
    "print(know_train[0]['bq40'].isna().sum())\n",
    "print(know_test[0]['bq40'].isna().sum())"
   ]
  },
  {
   "cell_type": "code",
   "execution_count": null,
   "id": "e6c24fd2",
   "metadata": {},
   "outputs": [],
   "source": []
  },
  {
   "cell_type": "markdown",
   "id": "5d1b9faf",
   "metadata": {},
   "source": [
    "# 'bq41_1',\n",
    "## 근로소득. bq39_1 임금근로자(1~4일경우만)"
   ]
  },
  {
   "cell_type": "code",
   "execution_count": null,
   "id": "b91ecac1",
   "metadata": {},
   "outputs": [],
   "source": []
  },
  {
   "cell_type": "code",
   "execution_count": null,
   "id": "3d2cfda8",
   "metadata": {},
   "outputs": [],
   "source": []
  },
  {
   "cell_type": "markdown",
   "id": "26babfa0",
   "metadata": {},
   "source": [
    "# 'bq41_2', \n",
    "## 초임임금. bq39_1 임금근로자(1~4일경우만)"
   ]
  },
  {
   "cell_type": "code",
   "execution_count": null,
   "id": "1b28c19b",
   "metadata": {},
   "outputs": [],
   "source": []
  },
  {
   "cell_type": "code",
   "execution_count": null,
   "id": "a6adf62b",
   "metadata": {},
   "outputs": [],
   "source": []
  },
  {
   "cell_type": "markdown",
   "id": "976399bd",
   "metadata": {},
   "source": [
    "# 'bq41_3'\n",
    "## 순수입. bq39_2 비임금근로자 (5~7일경우)"
   ]
  },
  {
   "cell_type": "code",
   "execution_count": null,
   "id": "9352d3ce",
   "metadata": {},
   "outputs": [],
   "source": []
  },
  {
   "cell_type": "code",
   "execution_count": null,
   "id": "89e22891",
   "metadata": {},
   "outputs": [],
   "source": []
  },
  {
   "cell_type": "code",
   "execution_count": null,
   "id": "56e057b4",
   "metadata": {},
   "outputs": [],
   "source": []
  },
  {
   "cell_type": "code",
   "execution_count": null,
   "id": "8d5aced9",
   "metadata": {},
   "outputs": [],
   "source": []
  },
  {
   "cell_type": "code",
   "execution_count": null,
   "id": "74caea40",
   "metadata": {},
   "outputs": [],
   "source": []
  },
  {
   "cell_type": "markdown",
   "id": "0317814b",
   "metadata": {},
   "source": [
    "# 데이터 타입 변경"
   ]
  },
  {
   "cell_type": "code",
   "execution_count": 37,
   "id": "a9d834b7",
   "metadata": {},
   "outputs": [
    {
     "data": {
      "text/plain": [
       "Index(['aq1_2', 'aq2_2', 'aq3_2', 'aq4_2', 'aq5_2', 'aq6_2', 'aq7_2', 'aq8_2',\n",
       "       'aq9_2', 'aq10_2', 'aq11_2', 'aq12_2', 'aq13_2', 'aq14_2', 'aq15_2',\n",
       "       'aq16_2', 'aq17_2', 'aq18_2', 'aq19_2', 'aq20_2', 'aq21_2', 'aq22_2',\n",
       "       'aq23_2', 'aq24_2', 'aq25_2', 'aq26_2', 'aq27_2', 'aq28_2', 'aq29_2',\n",
       "       'aq30_2', 'aq31_2', 'aq32_2', 'aq33_2', 'aq34_2', 'aq35_2', 'aq36_2',\n",
       "       'aq37_2', 'aq38_2', 'aq39_2', 'aq40_2', 'aq41_2', 'bq4_1a', 'bq4_1b',\n",
       "       'bq4_1c', 'bq5_1', 'bq5_2', 'bq12_2', 'bq12_3', 'bq12_4', 'bq19_1',\n",
       "       'bq30', 'bq31', 'bq32', 'bq33', 'bq34', 'bq38_1', 'bq40', 'bq41_1',\n",
       "       'bq41_2', 'bq41_3'],\n",
       "      dtype='object')"
      ]
     },
     "execution_count": 37,
     "metadata": {},
     "output_type": "execute_result"
    }
   ],
   "source": [
    "know_train[0].select_dtypes('object').columns"
   ]
  },
  {
   "cell_type": "code",
   "execution_count": 43,
   "id": "91234460",
   "metadata": {},
   "outputs": [
    {
     "ename": "ValueError",
     "evalue": "cannot convert float NaN to integer",
     "output_type": "error",
     "traceback": [
      "\u001b[1;31m---------------------------------------------------------------------------\u001b[0m",
      "\u001b[1;31mValueError\u001b[0m                                Traceback (most recent call last)",
      "\u001b[1;32m~\\AppData\\Local\\Temp/ipykernel_16792/98470567.py\u001b[0m in \u001b[0;36m<module>\u001b[1;34m\u001b[0m\n\u001b[0;32m      2\u001b[0m \u001b[0mtext_cols\u001b[0m \u001b[1;33m=\u001b[0m \u001b[1;33m[\u001b[0m\u001b[1;34m'bq4_1a'\u001b[0m\u001b[1;33m,\u001b[0m \u001b[1;34m'bq4_1b'\u001b[0m\u001b[1;33m,\u001b[0m \u001b[1;34m'bq4_1c'\u001b[0m\u001b[1;33m,\u001b[0m \u001b[1;34m'bq5_2'\u001b[0m\u001b[1;33m,\u001b[0m \u001b[1;34m'bq19_1'\u001b[0m\u001b[1;33m,\u001b[0m \u001b[1;34m'bq30'\u001b[0m\u001b[1;33m,\u001b[0m \u001b[1;34m'bq31'\u001b[0m\u001b[1;33m,\u001b[0m \u001b[1;34m'bq32'\u001b[0m\u001b[1;33m,\u001b[0m \u001b[1;34m'bq33'\u001b[0m\u001b[1;33m,\u001b[0m \u001b[1;34m'bq34'\u001b[0m\u001b[1;33m,\u001b[0m \u001b[1;34m'bq38_1'\u001b[0m\u001b[1;33m]\u001b[0m\u001b[1;33m\u001b[0m\u001b[0m\n\u001b[0;32m      3\u001b[0m \u001b[0mtype_dict\u001b[0m \u001b[1;33m=\u001b[0m\u001b[1;33m{\u001b[0m\u001b[0mcol\u001b[0m\u001b[1;33m:\u001b[0m\u001b[1;34m'int64'\u001b[0m  \u001b[1;32mfor\u001b[0m \u001b[0mcol\u001b[0m \u001b[1;32min\u001b[0m \u001b[0mknow_train\u001b[0m\u001b[1;33m[\u001b[0m\u001b[1;36m0\u001b[0m\u001b[1;33m]\u001b[0m\u001b[1;33m.\u001b[0m\u001b[0mselect_dtypes\u001b[0m\u001b[1;33m(\u001b[0m\u001b[1;34m'object'\u001b[0m\u001b[1;33m)\u001b[0m\u001b[1;33m.\u001b[0m\u001b[0mcolumns\u001b[0m\u001b[1;33m.\u001b[0m\u001b[0mtolist\u001b[0m\u001b[1;33m(\u001b[0m\u001b[1;33m)\u001b[0m \u001b[1;32mif\u001b[0m \u001b[0mcol\u001b[0m \u001b[1;32mnot\u001b[0m \u001b[1;32min\u001b[0m \u001b[0mtext_cols\u001b[0m\u001b[1;33m}\u001b[0m\u001b[1;33m\u001b[0m\u001b[0m\n\u001b[1;32m----> 4\u001b[1;33m \u001b[0mknow_train\u001b[0m\u001b[1;33m[\u001b[0m\u001b[1;36m0\u001b[0m\u001b[1;33m]\u001b[0m\u001b[1;33m.\u001b[0m\u001b[0mastype\u001b[0m\u001b[1;33m(\u001b[0m\u001b[0mtype_dict\u001b[0m\u001b[1;33m)\u001b[0m\u001b[1;33m\u001b[0m\u001b[0m\n\u001b[0m",
      "\u001b[1;32mC:\\ProgramData\\Anaconda3\\envs\\py37\\lib\\site-packages\\pandas\\core\\generic.py\u001b[0m in \u001b[0;36mastype\u001b[1;34m(self, dtype, copy, errors)\u001b[0m\n\u001b[0;32m   5531\u001b[0m                 \u001b[1;32mif\u001b[0m \u001b[0mcol_name\u001b[0m \u001b[1;32min\u001b[0m \u001b[0mdtype\u001b[0m\u001b[1;33m:\u001b[0m\u001b[1;33m\u001b[0m\u001b[0m\n\u001b[0;32m   5532\u001b[0m                     results.append(\n\u001b[1;32m-> 5533\u001b[1;33m                         \u001b[0mcol\u001b[0m\u001b[1;33m.\u001b[0m\u001b[0mastype\u001b[0m\u001b[1;33m(\u001b[0m\u001b[0mdtype\u001b[0m\u001b[1;33m=\u001b[0m\u001b[0mdtype\u001b[0m\u001b[1;33m[\u001b[0m\u001b[0mcol_name\u001b[0m\u001b[1;33m]\u001b[0m\u001b[1;33m,\u001b[0m \u001b[0mcopy\u001b[0m\u001b[1;33m=\u001b[0m\u001b[0mcopy\u001b[0m\u001b[1;33m,\u001b[0m \u001b[0merrors\u001b[0m\u001b[1;33m=\u001b[0m\u001b[0merrors\u001b[0m\u001b[1;33m)\u001b[0m\u001b[1;33m\u001b[0m\u001b[0m\n\u001b[0m\u001b[0;32m   5534\u001b[0m                     )\n\u001b[0;32m   5535\u001b[0m                 \u001b[1;32melse\u001b[0m\u001b[1;33m:\u001b[0m\u001b[1;33m\u001b[0m\u001b[0m\n",
      "\u001b[1;32mC:\\ProgramData\\Anaconda3\\envs\\py37\\lib\\site-packages\\pandas\\core\\generic.py\u001b[0m in \u001b[0;36mastype\u001b[1;34m(self, dtype, copy, errors)\u001b[0m\n\u001b[0;32m   5546\u001b[0m         \u001b[1;32melse\u001b[0m\u001b[1;33m:\u001b[0m\u001b[1;33m\u001b[0m\u001b[0m\n\u001b[0;32m   5547\u001b[0m             \u001b[1;31m# else, only a single dtype is given\u001b[0m\u001b[1;33m\u001b[0m\u001b[1;33m\u001b[0m\u001b[0m\n\u001b[1;32m-> 5548\u001b[1;33m             \u001b[0mnew_data\u001b[0m \u001b[1;33m=\u001b[0m \u001b[0mself\u001b[0m\u001b[1;33m.\u001b[0m\u001b[0m_mgr\u001b[0m\u001b[1;33m.\u001b[0m\u001b[0mastype\u001b[0m\u001b[1;33m(\u001b[0m\u001b[0mdtype\u001b[0m\u001b[1;33m=\u001b[0m\u001b[0mdtype\u001b[0m\u001b[1;33m,\u001b[0m \u001b[0mcopy\u001b[0m\u001b[1;33m=\u001b[0m\u001b[0mcopy\u001b[0m\u001b[1;33m,\u001b[0m \u001b[0merrors\u001b[0m\u001b[1;33m=\u001b[0m\u001b[0merrors\u001b[0m\u001b[1;33m,\u001b[0m\u001b[1;33m)\u001b[0m\u001b[1;33m\u001b[0m\u001b[0m\n\u001b[0m\u001b[0;32m   5549\u001b[0m             \u001b[1;32mreturn\u001b[0m \u001b[0mself\u001b[0m\u001b[1;33m.\u001b[0m\u001b[0m_constructor\u001b[0m\u001b[1;33m(\u001b[0m\u001b[0mnew_data\u001b[0m\u001b[1;33m)\u001b[0m\u001b[1;33m.\u001b[0m\u001b[0m__finalize__\u001b[0m\u001b[1;33m(\u001b[0m\u001b[0mself\u001b[0m\u001b[1;33m,\u001b[0m \u001b[0mmethod\u001b[0m\u001b[1;33m=\u001b[0m\u001b[1;34m\"astype\"\u001b[0m\u001b[1;33m)\u001b[0m\u001b[1;33m\u001b[0m\u001b[0m\n\u001b[0;32m   5550\u001b[0m \u001b[1;33m\u001b[0m\u001b[0m\n",
      "\u001b[1;32mC:\\ProgramData\\Anaconda3\\envs\\py37\\lib\\site-packages\\pandas\\core\\internals\\managers.py\u001b[0m in \u001b[0;36mastype\u001b[1;34m(self, dtype, copy, errors)\u001b[0m\n\u001b[0;32m    602\u001b[0m         \u001b[0mself\u001b[0m\u001b[1;33m,\u001b[0m \u001b[0mdtype\u001b[0m\u001b[1;33m,\u001b[0m \u001b[0mcopy\u001b[0m\u001b[1;33m:\u001b[0m \u001b[0mbool\u001b[0m \u001b[1;33m=\u001b[0m \u001b[1;32mFalse\u001b[0m\u001b[1;33m,\u001b[0m \u001b[0merrors\u001b[0m\u001b[1;33m:\u001b[0m \u001b[0mstr\u001b[0m \u001b[1;33m=\u001b[0m \u001b[1;34m\"raise\"\u001b[0m\u001b[1;33m\u001b[0m\u001b[0m\n\u001b[0;32m    603\u001b[0m     ) -> \"BlockManager\":\n\u001b[1;32m--> 604\u001b[1;33m         \u001b[1;32mreturn\u001b[0m \u001b[0mself\u001b[0m\u001b[1;33m.\u001b[0m\u001b[0mapply\u001b[0m\u001b[1;33m(\u001b[0m\u001b[1;34m\"astype\"\u001b[0m\u001b[1;33m,\u001b[0m \u001b[0mdtype\u001b[0m\u001b[1;33m=\u001b[0m\u001b[0mdtype\u001b[0m\u001b[1;33m,\u001b[0m \u001b[0mcopy\u001b[0m\u001b[1;33m=\u001b[0m\u001b[0mcopy\u001b[0m\u001b[1;33m,\u001b[0m \u001b[0merrors\u001b[0m\u001b[1;33m=\u001b[0m\u001b[0merrors\u001b[0m\u001b[1;33m)\u001b[0m\u001b[1;33m\u001b[0m\u001b[0m\n\u001b[0m\u001b[0;32m    605\u001b[0m \u001b[1;33m\u001b[0m\u001b[0m\n\u001b[0;32m    606\u001b[0m     def convert(\n",
      "\u001b[1;32mC:\\ProgramData\\Anaconda3\\envs\\py37\\lib\\site-packages\\pandas\\core\\internals\\managers.py\u001b[0m in \u001b[0;36mapply\u001b[1;34m(self, f, align_keys, **kwargs)\u001b[0m\n\u001b[0;32m    407\u001b[0m                 \u001b[0mapplied\u001b[0m \u001b[1;33m=\u001b[0m \u001b[0mb\u001b[0m\u001b[1;33m.\u001b[0m\u001b[0mapply\u001b[0m\u001b[1;33m(\u001b[0m\u001b[0mf\u001b[0m\u001b[1;33m,\u001b[0m \u001b[1;33m**\u001b[0m\u001b[0mkwargs\u001b[0m\u001b[1;33m)\u001b[0m\u001b[1;33m\u001b[0m\u001b[0m\n\u001b[0;32m    408\u001b[0m             \u001b[1;32melse\u001b[0m\u001b[1;33m:\u001b[0m\u001b[1;33m\u001b[0m\u001b[0m\n\u001b[1;32m--> 409\u001b[1;33m                 \u001b[0mapplied\u001b[0m \u001b[1;33m=\u001b[0m \u001b[0mgetattr\u001b[0m\u001b[1;33m(\u001b[0m\u001b[0mb\u001b[0m\u001b[1;33m,\u001b[0m \u001b[0mf\u001b[0m\u001b[1;33m)\u001b[0m\u001b[1;33m(\u001b[0m\u001b[1;33m**\u001b[0m\u001b[0mkwargs\u001b[0m\u001b[1;33m)\u001b[0m\u001b[1;33m\u001b[0m\u001b[0m\n\u001b[0m\u001b[0;32m    410\u001b[0m             \u001b[0mresult_blocks\u001b[0m \u001b[1;33m=\u001b[0m \u001b[0m_extend_blocks\u001b[0m\u001b[1;33m(\u001b[0m\u001b[0mapplied\u001b[0m\u001b[1;33m,\u001b[0m \u001b[0mresult_blocks\u001b[0m\u001b[1;33m)\u001b[0m\u001b[1;33m\u001b[0m\u001b[0m\n\u001b[0;32m    411\u001b[0m \u001b[1;33m\u001b[0m\u001b[0m\n",
      "\u001b[1;32mC:\\ProgramData\\Anaconda3\\envs\\py37\\lib\\site-packages\\pandas\\core\\internals\\blocks.py\u001b[0m in \u001b[0;36mastype\u001b[1;34m(self, dtype, copy, errors)\u001b[0m\n\u001b[0;32m    593\u001b[0m             \u001b[0mvals1d\u001b[0m \u001b[1;33m=\u001b[0m \u001b[0mvalues\u001b[0m\u001b[1;33m.\u001b[0m\u001b[0mravel\u001b[0m\u001b[1;33m(\u001b[0m\u001b[1;33m)\u001b[0m\u001b[1;33m\u001b[0m\u001b[0m\n\u001b[0;32m    594\u001b[0m             \u001b[1;32mtry\u001b[0m\u001b[1;33m:\u001b[0m\u001b[1;33m\u001b[0m\u001b[0m\n\u001b[1;32m--> 595\u001b[1;33m                 \u001b[0mvalues\u001b[0m \u001b[1;33m=\u001b[0m \u001b[0mastype_nansafe\u001b[0m\u001b[1;33m(\u001b[0m\u001b[0mvals1d\u001b[0m\u001b[1;33m,\u001b[0m \u001b[0mdtype\u001b[0m\u001b[1;33m,\u001b[0m \u001b[0mcopy\u001b[0m\u001b[1;33m=\u001b[0m\u001b[1;32mTrue\u001b[0m\u001b[1;33m)\u001b[0m\u001b[1;33m\u001b[0m\u001b[0m\n\u001b[0m\u001b[0;32m    596\u001b[0m             \u001b[1;32mexcept\u001b[0m \u001b[1;33m(\u001b[0m\u001b[0mValueError\u001b[0m\u001b[1;33m,\u001b[0m \u001b[0mTypeError\u001b[0m\u001b[1;33m)\u001b[0m\u001b[1;33m:\u001b[0m\u001b[1;33m\u001b[0m\u001b[0m\n\u001b[0;32m    597\u001b[0m                 \u001b[1;31m# e.g. astype_nansafe can fail on object-dtype of strings\u001b[0m\u001b[1;33m\u001b[0m\u001b[1;33m\u001b[0m\u001b[0m\n",
      "\u001b[1;32mC:\\ProgramData\\Anaconda3\\envs\\py37\\lib\\site-packages\\pandas\\core\\dtypes\\cast.py\u001b[0m in \u001b[0;36mastype_nansafe\u001b[1;34m(arr, dtype, copy, skipna)\u001b[0m\n\u001b[0;32m    972\u001b[0m         \u001b[1;31m# work around NumPy brokenness, #1987\u001b[0m\u001b[1;33m\u001b[0m\u001b[1;33m\u001b[0m\u001b[0m\n\u001b[0;32m    973\u001b[0m         \u001b[1;32mif\u001b[0m \u001b[0mnp\u001b[0m\u001b[1;33m.\u001b[0m\u001b[0missubdtype\u001b[0m\u001b[1;33m(\u001b[0m\u001b[0mdtype\u001b[0m\u001b[1;33m.\u001b[0m\u001b[0mtype\u001b[0m\u001b[1;33m,\u001b[0m \u001b[0mnp\u001b[0m\u001b[1;33m.\u001b[0m\u001b[0minteger\u001b[0m\u001b[1;33m)\u001b[0m\u001b[1;33m:\u001b[0m\u001b[1;33m\u001b[0m\u001b[0m\n\u001b[1;32m--> 974\u001b[1;33m             \u001b[1;32mreturn\u001b[0m \u001b[0mlib\u001b[0m\u001b[1;33m.\u001b[0m\u001b[0mastype_intsafe\u001b[0m\u001b[1;33m(\u001b[0m\u001b[0marr\u001b[0m\u001b[1;33m.\u001b[0m\u001b[0mravel\u001b[0m\u001b[1;33m(\u001b[0m\u001b[1;33m)\u001b[0m\u001b[1;33m,\u001b[0m \u001b[0mdtype\u001b[0m\u001b[1;33m)\u001b[0m\u001b[1;33m.\u001b[0m\u001b[0mreshape\u001b[0m\u001b[1;33m(\u001b[0m\u001b[0marr\u001b[0m\u001b[1;33m.\u001b[0m\u001b[0mshape\u001b[0m\u001b[1;33m)\u001b[0m\u001b[1;33m\u001b[0m\u001b[0m\n\u001b[0m\u001b[0;32m    975\u001b[0m \u001b[1;33m\u001b[0m\u001b[0m\n\u001b[0;32m    976\u001b[0m         \u001b[1;31m# if we have a datetime/timedelta array of objects\u001b[0m\u001b[1;33m\u001b[0m\u001b[1;33m\u001b[0m\u001b[0m\n",
      "\u001b[1;32mpandas\\_libs\\lib.pyx\u001b[0m in \u001b[0;36mpandas._libs.lib.astype_intsafe\u001b[1;34m()\u001b[0m\n",
      "\u001b[1;31mValueError\u001b[0m: cannot convert float NaN to integer"
     ]
    }
   ],
   "source": [
    "# 텍스트 데이터\n",
    "text_cols = ['bq4_1a', 'bq4_1b', 'bq4_1c', 'bq5_2', 'bq19_1', 'bq30', 'bq31', 'bq32', 'bq33', 'bq34', 'bq38_1']\n",
    "type_dict ={col:'int64'  for col in know_train[0].select_dtypes('object').columns.tolist() if col not in text_cols}\n",
    "know_train[0].astype(type_dict)\n",
    "#nan값 있으면 안됨..ㅠㅠ"
   ]
  },
  {
   "cell_type": "code",
   "execution_count": null,
   "id": "18d1eb86",
   "metadata": {
    "scrolled": false
   },
   "outputs": [],
   "source": [
    "# c = know_train[0].select_dtypes('int64').columns[:-1]\n",
    "# fig, ax = plt.subplots(nrows=len(c)//3, ncols=3, figsize=(30, 100))\n",
    "\n",
    "# for i, col_name in enumerate(c):\n",
    "#     sns.countplot(x=col_name, data=know_train[0], ax=ax[i//3][i%3], palette='Set2')\n",
    "# plt.show()"
   ]
  },
  {
   "cell_type": "code",
   "execution_count": 125,
   "id": "550d6338",
   "metadata": {},
   "outputs": [
    {
     "data": {
      "text/plain": [
       "Index(['bq4_1b', 'bq4_1c', 'bq5_1', 'bq5_2', 'bq12_2', 'bq12_3', 'bq12_4',\n",
       "       'bq19_1', 'bq31', 'bq32', 'bq33', 'bq34', 'bq38_1', 'bq40', 'bq41_1',\n",
       "       'bq41_2', 'bq41_3'],\n",
       "      dtype='object')"
      ]
     },
     "execution_count": 125,
     "metadata": {},
     "output_type": "execute_result"
    }
   ],
   "source": [
    "know_train[0].columns[know_train[0].isna().sum()>0]"
   ]
  },
  {
   "cell_type": "code",
   "execution_count": 128,
   "id": "48bb6569",
   "metadata": {},
   "outputs": [
    {
     "data": {
      "text/plain": [
       "0"
      ]
     },
     "execution_count": 128,
     "metadata": {},
     "output_type": "execute_result"
    }
   ],
   "source": [
    "know_train[0]['bq4_1a'].isna().sum()"
   ]
  },
  {
   "cell_type": "code",
   "execution_count": null,
   "id": "249cb2db",
   "metadata": {},
   "outputs": [],
   "source": [
    "know_train[0]['bq4_1a']"
   ]
  },
  {
   "cell_type": "code",
   "execution_count": 80,
   "id": "3270945c",
   "metadata": {},
   "outputs": [
    {
     "data": {
      "text/html": [
       "<div>\n",
       "<style scoped>\n",
       "    .dataframe tbody tr th:only-of-type {\n",
       "        vertical-align: middle;\n",
       "    }\n",
       "\n",
       "    .dataframe tbody tr th {\n",
       "        vertical-align: top;\n",
       "    }\n",
       "\n",
       "    .dataframe thead th {\n",
       "        text-align: right;\n",
       "    }\n",
       "</style>\n",
       "<table border=\"1\" class=\"dataframe\">\n",
       "  <thead>\n",
       "    <tr style=\"text-align: right;\">\n",
       "      <th></th>\n",
       "      <th>aq14_1</th>\n",
       "      <th>aq14_2</th>\n",
       "    </tr>\n",
       "    <tr>\n",
       "      <th>idx</th>\n",
       "      <th></th>\n",
       "      <th></th>\n",
       "    </tr>\n",
       "  </thead>\n",
       "  <tbody>\n",
       "    <tr>\n",
       "      <th>3137</th>\n",
       "      <td>4</td>\n",
       "      <td>NaN</td>\n",
       "    </tr>\n",
       "    <tr>\n",
       "      <th>4564</th>\n",
       "      <td>4</td>\n",
       "      <td>NaN</td>\n",
       "    </tr>\n",
       "    <tr>\n",
       "      <th>6539</th>\n",
       "      <td>3</td>\n",
       "      <td>NaN</td>\n",
       "    </tr>\n",
       "  </tbody>\n",
       "</table>\n",
       "</div>"
      ],
      "text/plain": [
       "      aq14_1 aq14_2\n",
       "idx                \n",
       "3137       4    NaN\n",
       "4564       4    NaN\n",
       "6539       3    NaN"
      ]
     },
     "execution_count": 80,
     "metadata": {},
     "output_type": "execute_result"
    }
   ],
   "source": [
    "know_train[0].loc[know_train[0]['aq14_2'].isna(), ['aq14_1','aq14_2']]"
   ]
  },
  {
   "cell_type": "code",
   "execution_count": 81,
   "id": "558a4996",
   "metadata": {},
   "outputs": [
    {
     "data": {
      "text/html": [
       "<div>\n",
       "<style scoped>\n",
       "    .dataframe tbody tr th:only-of-type {\n",
       "        vertical-align: middle;\n",
       "    }\n",
       "\n",
       "    .dataframe tbody tr th {\n",
       "        vertical-align: top;\n",
       "    }\n",
       "\n",
       "    .dataframe thead th {\n",
       "        text-align: right;\n",
       "    }\n",
       "</style>\n",
       "<table border=\"1\" class=\"dataframe\">\n",
       "  <thead>\n",
       "    <tr style=\"text-align: right;\">\n",
       "      <th></th>\n",
       "      <th>aq27_1</th>\n",
       "      <th>aq27_2</th>\n",
       "    </tr>\n",
       "    <tr>\n",
       "      <th>idx</th>\n",
       "      <th></th>\n",
       "      <th></th>\n",
       "    </tr>\n",
       "  </thead>\n",
       "  <tbody>\n",
       "    <tr>\n",
       "      <th>715</th>\n",
       "      <td>3</td>\n",
       "      <td>NaN</td>\n",
       "    </tr>\n",
       "    <tr>\n",
       "      <th>792</th>\n",
       "      <td>3</td>\n",
       "      <td>NaN</td>\n",
       "    </tr>\n",
       "    <tr>\n",
       "      <th>3960</th>\n",
       "      <td>3</td>\n",
       "      <td>NaN</td>\n",
       "    </tr>\n",
       "    <tr>\n",
       "      <th>4060</th>\n",
       "      <td>3</td>\n",
       "      <td>NaN</td>\n",
       "    </tr>\n",
       "    <tr>\n",
       "      <th>5388</th>\n",
       "      <td>3</td>\n",
       "      <td>NaN</td>\n",
       "    </tr>\n",
       "    <tr>\n",
       "      <th>6383</th>\n",
       "      <td>4</td>\n",
       "      <td>NaN</td>\n",
       "    </tr>\n",
       "    <tr>\n",
       "      <th>9449</th>\n",
       "      <td>3</td>\n",
       "      <td>NaN</td>\n",
       "    </tr>\n",
       "  </tbody>\n",
       "</table>\n",
       "</div>"
      ],
      "text/plain": [
       "      aq27_1 aq27_2\n",
       "idx                \n",
       "715        3    NaN\n",
       "792        3    NaN\n",
       "3960       3    NaN\n",
       "4060       3    NaN\n",
       "5388       3    NaN\n",
       "6383       4    NaN\n",
       "9449       3    NaN"
      ]
     },
     "execution_count": 81,
     "metadata": {},
     "output_type": "execute_result"
    }
   ],
   "source": [
    "know_train[0].loc[know_train[0]['aq32_2'].isna(), ['aq32_1','aq32_2']]"
   ]
  },
  {
   "cell_type": "code",
   "execution_count": 82,
   "id": "1eba5246",
   "metadata": {},
   "outputs": [
    {
     "data": {
      "text/html": [
       "<div>\n",
       "<style scoped>\n",
       "    .dataframe tbody tr th:only-of-type {\n",
       "        vertical-align: middle;\n",
       "    }\n",
       "\n",
       "    .dataframe tbody tr th {\n",
       "        vertical-align: top;\n",
       "    }\n",
       "\n",
       "    .dataframe thead th {\n",
       "        text-align: right;\n",
       "    }\n",
       "</style>\n",
       "<table border=\"1\" class=\"dataframe\">\n",
       "  <thead>\n",
       "    <tr style=\"text-align: right;\">\n",
       "      <th></th>\n",
       "      <th>aq41_1</th>\n",
       "      <th>aq41_2</th>\n",
       "    </tr>\n",
       "    <tr>\n",
       "      <th>idx</th>\n",
       "      <th></th>\n",
       "      <th></th>\n",
       "    </tr>\n",
       "  </thead>\n",
       "  <tbody>\n",
       "    <tr>\n",
       "      <th>1798</th>\n",
       "      <td>3</td>\n",
       "      <td>NaN</td>\n",
       "    </tr>\n",
       "    <tr>\n",
       "      <th>6894</th>\n",
       "      <td>3</td>\n",
       "      <td>NaN</td>\n",
       "    </tr>\n",
       "    <tr>\n",
       "      <th>7118</th>\n",
       "      <td>3</td>\n",
       "      <td>NaN</td>\n",
       "    </tr>\n",
       "    <tr>\n",
       "      <th>8289</th>\n",
       "      <td>3</td>\n",
       "      <td>NaN</td>\n",
       "    </tr>\n",
       "  </tbody>\n",
       "</table>\n",
       "</div>"
      ],
      "text/plain": [
       "      aq41_1 aq41_2\n",
       "idx                \n",
       "1798       3    NaN\n",
       "6894       3    NaN\n",
       "7118       3    NaN\n",
       "8289       3    NaN"
      ]
     },
     "execution_count": 82,
     "metadata": {},
     "output_type": "execute_result"
    }
   ],
   "source": [
    "know_train[0].loc[know_train[0]['aq41_2'].isna(), ['aq41_1','aq41_2']]"
   ]
  },
  {
   "cell_type": "code",
   "execution_count": null,
   "id": "1f54f159",
   "metadata": {},
   "outputs": [],
   "source": []
  },
  {
   "cell_type": "code",
   "execution_count": 35,
   "id": "3ab17df2",
   "metadata": {},
   "outputs": [],
   "source": []
  },
  {
   "cell_type": "code",
   "execution_count": null,
   "id": "8b486b29",
   "metadata": {},
   "outputs": [],
   "source": []
  }
 ],
 "metadata": {
  "kernelspec": {
   "display_name": "py37",
   "language": "python",
   "name": "py37"
  },
  "language_info": {
   "codemirror_mode": {
    "name": "ipython",
    "version": 3
   },
   "file_extension": ".py",
   "mimetype": "text/x-python",
   "name": "python",
   "nbconvert_exporter": "python",
   "pygments_lexer": "ipython3",
   "version": "3.7.0"
  }
 },
 "nbformat": 4,
 "nbformat_minor": 5
}
