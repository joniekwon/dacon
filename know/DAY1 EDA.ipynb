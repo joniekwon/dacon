{
 "cells": [
  {
   "cell_type": "code",
   "execution_count": 1,
   "id": "56a3845d",
   "metadata": {},
   "outputs": [],
   "source": [
    "import pandas as pd\n",
    "import numpy as np\n",
    "import matplotlib.pyplot as plt\n",
    "import seaborn as sns\n",
    "sns.set_style('darkgrid')\n",
    "\n",
    "from glob import glob\n",
    "from tqdm import tqdm\n",
    "\n",
    "import warnings\n",
    "warnings.filterwarnings('ignore')\n",
    "import re"
   ]
  },
  {
   "cell_type": "code",
   "execution_count": 2,
   "id": "7e340bf8",
   "metadata": {},
   "outputs": [],
   "source": [
    "know_train = [pd.read_csv(path, index_col=0) for path in sorted(glob('./_data/train/*.csv'))]\n",
    "know_test = [pd.read_csv(path, index_col=0) for path in sorted(glob('./_data/test/*.csv'))]\n",
    "submission = pd.read_csv('./_data/sample_submission.csv')"
   ]
  },
  {
   "cell_type": "markdown",
   "id": "bc319a6f",
   "metadata": {},
   "source": [
    "## 공백 `' '` 으로 되어있는 결측치를 np.nan으로 변경"
   ]
  },
  {
   "cell_type": "code",
   "execution_count": 3,
   "id": "3e856acb",
   "metadata": {},
   "outputs": [],
   "source": [
    "for train, test in zip(know_train, know_test):\n",
    "    for col in test.columns:\n",
    "        train[col].replace(' ', np.nan, inplace=True)\n",
    "        test[col].replace(' ', np.nan, inplace=True)"
   ]
  },
  {
   "cell_type": "code",
   "execution_count": 4,
   "id": "aed98c03",
   "metadata": {},
   "outputs": [
    {
     "name": "stdout",
     "output_type": "stream",
     "text": [
      "2017 train 결측치\n",
      " aq1_1          0\n",
      "aq1_2        585\n",
      "aq2_1          0\n",
      "aq2_2        861\n",
      "aq3_1          0\n",
      "            ... \n",
      "bq40        1301\n",
      "bq41_1      1332\n",
      "bq41_2      8222\n",
      "bq41_3      1316\n",
      "knowcode       0\n",
      "Length: 155, dtype: int64\n",
      "2017 test 결측치\n",
      ": aq1_1        0\n",
      "aq1_2      598\n",
      "aq2_1        0\n",
      "aq2_2      862\n",
      "aq3_1        0\n",
      "          ... \n",
      "bq39_2       0\n",
      "bq40      1333\n",
      "bq41_1    1371\n",
      "bq41_2    8191\n",
      "bq41_3    1342\n",
      "Length: 154, dtype: int64\n",
      "2018 train 결측치\n",
      " cq1            0\n",
      "cq2            0\n",
      "cq3            0\n",
      "cq4            0\n",
      "cq5            0\n",
      "            ... \n",
      "bq40           3\n",
      "bq41_1      1270\n",
      "bq41_2      1388\n",
      "bq41_3      7824\n",
      "knowcode       0\n",
      "Length: 140, dtype: int64\n",
      "2018 test 결측치\n",
      ": cq1          0\n",
      "cq2          0\n",
      "cq3          0\n",
      "cq4          0\n",
      "cq5          0\n",
      "          ... \n",
      "bq39      1331\n",
      "bq40         0\n",
      "bq41_1    1298\n",
      "bq41_2    1423\n",
      "bq41_3    7794\n",
      "Length: 139, dtype: int64\n",
      "2019 train 결측치\n",
      " sq1            0\n",
      "sq2            0\n",
      "sq3            0\n",
      "sq4            0\n",
      "sq5            0\n",
      "            ... \n",
      "bq30          23\n",
      "bq31_1      1416\n",
      "bq31_2      1503\n",
      "bq31_3      7342\n",
      "knowcode       0\n",
      "Length: 152, dtype: int64\n",
      "2019 test 결측치\n",
      ": sq1          0\n",
      "sq2          0\n",
      "sq3          0\n",
      "sq4          0\n",
      "sq5          0\n",
      "          ... \n",
      "bq29      1228\n",
      "bq30        25\n",
      "bq31_1    1384\n",
      "bq31_2    1478\n",
      "bq31_3    7385\n",
      "Length: 151, dtype: int64\n",
      "2020 train 결측치\n",
      " saq1_1         0\n",
      "saq1_2       676\n",
      "saq2_1         0\n",
      "saq2_2       457\n",
      "saq3_1         0\n",
      "            ... \n",
      "bq29           0\n",
      "bq30_1      1016\n",
      "bq30_2      1018\n",
      "bq30_3      7104\n",
      "knowcode       0\n",
      "Length: 184, dtype: int64\n",
      "2020 test 결측치\n",
      ": saq1_1       0\n",
      "saq1_2     683\n",
      "saq2_1       0\n",
      "saq2_2     456\n",
      "saq3_1       0\n",
      "          ... \n",
      "bq28         6\n",
      "bq29         0\n",
      "bq30_1    1014\n",
      "bq30_2    1014\n",
      "bq30_3    7108\n",
      "Length: 183, dtype: int64\n"
     ]
    }
   ],
   "source": [
    "i=0\n",
    "for train, test in zip(know_train, know_test):\n",
    "    print(f'{2017+i} train 결측치\\n {train.isna().sum()}')\n",
    "    print(f'{2017+i} test 결측치\\n: {test.isna().sum()}')\n",
    "    i+=1"
   ]
  },
  {
   "cell_type": "markdown",
   "id": "8b2d6ecd",
   "metadata": {},
   "source": [
    "### 결측치가 포함된 열 확인"
   ]
  },
  {
   "cell_type": "code",
   "execution_count": 5,
   "id": "fec413f6",
   "metadata": {},
   "outputs": [],
   "source": [
    "include_na_col_train = []\n",
    "include_na_col_test = []\n",
    "for i in range(4):\n",
    "    include_na_col_train.append(know_train[i].columns[know_train[i].isna().sum()>0].tolist())\n",
    "    include_na_col_test.append(know_test[i].columns[know_test[i].isna().sum()>0].tolist())"
   ]
  },
  {
   "cell_type": "markdown",
   "id": "8a1c56eb",
   "metadata": {},
   "source": [
    "### 2017~2020 결측치가 발생한 열의 개수 모두 다름"
   ]
  },
  {
   "cell_type": "code",
   "execution_count": 6,
   "id": "b6230308",
   "metadata": {},
   "outputs": [
    {
     "name": "stdout",
     "output_type": "stream",
     "text": [
      "결측치가 포함된 열 수\n",
      "2017 train : 59 개\n",
      "2017 test : 60 개\n",
      "2018 train : 59 개\n",
      "2018 test : 60 개\n",
      "2019 train : 59 개\n",
      "2019 test : 60 개\n",
      "2020 train : 59 개\n",
      "2020 test : 60 개\n"
     ]
    }
   ],
   "source": [
    "print('결측치가 포함된 열 수')\n",
    "for i in range(4):\n",
    "    print(f'{2017+i} train : {len(include_na_col_train[0])} 개')\n",
    "    print(f'{2017+i} test : {len(include_na_col_test[0])} 개')"
   ]
  },
  {
   "cell_type": "code",
   "execution_count": 7,
   "id": "6e9044c7",
   "metadata": {
    "scrolled": true
   },
   "outputs": [
    {
     "name": "stdout",
     "output_type": "stream",
     "text": [
      "결측치가 포함된 열 목록\n",
      "==================================================\n",
      "2017 train \n",
      " ['aq1_2', 'aq2_2', 'aq3_2', 'aq4_2', 'aq5_2', 'aq6_2', 'aq7_2', 'aq8_2', 'aq9_2', 'aq10_2', 'aq11_2', 'aq12_2', 'aq13_2', 'aq14_2', 'aq15_2', 'aq16_2', 'aq17_2', 'aq18_2', 'aq19_2', 'aq20_2', 'aq21_2', 'aq22_2', 'aq23_2', 'aq24_2', 'aq25_2', 'aq26_2', 'aq27_2', 'aq28_2', 'aq29_2', 'aq30_2', 'aq31_2', 'aq32_2', 'aq33_2', 'aq34_2', 'aq35_2', 'aq36_2', 'aq37_2', 'aq38_2', 'aq39_2', 'aq40_2', 'aq41_2', 'bq4_1a', 'bq4_1b', 'bq4_1c', 'bq5_1', 'bq5_2', 'bq12_2', 'bq12_3', 'bq12_4', 'bq19_1', 'bq31', 'bq32', 'bq33', 'bq34', 'bq38_1', 'bq40', 'bq41_1', 'bq41_2', 'bq41_3']\n",
      "--------------------------------------------------\n",
      "2017 test : ['aq1_2', 'aq2_2', 'aq3_2', 'aq4_2', 'aq5_2', 'aq6_2', 'aq7_2', 'aq8_2', 'aq9_2', 'aq10_2', 'aq11_2', 'aq12_2', 'aq13_2', 'aq14_2', 'aq15_2', 'aq16_2', 'aq17_2', 'aq18_2', 'aq19_2', 'aq20_2', 'aq21_2', 'aq22_2', 'aq23_2', 'aq24_2', 'aq25_2', 'aq26_2', 'aq27_2', 'aq28_2', 'aq29_2', 'aq30_2', 'aq31_2', 'aq32_2', 'aq33_2', 'aq34_2', 'aq35_2', 'aq36_2', 'aq37_2', 'aq38_2', 'aq39_2', 'aq40_2', 'aq41_2', 'bq4_1a', 'bq4_1b', 'bq4_1c', 'bq5_1', 'bq5_2', 'bq12_2', 'bq12_3', 'bq12_4', 'bq19_1', 'bq30', 'bq31', 'bq32', 'bq33', 'bq34', 'bq38_1', 'bq40', 'bq41_1', 'bq41_2', 'bq41_3']\n",
      "==================================================\n",
      "2018 train \n",
      " ['aq1_2', 'aq2_2', 'aq3_2', 'aq4_2', 'aq5_2', 'aq6_2', 'aq7_2', 'aq8_2', 'aq9_2', 'aq10_2', 'aq11_2', 'aq12_2', 'aq13_2', 'aq14_2', 'aq15_2', 'aq16_2', 'aq17_2', 'aq18_2', 'aq19_2', 'aq20_2', 'aq21_2', 'aq22_2', 'aq23_2', 'aq24_2', 'aq25_2', 'aq26_2', 'aq27_2', 'aq28_2', 'aq29_2', 'aq30_2', 'aq31_2', 'aq32_2', 'aq33_2', 'aq34_2', 'aq35_2', 'aq36_2', 'aq37_2', 'aq38_2', 'aq39_2', 'aq40_2', 'aq41_2', 'bq4_1a', 'bq4_1b', 'bq4_1c', 'bq5_1', 'bq5_2', 'bq12_2', 'bq12_3', 'bq12_4', 'bq19_1', 'bq31', 'bq32', 'bq33', 'bq34', 'bq38_1', 'bq40', 'bq41_1', 'bq41_2', 'bq41_3']\n",
      "--------------------------------------------------\n",
      "2018 test : ['aq1_2', 'aq2_2', 'aq3_2', 'aq4_2', 'aq5_2', 'aq6_2', 'aq7_2', 'aq8_2', 'aq9_2', 'aq10_2', 'aq11_2', 'aq12_2', 'aq13_2', 'aq14_2', 'aq15_2', 'aq16_2', 'aq17_2', 'aq18_2', 'aq19_2', 'aq20_2', 'aq21_2', 'aq22_2', 'aq23_2', 'aq24_2', 'aq25_2', 'aq26_2', 'aq27_2', 'aq28_2', 'aq29_2', 'aq30_2', 'aq31_2', 'aq32_2', 'aq33_2', 'aq34_2', 'aq35_2', 'aq36_2', 'aq37_2', 'aq38_2', 'aq39_2', 'aq40_2', 'aq41_2', 'bq4_1a', 'bq4_1b', 'bq4_1c', 'bq5_1', 'bq5_2', 'bq12_2', 'bq12_3', 'bq12_4', 'bq19_1', 'bq30', 'bq31', 'bq32', 'bq33', 'bq34', 'bq38_1', 'bq40', 'bq41_1', 'bq41_2', 'bq41_3']\n",
      "==================================================\n",
      "2019 train \n",
      " ['aq1_2', 'aq2_2', 'aq3_2', 'aq4_2', 'aq5_2', 'aq6_2', 'aq7_2', 'aq8_2', 'aq9_2', 'aq10_2', 'aq11_2', 'aq12_2', 'aq13_2', 'aq14_2', 'aq15_2', 'aq16_2', 'aq17_2', 'aq18_2', 'aq19_2', 'aq20_2', 'aq21_2', 'aq22_2', 'aq23_2', 'aq24_2', 'aq25_2', 'aq26_2', 'aq27_2', 'aq28_2', 'aq29_2', 'aq30_2', 'aq31_2', 'aq32_2', 'aq33_2', 'aq34_2', 'aq35_2', 'aq36_2', 'aq37_2', 'aq38_2', 'aq39_2', 'aq40_2', 'aq41_2', 'bq4_1a', 'bq4_1b', 'bq4_1c', 'bq5_1', 'bq5_2', 'bq12_2', 'bq12_3', 'bq12_4', 'bq19_1', 'bq31', 'bq32', 'bq33', 'bq34', 'bq38_1', 'bq40', 'bq41_1', 'bq41_2', 'bq41_3']\n",
      "--------------------------------------------------\n",
      "2019 test : ['aq1_2', 'aq2_2', 'aq3_2', 'aq4_2', 'aq5_2', 'aq6_2', 'aq7_2', 'aq8_2', 'aq9_2', 'aq10_2', 'aq11_2', 'aq12_2', 'aq13_2', 'aq14_2', 'aq15_2', 'aq16_2', 'aq17_2', 'aq18_2', 'aq19_2', 'aq20_2', 'aq21_2', 'aq22_2', 'aq23_2', 'aq24_2', 'aq25_2', 'aq26_2', 'aq27_2', 'aq28_2', 'aq29_2', 'aq30_2', 'aq31_2', 'aq32_2', 'aq33_2', 'aq34_2', 'aq35_2', 'aq36_2', 'aq37_2', 'aq38_2', 'aq39_2', 'aq40_2', 'aq41_2', 'bq4_1a', 'bq4_1b', 'bq4_1c', 'bq5_1', 'bq5_2', 'bq12_2', 'bq12_3', 'bq12_4', 'bq19_1', 'bq30', 'bq31', 'bq32', 'bq33', 'bq34', 'bq38_1', 'bq40', 'bq41_1', 'bq41_2', 'bq41_3']\n",
      "==================================================\n",
      "2020 train \n",
      " ['aq1_2', 'aq2_2', 'aq3_2', 'aq4_2', 'aq5_2', 'aq6_2', 'aq7_2', 'aq8_2', 'aq9_2', 'aq10_2', 'aq11_2', 'aq12_2', 'aq13_2', 'aq14_2', 'aq15_2', 'aq16_2', 'aq17_2', 'aq18_2', 'aq19_2', 'aq20_2', 'aq21_2', 'aq22_2', 'aq23_2', 'aq24_2', 'aq25_2', 'aq26_2', 'aq27_2', 'aq28_2', 'aq29_2', 'aq30_2', 'aq31_2', 'aq32_2', 'aq33_2', 'aq34_2', 'aq35_2', 'aq36_2', 'aq37_2', 'aq38_2', 'aq39_2', 'aq40_2', 'aq41_2', 'bq4_1a', 'bq4_1b', 'bq4_1c', 'bq5_1', 'bq5_2', 'bq12_2', 'bq12_3', 'bq12_4', 'bq19_1', 'bq31', 'bq32', 'bq33', 'bq34', 'bq38_1', 'bq40', 'bq41_1', 'bq41_2', 'bq41_3']\n",
      "--------------------------------------------------\n",
      "2020 test : ['aq1_2', 'aq2_2', 'aq3_2', 'aq4_2', 'aq5_2', 'aq6_2', 'aq7_2', 'aq8_2', 'aq9_2', 'aq10_2', 'aq11_2', 'aq12_2', 'aq13_2', 'aq14_2', 'aq15_2', 'aq16_2', 'aq17_2', 'aq18_2', 'aq19_2', 'aq20_2', 'aq21_2', 'aq22_2', 'aq23_2', 'aq24_2', 'aq25_2', 'aq26_2', 'aq27_2', 'aq28_2', 'aq29_2', 'aq30_2', 'aq31_2', 'aq32_2', 'aq33_2', 'aq34_2', 'aq35_2', 'aq36_2', 'aq37_2', 'aq38_2', 'aq39_2', 'aq40_2', 'aq41_2', 'bq4_1a', 'bq4_1b', 'bq4_1c', 'bq5_1', 'bq5_2', 'bq12_2', 'bq12_3', 'bq12_4', 'bq19_1', 'bq30', 'bq31', 'bq32', 'bq33', 'bq34', 'bq38_1', 'bq40', 'bq41_1', 'bq41_2', 'bq41_3']\n",
      "==================================================\n"
     ]
    }
   ],
   "source": [
    "print('결측치가 포함된 열 목록')\n",
    "print('='*50)\n",
    "for i in range(4):\n",
    "    print(f'{2017+i} train \\n {include_na_col_train[0]}')\n",
    "    print('-'*50)\n",
    "    print(f'{2017+i} test : {include_na_col_test[0]}')\n",
    "    print('='*50)"
   ]
  },
  {
   "cell_type": "markdown",
   "id": "708900ba",
   "metadata": {},
   "source": [
    "## 데이터 타입 확인\n",
    "### 2017 train: float64 1개, int64 94개 object 60개"
   ]
  },
  {
   "cell_type": "code",
   "execution_count": 8,
   "id": "20b25ff6",
   "metadata": {},
   "outputs": [
    {
     "name": "stdout",
     "output_type": "stream",
     "text": [
      "<class 'pandas.core.frame.DataFrame'>\n",
      "Int64Index: 9486 entries, 0 to 9485\n",
      "Columns: 155 entries, aq1_1 to knowcode\n",
      "dtypes: float64(1), int64(94), object(60)\n",
      "memory usage: 11.3+ MB\n"
     ]
    }
   ],
   "source": [
    "know_train[0].info()"
   ]
  },
  {
   "cell_type": "code",
   "execution_count": 9,
   "id": "4fe091aa",
   "metadata": {},
   "outputs": [
    {
     "data": {
      "text/html": [
       "<div>\n",
       "<style scoped>\n",
       "    .dataframe tbody tr th:only-of-type {\n",
       "        vertical-align: middle;\n",
       "    }\n",
       "\n",
       "    .dataframe tbody tr th {\n",
       "        vertical-align: top;\n",
       "    }\n",
       "\n",
       "    .dataframe thead th {\n",
       "        text-align: right;\n",
       "    }\n",
       "</style>\n",
       "<table border=\"1\" class=\"dataframe\">\n",
       "  <thead>\n",
       "    <tr style=\"text-align: right;\">\n",
       "      <th></th>\n",
       "      <th>bq23</th>\n",
       "    </tr>\n",
       "    <tr>\n",
       "      <th>idx</th>\n",
       "      <th></th>\n",
       "    </tr>\n",
       "  </thead>\n",
       "  <tbody>\n",
       "    <tr>\n",
       "      <th>0</th>\n",
       "      <td>10.0</td>\n",
       "    </tr>\n",
       "    <tr>\n",
       "      <th>1</th>\n",
       "      <td>50.0</td>\n",
       "    </tr>\n",
       "    <tr>\n",
       "      <th>2</th>\n",
       "      <td>40.0</td>\n",
       "    </tr>\n",
       "    <tr>\n",
       "      <th>3</th>\n",
       "      <td>30.0</td>\n",
       "    </tr>\n",
       "    <tr>\n",
       "      <th>4</th>\n",
       "      <td>40.0</td>\n",
       "    </tr>\n",
       "    <tr>\n",
       "      <th>...</th>\n",
       "      <td>...</td>\n",
       "    </tr>\n",
       "    <tr>\n",
       "      <th>9481</th>\n",
       "      <td>10.0</td>\n",
       "    </tr>\n",
       "    <tr>\n",
       "      <th>9482</th>\n",
       "      <td>20.0</td>\n",
       "    </tr>\n",
       "    <tr>\n",
       "      <th>9483</th>\n",
       "      <td>0.0</td>\n",
       "    </tr>\n",
       "    <tr>\n",
       "      <th>9484</th>\n",
       "      <td>20.0</td>\n",
       "    </tr>\n",
       "    <tr>\n",
       "      <th>9485</th>\n",
       "      <td>0.0</td>\n",
       "    </tr>\n",
       "  </tbody>\n",
       "</table>\n",
       "<p>9486 rows × 1 columns</p>\n",
       "</div>"
      ],
      "text/plain": [
       "      bq23\n",
       "idx       \n",
       "0     10.0\n",
       "1     50.0\n",
       "2     40.0\n",
       "3     30.0\n",
       "4     40.0\n",
       "...    ...\n",
       "9481  10.0\n",
       "9482  20.0\n",
       "9483   0.0\n",
       "9484  20.0\n",
       "9485   0.0\n",
       "\n",
       "[9486 rows x 1 columns]"
      ]
     },
     "execution_count": 9,
     "metadata": {},
     "output_type": "execute_result"
    }
   ],
   "source": [
    "# bq23 : 기술적 변화요인으로 인한 업무 대체 비율\n",
    "know_train[0].select_dtypes('float64')"
   ]
  },
  {
   "cell_type": "code",
   "execution_count": 10,
   "id": "87bfd56c",
   "metadata": {},
   "outputs": [
    {
     "data": {
      "text/plain": [
       "Index(['aq1_1', 'aq2_1', 'aq3_1', 'aq4_1', 'aq5_1', 'aq6_1', 'aq7_1', 'aq8_1',\n",
       "       'aq9_1', 'aq10_1', 'aq11_1', 'aq12_1', 'aq13_1', 'aq14_1', 'aq15_1',\n",
       "       'aq16_1', 'aq17_1', 'aq18_1', 'aq19_1', 'aq20_1', 'aq21_1', 'aq22_1',\n",
       "       'aq23_1', 'aq24_1', 'aq25_1', 'aq26_1', 'aq27_1', 'aq28_1', 'aq29_1',\n",
       "       'aq30_1', 'aq31_1', 'aq32_1', 'aq33_1', 'aq34_1', 'aq35_1', 'aq36_1',\n",
       "       'aq37_1', 'aq38_1', 'aq39_1', 'aq40_1', 'aq41_1', 'bq1', 'bq2', 'bq3',\n",
       "       'bq4', 'bq5', 'bq6', 'bq7', 'bq8_1', 'bq8_2', 'bq8_3', 'bq9', 'bq10',\n",
       "       'bq11', 'bq12_1', 'bq12_5', 'bq13', 'bq14', 'bq15_1', 'bq15_2',\n",
       "       'bq15_3', 'bq16', 'bq17', 'bq18_1', 'bq18_2', 'bq18_3', 'bq18_4',\n",
       "       'bq18_5', 'bq18_6', 'bq18_7', 'bq19', 'bq20', 'bq21', 'bq22', 'bq24_1',\n",
       "       'bq24_2', 'bq24_3', 'bq24_4', 'bq24_5', 'bq24_6', 'bq24_7', 'bq24_8',\n",
       "       'bq25', 'bq26', 'bq27', 'bq28', 'bq29', 'bq35', 'bq36', 'bq37', 'bq38',\n",
       "       'bq39_1', 'bq39_2', 'knowcode'],\n",
       "      dtype='object')"
      ]
     },
     "execution_count": 10,
     "metadata": {},
     "output_type": "execute_result"
    }
   ],
   "source": [
    "know_train[0].select_dtypes('int64').columns"
   ]
  },
  {
   "cell_type": "code",
   "execution_count": 11,
   "id": "e2b2e582",
   "metadata": {},
   "outputs": [
    {
     "data": {
      "text/plain": [
       "Index(['aq1_2', 'aq2_2', 'aq3_2', 'aq4_2', 'aq5_2', 'aq6_2', 'aq7_2', 'aq8_2',\n",
       "       'aq9_2', 'aq10_2', 'aq11_2', 'aq12_2', 'aq13_2', 'aq14_2', 'aq15_2',\n",
       "       'aq16_2', 'aq17_2', 'aq18_2', 'aq19_2', 'aq20_2', 'aq21_2', 'aq22_2',\n",
       "       'aq23_2', 'aq24_2', 'aq25_2', 'aq26_2', 'aq27_2', 'aq28_2', 'aq29_2',\n",
       "       'aq30_2', 'aq31_2', 'aq32_2', 'aq33_2', 'aq34_2', 'aq35_2', 'aq36_2',\n",
       "       'aq37_2', 'aq38_2', 'aq39_2', 'aq40_2', 'aq41_2', 'bq4_1a', 'bq4_1b',\n",
       "       'bq4_1c', 'bq5_1', 'bq5_2', 'bq12_2', 'bq12_3', 'bq12_4', 'bq19_1',\n",
       "       'bq30', 'bq31', 'bq32', 'bq33', 'bq34', 'bq38_1', 'bq40', 'bq41_1',\n",
       "       'bq41_2', 'bq41_3'],\n",
       "      dtype='object')"
      ]
     },
     "execution_count": 11,
     "metadata": {},
     "output_type": "execute_result"
    }
   ],
   "source": [
    "know_train[0].select_dtypes('object').columns"
   ]
  },
  {
   "cell_type": "markdown",
   "id": "c69c6de9",
   "metadata": {},
   "source": [
    "* aq는 모두 int64값이어야 함.\n",
    "* bq는 float와 텍스트 데이터 제외하고 int64로 변경해야 함."
   ]
  },
  {
   "cell_type": "markdown",
   "id": "ab98b709",
   "metadata": {},
   "source": [
    "# 결측치 처리 (2017)"
   ]
  },
  {
   "cell_type": "code",
   "execution_count": 12,
   "id": "ff2854c7",
   "metadata": {},
   "outputs": [
    {
     "data": {
      "text/plain": [
       "585"
      ]
     },
     "execution_count": 12,
     "metadata": {},
     "output_type": "execute_result"
    }
   ],
   "source": [
    "know_train[0].loc[know_train[0]['aq1_1']==1, 'aq1_2'].isna().sum()"
   ]
  },
  {
   "cell_type": "markdown",
   "id": "b4f62420",
   "metadata": {},
   "source": [
    "* aq1_1에 1. 중요하지 않다라고 답했을 경우 aq1_2 문항을 건너뛰기 때문에 결측치 존재\n",
    "## aq_1 문항을 1이라고 답한 행의 aq_2문항을 0으로 변경"
   ]
  },
  {
   "cell_type": "code",
   "execution_count": 13,
   "id": "8708509b",
   "metadata": {},
   "outputs": [
    {
     "name": "stdout",
     "output_type": "stream",
     "text": [
      "aq1_2열 결측치: 0\n",
      "aq2_2열 결측치: 0\n",
      "aq3_2열 결측치: 0\n",
      "aq4_2열 결측치: 0\n",
      "aq5_2열 결측치: 0\n",
      "aq6_2열 결측치: 0\n",
      "aq7_2열 결측치: 0\n",
      "aq8_2열 결측치: 0\n",
      "aq9_2열 결측치: 0\n",
      "aq10_2열 결측치: 0\n",
      "aq11_2열 결측치: 4\n",
      "aq12_2열 결측치: 0\n",
      "aq13_2열 결측치: 0\n",
      "aq14_2열 결측치: 3\n",
      "aq15_2열 결측치: 0\n",
      "aq16_2열 결측치: 0\n",
      "aq17_2열 결측치: 0\n",
      "aq18_2열 결측치: 0\n",
      "aq19_2열 결측치: 0\n",
      "aq20_2열 결측치: 0\n",
      "aq21_2열 결측치: 0\n",
      "aq22_2열 결측치: 0\n",
      "aq23_2열 결측치: 0\n",
      "aq24_2열 결측치: 0\n",
      "aq25_2열 결측치: 0\n",
      "aq26_2열 결측치: 0\n",
      "aq27_2열 결측치: 7\n",
      "aq28_2열 결측치: 0\n",
      "aq29_2열 결측치: 0\n",
      "aq30_2열 결측치: 0\n",
      "aq31_2열 결측치: 0\n",
      "aq32_2열 결측치: 11\n",
      "aq33_2열 결측치: 0\n",
      "aq34_2열 결측치: 0\n",
      "aq35_2열 결측치: 0\n",
      "aq36_2열 결측치: 0\n",
      "aq37_2열 결측치: 0\n",
      "aq38_2열 결측치: 0\n",
      "aq39_2열 결측치: 0\n",
      "aq40_2열 결측치: 0\n",
      "aq41_2열 결측치: 4\n"
     ]
    }
   ],
   "source": [
    "import re\n",
    "for col in know_train[0].columns:\n",
    "    if re.findall('aq.*_1', col):\n",
    "        na_col = re.sub('_1', '_2', col)\n",
    "        know_train[0].loc[(know_train[0][col] == 1), na_col] = 0\n",
    "        print(f'{na_col}열 결측치: {know_train[0][na_col].isna().sum()}')"
   ]
  },
  {
   "cell_type": "code",
   "execution_count": 14,
   "id": "c1d0e0db",
   "metadata": {},
   "outputs": [
    {
     "name": "stdout",
     "output_type": "stream",
     "text": [
      "aq1_2열 결측치: 0\n",
      "aq2_2열 결측치: 0\n",
      "aq3_2열 결측치: 0\n",
      "aq4_2열 결측치: 0\n",
      "aq5_2열 결측치: 0\n",
      "aq6_2열 결측치: 0\n",
      "aq7_2열 결측치: 0\n",
      "aq8_2열 결측치: 0\n",
      "aq9_2열 결측치: 0\n",
      "aq10_2열 결측치: 0\n",
      "aq11_2열 결측치: 6\n",
      "aq12_2열 결측치: 0\n",
      "aq13_2열 결측치: 0\n",
      "aq14_2열 결측치: 9\n",
      "aq15_2열 결측치: 0\n",
      "aq16_2열 결측치: 0\n",
      "aq17_2열 결측치: 0\n",
      "aq18_2열 결측치: 0\n",
      "aq19_2열 결측치: 0\n",
      "aq20_2열 결측치: 0\n",
      "aq21_2열 결측치: 0\n",
      "aq22_2열 결측치: 0\n",
      "aq23_2열 결측치: 0\n",
      "aq24_2열 결측치: 0\n",
      "aq25_2열 결측치: 0\n",
      "aq26_2열 결측치: 0\n",
      "aq27_2열 결측치: 6\n",
      "aq28_2열 결측치: 0\n",
      "aq29_2열 결측치: 0\n",
      "aq30_2열 결측치: 0\n",
      "aq31_2열 결측치: 0\n",
      "aq32_2열 결측치: 10\n",
      "aq33_2열 결측치: 0\n",
      "aq34_2열 결측치: 0\n",
      "aq35_2열 결측치: 0\n",
      "aq36_2열 결측치: 0\n",
      "aq37_2열 결측치: 0\n",
      "aq38_2열 결측치: 0\n",
      "aq39_2열 결측치: 0\n",
      "aq40_2열 결측치: 0\n",
      "aq41_2열 결측치: 5\n"
     ]
    }
   ],
   "source": [
    "for col in know_test[0].columns:\n",
    "    if re.findall('aq.*_1', col):\n",
    "        na_col = re.sub('_1', '_2', col)\n",
    "        know_test[0].loc[(know_test[0][col] == 1), na_col] = 0\n",
    "        print(f'{na_col}열 결측치: {know_test[0][na_col].isna().sum()}')"
   ]
  },
  {
   "cell_type": "code",
   "execution_count": 15,
   "id": "2be0e40c",
   "metadata": {},
   "outputs": [
    {
     "name": "stdout",
     "output_type": "stream",
     "text": [
      "train\n",
      "['aq11_2', 'aq14_2', 'aq27_2', 'aq32_2', 'aq41_2', 'bq4_1a', 'bq4_1b', 'bq4_1c', 'bq5_1', 'bq5_2', 'bq12_2', 'bq12_3', 'bq12_4', 'bq19_1', 'bq31', 'bq32', 'bq33', 'bq34', 'bq38_1', 'bq40', 'bq41_1', 'bq41_2', 'bq41_3']\n",
      "--------------------------------------------------\n",
      "test\n",
      "['aq11_2', 'aq14_2', 'aq27_2', 'aq32_2', 'aq41_2', 'bq4_1a', 'bq4_1b', 'bq4_1c', 'bq5_1', 'bq5_2', 'bq12_2', 'bq12_3', 'bq12_4', 'bq19_1', 'bq30', 'bq31', 'bq32', 'bq33', 'bq34', 'bq38_1', 'bq40', 'bq41_1', 'bq41_2', 'bq41_3']\n"
     ]
    }
   ],
   "source": [
    "print(f'train\\n{know_train[0].columns[know_train[0].isna().sum()>0].tolist()}')\n",
    "print('-'*50)\n",
    "print(f'test\\n{know_test[0].columns[know_test[0].isna().sum()>0].tolist()}')"
   ]
  },
  {
   "cell_type": "markdown",
   "id": "e4757393",
   "metadata": {},
   "source": [
    "## 'aq11_2', 'aq14_2', 'aq27_2', 'aq32_2', 'aq41_2'문항에 결측치가 여전히 존재함."
   ]
  },
  {
   "cell_type": "code",
   "execution_count": 16,
   "id": "643b43e1",
   "metadata": {},
   "outputs": [
    {
     "data": {
      "text/html": [
       "<div>\n",
       "<style scoped>\n",
       "    .dataframe tbody tr th:only-of-type {\n",
       "        vertical-align: middle;\n",
       "    }\n",
       "\n",
       "    .dataframe tbody tr th {\n",
       "        vertical-align: top;\n",
       "    }\n",
       "\n",
       "    .dataframe thead th {\n",
       "        text-align: right;\n",
       "    }\n",
       "</style>\n",
       "<table border=\"1\" class=\"dataframe\">\n",
       "  <thead>\n",
       "    <tr style=\"text-align: right;\">\n",
       "      <th></th>\n",
       "      <th>aq11_1</th>\n",
       "      <th>aq11_2</th>\n",
       "    </tr>\n",
       "    <tr>\n",
       "      <th>idx</th>\n",
       "      <th></th>\n",
       "      <th></th>\n",
       "    </tr>\n",
       "  </thead>\n",
       "  <tbody>\n",
       "    <tr>\n",
       "      <th>89</th>\n",
       "      <td>3</td>\n",
       "      <td>NaN</td>\n",
       "    </tr>\n",
       "    <tr>\n",
       "      <th>577</th>\n",
       "      <td>3</td>\n",
       "      <td>NaN</td>\n",
       "    </tr>\n",
       "    <tr>\n",
       "      <th>2422</th>\n",
       "      <td>3</td>\n",
       "      <td>NaN</td>\n",
       "    </tr>\n",
       "    <tr>\n",
       "      <th>4568</th>\n",
       "      <td>3</td>\n",
       "      <td>NaN</td>\n",
       "    </tr>\n",
       "  </tbody>\n",
       "</table>\n",
       "</div>"
      ],
      "text/plain": [
       "      aq11_1 aq11_2\n",
       "idx                \n",
       "89         3    NaN\n",
       "577        3    NaN\n",
       "2422       3    NaN\n",
       "4568       3    NaN"
      ]
     },
     "execution_count": 16,
     "metadata": {},
     "output_type": "execute_result"
    }
   ],
   "source": [
    "know_train[0].loc[know_train[0]['aq11_2'].isna(), ['aq11_1','aq11_2']]"
   ]
  },
  {
   "cell_type": "markdown",
   "id": "40147e33",
   "metadata": {},
   "source": [
    "* 모두 aq11_1에 3. '중요하다' 라고 답했으나 aq11_2 항목을 건너뜀..'ㅅ';; aq11_1=3을 선택한 사람들이 aq11_2를 어떻게 답했는지 확인"
   ]
  },
  {
   "cell_type": "code",
   "execution_count": 17,
   "id": "918354e6",
   "metadata": {},
   "outputs": [
    {
     "data": {
      "text/plain": [
       "4    1102\n",
       "3     591\n",
       "5     377\n",
       "2      86\n",
       "6      37\n",
       "1       8\n",
       "7       6\n",
       "Name: aq11_2, dtype: int64"
      ]
     },
     "execution_count": 17,
     "metadata": {},
     "output_type": "execute_result"
    }
   ],
   "source": [
    "know_train[0].loc[know_train[0]['aq11_1']==3, 'aq11_2'].value_counts()"
   ]
  },
  {
   "cell_type": "code",
   "execution_count": 18,
   "id": "0e070610",
   "metadata": {},
   "outputs": [
    {
     "data": {
      "text/plain": [
       "4.0"
      ]
     },
     "execution_count": 18,
     "metadata": {},
     "output_type": "execute_result"
    }
   ],
   "source": [
    "know_train[0].loc[(know_train[0]['aq11_1']==3)& (know_train[0]['aq11_2'].isna()==False), 'aq11_2'].astype(int).median()"
   ]
  },
  {
   "cell_type": "code",
   "execution_count": 19,
   "id": "1bb9e0c1",
   "metadata": {},
   "outputs": [],
   "source": [
    "know_train[0].loc[89, 'aq11_2'] = know_train[0].loc[(know_train[0]['aq11_1']==3) & (know_train[0]['aq11_2'].isna()==False), 'aq11_2'].astype(int).median()"
   ]
  },
  {
   "cell_type": "markdown",
   "id": "b1537a7c",
   "metadata": {},
   "source": [
    "중앙값으로 결측치를 채움"
   ]
  },
  {
   "cell_type": "markdown",
   "id": "c85edf76",
   "metadata": {},
   "source": [
    "## 다른 열들도 동일한 방법으로 결측치 채우기"
   ]
  },
  {
   "cell_type": "code",
   "execution_count": 20,
   "id": "cfc5af2c",
   "metadata": {},
   "outputs": [
    {
     "name": "stdout",
     "output_type": "stream",
     "text": [
      "577행 aq11_2열의 결측치를 aq11_1에 같은 응답(=3)을 한 사람들의 중앙값 4.0으로 대체합니다.\n",
      "2422행 aq11_2열의 결측치를 aq11_1에 같은 응답(=3)을 한 사람들의 중앙값 4.0으로 대체합니다.\n",
      "4568행 aq11_2열의 결측치를 aq11_1에 같은 응답(=3)을 한 사람들의 중앙값 4.0으로 대체합니다.\n",
      "3137행 aq14_2열의 결측치를 aq14_1에 같은 응답(=4)을 한 사람들의 중앙값 5.0으로 대체합니다.\n",
      "4564행 aq14_2열의 결측치를 aq14_1에 같은 응답(=4)을 한 사람들의 중앙값 5.0으로 대체합니다.\n",
      "6539행 aq14_2열의 결측치를 aq14_1에 같은 응답(=3)을 한 사람들의 중앙값 4.0으로 대체합니다.\n",
      "715행 aq27_2열의 결측치를 aq27_1에 같은 응답(=3)을 한 사람들의 중앙값 4.0으로 대체합니다.\n",
      "792행 aq27_2열의 결측치를 aq27_1에 같은 응답(=3)을 한 사람들의 중앙값 4.0으로 대체합니다.\n",
      "3960행 aq27_2열의 결측치를 aq27_1에 같은 응답(=3)을 한 사람들의 중앙값 4.0으로 대체합니다.\n",
      "4060행 aq27_2열의 결측치를 aq27_1에 같은 응답(=3)을 한 사람들의 중앙값 4.0으로 대체합니다.\n",
      "5388행 aq27_2열의 결측치를 aq27_1에 같은 응답(=3)을 한 사람들의 중앙값 4.0으로 대체합니다.\n",
      "6383행 aq27_2열의 결측치를 aq27_1에 같은 응답(=4)을 한 사람들의 중앙값 5.0으로 대체합니다.\n",
      "9449행 aq27_2열의 결측치를 aq27_1에 같은 응답(=3)을 한 사람들의 중앙값 4.0으로 대체합니다.\n",
      "1458행 aq32_2열의 결측치를 aq32_1에 같은 응답(=3)을 한 사람들의 중앙값 4.0으로 대체합니다.\n",
      "2680행 aq32_2열의 결측치를 aq32_1에 같은 응답(=3)을 한 사람들의 중앙값 4.0으로 대체합니다.\n",
      "3523행 aq32_2열의 결측치를 aq32_1에 같은 응답(=3)을 한 사람들의 중앙값 4.0으로 대체합니다.\n",
      "3656행 aq32_2열의 결측치를 aq32_1에 같은 응답(=3)을 한 사람들의 중앙값 4.0으로 대체합니다.\n",
      "5301행 aq32_2열의 결측치를 aq32_1에 같은 응답(=3)을 한 사람들의 중앙값 4.0으로 대체합니다.\n",
      "6368행 aq32_2열의 결측치를 aq32_1에 같은 응답(=3)을 한 사람들의 중앙값 4.0으로 대체합니다.\n",
      "6711행 aq32_2열의 결측치를 aq32_1에 같은 응답(=3)을 한 사람들의 중앙값 4.0으로 대체합니다.\n",
      "6864행 aq32_2열의 결측치를 aq32_1에 같은 응답(=3)을 한 사람들의 중앙값 4.0으로 대체합니다.\n",
      "7435행 aq32_2열의 결측치를 aq32_1에 같은 응답(=3)을 한 사람들의 중앙값 4.0으로 대체합니다.\n",
      "9316행 aq32_2열의 결측치를 aq32_1에 같은 응답(=3)을 한 사람들의 중앙값 4.0으로 대체합니다.\n",
      "9319행 aq32_2열의 결측치를 aq32_1에 같은 응답(=3)을 한 사람들의 중앙값 4.0으로 대체합니다.\n",
      "1798행 aq41_2열의 결측치를 aq41_1에 같은 응답(=3)을 한 사람들의 중앙값 4.0으로 대체합니다.\n",
      "6894행 aq41_2열의 결측치를 aq41_1에 같은 응답(=3)을 한 사람들의 중앙값 4.0으로 대체합니다.\n",
      "7118행 aq41_2열의 결측치를 aq41_1에 같은 응답(=3)을 한 사람들의 중앙값 4.0으로 대체합니다.\n",
      "8289행 aq41_2열의 결측치를 aq41_1에 같은 응답(=3)을 한 사람들의 중앙값 4.0으로 대체합니다.\n"
     ]
    }
   ],
   "source": [
    "na_cols = ['aq11_2', 'aq14_2', 'aq27_2', 'aq32_2', 'aq41_2']\n",
    "for col in na_cols:\n",
    "    na_indexs = know_train[0][know_train[0][col].isna()].index.tolist()\n",
    "    for index in na_indexs:\n",
    "        forward_col = re.sub('_2', '_1', col)\n",
    "        \n",
    "        # _1에 한 응답\n",
    "        val_1 = know_train[0].iloc[index][forward_col]\n",
    "        \n",
    "        # 같은 응답한 사람들의 _2 중앙값\n",
    "        val_2 = know_train[0].loc[(know_train[0][forward_col]==val_1)& (know_train[0][col].isna()==False), col].astype(int).median()\n",
    "        \n",
    "        know_train[0].loc[index, col] = val_2\n",
    "        print(f'{index}행 {col}열의 결측치를 {forward_col}에 같은 응답(={val_1})을 한 사람들의 중앙값 {val_2}으로 대체합니다.')"
   ]
  },
  {
   "cell_type": "code",
   "execution_count": 21,
   "id": "600624e0",
   "metadata": {},
   "outputs": [
    {
     "name": "stdout",
     "output_type": "stream",
     "text": [
      "4319행 aq11_2열의 결측치를 aq11_1에 같은 응답(=3)을 한 사람들의 중앙값 4.0으로 대체합니다.\n",
      "5290행 aq11_2열의 결측치를 aq11_1에 같은 응답(=3)을 한 사람들의 중앙값 4.0으로 대체합니다.\n",
      "5960행 aq11_2열의 결측치를 aq11_1에 같은 응답(=3)을 한 사람들의 중앙값 4.0으로 대체합니다.\n",
      "6775행 aq11_2열의 결측치를 aq11_1에 같은 응답(=3)을 한 사람들의 중앙값 4.0으로 대체합니다.\n",
      "6877행 aq11_2열의 결측치를 aq11_1에 같은 응답(=3)을 한 사람들의 중앙값 4.0으로 대체합니다.\n",
      "7350행 aq11_2열의 결측치를 aq11_1에 같은 응답(=3)을 한 사람들의 중앙값 4.0으로 대체합니다.\n",
      "723행 aq14_2열의 결측치를 aq14_1에 같은 응답(=3)을 한 사람들의 중앙값 4.0으로 대체합니다.\n",
      "1234행 aq14_2열의 결측치를 aq14_1에 같은 응답(=3)을 한 사람들의 중앙값 4.0으로 대체합니다.\n",
      "1452행 aq14_2열의 결측치를 aq14_1에 같은 응답(=3)을 한 사람들의 중앙값 4.0으로 대체합니다.\n",
      "2026행 aq14_2열의 결측치를 aq14_1에 같은 응답(=3)을 한 사람들의 중앙값 4.0으로 대체합니다.\n",
      "3083행 aq14_2열의 결측치를 aq14_1에 같은 응답(=3)을 한 사람들의 중앙값 4.0으로 대체합니다.\n",
      "5078행 aq14_2열의 결측치를 aq14_1에 같은 응답(=4)을 한 사람들의 중앙값 5.0으로 대체합니다.\n",
      "6270행 aq14_2열의 결측치를 aq14_1에 같은 응답(=3)을 한 사람들의 중앙값 4.0으로 대체합니다.\n",
      "7139행 aq14_2열의 결측치를 aq14_1에 같은 응답(=3)을 한 사람들의 중앙값 4.0으로 대체합니다.\n",
      "7320행 aq14_2열의 결측치를 aq14_1에 같은 응답(=3)을 한 사람들의 중앙값 4.0으로 대체합니다.\n",
      "2302행 aq27_2열의 결측치를 aq27_1에 같은 응답(=3)을 한 사람들의 중앙값 4.0으로 대체합니다.\n",
      "2479행 aq27_2열의 결측치를 aq27_1에 같은 응답(=3)을 한 사람들의 중앙값 4.0으로 대체합니다.\n",
      "2667행 aq27_2열의 결측치를 aq27_1에 같은 응답(=3)을 한 사람들의 중앙값 4.0으로 대체합니다.\n",
      "3334행 aq27_2열의 결측치를 aq27_1에 같은 응답(=4)을 한 사람들의 중앙값 5.0으로 대체합니다.\n",
      "6279행 aq27_2열의 결측치를 aq27_1에 같은 응답(=3)을 한 사람들의 중앙값 4.0으로 대체합니다.\n",
      "8052행 aq27_2열의 결측치를 aq27_1에 같은 응답(=3)을 한 사람들의 중앙값 4.0으로 대체합니다.\n",
      "1362행 aq32_2열의 결측치를 aq32_1에 같은 응답(=3)을 한 사람들의 중앙값 4.0으로 대체합니다.\n",
      "1651행 aq32_2열의 결측치를 aq32_1에 같은 응답(=3)을 한 사람들의 중앙값 4.0으로 대체합니다.\n",
      "2854행 aq32_2열의 결측치를 aq32_1에 같은 응답(=3)을 한 사람들의 중앙값 4.0으로 대체합니다.\n",
      "3194행 aq32_2열의 결측치를 aq32_1에 같은 응답(=3)을 한 사람들의 중앙값 4.0으로 대체합니다.\n",
      "3216행 aq32_2열의 결측치를 aq32_1에 같은 응답(=3)을 한 사람들의 중앙값 4.0으로 대체합니다.\n",
      "3280행 aq32_2열의 결측치를 aq32_1에 같은 응답(=3)을 한 사람들의 중앙값 4.0으로 대체합니다.\n",
      "7749행 aq32_2열의 결측치를 aq32_1에 같은 응답(=33)을 한 사람들의 중앙값 nan으로 대체합니다.\n",
      "8775행 aq32_2열의 결측치를 aq32_1에 같은 응답(=3)을 한 사람들의 중앙값 4.0으로 대체합니다.\n",
      "8811행 aq32_2열의 결측치를 aq32_1에 같은 응답(=3)을 한 사람들의 중앙값 4.0으로 대체합니다.\n",
      "8853행 aq32_2열의 결측치를 aq32_1에 같은 응답(=3)을 한 사람들의 중앙값 4.0으로 대체합니다.\n",
      "1284행 aq41_2열의 결측치를 aq41_1에 같은 응답(=3)을 한 사람들의 중앙값 4.0으로 대체합니다.\n",
      "3460행 aq41_2열의 결측치를 aq41_1에 같은 응답(=3)을 한 사람들의 중앙값 4.0으로 대체합니다.\n",
      "5419행 aq41_2열의 결측치를 aq41_1에 같은 응답(=3)을 한 사람들의 중앙값 4.0으로 대체합니다.\n",
      "6893행 aq41_2열의 결측치를 aq41_1에 같은 응답(=3)을 한 사람들의 중앙값 4.0으로 대체합니다.\n",
      "8305행 aq41_2열의 결측치를 aq41_1에 같은 응답(=3)을 한 사람들의 중앙값 4.0으로 대체합니다.\n"
     ]
    }
   ],
   "source": [
    "na_cols = ['aq11_2', 'aq14_2', 'aq27_2', 'aq32_2', 'aq41_2']\n",
    "for col in na_cols:\n",
    "    na_indexs = know_test[0][know_test[0][col].isna()].index.tolist()\n",
    "    for index in na_indexs:\n",
    "        forward_col = re.sub('_2', '_1', col)\n",
    "        \n",
    "        # _1에 같은 응답\n",
    "        val_1 = know_test[0].iloc[index][forward_col]\n",
    "        \n",
    "        # 같은 응답한 사람들의 _2 중앙값\n",
    "        val_2 = know_test[0].loc[(know_test[0][forward_col]==val_1)& (know_test[0][col].isna()==False), col].astype(int).median()\n",
    "        \n",
    "        know_test[0].loc[index, col] = val_2\n",
    "        print(f'{index}행 {col}열의 결측치를 {forward_col}에 같은 응답(={val_1})을 한 사람들의 중앙값 {val_2}으로 대체합니다.')"
   ]
  },
  {
   "cell_type": "markdown",
   "id": "7321fc9b",
   "metadata": {},
   "source": [
    "## 7749행 aq32_2열의 결측치를 aq32_1에 같은 응답(=33)을 한 사람들의 중앙값 nan으로 대체합니다.\n",
    "* 33..?"
   ]
  },
  {
   "cell_type": "code",
   "execution_count": 22,
   "id": "ac3d7b7a",
   "metadata": {},
   "outputs": [
    {
     "data": {
      "text/plain": [
       "33"
      ]
     },
     "execution_count": 22,
     "metadata": {},
     "output_type": "execute_result"
    }
   ],
   "source": [
    "know_test[0].iloc[7749]['aq32_1']"
   ]
  },
  {
   "cell_type": "code",
   "execution_count": 23,
   "id": "47f69ef4",
   "metadata": {},
   "outputs": [],
   "source": [
    "know_test[0].loc[7749,'aq32_1'] = 3"
   ]
  },
  {
   "cell_type": "code",
   "execution_count": 24,
   "id": "1b21ea7d",
   "metadata": {},
   "outputs": [],
   "source": [
    "know_test[0].loc[7749,'aq32_2'] = know_test[0].loc[(know_test[0]['aq32_1']==3) & (know_test[0]['aq32_2'].isna()==False), 'aq32_2'].astype(int).median()"
   ]
  },
  {
   "cell_type": "code",
   "execution_count": 25,
   "id": "bd515b18",
   "metadata": {},
   "outputs": [
    {
     "data": {
      "text/plain": [
       "4.0"
      ]
     },
     "execution_count": 25,
     "metadata": {},
     "output_type": "execute_result"
    }
   ],
   "source": [
    "know_test[0].loc[7749,'aq32_2']"
   ]
  },
  {
   "cell_type": "markdown",
   "id": "77a82cdd",
   "metadata": {},
   "source": [
    "# 이상치 확인\n",
    "## 값의 범위\n",
    "* aq*_1 : 1~5\n",
    "* aq*_2 : 1~7"
   ]
  },
  {
   "cell_type": "code",
   "execution_count": 26,
   "id": "ca1b252b",
   "metadata": {},
   "outputs": [
    {
     "name": "stdout",
     "output_type": "stream",
     "text": [
      "[3985]행 aq41_1열에 이상치 존재\n"
     ]
    }
   ],
   "source": [
    "for col in know_train[0].columns:\n",
    "    if re.findall('aq.*_1', col):\n",
    "        outofval = know_train[0].loc[know_train[0][col].astype(int)>5,col].index.tolist()\n",
    "        if outofval:\n",
    "            print(f'{outofval}행 {col}열에 이상치 존재')\n",
    "    elif re.findall('aq.*_2', col):\n",
    "        outofval = know_train[0].loc[know_train[0][col].astype(int)>7,col].index.tolist()\n",
    "        if outofval:\n",
    "            print(f'{outofval}행 {col}열에 이상치 존재')"
   ]
  },
  {
   "cell_type": "code",
   "execution_count": 27,
   "id": "a9a92c27",
   "metadata": {},
   "outputs": [
    {
     "data": {
      "text/plain": [
       "33"
      ]
     },
     "execution_count": 27,
     "metadata": {},
     "output_type": "execute_result"
    }
   ],
   "source": [
    "know_train[0].loc[3985, 'aq41_1']"
   ]
  },
  {
   "cell_type": "code",
   "execution_count": 28,
   "id": "dd535e29",
   "metadata": {},
   "outputs": [],
   "source": [
    "know_train[0].loc[3985, 'aq41_1'] = 3"
   ]
  },
  {
   "cell_type": "code",
   "execution_count": 29,
   "id": "6cf8fa69",
   "metadata": {},
   "outputs": [],
   "source": [
    "for col in know_test[0].columns:\n",
    "    if re.findall('aq.*_1', col):\n",
    "        outofval = know_test[0].loc[know_test[0][col].astype(int)>5,col].index.tolist()\n",
    "        if outofval:\n",
    "            print(f'{outofval}행 {col}열에 이상치 존재')\n",
    "    elif re.findall('aq.*_2', col):\n",
    "        outofval = know_test[0].loc[know_test[0][col].astype(int)>7,col].index.tolist()\n",
    "        if outofval:\n",
    "            print(f'{outofval}행 {col}열에 이상치 존재')"
   ]
  },
  {
   "cell_type": "markdown",
   "id": "fc13eff4",
   "metadata": {},
   "source": [
    "* 나중에 다시 할때는 이상치 먼저 변경\n",
    "* know_test[0].loc[7749,'aq32_1'] = 3\n",
    "* know_train[0].loc[3985, 'aq41_1'] = 3\n"
   ]
  },
  {
   "cell_type": "markdown",
   "id": "d1b77f9c",
   "metadata": {},
   "source": [
    "## 결측치 재확인"
   ]
  },
  {
   "cell_type": "code",
   "execution_count": 30,
   "id": "ea1772c8",
   "metadata": {},
   "outputs": [
    {
     "name": "stdout",
     "output_type": "stream",
     "text": [
      "train\n",
      "['bq4_1a', 'bq4_1b', 'bq4_1c', 'bq5_1', 'bq5_2', 'bq12_2', 'bq12_3', 'bq12_4', 'bq19_1', 'bq31', 'bq32', 'bq33', 'bq34', 'bq38_1', 'bq40', 'bq41_1', 'bq41_2', 'bq41_3']\n",
      "--------------------------------------------------\n",
      "test\n",
      "['bq4_1a', 'bq4_1b', 'bq4_1c', 'bq5_1', 'bq5_2', 'bq12_2', 'bq12_3', 'bq12_4', 'bq19_1', 'bq30', 'bq31', 'bq32', 'bq33', 'bq34', 'bq38_1', 'bq40', 'bq41_1', 'bq41_2', 'bq41_3']\n"
     ]
    }
   ],
   "source": [
    "print(f'train\\n{know_train[0].columns[know_train[0].isna().sum()>0].tolist()}')\n",
    "print('-'*50)\n",
    "print(f'test\\n{know_test[0].columns[know_test[0].isna().sum()>0].tolist()}')"
   ]
  },
  {
   "cell_type": "markdown",
   "id": "838b7940",
   "metadata": {},
   "source": [
    "# bq 문항 확인\n",
    "* bq1 : 1~21\n",
    "* bq2, bq3, bq22: 1~6\n",
    "* bq6, bq7: 1~7\n",
    "* bq8_1 ~ bq19, bq21, bq25 ~ 29: 1 ~ 5\n",
    "* bq19_1 : 텍스트\n",
    "* bq20 :1~4\n",
    "* bq23 : 기술적 변화요인으로 인한 업무 대체 비율, float 1~100\n",
    "* bq24_1 ~ 8 : 1 ~ 2\n",
    "* bq30 ~ 34: 텍스트\n",
    "* bq36: 성별 1.남 2.여\n",
    "* bq37: 나이\n",
    "* bq38: 학력\n",
    "    * bq38_1: 학과 텍스트\n",
    "* bq39_1: 고용형태, 1~4 선택시 bq40\n",
    "* bq39_2: 5~7 선택시 bq41_3\n",
    "* bq40: 1.정규직 2비정규직\n",
    "* bq41_1~3 : 소득"
   ]
  },
  {
   "cell_type": "markdown",
   "id": "63d83460",
   "metadata": {},
   "source": [
    "# bq4\n",
    "* bq4_1a : 업무에서 요구되는 자격증. bq4==1일때만, 텍스트 데이터\n",
    "* bq4_1b : 업무에서 요구되는 자격증. bq4==1일때만, 텍스트 데이터\n",
    "* bq4_1c : 업무에서 요구되는 자격증. bq4==1일때만, 텍스트 데이터\n",
    "### bq4=2라고 대답할 경우 a,b,c 미응답"
   ]
  },
  {
   "cell_type": "code",
   "execution_count": 31,
   "id": "4349c47b",
   "metadata": {},
   "outputs": [
    {
     "data": {
      "text/html": [
       "<div>\n",
       "<style scoped>\n",
       "    .dataframe tbody tr th:only-of-type {\n",
       "        vertical-align: middle;\n",
       "    }\n",
       "\n",
       "    .dataframe tbody tr th {\n",
       "        vertical-align: top;\n",
       "    }\n",
       "\n",
       "    .dataframe thead th {\n",
       "        text-align: right;\n",
       "    }\n",
       "</style>\n",
       "<table border=\"1\" class=\"dataframe\">\n",
       "  <thead>\n",
       "    <tr style=\"text-align: right;\">\n",
       "      <th></th>\n",
       "      <th>bq4</th>\n",
       "      <th>bq4_1a</th>\n",
       "      <th>bq4_1b</th>\n",
       "      <th>bq4_1c</th>\n",
       "    </tr>\n",
       "    <tr>\n",
       "      <th>idx</th>\n",
       "      <th></th>\n",
       "      <th></th>\n",
       "      <th></th>\n",
       "      <th></th>\n",
       "    </tr>\n",
       "  </thead>\n",
       "  <tbody>\n",
       "    <tr>\n",
       "      <th>0</th>\n",
       "      <td>1</td>\n",
       "      <td>자동차도장기능사</td>\n",
       "      <td>NaN</td>\n",
       "      <td>NaN</td>\n",
       "    </tr>\n",
       "    <tr>\n",
       "      <th>1</th>\n",
       "      <td>1</td>\n",
       "      <td>건축전기설비기술사</td>\n",
       "      <td>NaN</td>\n",
       "      <td>NaN</td>\n",
       "    </tr>\n",
       "    <tr>\n",
       "      <th>2</th>\n",
       "      <td>1</td>\n",
       "      <td>건축전기설비기술사</td>\n",
       "      <td>NaN</td>\n",
       "      <td>NaN</td>\n",
       "    </tr>\n",
       "    <tr>\n",
       "      <th>3</th>\n",
       "      <td>1</td>\n",
       "      <td>지적기사</td>\n",
       "      <td>NaN</td>\n",
       "      <td>NaN</td>\n",
       "    </tr>\n",
       "    <tr>\n",
       "      <th>4</th>\n",
       "      <td>1</td>\n",
       "      <td>건축전기설비기술사</td>\n",
       "      <td>NaN</td>\n",
       "      <td>NaN</td>\n",
       "    </tr>\n",
       "    <tr>\n",
       "      <th>...</th>\n",
       "      <td>...</td>\n",
       "      <td>...</td>\n",
       "      <td>...</td>\n",
       "      <td>...</td>\n",
       "    </tr>\n",
       "    <tr>\n",
       "      <th>9481</th>\n",
       "      <td>2</td>\n",
       "      <td>NaN</td>\n",
       "      <td>NaN</td>\n",
       "      <td>NaN</td>\n",
       "    </tr>\n",
       "    <tr>\n",
       "      <th>9482</th>\n",
       "      <td>2</td>\n",
       "      <td>NaN</td>\n",
       "      <td>NaN</td>\n",
       "      <td>NaN</td>\n",
       "    </tr>\n",
       "    <tr>\n",
       "      <th>9483</th>\n",
       "      <td>2</td>\n",
       "      <td>NaN</td>\n",
       "      <td>NaN</td>\n",
       "      <td>NaN</td>\n",
       "    </tr>\n",
       "    <tr>\n",
       "      <th>9484</th>\n",
       "      <td>2</td>\n",
       "      <td>NaN</td>\n",
       "      <td>NaN</td>\n",
       "      <td>NaN</td>\n",
       "    </tr>\n",
       "    <tr>\n",
       "      <th>9485</th>\n",
       "      <td>2</td>\n",
       "      <td>NaN</td>\n",
       "      <td>NaN</td>\n",
       "      <td>NaN</td>\n",
       "    </tr>\n",
       "  </tbody>\n",
       "</table>\n",
       "<p>9486 rows × 4 columns</p>\n",
       "</div>"
      ],
      "text/plain": [
       "      bq4     bq4_1a bq4_1b bq4_1c\n",
       "idx                               \n",
       "0       1   자동차도장기능사    NaN    NaN\n",
       "1       1  건축전기설비기술사    NaN    NaN\n",
       "2       1  건축전기설비기술사    NaN    NaN\n",
       "3       1       지적기사    NaN    NaN\n",
       "4       1  건축전기설비기술사    NaN    NaN\n",
       "...   ...        ...    ...    ...\n",
       "9481    2        NaN    NaN    NaN\n",
       "9482    2        NaN    NaN    NaN\n",
       "9483    2        NaN    NaN    NaN\n",
       "9484    2        NaN    NaN    NaN\n",
       "9485    2        NaN    NaN    NaN\n",
       "\n",
       "[9486 rows x 4 columns]"
      ]
     },
     "execution_count": 31,
     "metadata": {},
     "output_type": "execute_result"
    }
   ],
   "source": [
    "know_train[0][['bq4','bq4_1a','bq4_1b','bq4_1c']]"
   ]
  },
  {
   "cell_type": "code",
   "execution_count": 32,
   "id": "a94c9b83",
   "metadata": {},
   "outputs": [],
   "source": [
    "know_train[0].loc[know_train[0].bq4==2, ['bq4_1a','bq4_1b','bq4_1c']]= '없음'"
   ]
  },
  {
   "cell_type": "code",
   "execution_count": 33,
   "id": "e14f8732",
   "metadata": {},
   "outputs": [
    {
     "data": {
      "text/html": [
       "<div>\n",
       "<style scoped>\n",
       "    .dataframe tbody tr th:only-of-type {\n",
       "        vertical-align: middle;\n",
       "    }\n",
       "\n",
       "    .dataframe tbody tr th {\n",
       "        vertical-align: top;\n",
       "    }\n",
       "\n",
       "    .dataframe thead th {\n",
       "        text-align: right;\n",
       "    }\n",
       "</style>\n",
       "<table border=\"1\" class=\"dataframe\">\n",
       "  <thead>\n",
       "    <tr style=\"text-align: right;\">\n",
       "      <th></th>\n",
       "      <th>bq4</th>\n",
       "      <th>bq4_1a</th>\n",
       "      <th>bq4_1b</th>\n",
       "      <th>bq4_1c</th>\n",
       "    </tr>\n",
       "    <tr>\n",
       "      <th>idx</th>\n",
       "      <th></th>\n",
       "      <th></th>\n",
       "      <th></th>\n",
       "      <th></th>\n",
       "    </tr>\n",
       "  </thead>\n",
       "  <tbody>\n",
       "    <tr>\n",
       "      <th>0</th>\n",
       "      <td>1</td>\n",
       "      <td>자동차도장기능사</td>\n",
       "      <td>NaN</td>\n",
       "      <td>NaN</td>\n",
       "    </tr>\n",
       "    <tr>\n",
       "      <th>1</th>\n",
       "      <td>1</td>\n",
       "      <td>건축전기설비기술사</td>\n",
       "      <td>NaN</td>\n",
       "      <td>NaN</td>\n",
       "    </tr>\n",
       "    <tr>\n",
       "      <th>2</th>\n",
       "      <td>1</td>\n",
       "      <td>건축전기설비기술사</td>\n",
       "      <td>NaN</td>\n",
       "      <td>NaN</td>\n",
       "    </tr>\n",
       "    <tr>\n",
       "      <th>3</th>\n",
       "      <td>1</td>\n",
       "      <td>지적기사</td>\n",
       "      <td>NaN</td>\n",
       "      <td>NaN</td>\n",
       "    </tr>\n",
       "    <tr>\n",
       "      <th>4</th>\n",
       "      <td>1</td>\n",
       "      <td>건축전기설비기술사</td>\n",
       "      <td>NaN</td>\n",
       "      <td>NaN</td>\n",
       "    </tr>\n",
       "    <tr>\n",
       "      <th>...</th>\n",
       "      <td>...</td>\n",
       "      <td>...</td>\n",
       "      <td>...</td>\n",
       "      <td>...</td>\n",
       "    </tr>\n",
       "    <tr>\n",
       "      <th>9481</th>\n",
       "      <td>2</td>\n",
       "      <td>없음</td>\n",
       "      <td>없음</td>\n",
       "      <td>없음</td>\n",
       "    </tr>\n",
       "    <tr>\n",
       "      <th>9482</th>\n",
       "      <td>2</td>\n",
       "      <td>없음</td>\n",
       "      <td>없음</td>\n",
       "      <td>없음</td>\n",
       "    </tr>\n",
       "    <tr>\n",
       "      <th>9483</th>\n",
       "      <td>2</td>\n",
       "      <td>없음</td>\n",
       "      <td>없음</td>\n",
       "      <td>없음</td>\n",
       "    </tr>\n",
       "    <tr>\n",
       "      <th>9484</th>\n",
       "      <td>2</td>\n",
       "      <td>없음</td>\n",
       "      <td>없음</td>\n",
       "      <td>없음</td>\n",
       "    </tr>\n",
       "    <tr>\n",
       "      <th>9485</th>\n",
       "      <td>2</td>\n",
       "      <td>없음</td>\n",
       "      <td>없음</td>\n",
       "      <td>없음</td>\n",
       "    </tr>\n",
       "  </tbody>\n",
       "</table>\n",
       "<p>9486 rows × 4 columns</p>\n",
       "</div>"
      ],
      "text/plain": [
       "      bq4     bq4_1a bq4_1b bq4_1c\n",
       "idx                               \n",
       "0       1   자동차도장기능사    NaN    NaN\n",
       "1       1  건축전기설비기술사    NaN    NaN\n",
       "2       1  건축전기설비기술사    NaN    NaN\n",
       "3       1       지적기사    NaN    NaN\n",
       "4       1  건축전기설비기술사    NaN    NaN\n",
       "...   ...        ...    ...    ...\n",
       "9481    2         없음     없음     없음\n",
       "9482    2         없음     없음     없음\n",
       "9483    2         없음     없음     없음\n",
       "9484    2         없음     없음     없음\n",
       "9485    2         없음     없음     없음\n",
       "\n",
       "[9486 rows x 4 columns]"
      ]
     },
     "execution_count": 33,
     "metadata": {},
     "output_type": "execute_result"
    }
   ],
   "source": [
    "know_train[0][['bq4','bq4_1a','bq4_1b','bq4_1c']]"
   ]
  },
  {
   "cell_type": "code",
   "execution_count": 34,
   "id": "77d44a85",
   "metadata": {},
   "outputs": [
    {
     "data": {
      "text/html": [
       "<div>\n",
       "<style scoped>\n",
       "    .dataframe tbody tr th:only-of-type {\n",
       "        vertical-align: middle;\n",
       "    }\n",
       "\n",
       "    .dataframe tbody tr th {\n",
       "        vertical-align: top;\n",
       "    }\n",
       "\n",
       "    .dataframe thead th {\n",
       "        text-align: right;\n",
       "    }\n",
       "</style>\n",
       "<table border=\"1\" class=\"dataframe\">\n",
       "  <thead>\n",
       "    <tr style=\"text-align: right;\">\n",
       "      <th></th>\n",
       "      <th>bq4_1b</th>\n",
       "      <th>bq4_1c</th>\n",
       "    </tr>\n",
       "    <tr>\n",
       "      <th>idx</th>\n",
       "      <th></th>\n",
       "      <th></th>\n",
       "    </tr>\n",
       "  </thead>\n",
       "  <tbody>\n",
       "    <tr>\n",
       "      <th>0</th>\n",
       "      <td>없음</td>\n",
       "      <td>없음</td>\n",
       "    </tr>\n",
       "    <tr>\n",
       "      <th>1</th>\n",
       "      <td>없음</td>\n",
       "      <td>없음</td>\n",
       "    </tr>\n",
       "    <tr>\n",
       "      <th>2</th>\n",
       "      <td>없음</td>\n",
       "      <td>없음</td>\n",
       "    </tr>\n",
       "    <tr>\n",
       "      <th>3</th>\n",
       "      <td>없음</td>\n",
       "      <td>없음</td>\n",
       "    </tr>\n",
       "    <tr>\n",
       "      <th>4</th>\n",
       "      <td>없음</td>\n",
       "      <td>없음</td>\n",
       "    </tr>\n",
       "    <tr>\n",
       "      <th>...</th>\n",
       "      <td>...</td>\n",
       "      <td>...</td>\n",
       "    </tr>\n",
       "    <tr>\n",
       "      <th>9470</th>\n",
       "      <td>없음</td>\n",
       "      <td>없음</td>\n",
       "    </tr>\n",
       "    <tr>\n",
       "      <th>9472</th>\n",
       "      <td>제빵기능사</td>\n",
       "      <td>없음</td>\n",
       "    </tr>\n",
       "    <tr>\n",
       "      <th>9473</th>\n",
       "      <td>변액보험판매관리사</td>\n",
       "      <td>없음</td>\n",
       "    </tr>\n",
       "    <tr>\n",
       "      <th>9476</th>\n",
       "      <td>없음</td>\n",
       "      <td>없음</td>\n",
       "    </tr>\n",
       "    <tr>\n",
       "      <th>9478</th>\n",
       "      <td>없음</td>\n",
       "      <td>없음</td>\n",
       "    </tr>\n",
       "  </tbody>\n",
       "</table>\n",
       "<p>4100 rows × 2 columns</p>\n",
       "</div>"
      ],
      "text/plain": [
       "         bq4_1b bq4_1c\n",
       "idx                   \n",
       "0            없음     없음\n",
       "1            없음     없음\n",
       "2            없음     없음\n",
       "3            없음     없음\n",
       "4            없음     없음\n",
       "...         ...    ...\n",
       "9470         없음     없음\n",
       "9472      제빵기능사     없음\n",
       "9473  변액보험판매관리사     없음\n",
       "9476         없음     없음\n",
       "9478         없음     없음\n",
       "\n",
       "[4100 rows x 2 columns]"
      ]
     },
     "execution_count": 34,
     "metadata": {},
     "output_type": "execute_result"
    }
   ],
   "source": [
    "know_train[0].loc[know_train[0].bq4==1, ['bq4_1b','bq4_1c']].fillna('없음')"
   ]
  },
  {
   "cell_type": "code",
   "execution_count": 35,
   "id": "6d355e5e",
   "metadata": {},
   "outputs": [
    {
     "data": {
      "text/html": [
       "<div>\n",
       "<style scoped>\n",
       "    .dataframe tbody tr th:only-of-type {\n",
       "        vertical-align: middle;\n",
       "    }\n",
       "\n",
       "    .dataframe tbody tr th {\n",
       "        vertical-align: top;\n",
       "    }\n",
       "\n",
       "    .dataframe thead th {\n",
       "        text-align: right;\n",
       "    }\n",
       "</style>\n",
       "<table border=\"1\" class=\"dataframe\">\n",
       "  <thead>\n",
       "    <tr style=\"text-align: right;\">\n",
       "      <th></th>\n",
       "      <th>bq4</th>\n",
       "      <th>bq4_1a</th>\n",
       "      <th>bq4_1b</th>\n",
       "      <th>bq4_1c</th>\n",
       "    </tr>\n",
       "    <tr>\n",
       "      <th>idx</th>\n",
       "      <th></th>\n",
       "      <th></th>\n",
       "      <th></th>\n",
       "      <th></th>\n",
       "    </tr>\n",
       "  </thead>\n",
       "  <tbody>\n",
       "    <tr>\n",
       "      <th>0</th>\n",
       "      <td>2</td>\n",
       "      <td>NaN</td>\n",
       "      <td>NaN</td>\n",
       "      <td>NaN</td>\n",
       "    </tr>\n",
       "    <tr>\n",
       "      <th>1</th>\n",
       "      <td>1</td>\n",
       "      <td>품질관리기사</td>\n",
       "      <td>NaN</td>\n",
       "      <td>NaN</td>\n",
       "    </tr>\n",
       "    <tr>\n",
       "      <th>2</th>\n",
       "      <td>2</td>\n",
       "      <td>NaN</td>\n",
       "      <td>NaN</td>\n",
       "      <td>NaN</td>\n",
       "    </tr>\n",
       "    <tr>\n",
       "      <th>3</th>\n",
       "      <td>2</td>\n",
       "      <td>NaN</td>\n",
       "      <td>NaN</td>\n",
       "      <td>NaN</td>\n",
       "    </tr>\n",
       "    <tr>\n",
       "      <th>4</th>\n",
       "      <td>2</td>\n",
       "      <td>NaN</td>\n",
       "      <td>NaN</td>\n",
       "      <td>NaN</td>\n",
       "    </tr>\n",
       "    <tr>\n",
       "      <th>...</th>\n",
       "      <td>...</td>\n",
       "      <td>...</td>\n",
       "      <td>...</td>\n",
       "      <td>...</td>\n",
       "    </tr>\n",
       "    <tr>\n",
       "      <th>9481</th>\n",
       "      <td>1</td>\n",
       "      <td>굴삭기 운전</td>\n",
       "      <td>NaN</td>\n",
       "      <td>NaN</td>\n",
       "    </tr>\n",
       "    <tr>\n",
       "      <th>9482</th>\n",
       "      <td>2</td>\n",
       "      <td>NaN</td>\n",
       "      <td>NaN</td>\n",
       "      <td>NaN</td>\n",
       "    </tr>\n",
       "    <tr>\n",
       "      <th>9483</th>\n",
       "      <td>1</td>\n",
       "      <td>건설기계 면허</td>\n",
       "      <td>NaN</td>\n",
       "      <td>NaN</td>\n",
       "    </tr>\n",
       "    <tr>\n",
       "      <th>9484</th>\n",
       "      <td>1</td>\n",
       "      <td>CCIE</td>\n",
       "      <td>정보처리기사</td>\n",
       "      <td>NaN</td>\n",
       "    </tr>\n",
       "    <tr>\n",
       "      <th>9485</th>\n",
       "      <td>1</td>\n",
       "      <td>굴삭기운전기능사</td>\n",
       "      <td>NaN</td>\n",
       "      <td>NaN</td>\n",
       "    </tr>\n",
       "  </tbody>\n",
       "</table>\n",
       "<p>9486 rows × 4 columns</p>\n",
       "</div>"
      ],
      "text/plain": [
       "      bq4    bq4_1a  bq4_1b bq4_1c\n",
       "idx                               \n",
       "0       2       NaN     NaN    NaN\n",
       "1       1    품질관리기사     NaN    NaN\n",
       "2       2       NaN     NaN    NaN\n",
       "3       2       NaN     NaN    NaN\n",
       "4       2       NaN     NaN    NaN\n",
       "...   ...       ...     ...    ...\n",
       "9481    1    굴삭기 운전     NaN    NaN\n",
       "9482    2       NaN     NaN    NaN\n",
       "9483    1   건설기계 면허     NaN    NaN\n",
       "9484    1      CCIE  정보처리기사    NaN\n",
       "9485    1  굴삭기운전기능사     NaN    NaN\n",
       "\n",
       "[9486 rows x 4 columns]"
      ]
     },
     "execution_count": 35,
     "metadata": {},
     "output_type": "execute_result"
    }
   ],
   "source": [
    "know_test[0][['bq4','bq4_1a','bq4_1b','bq4_1c']]"
   ]
  },
  {
   "cell_type": "code",
   "execution_count": 36,
   "id": "7f0424e1",
   "metadata": {},
   "outputs": [
    {
     "data": {
      "text/html": [
       "<div>\n",
       "<style scoped>\n",
       "    .dataframe tbody tr th:only-of-type {\n",
       "        vertical-align: middle;\n",
       "    }\n",
       "\n",
       "    .dataframe tbody tr th {\n",
       "        vertical-align: top;\n",
       "    }\n",
       "\n",
       "    .dataframe thead th {\n",
       "        text-align: right;\n",
       "    }\n",
       "</style>\n",
       "<table border=\"1\" class=\"dataframe\">\n",
       "  <thead>\n",
       "    <tr style=\"text-align: right;\">\n",
       "      <th></th>\n",
       "      <th>bq4</th>\n",
       "      <th>bq4_1a</th>\n",
       "      <th>bq4_1b</th>\n",
       "      <th>bq4_1c</th>\n",
       "    </tr>\n",
       "    <tr>\n",
       "      <th>idx</th>\n",
       "      <th></th>\n",
       "      <th></th>\n",
       "      <th></th>\n",
       "      <th></th>\n",
       "    </tr>\n",
       "  </thead>\n",
       "  <tbody>\n",
       "    <tr>\n",
       "      <th>0</th>\n",
       "      <td>2</td>\n",
       "      <td>없음</td>\n",
       "      <td>없음</td>\n",
       "      <td>없음</td>\n",
       "    </tr>\n",
       "    <tr>\n",
       "      <th>1</th>\n",
       "      <td>1</td>\n",
       "      <td>품질관리기사</td>\n",
       "      <td>NaN</td>\n",
       "      <td>NaN</td>\n",
       "    </tr>\n",
       "    <tr>\n",
       "      <th>2</th>\n",
       "      <td>2</td>\n",
       "      <td>없음</td>\n",
       "      <td>없음</td>\n",
       "      <td>없음</td>\n",
       "    </tr>\n",
       "    <tr>\n",
       "      <th>3</th>\n",
       "      <td>2</td>\n",
       "      <td>없음</td>\n",
       "      <td>없음</td>\n",
       "      <td>없음</td>\n",
       "    </tr>\n",
       "    <tr>\n",
       "      <th>4</th>\n",
       "      <td>2</td>\n",
       "      <td>없음</td>\n",
       "      <td>없음</td>\n",
       "      <td>없음</td>\n",
       "    </tr>\n",
       "    <tr>\n",
       "      <th>...</th>\n",
       "      <td>...</td>\n",
       "      <td>...</td>\n",
       "      <td>...</td>\n",
       "      <td>...</td>\n",
       "    </tr>\n",
       "    <tr>\n",
       "      <th>9481</th>\n",
       "      <td>1</td>\n",
       "      <td>굴삭기 운전</td>\n",
       "      <td>NaN</td>\n",
       "      <td>NaN</td>\n",
       "    </tr>\n",
       "    <tr>\n",
       "      <th>9482</th>\n",
       "      <td>2</td>\n",
       "      <td>없음</td>\n",
       "      <td>없음</td>\n",
       "      <td>없음</td>\n",
       "    </tr>\n",
       "    <tr>\n",
       "      <th>9483</th>\n",
       "      <td>1</td>\n",
       "      <td>건설기계 면허</td>\n",
       "      <td>NaN</td>\n",
       "      <td>NaN</td>\n",
       "    </tr>\n",
       "    <tr>\n",
       "      <th>9484</th>\n",
       "      <td>1</td>\n",
       "      <td>CCIE</td>\n",
       "      <td>정보처리기사</td>\n",
       "      <td>NaN</td>\n",
       "    </tr>\n",
       "    <tr>\n",
       "      <th>9485</th>\n",
       "      <td>1</td>\n",
       "      <td>굴삭기운전기능사</td>\n",
       "      <td>NaN</td>\n",
       "      <td>NaN</td>\n",
       "    </tr>\n",
       "  </tbody>\n",
       "</table>\n",
       "<p>9486 rows × 4 columns</p>\n",
       "</div>"
      ],
      "text/plain": [
       "      bq4    bq4_1a  bq4_1b bq4_1c\n",
       "idx                               \n",
       "0       2        없음      없음     없음\n",
       "1       1    품질관리기사     NaN    NaN\n",
       "2       2        없음      없음     없음\n",
       "3       2        없음      없음     없음\n",
       "4       2        없음      없음     없음\n",
       "...   ...       ...     ...    ...\n",
       "9481    1    굴삭기 운전     NaN    NaN\n",
       "9482    2        없음      없음     없음\n",
       "9483    1   건설기계 면허     NaN    NaN\n",
       "9484    1      CCIE  정보처리기사    NaN\n",
       "9485    1  굴삭기운전기능사     NaN    NaN\n",
       "\n",
       "[9486 rows x 4 columns]"
      ]
     },
     "execution_count": 36,
     "metadata": {},
     "output_type": "execute_result"
    }
   ],
   "source": [
    "know_test[0].loc[know_test[0].bq4==2, ['bq4_1a','bq4_1b','bq4_1c']]= '없음'\n",
    "know_test[0][['bq4','bq4_1a','bq4_1b','bq4_1c']]"
   ]
  },
  {
   "cell_type": "code",
   "execution_count": 37,
   "id": "6291c418",
   "metadata": {},
   "outputs": [
    {
     "data": {
      "text/html": [
       "<div>\n",
       "<style scoped>\n",
       "    .dataframe tbody tr th:only-of-type {\n",
       "        vertical-align: middle;\n",
       "    }\n",
       "\n",
       "    .dataframe tbody tr th {\n",
       "        vertical-align: top;\n",
       "    }\n",
       "\n",
       "    .dataframe thead th {\n",
       "        text-align: right;\n",
       "    }\n",
       "</style>\n",
       "<table border=\"1\" class=\"dataframe\">\n",
       "  <thead>\n",
       "    <tr style=\"text-align: right;\">\n",
       "      <th></th>\n",
       "      <th>bq4_1b</th>\n",
       "      <th>bq4_1c</th>\n",
       "    </tr>\n",
       "    <tr>\n",
       "      <th>idx</th>\n",
       "      <th></th>\n",
       "      <th></th>\n",
       "    </tr>\n",
       "  </thead>\n",
       "  <tbody>\n",
       "    <tr>\n",
       "      <th>1</th>\n",
       "      <td>없음</td>\n",
       "      <td>없음</td>\n",
       "    </tr>\n",
       "    <tr>\n",
       "      <th>6</th>\n",
       "      <td>없음</td>\n",
       "      <td>없음</td>\n",
       "    </tr>\n",
       "    <tr>\n",
       "      <th>13</th>\n",
       "      <td>수질환경산업기사</td>\n",
       "      <td>없음</td>\n",
       "    </tr>\n",
       "    <tr>\n",
       "      <th>14</th>\n",
       "      <td>없음</td>\n",
       "      <td>없음</td>\n",
       "    </tr>\n",
       "    <tr>\n",
       "      <th>18</th>\n",
       "      <td>없음</td>\n",
       "      <td>없음</td>\n",
       "    </tr>\n",
       "    <tr>\n",
       "      <th>...</th>\n",
       "      <td>...</td>\n",
       "      <td>...</td>\n",
       "    </tr>\n",
       "    <tr>\n",
       "      <th>9479</th>\n",
       "      <td>없음</td>\n",
       "      <td>없음</td>\n",
       "    </tr>\n",
       "    <tr>\n",
       "      <th>9481</th>\n",
       "      <td>없음</td>\n",
       "      <td>없음</td>\n",
       "    </tr>\n",
       "    <tr>\n",
       "      <th>9483</th>\n",
       "      <td>없음</td>\n",
       "      <td>없음</td>\n",
       "    </tr>\n",
       "    <tr>\n",
       "      <th>9484</th>\n",
       "      <td>정보처리기사</td>\n",
       "      <td>없음</td>\n",
       "    </tr>\n",
       "    <tr>\n",
       "      <th>9485</th>\n",
       "      <td>없음</td>\n",
       "      <td>없음</td>\n",
       "    </tr>\n",
       "  </tbody>\n",
       "</table>\n",
       "<p>4053 rows × 2 columns</p>\n",
       "</div>"
      ],
      "text/plain": [
       "        bq4_1b bq4_1c\n",
       "idx                  \n",
       "1           없음     없음\n",
       "6           없음     없음\n",
       "13    수질환경산업기사     없음\n",
       "14          없음     없음\n",
       "18          없음     없음\n",
       "...        ...    ...\n",
       "9479        없음     없음\n",
       "9481        없음     없음\n",
       "9483        없음     없음\n",
       "9484    정보처리기사     없음\n",
       "9485        없음     없음\n",
       "\n",
       "[4053 rows x 2 columns]"
      ]
     },
     "execution_count": 37,
     "metadata": {},
     "output_type": "execute_result"
    }
   ],
   "source": [
    "know_test[0].loc[know_test[0].bq4==1, ['bq4_1b','bq4_1c']].fillna('없음')"
   ]
  },
  {
   "cell_type": "code",
   "execution_count": 38,
   "id": "0ca63d81",
   "metadata": {},
   "outputs": [
    {
     "name": "stdout",
     "output_type": "stream",
     "text": [
      "train.bq4 결측치: 0\n",
      "test.bq4 결측치: 0\n"
     ]
    }
   ],
   "source": [
    "print(f'train.bq4 결측치: {know_train[0].bq4.isna().sum()}')\n",
    "print(f'test.bq4 결측치: {know_test[0].bq4.isna().sum()}')"
   ]
  },
  {
   "cell_type": "markdown",
   "id": "79f8b777",
   "metadata": {},
   "source": [
    "# bq5\n",
    "* bq5 : 1~2 훈련 필요하다/필요없다\n",
    "    * bq5_1 : 1~6, 훈련기간, bq5==1일때만\n",
    "    * bq5_2 : 훈련종류, bq5==1일때만, 텍스트"
   ]
  },
  {
   "cell_type": "code",
   "execution_count": 39,
   "id": "35e3b897",
   "metadata": {},
   "outputs": [
    {
     "data": {
      "text/html": [
       "<div>\n",
       "<style scoped>\n",
       "    .dataframe tbody tr th:only-of-type {\n",
       "        vertical-align: middle;\n",
       "    }\n",
       "\n",
       "    .dataframe tbody tr th {\n",
       "        vertical-align: top;\n",
       "    }\n",
       "\n",
       "    .dataframe thead th {\n",
       "        text-align: right;\n",
       "    }\n",
       "</style>\n",
       "<table border=\"1\" class=\"dataframe\">\n",
       "  <thead>\n",
       "    <tr style=\"text-align: right;\">\n",
       "      <th></th>\n",
       "      <th>bq5</th>\n",
       "      <th>bq5_1</th>\n",
       "      <th>bq5_2</th>\n",
       "    </tr>\n",
       "    <tr>\n",
       "      <th>idx</th>\n",
       "      <th></th>\n",
       "      <th></th>\n",
       "      <th></th>\n",
       "    </tr>\n",
       "  </thead>\n",
       "  <tbody>\n",
       "    <tr>\n",
       "      <th>0</th>\n",
       "      <td>1</td>\n",
       "      <td>2</td>\n",
       "      <td>실무교육</td>\n",
       "    </tr>\n",
       "    <tr>\n",
       "      <th>1</th>\n",
       "      <td>2</td>\n",
       "      <td>NaN</td>\n",
       "      <td>NaN</td>\n",
       "    </tr>\n",
       "    <tr>\n",
       "      <th>2</th>\n",
       "      <td>2</td>\n",
       "      <td>NaN</td>\n",
       "      <td>NaN</td>\n",
       "    </tr>\n",
       "    <tr>\n",
       "      <th>3</th>\n",
       "      <td>1</td>\n",
       "      <td>1</td>\n",
       "      <td>측량 및 정보통신기술 교육</td>\n",
       "    </tr>\n",
       "    <tr>\n",
       "      <th>4</th>\n",
       "      <td>2</td>\n",
       "      <td>NaN</td>\n",
       "      <td>NaN</td>\n",
       "    </tr>\n",
       "    <tr>\n",
       "      <th>...</th>\n",
       "      <td>...</td>\n",
       "      <td>...</td>\n",
       "      <td>...</td>\n",
       "    </tr>\n",
       "    <tr>\n",
       "      <th>9481</th>\n",
       "      <td>1</td>\n",
       "      <td>2</td>\n",
       "      <td>편집기술에 원리와 이해능력</td>\n",
       "    </tr>\n",
       "    <tr>\n",
       "      <th>9482</th>\n",
       "      <td>1</td>\n",
       "      <td>5</td>\n",
       "      <td>도면 작성 교육, 전자 기초 이해</td>\n",
       "    </tr>\n",
       "    <tr>\n",
       "      <th>9483</th>\n",
       "      <td>2</td>\n",
       "      <td>NaN</td>\n",
       "      <td>NaN</td>\n",
       "    </tr>\n",
       "    <tr>\n",
       "      <th>9484</th>\n",
       "      <td>2</td>\n",
       "      <td>NaN</td>\n",
       "      <td>NaN</td>\n",
       "    </tr>\n",
       "    <tr>\n",
       "      <th>9485</th>\n",
       "      <td>2</td>\n",
       "      <td>NaN</td>\n",
       "      <td>NaN</td>\n",
       "    </tr>\n",
       "  </tbody>\n",
       "</table>\n",
       "<p>9486 rows × 3 columns</p>\n",
       "</div>"
      ],
      "text/plain": [
       "      bq5 bq5_1               bq5_2\n",
       "idx                                \n",
       "0       1     2                실무교육\n",
       "1       2   NaN                 NaN\n",
       "2       2   NaN                 NaN\n",
       "3       1     1      측량 및 정보통신기술 교육\n",
       "4       2   NaN                 NaN\n",
       "...   ...   ...                 ...\n",
       "9481    1     2      편집기술에 원리와 이해능력\n",
       "9482    1     5  도면 작성 교육, 전자 기초 이해\n",
       "9483    2   NaN                 NaN\n",
       "9484    2   NaN                 NaN\n",
       "9485    2   NaN                 NaN\n",
       "\n",
       "[9486 rows x 3 columns]"
      ]
     },
     "execution_count": 39,
     "metadata": {},
     "output_type": "execute_result"
    }
   ],
   "source": [
    "know_train[0][['bq5','bq5_1','bq5_2']]"
   ]
  },
  {
   "cell_type": "code",
   "execution_count": 40,
   "id": "11b34e67",
   "metadata": {},
   "outputs": [],
   "source": [
    "know_train[0].loc[know_train[0].bq5==2,['bq5_1','bq5_2']] = '필요없음'"
   ]
  },
  {
   "cell_type": "code",
   "execution_count": 41,
   "id": "74eccbc1",
   "metadata": {},
   "outputs": [
    {
     "data": {
      "text/html": [
       "<div>\n",
       "<style scoped>\n",
       "    .dataframe tbody tr th:only-of-type {\n",
       "        vertical-align: middle;\n",
       "    }\n",
       "\n",
       "    .dataframe tbody tr th {\n",
       "        vertical-align: top;\n",
       "    }\n",
       "\n",
       "    .dataframe thead th {\n",
       "        text-align: right;\n",
       "    }\n",
       "</style>\n",
       "<table border=\"1\" class=\"dataframe\">\n",
       "  <thead>\n",
       "    <tr style=\"text-align: right;\">\n",
       "      <th></th>\n",
       "      <th>bq5_1</th>\n",
       "      <th>bq5_2</th>\n",
       "    </tr>\n",
       "    <tr>\n",
       "      <th>idx</th>\n",
       "      <th></th>\n",
       "      <th></th>\n",
       "    </tr>\n",
       "  </thead>\n",
       "  <tbody>\n",
       "    <tr>\n",
       "      <th>1</th>\n",
       "      <td>필요없음</td>\n",
       "      <td>필요없음</td>\n",
       "    </tr>\n",
       "    <tr>\n",
       "      <th>2</th>\n",
       "      <td>필요없음</td>\n",
       "      <td>필요없음</td>\n",
       "    </tr>\n",
       "    <tr>\n",
       "      <th>4</th>\n",
       "      <td>필요없음</td>\n",
       "      <td>필요없음</td>\n",
       "    </tr>\n",
       "    <tr>\n",
       "      <th>7</th>\n",
       "      <td>필요없음</td>\n",
       "      <td>필요없음</td>\n",
       "    </tr>\n",
       "    <tr>\n",
       "      <th>12</th>\n",
       "      <td>필요없음</td>\n",
       "      <td>필요없음</td>\n",
       "    </tr>\n",
       "    <tr>\n",
       "      <th>...</th>\n",
       "      <td>...</td>\n",
       "      <td>...</td>\n",
       "    </tr>\n",
       "    <tr>\n",
       "      <th>9478</th>\n",
       "      <td>필요없음</td>\n",
       "      <td>필요없음</td>\n",
       "    </tr>\n",
       "    <tr>\n",
       "      <th>9480</th>\n",
       "      <td>필요없음</td>\n",
       "      <td>필요없음</td>\n",
       "    </tr>\n",
       "    <tr>\n",
       "      <th>9483</th>\n",
       "      <td>필요없음</td>\n",
       "      <td>필요없음</td>\n",
       "    </tr>\n",
       "    <tr>\n",
       "      <th>9484</th>\n",
       "      <td>필요없음</td>\n",
       "      <td>필요없음</td>\n",
       "    </tr>\n",
       "    <tr>\n",
       "      <th>9485</th>\n",
       "      <td>필요없음</td>\n",
       "      <td>필요없음</td>\n",
       "    </tr>\n",
       "  </tbody>\n",
       "</table>\n",
       "<p>4976 rows × 2 columns</p>\n",
       "</div>"
      ],
      "text/plain": [
       "     bq5_1 bq5_2\n",
       "idx             \n",
       "1     필요없음  필요없음\n",
       "2     필요없음  필요없음\n",
       "4     필요없음  필요없음\n",
       "7     필요없음  필요없음\n",
       "12    필요없음  필요없음\n",
       "...    ...   ...\n",
       "9478  필요없음  필요없음\n",
       "9480  필요없음  필요없음\n",
       "9483  필요없음  필요없음\n",
       "9484  필요없음  필요없음\n",
       "9485  필요없음  필요없음\n",
       "\n",
       "[4976 rows x 2 columns]"
      ]
     },
     "execution_count": 41,
     "metadata": {},
     "output_type": "execute_result"
    }
   ],
   "source": [
    "know_train[0].loc[know_train[0].bq5==2,['bq5_1','bq5_2']]"
   ]
  },
  {
   "cell_type": "code",
   "execution_count": 42,
   "id": "7e836dee",
   "metadata": {},
   "outputs": [
    {
     "data": {
      "text/plain": [
       "bq5_1    0\n",
       "bq5_2    1\n",
       "dtype: int64"
      ]
     },
     "execution_count": 42,
     "metadata": {},
     "output_type": "execute_result"
    }
   ],
   "source": [
    "know_train[0].loc[know_train[0].bq5==1,['bq5_1','bq5_2']].isna().sum()"
   ]
  },
  {
   "cell_type": "code",
   "execution_count": 43,
   "id": "d2c51e32",
   "metadata": {},
   "outputs": [],
   "source": [
    "know_train[0].loc[know_train[0].bq5==1, 'bq5_2'] = '미응답'"
   ]
  },
  {
   "cell_type": "code",
   "execution_count": 44,
   "id": "81a2df78",
   "metadata": {},
   "outputs": [
    {
     "data": {
      "text/html": [
       "<div>\n",
       "<style scoped>\n",
       "    .dataframe tbody tr th:only-of-type {\n",
       "        vertical-align: middle;\n",
       "    }\n",
       "\n",
       "    .dataframe tbody tr th {\n",
       "        vertical-align: top;\n",
       "    }\n",
       "\n",
       "    .dataframe thead th {\n",
       "        text-align: right;\n",
       "    }\n",
       "</style>\n",
       "<table border=\"1\" class=\"dataframe\">\n",
       "  <thead>\n",
       "    <tr style=\"text-align: right;\">\n",
       "      <th></th>\n",
       "      <th>bq5</th>\n",
       "      <th>bq5_1</th>\n",
       "      <th>bq5_2</th>\n",
       "    </tr>\n",
       "    <tr>\n",
       "      <th>idx</th>\n",
       "      <th></th>\n",
       "      <th></th>\n",
       "      <th></th>\n",
       "    </tr>\n",
       "  </thead>\n",
       "  <tbody>\n",
       "    <tr>\n",
       "      <th>0</th>\n",
       "      <td>2</td>\n",
       "      <td>NaN</td>\n",
       "      <td>NaN</td>\n",
       "    </tr>\n",
       "    <tr>\n",
       "      <th>1</th>\n",
       "      <td>1</td>\n",
       "      <td>1</td>\n",
       "      <td>실무교육</td>\n",
       "    </tr>\n",
       "    <tr>\n",
       "      <th>2</th>\n",
       "      <td>1</td>\n",
       "      <td>6</td>\n",
       "      <td>기획력, 현장경험 등</td>\n",
       "    </tr>\n",
       "    <tr>\n",
       "      <th>3</th>\n",
       "      <td>2</td>\n",
       "      <td>NaN</td>\n",
       "      <td>NaN</td>\n",
       "    </tr>\n",
       "    <tr>\n",
       "      <th>4</th>\n",
       "      <td>2</td>\n",
       "      <td>NaN</td>\n",
       "      <td>NaN</td>\n",
       "    </tr>\n",
       "    <tr>\n",
       "      <th>...</th>\n",
       "      <td>...</td>\n",
       "      <td>...</td>\n",
       "      <td>...</td>\n",
       "    </tr>\n",
       "    <tr>\n",
       "      <th>9481</th>\n",
       "      <td>2</td>\n",
       "      <td>NaN</td>\n",
       "      <td>NaN</td>\n",
       "    </tr>\n",
       "    <tr>\n",
       "      <th>9482</th>\n",
       "      <td>1</td>\n",
       "      <td>1</td>\n",
       "      <td>도면의 이해,기본서류작성(PPT,EXCEL)</td>\n",
       "    </tr>\n",
       "    <tr>\n",
       "      <th>9483</th>\n",
       "      <td>2</td>\n",
       "      <td>NaN</td>\n",
       "      <td>NaN</td>\n",
       "    </tr>\n",
       "    <tr>\n",
       "      <th>9484</th>\n",
       "      <td>1</td>\n",
       "      <td>5</td>\n",
       "      <td>직무교육</td>\n",
       "    </tr>\n",
       "    <tr>\n",
       "      <th>9485</th>\n",
       "      <td>1</td>\n",
       "      <td>4</td>\n",
       "      <td>장비사용법과 간단한정비방법</td>\n",
       "    </tr>\n",
       "  </tbody>\n",
       "</table>\n",
       "<p>9486 rows × 3 columns</p>\n",
       "</div>"
      ],
      "text/plain": [
       "      bq5 bq5_1                     bq5_2\n",
       "idx                                      \n",
       "0       2   NaN                       NaN\n",
       "1       1     1                      실무교육\n",
       "2       1     6               기획력, 현장경험 등\n",
       "3       2   NaN                       NaN\n",
       "4       2   NaN                       NaN\n",
       "...   ...   ...                       ...\n",
       "9481    2   NaN                       NaN\n",
       "9482    1     1  도면의 이해,기본서류작성(PPT,EXCEL)\n",
       "9483    2   NaN                       NaN\n",
       "9484    1     5                      직무교육\n",
       "9485    1     4            장비사용법과 간단한정비방법\n",
       "\n",
       "[9486 rows x 3 columns]"
      ]
     },
     "execution_count": 44,
     "metadata": {},
     "output_type": "execute_result"
    }
   ],
   "source": [
    "know_test[0][['bq5','bq5_1','bq5_2']]"
   ]
  },
  {
   "cell_type": "code",
   "execution_count": 45,
   "id": "4a92ed31",
   "metadata": {},
   "outputs": [
    {
     "data": {
      "text/html": [
       "<div>\n",
       "<style scoped>\n",
       "    .dataframe tbody tr th:only-of-type {\n",
       "        vertical-align: middle;\n",
       "    }\n",
       "\n",
       "    .dataframe tbody tr th {\n",
       "        vertical-align: top;\n",
       "    }\n",
       "\n",
       "    .dataframe thead th {\n",
       "        text-align: right;\n",
       "    }\n",
       "</style>\n",
       "<table border=\"1\" class=\"dataframe\">\n",
       "  <thead>\n",
       "    <tr style=\"text-align: right;\">\n",
       "      <th></th>\n",
       "      <th>bq5_1</th>\n",
       "      <th>bq5_2</th>\n",
       "    </tr>\n",
       "    <tr>\n",
       "      <th>idx</th>\n",
       "      <th></th>\n",
       "      <th></th>\n",
       "    </tr>\n",
       "  </thead>\n",
       "  <tbody>\n",
       "    <tr>\n",
       "      <th>0</th>\n",
       "      <td>필요없음</td>\n",
       "      <td>필요없음</td>\n",
       "    </tr>\n",
       "    <tr>\n",
       "      <th>3</th>\n",
       "      <td>필요없음</td>\n",
       "      <td>필요없음</td>\n",
       "    </tr>\n",
       "    <tr>\n",
       "      <th>4</th>\n",
       "      <td>필요없음</td>\n",
       "      <td>필요없음</td>\n",
       "    </tr>\n",
       "    <tr>\n",
       "      <th>6</th>\n",
       "      <td>필요없음</td>\n",
       "      <td>필요없음</td>\n",
       "    </tr>\n",
       "    <tr>\n",
       "      <th>9</th>\n",
       "      <td>필요없음</td>\n",
       "      <td>필요없음</td>\n",
       "    </tr>\n",
       "    <tr>\n",
       "      <th>...</th>\n",
       "      <td>...</td>\n",
       "      <td>...</td>\n",
       "    </tr>\n",
       "    <tr>\n",
       "      <th>9477</th>\n",
       "      <td>필요없음</td>\n",
       "      <td>필요없음</td>\n",
       "    </tr>\n",
       "    <tr>\n",
       "      <th>9478</th>\n",
       "      <td>필요없음</td>\n",
       "      <td>필요없음</td>\n",
       "    </tr>\n",
       "    <tr>\n",
       "      <th>9480</th>\n",
       "      <td>필요없음</td>\n",
       "      <td>필요없음</td>\n",
       "    </tr>\n",
       "    <tr>\n",
       "      <th>9481</th>\n",
       "      <td>필요없음</td>\n",
       "      <td>필요없음</td>\n",
       "    </tr>\n",
       "    <tr>\n",
       "      <th>9483</th>\n",
       "      <td>필요없음</td>\n",
       "      <td>필요없음</td>\n",
       "    </tr>\n",
       "  </tbody>\n",
       "</table>\n",
       "<p>4774 rows × 2 columns</p>\n",
       "</div>"
      ],
      "text/plain": [
       "     bq5_1 bq5_2\n",
       "idx             \n",
       "0     필요없음  필요없음\n",
       "3     필요없음  필요없음\n",
       "4     필요없음  필요없음\n",
       "6     필요없음  필요없음\n",
       "9     필요없음  필요없음\n",
       "...    ...   ...\n",
       "9477  필요없음  필요없음\n",
       "9478  필요없음  필요없음\n",
       "9480  필요없음  필요없음\n",
       "9481  필요없음  필요없음\n",
       "9483  필요없음  필요없음\n",
       "\n",
       "[4774 rows x 2 columns]"
      ]
     },
     "execution_count": 45,
     "metadata": {},
     "output_type": "execute_result"
    }
   ],
   "source": [
    "know_test[0].loc[know_test[0].bq5==2,['bq5_1','bq5_2']] = '필요없음'\n",
    "know_test[0].loc[know_test[0].bq5==2,['bq5_1','bq5_2']]"
   ]
  },
  {
   "cell_type": "code",
   "execution_count": 46,
   "id": "00743363",
   "metadata": {},
   "outputs": [
    {
     "data": {
      "text/plain": [
       "bq5_1    0\n",
       "bq5_2    1\n",
       "dtype: int64"
      ]
     },
     "execution_count": 46,
     "metadata": {},
     "output_type": "execute_result"
    }
   ],
   "source": [
    "know_test[0].loc[know_test[0].bq5==1,['bq5_1','bq5_2']].isna().sum()"
   ]
  },
  {
   "cell_type": "code",
   "execution_count": 47,
   "id": "577c4d51",
   "metadata": {},
   "outputs": [],
   "source": [
    "know_test[0].loc[know_test[0].bq5==1, 'bq5_2'] = '미응답'"
   ]
  },
  {
   "cell_type": "code",
   "execution_count": 48,
   "id": "bb4840ac",
   "metadata": {},
   "outputs": [
    {
     "name": "stdout",
     "output_type": "stream",
     "text": [
      "train.bq5_1 결측치: 0\n",
      "test.bq5_1 결측치: 0\n",
      "train.bq5_2 결측치: 0\n",
      "test.bq5_2 결측치: 0\n"
     ]
    }
   ],
   "source": [
    "print(f'train.bq5_1 결측치: {know_train[0].bq5_1.isna().sum()}')\n",
    "print(f'test.bq5_1 결측치: {know_test[0].bq5_1.isna().sum()}')\n",
    "print(f'train.bq5_2 결측치: {know_train[0].bq5_2.isna().sum()}')\n",
    "print(f'test.bq5_2 결측치: {know_test[0].bq5_2.isna().sum()}')"
   ]
  },
  {
   "cell_type": "markdown",
   "id": "00f1da26",
   "metadata": {},
   "source": [
    "# bq12\n",
    "### 직무만족도\n",
    "* 'bq12_2', 'bq12_3', 'bq12_4', 1~5, 9:해당없음"
   ]
  },
  {
   "cell_type": "code",
   "execution_count": 49,
   "id": "339aa8e1",
   "metadata": {},
   "outputs": [
    {
     "data": {
      "text/plain": [
       "bq12_2    1630\n",
       "bq12_3    1343\n",
       "bq12_4     879\n",
       "dtype: int64"
      ]
     },
     "execution_count": 49,
     "metadata": {},
     "output_type": "execute_result"
    }
   ],
   "source": [
    "know_train[0][['bq12_2','bq12_3','bq12_4']].isna().sum()"
   ]
  },
  {
   "cell_type": "code",
   "execution_count": 50,
   "id": "53a51c9c",
   "metadata": {},
   "outputs": [
    {
     "name": "stdout",
     "output_type": "stream",
     "text": [
      "Series([], Name: bq12_2, dtype: object)\n",
      "Series([], Name: bq12_3, dtype: object)\n",
      "Series([], Name: bq12_4, dtype: object)\n"
     ]
    }
   ],
   "source": [
    "print(know_train[0][know_train[0].bq12_2==9]['bq12_2'])\n",
    "print(know_train[0][know_train[0].bq12_3==9]['bq12_3'])\n",
    "print(know_train[0][know_train[0].bq12_4==9]['bq12_4'])"
   ]
  },
  {
   "cell_type": "markdown",
   "id": "c6f5e88d",
   "metadata": {},
   "source": [
    "* 'bq12_2','bq12_3','bq12_4' 열에 9값이 존재하지 않음. 따라서 na값을 9 해당없음으로 변경"
   ]
  },
  {
   "cell_type": "code",
   "execution_count": 51,
   "id": "e531f98c",
   "metadata": {},
   "outputs": [],
   "source": [
    "know_train[0].loc[know_train[0]['bq12_2'].isna(), 'bq12_2']= 9\n",
    "know_train[0].loc[know_train[0]['bq12_3'].isna(), 'bq12_3']= 9\n",
    "know_train[0].loc[know_train[0]['bq12_4'].isna(), 'bq12_4']= 9"
   ]
  },
  {
   "cell_type": "code",
   "execution_count": 52,
   "id": "df9f2183",
   "metadata": {},
   "outputs": [
    {
     "data": {
      "text/plain": [
       "bq12_2    1609\n",
       "bq12_3    1332\n",
       "bq12_4     884\n",
       "dtype: int64"
      ]
     },
     "execution_count": 52,
     "metadata": {},
     "output_type": "execute_result"
    }
   ],
   "source": [
    "know_test[0][['bq12_2','bq12_3','bq12_4']].isna().sum()"
   ]
  },
  {
   "cell_type": "code",
   "execution_count": 53,
   "id": "196783ab",
   "metadata": {},
   "outputs": [
    {
     "name": "stdout",
     "output_type": "stream",
     "text": [
      "Series([], Name: bq12_2, dtype: object)\n",
      "Series([], Name: bq12_3, dtype: object)\n",
      "Series([], Name: bq12_4, dtype: object)\n"
     ]
    }
   ],
   "source": [
    "print(know_test[0][know_test[0].bq12_2==9]['bq12_2'])\n",
    "print(know_test[0][know_test[0].bq12_3==9]['bq12_3'])\n",
    "print(know_test[0][know_test[0].bq12_4==9]['bq12_4'])"
   ]
  },
  {
   "cell_type": "code",
   "execution_count": 54,
   "id": "6ee4c3ac",
   "metadata": {},
   "outputs": [],
   "source": [
    "know_test[0].loc[know_test[0]['bq12_2'].isna(), 'bq12_2']= 9\n",
    "know_test[0].loc[know_test[0]['bq12_3'].isna(), 'bq12_3']= 9\n",
    "know_test[0].loc[know_test[0]['bq12_4'].isna(), 'bq12_4']= 9"
   ]
  },
  {
   "cell_type": "code",
   "execution_count": 55,
   "id": "d619f23e",
   "metadata": {},
   "outputs": [
    {
     "name": "stdout",
     "output_type": "stream",
     "text": [
      "train.bq12_2 결측치: 0\n",
      "train.bq12_3 결측치: 0\n",
      "train.bq12_4 결측치: 0\n",
      "test.bq12_2 결측치: 0\n",
      "test.bq12_3 결측치: 0\n",
      "test.bq12_4 결측치: 0\n"
     ]
    }
   ],
   "source": [
    "print(f'train.bq12_2 결측치: {know_train[0].bq12_2.isna().sum()}')\n",
    "print(f'train.bq12_3 결측치: {know_train[0].bq12_3.isna().sum()}')\n",
    "print(f'train.bq12_4 결측치: {know_train[0].bq12_4.isna().sum()}')\n",
    "print(f'test.bq12_2 결측치: {know_test[0].bq12_2.isna().sum()}')\n",
    "print(f'test.bq12_3 결측치: {know_test[0].bq12_3.isna().sum()}')\n",
    "print(f'test.bq12_4 결측치: {know_test[0].bq12_4.isna().sum()}')"
   ]
  },
  {
   "cell_type": "markdown",
   "id": "fb562ecd",
   "metadata": {},
   "source": [
    "# 'bq19_1',\n",
    "### bq19라고 생각하는 이유(일자리변화). 텍스트"
   ]
  },
  {
   "cell_type": "code",
   "execution_count": 56,
   "id": "42618c61",
   "metadata": {},
   "outputs": [
    {
     "data": {
      "text/html": [
       "<div>\n",
       "<style scoped>\n",
       "    .dataframe tbody tr th:only-of-type {\n",
       "        vertical-align: middle;\n",
       "    }\n",
       "\n",
       "    .dataframe tbody tr th {\n",
       "        vertical-align: top;\n",
       "    }\n",
       "\n",
       "    .dataframe thead th {\n",
       "        text-align: right;\n",
       "    }\n",
       "</style>\n",
       "<table border=\"1\" class=\"dataframe\">\n",
       "  <thead>\n",
       "    <tr style=\"text-align: right;\">\n",
       "      <th></th>\n",
       "      <th>bq19</th>\n",
       "      <th>bq19_1</th>\n",
       "    </tr>\n",
       "    <tr>\n",
       "      <th>idx</th>\n",
       "      <th></th>\n",
       "      <th></th>\n",
       "    </tr>\n",
       "  </thead>\n",
       "  <tbody>\n",
       "    <tr>\n",
       "      <th>227</th>\n",
       "      <td>2</td>\n",
       "      <td>NaN</td>\n",
       "    </tr>\n",
       "    <tr>\n",
       "      <th>811</th>\n",
       "      <td>3</td>\n",
       "      <td>NaN</td>\n",
       "    </tr>\n",
       "    <tr>\n",
       "      <th>1649</th>\n",
       "      <td>3</td>\n",
       "      <td>NaN</td>\n",
       "    </tr>\n",
       "    <tr>\n",
       "      <th>2986</th>\n",
       "      <td>3</td>\n",
       "      <td>NaN</td>\n",
       "    </tr>\n",
       "    <tr>\n",
       "      <th>4271</th>\n",
       "      <td>3</td>\n",
       "      <td>NaN</td>\n",
       "    </tr>\n",
       "    <tr>\n",
       "      <th>5673</th>\n",
       "      <td>2</td>\n",
       "      <td>NaN</td>\n",
       "    </tr>\n",
       "    <tr>\n",
       "      <th>8815</th>\n",
       "      <td>2</td>\n",
       "      <td>NaN</td>\n",
       "    </tr>\n",
       "  </tbody>\n",
       "</table>\n",
       "</div>"
      ],
      "text/plain": [
       "      bq19 bq19_1\n",
       "idx              \n",
       "227      2    NaN\n",
       "811      3    NaN\n",
       "1649     3    NaN\n",
       "2986     3    NaN\n",
       "4271     3    NaN\n",
       "5673     2    NaN\n",
       "8815     2    NaN"
      ]
     },
     "execution_count": 56,
     "metadata": {},
     "output_type": "execute_result"
    }
   ],
   "source": [
    "know_train[0].loc[know_train[0]['bq19_1'].isna(),['bq19','bq19_1']]"
   ]
  },
  {
   "cell_type": "code",
   "execution_count": 57,
   "id": "7ef1d892",
   "metadata": {},
   "outputs": [],
   "source": [
    "know_train[0].loc[know_train[0]['bq19_1'].isna(),'bq19_1'] = '이유없음'"
   ]
  },
  {
   "cell_type": "code",
   "execution_count": 58,
   "id": "cdc23de7",
   "metadata": {},
   "outputs": [
    {
     "data": {
      "text/html": [
       "<div>\n",
       "<style scoped>\n",
       "    .dataframe tbody tr th:only-of-type {\n",
       "        vertical-align: middle;\n",
       "    }\n",
       "\n",
       "    .dataframe tbody tr th {\n",
       "        vertical-align: top;\n",
       "    }\n",
       "\n",
       "    .dataframe thead th {\n",
       "        text-align: right;\n",
       "    }\n",
       "</style>\n",
       "<table border=\"1\" class=\"dataframe\">\n",
       "  <thead>\n",
       "    <tr style=\"text-align: right;\">\n",
       "      <th></th>\n",
       "      <th>bq19</th>\n",
       "      <th>bq19_1</th>\n",
       "    </tr>\n",
       "    <tr>\n",
       "      <th>idx</th>\n",
       "      <th></th>\n",
       "      <th></th>\n",
       "    </tr>\n",
       "  </thead>\n",
       "  <tbody>\n",
       "    <tr>\n",
       "      <th>201</th>\n",
       "      <td>3</td>\n",
       "      <td>NaN</td>\n",
       "    </tr>\n",
       "    <tr>\n",
       "      <th>2101</th>\n",
       "      <td>3</td>\n",
       "      <td>NaN</td>\n",
       "    </tr>\n",
       "    <tr>\n",
       "      <th>3287</th>\n",
       "      <td>4</td>\n",
       "      <td>NaN</td>\n",
       "    </tr>\n",
       "    <tr>\n",
       "      <th>4301</th>\n",
       "      <td>3</td>\n",
       "      <td>NaN</td>\n",
       "    </tr>\n",
       "    <tr>\n",
       "      <th>5371</th>\n",
       "      <td>3</td>\n",
       "      <td>NaN</td>\n",
       "    </tr>\n",
       "    <tr>\n",
       "      <th>7264</th>\n",
       "      <td>2</td>\n",
       "      <td>NaN</td>\n",
       "    </tr>\n",
       "    <tr>\n",
       "      <th>7640</th>\n",
       "      <td>3</td>\n",
       "      <td>NaN</td>\n",
       "    </tr>\n",
       "  </tbody>\n",
       "</table>\n",
       "</div>"
      ],
      "text/plain": [
       "      bq19 bq19_1\n",
       "idx              \n",
       "201      3    NaN\n",
       "2101     3    NaN\n",
       "3287     4    NaN\n",
       "4301     3    NaN\n",
       "5371     3    NaN\n",
       "7264     2    NaN\n",
       "7640     3    NaN"
      ]
     },
     "execution_count": 58,
     "metadata": {},
     "output_type": "execute_result"
    }
   ],
   "source": [
    "know_test[0].loc[know_test[0]['bq19_1'].isna(),['bq19','bq19_1']]"
   ]
  },
  {
   "cell_type": "code",
   "execution_count": 59,
   "id": "e977b135",
   "metadata": {},
   "outputs": [],
   "source": [
    "know_test[0].loc[know_test[0]['bq19_1'].isna(),'bq19_1'] = '이유없음'"
   ]
  },
  {
   "cell_type": "code",
   "execution_count": 60,
   "id": "babe633f",
   "metadata": {},
   "outputs": [
    {
     "name": "stdout",
     "output_type": "stream",
     "text": [
      "0\n",
      "0\n"
     ]
    }
   ],
   "source": [
    "print(know_train[0]['bq19_1'].isna().sum())\n",
    "print(know_test[0]['bq19_1'].isna().sum())"
   ]
  },
  {
   "cell_type": "markdown",
   "id": "43f01248",
   "metadata": {},
   "source": [
    " # 'bq30' \n",
    " ## 직업을 다르게 부르는 명칭이 있다면?"
   ]
  },
  {
   "cell_type": "code",
   "execution_count": 61,
   "id": "3b3184a1",
   "metadata": {},
   "outputs": [
    {
     "data": {
      "text/plain": [
       "Series([], Name: bq30, dtype: object)"
      ]
     },
     "execution_count": 61,
     "metadata": {},
     "output_type": "execute_result"
    }
   ],
   "source": [
    "know_train[0].loc[know_train[0]['bq30'].isna(),'bq30']"
   ]
  },
  {
   "cell_type": "code",
   "execution_count": 62,
   "id": "020ac131",
   "metadata": {},
   "outputs": [
    {
     "data": {
      "text/plain": [
       "idx\n",
       "1897    NaN\n",
       "Name: bq30, dtype: object"
      ]
     },
     "execution_count": 62,
     "metadata": {},
     "output_type": "execute_result"
    }
   ],
   "source": [
    "know_test[0].loc[know_test[0]['bq30'].isna(),'bq30']"
   ]
  },
  {
   "cell_type": "code",
   "execution_count": 63,
   "id": "2d5f14c6",
   "metadata": {},
   "outputs": [
    {
     "data": {
      "text/plain": [
       "없다             6606\n",
       "선생님             274\n",
       "없음              251\n",
       "기사               96\n",
       "연구원              55\n",
       "               ... \n",
       "에코가이드, 숲해설가       1\n",
       "호위인               1\n",
       "세탁소               1\n",
       "조형원               1\n",
       "아가씨               1\n",
       "Name: bq30, Length: 1199, dtype: int64"
      ]
     },
     "execution_count": 63,
     "metadata": {},
     "output_type": "execute_result"
    }
   ],
   "source": [
    "know_train[0]['bq30'].value_counts()"
   ]
  },
  {
   "cell_type": "code",
   "execution_count": 64,
   "id": "014e4af6",
   "metadata": {},
   "outputs": [
    {
     "data": {
      "text/plain": [
       "없다         6561\n",
       "없음          292\n",
       "선생님         274\n",
       "기사           81\n",
       "연구원          71\n",
       "           ... \n",
       "은행원           1\n",
       "도장사           1\n",
       "사진보정원         1\n",
       "편집간사님         1\n",
       "선장, 기관장       1\n",
       "Name: bq30, Length: 1181, dtype: int64"
      ]
     },
     "execution_count": 64,
     "metadata": {},
     "output_type": "execute_result"
    }
   ],
   "source": [
    "know_test[0]['bq30'].value_counts()"
   ]
  },
  {
   "cell_type": "markdown",
   "id": "6037c9c6",
   "metadata": {},
   "source": [
    "* '없다', '없음'을 없음으로 통일, na값을 없음으로 채움"
   ]
  },
  {
   "cell_type": "code",
   "execution_count": 65,
   "id": "38695fdc",
   "metadata": {},
   "outputs": [],
   "source": [
    "know_train[0].loc[know_train[0]['bq30']=='없다', 'bq30'] = '없음'\n",
    "know_test[0].loc[know_test[0]['bq30']=='없다', 'bq30'] = '없음'\n",
    "know_test[0].loc[know_test[0]['bq30'].isna(),'bq30'] = '없음'"
   ]
  },
  {
   "cell_type": "code",
   "execution_count": 66,
   "id": "f326966b",
   "metadata": {},
   "outputs": [
    {
     "name": "stdout",
     "output_type": "stream",
     "text": [
      "0\n",
      "0\n"
     ]
    }
   ],
   "source": [
    "print(know_train[0]['bq30'].isna().sum())\n",
    "print(know_test[0]['bq30'].isna().sum())"
   ]
  },
  {
   "cell_type": "markdown",
   "id": "07344642",
   "metadata": {},
   "source": [
    "# 'bq31', \n",
    "## 업무에 활용하는 도구나 프로그램"
   ]
  },
  {
   "cell_type": "code",
   "execution_count": 67,
   "id": "f0b70f53",
   "metadata": {},
   "outputs": [
    {
     "data": {
      "text/plain": [
       "컴퓨터                                            511\n",
       "없다                                             497\n",
       "PC                                             229\n",
       "컴퓨터, 엑셀                                         31\n",
       "장갑                                              29\n",
       "                                              ... \n",
       "태블릿pc, MS office program                         1\n",
       "PC, 고지도, 역사관련자료들                                 1\n",
       "축구코치 - 볼, 마커, 몬, 조끼                              1\n",
       "언어에 관련된 여러가지 검사도구,상호작용향상을 위한 놀이감 등(언어표현 향상)      1\n",
       "컴퓨터, 계측기, OR캐드                                   1\n",
       "Name: bq31, Length: 6777, dtype: int64"
      ]
     },
     "execution_count": 67,
     "metadata": {},
     "output_type": "execute_result"
    }
   ],
   "source": [
    "know_train[0]['bq31'].value_counts()"
   ]
  },
  {
   "cell_type": "code",
   "execution_count": 68,
   "id": "2075c8eb",
   "metadata": {},
   "outputs": [
    {
     "data": {
      "text/plain": [
       "없다                                            480\n",
       "컴퓨터                                           470\n",
       "PC                                            216\n",
       "엑셀                                             38\n",
       "장갑                                             34\n",
       "                                             ... \n",
       "법무프로그램, 한글, 프린터기, DUNS                          1\n",
       "프리미어프로, 카메라 컴퓨터, Adobe프로그램, 3D포토샵, 일러스트레이더      1\n",
       "포토샵, 일러스트, 드림위버                                 1\n",
       "드라이클리닝기                                         1\n",
       "컴퓨터,인사프로그램,엑셀                                   1\n",
       "Name: bq31, Length: 6829, dtype: int64"
      ]
     },
     "execution_count": 68,
     "metadata": {},
     "output_type": "execute_result"
    }
   ],
   "source": [
    "know_test[0]['bq31'].value_counts()"
   ]
  },
  {
   "cell_type": "code",
   "execution_count": 69,
   "id": "e8a9ccf9",
   "metadata": {},
   "outputs": [],
   "source": [
    "know_train[0].loc[know_train[0].bq31.isna(),'bq31'] = '없다'\n",
    "know_test[0].loc[know_test[0].bq31.isna(),'bq31'] = '없다'"
   ]
  },
  {
   "cell_type": "code",
   "execution_count": 70,
   "id": "5bb39773",
   "metadata": {},
   "outputs": [
    {
     "name": "stdout",
     "output_type": "stream",
     "text": [
      "0\n",
      "0\n"
     ]
    }
   ],
   "source": [
    "print(know_train[0]['bq31'].isna().sum())\n",
    "print(know_test[0]['bq31'].isna().sum())"
   ]
  },
  {
   "cell_type": "markdown",
   "id": "f507d8cd",
   "metadata": {},
   "source": [
    "# 'bq32'\n",
    "## 직전직업"
   ]
  },
  {
   "cell_type": "code",
   "execution_count": 71,
   "id": "9f6e5a74",
   "metadata": {},
   "outputs": [
    {
     "data": {
      "text/plain": [
       "없다                  5723\n",
       "없음                   210\n",
       "주부                   147\n",
       "회사원                  125\n",
       "학생                   102\n",
       "                    ... \n",
       "세무회계                   1\n",
       "조리사보조                  1\n",
       "새누리당 원내대변인             1\n",
       "매장 임직원                 1\n",
       "tower Records바이어       1\n",
       "Name: bq32, Length: 1568, dtype: int64"
      ]
     },
     "execution_count": 71,
     "metadata": {},
     "output_type": "execute_result"
    }
   ],
   "source": [
    "know_train[0]['bq32'].value_counts()"
   ]
  },
  {
   "cell_type": "code",
   "execution_count": 72,
   "id": "cd0f9dd0",
   "metadata": {},
   "outputs": [
    {
     "data": {
      "text/plain": [
       "없다            5565\n",
       "없음             235\n",
       "주부             155\n",
       "회사원            128\n",
       "학생             120\n",
       "              ... \n",
       "첫직업이자 현재직업       1\n",
       "상점판매순            1\n",
       "건설 경리직           1\n",
       "기계공              1\n",
       "현대자동차            1\n",
       "Name: bq32, Length: 1620, dtype: int64"
      ]
     },
     "execution_count": 72,
     "metadata": {},
     "output_type": "execute_result"
    }
   ],
   "source": [
    "know_test[0]['bq32'].value_counts()"
   ]
  },
  {
   "cell_type": "code",
   "execution_count": 73,
   "id": "578eac2e",
   "metadata": {},
   "outputs": [],
   "source": [
    "know_train[0].loc[know_train[0].bq32.isna(),'bq32'] = '없음'\n",
    "know_test[0].loc[know_test[0].bq32.isna(),'bq32'] = '없음'\n",
    "know_train[0].loc[know_train[0].bq32=='없다','bq32'] = '없음'\n",
    "know_test[0].loc[know_test[0].bq32=='없다','bq32'] = '없음'"
   ]
  },
  {
   "cell_type": "code",
   "execution_count": 74,
   "id": "72e7c2fd",
   "metadata": {},
   "outputs": [
    {
     "name": "stdout",
     "output_type": "stream",
     "text": [
      "0\n",
      "0\n"
     ]
    }
   ],
   "source": [
    "print(know_train[0]['bq32'].isna().sum())\n",
    "print(know_test[0]['bq32'].isna().sum())"
   ]
  },
  {
   "cell_type": "markdown",
   "id": "fa02326e",
   "metadata": {},
   "source": [
    "# 'bq33'\n",
    "## 경력을 활용하여 전직 가능한 직업"
   ]
  },
  {
   "cell_type": "code",
   "execution_count": 75,
   "id": "e4c9eee4",
   "metadata": {},
   "outputs": [
    {
     "data": {
      "text/plain": [
       "없다            6667\n",
       "모름             434\n",
       "없음             218\n",
       "교수              43\n",
       "대학교수            22\n",
       "              ... \n",
       "타기관 공무원          1\n",
       "차량정비사            1\n",
       "가구점 운영           1\n",
       "건설감리사            1\n",
       "독립하여 사업체운영       1\n",
       "Name: bq33, Length: 1418, dtype: int64"
      ]
     },
     "execution_count": 75,
     "metadata": {},
     "output_type": "execute_result"
    }
   ],
   "source": [
    "know_train[0]['bq33'].value_counts()"
   ]
  },
  {
   "cell_type": "code",
   "execution_count": 76,
   "id": "67c8532b",
   "metadata": {},
   "outputs": [
    {
     "data": {
      "text/plain": [
       "없다          6561\n",
       "모름           413\n",
       "없음           241\n",
       "교수            57\n",
       "대학교수          36\n",
       "            ... \n",
       "철근공            1\n",
       "개인세탁소 운영       1\n",
       "CS강사           1\n",
       "호텔경영인          1\n",
       "의학전문기자         1\n",
       "Name: bq33, Length: 1428, dtype: int64"
      ]
     },
     "execution_count": 76,
     "metadata": {},
     "output_type": "execute_result"
    }
   ],
   "source": [
    "know_test[0]['bq33'].value_counts()"
   ]
  },
  {
   "cell_type": "markdown",
   "id": "00fcb29b",
   "metadata": {},
   "source": [
    "* 없다,없음 통일, na는 모름으로 채움"
   ]
  },
  {
   "cell_type": "code",
   "execution_count": 77,
   "id": "fc82cd2b",
   "metadata": {},
   "outputs": [],
   "source": [
    "know_train[0].loc[know_train[0].bq33.isna(),'bq33'] = '모름'\n",
    "know_test[0].loc[know_test[0].bq33.isna(),'bq33'] = '모름'\n",
    "know_train[0].loc[know_train[0].bq33=='없다','bq33'] = '없음'\n",
    "know_test[0].loc[know_test[0].bq33=='없다','bq33'] = '없음'"
   ]
  },
  {
   "cell_type": "code",
   "execution_count": 78,
   "id": "3d8a491e",
   "metadata": {},
   "outputs": [
    {
     "name": "stdout",
     "output_type": "stream",
     "text": [
      "0\n",
      "0\n"
     ]
    }
   ],
   "source": [
    "print(know_train[0]['bq33'].isna().sum())\n",
    "print(know_test[0]['bq33'].isna().sum())"
   ]
  },
  {
   "cell_type": "markdown",
   "id": "fe99063f",
   "metadata": {},
   "source": [
    "# 'bq34'\n",
    "## 하고 있는 일과 관련된 신직업/직무"
   ]
  },
  {
   "cell_type": "code",
   "execution_count": 79,
   "id": "2c0e187e",
   "metadata": {},
   "outputs": [
    {
     "data": {
      "text/plain": [
       "없다                7785\n",
       "없음                 344\n",
       "모름                  50\n",
       "심리치료사                4\n",
       "쇼핑몰                  4\n",
       "                  ... \n",
       "클라우드                 1\n",
       "철도재료, 국산화 개발관련       1\n",
       "노인요양사                1\n",
       "기후전문가                1\n",
       "온라인마케터               1\n",
       "Name: bq34, Length: 339, dtype: int64"
      ]
     },
     "execution_count": 79,
     "metadata": {},
     "output_type": "execute_result"
    }
   ],
   "source": [
    "know_train[0]['bq34'].value_counts()"
   ]
  },
  {
   "cell_type": "code",
   "execution_count": 80,
   "id": "35433f5b",
   "metadata": {},
   "outputs": [
    {
     "data": {
      "text/plain": [
       "없다             7751\n",
       "없음              339\n",
       "모름               58\n",
       "모르겠음              4\n",
       "심리상담사             4\n",
       "               ... \n",
       "1인방송, 크리에이터       1\n",
       "고고학자              1\n",
       "헤드헌터              1\n",
       "학습코칭가, 컨설턴트       1\n",
       "외과전문의             1\n",
       "Name: bq34, Length: 345, dtype: int64"
      ]
     },
     "execution_count": 80,
     "metadata": {},
     "output_type": "execute_result"
    }
   ],
   "source": [
    "know_test[0]['bq34'].value_counts()"
   ]
  },
  {
   "cell_type": "markdown",
   "id": "73ed9afa",
   "metadata": {},
   "source": [
    "* 없다,없음 --> 없음으로 통일, \n",
    "* 모름,모르겠음 --> 모름으로 통일\n",
    "* na는 모름으로 채움"
   ]
  },
  {
   "cell_type": "code",
   "execution_count": 81,
   "id": "be1511d4",
   "metadata": {},
   "outputs": [],
   "source": [
    "know_train[0].loc[know_train[0].bq34.isna(),'bq34'] = '모름'\n",
    "know_test[0].loc[know_test[0].bq34.isna(),'bq34'] = '모름'\n",
    "know_train[0].loc[know_train[0].bq34=='없다','bq34'] = '없음'\n",
    "know_test[0].loc[know_test[0].bq34=='없다','bq34'] = '없음'\n",
    "know_train[0].loc[know_train[0].bq34=='모르겠음','bq34'] = '모름'\n",
    "know_test[0].loc[know_test[0].bq34=='모르겠음','bq34'] = '모름'"
   ]
  },
  {
   "cell_type": "code",
   "execution_count": 82,
   "id": "0d0b92b5",
   "metadata": {},
   "outputs": [
    {
     "name": "stdout",
     "output_type": "stream",
     "text": [
      "0\n",
      "0\n"
     ]
    }
   ],
   "source": [
    "print(know_train[0]['bq34'].isna().sum())\n",
    "print(know_test[0]['bq34'].isna().sum())"
   ]
  },
  {
   "cell_type": "markdown",
   "id": "f2ef3448",
   "metadata": {},
   "source": [
    " # 'bq38_1', \n",
    " ## 최종학력 학과"
   ]
  },
  {
   "cell_type": "code",
   "execution_count": 83,
   "id": "6c1b58ff",
   "metadata": {},
   "outputs": [
    {
     "data": {
      "text/plain": [
       "인문계       408\n",
       "기계        387\n",
       "경영학       346\n",
       "기계공학      203\n",
       "컴퓨터공학     161\n",
       "         ... \n",
       "재무회계학       1\n",
       "생산자동화학      1\n",
       "소방방재        1\n",
       "청소년학        1\n",
       "방송          1\n",
       "Name: bq38_1, Length: 1452, dtype: int64"
      ]
     },
     "execution_count": 83,
     "metadata": {},
     "output_type": "execute_result"
    }
   ],
   "source": [
    "know_train[0]['bq38_1'].value_counts()"
   ]
  },
  {
   "cell_type": "code",
   "execution_count": 84,
   "id": "b4315899",
   "metadata": {},
   "outputs": [
    {
     "data": {
      "text/plain": [
       "인문계       435\n",
       "기계        384\n",
       "경영학       314\n",
       "기계공학      177\n",
       "컴퓨터공학     166\n",
       "         ... \n",
       "전기계측제어      1\n",
       "생활체육학       1\n",
       "물류          1\n",
       "금속설비        1\n",
       "원예학과        1\n",
       "Name: bq38_1, Length: 1417, dtype: int64"
      ]
     },
     "execution_count": 84,
     "metadata": {},
     "output_type": "execute_result"
    }
   ],
   "source": [
    "know_test[0]['bq38_1'].value_counts()"
   ]
  },
  {
   "cell_type": "markdown",
   "id": "0c83129d",
   "metadata": {},
   "source": [
    "* na 미응답으로 채움"
   ]
  },
  {
   "cell_type": "code",
   "execution_count": 85,
   "id": "fdefe7ab",
   "metadata": {},
   "outputs": [],
   "source": [
    "know_train[0].loc[know_train[0].bq38_1.isna(),'bq38_1'] = '미응답'\n",
    "know_test[0].loc[know_test[0].bq38_1.isna(),'bq38_1'] = '미응답'"
   ]
  },
  {
   "cell_type": "code",
   "execution_count": 86,
   "id": "0c4c8111",
   "metadata": {},
   "outputs": [
    {
     "name": "stdout",
     "output_type": "stream",
     "text": [
      "0\n",
      "0\n"
     ]
    }
   ],
   "source": [
    "print(know_train[0]['bq38_1'].isna().sum())\n",
    "print(know_test[0]['bq38_1'].isna().sum())"
   ]
  },
  {
   "cell_type": "markdown",
   "id": "10306643",
   "metadata": {},
   "source": [
    "# bq39 고용형태\n",
    "### bq39_1에 답변했을 경우 41-3 null\n",
    "### bq39_2에 답변했을 경우 bq40, bq40_1, bq40_2 null 이어야함.\n",
    "### bq39_1은 1 ~ 4의 값을 bq39_2는 5 ~ 7의 값을 가짐"
   ]
  },
  {
   "cell_type": "code",
   "execution_count": 87,
   "id": "a3807851",
   "metadata": {},
   "outputs": [
    {
     "data": {
      "text/plain": [
       "1    8185\n",
       "2    1301\n",
       "Name: bq39_1, dtype: int64"
      ]
     },
     "execution_count": 87,
     "metadata": {},
     "output_type": "execute_result"
    }
   ],
   "source": [
    "know_train[0]['bq39_1'].value_counts()"
   ]
  },
  {
   "cell_type": "code",
   "execution_count": 88,
   "id": "ae2e94b0",
   "metadata": {},
   "outputs": [
    {
     "data": {
      "text/plain": [
       "1    8153\n",
       "2    1333\n",
       "Name: bq39_1, dtype: int64"
      ]
     },
     "execution_count": 88,
     "metadata": {},
     "output_type": "execute_result"
    }
   ],
   "source": [
    "know_test[0]['bq39_1'].value_counts()"
   ]
  },
  {
   "cell_type": "code",
   "execution_count": 89,
   "id": "3745bf0f",
   "metadata": {},
   "outputs": [
    {
     "data": {
      "text/plain": [
       "1    6913\n",
       "3     847\n",
       "6     668\n",
       "5     601\n",
       "2     221\n",
       "4     204\n",
       "7      32\n",
       "Name: bq39_2, dtype: int64"
      ]
     },
     "execution_count": 89,
     "metadata": {},
     "output_type": "execute_result"
    }
   ],
   "source": [
    "know_train[0]['bq39_2'].value_counts()"
   ]
  },
  {
   "cell_type": "code",
   "execution_count": 90,
   "id": "29e1944e",
   "metadata": {},
   "outputs": [
    {
     "data": {
      "text/plain": [
       "1    6827\n",
       "3     886\n",
       "6     683\n",
       "5     609\n",
       "2     229\n",
       "4     211\n",
       "7      41\n",
       "Name: bq39_2, dtype: int64"
      ]
     },
     "execution_count": 90,
     "metadata": {},
     "output_type": "execute_result"
    }
   ],
   "source": [
    "know_test[0]['bq39_2'].value_counts()"
   ]
  },
  {
   "cell_type": "markdown",
   "id": "019cebe5",
   "metadata": {},
   "source": [
    "* bq39_1는 1~4의 값을 가질 수 있는데 1,2값만 존재\n",
    "* bq39_2 5~ 7 값을 가져야하는데 1~4값이 포함되어있음"
   ]
  },
  {
   "cell_type": "code",
   "execution_count": 91,
   "id": "dfe02c37",
   "metadata": {},
   "outputs": [
    {
     "data": {
      "text/html": [
       "<div>\n",
       "<style scoped>\n",
       "    .dataframe tbody tr th:only-of-type {\n",
       "        vertical-align: middle;\n",
       "    }\n",
       "\n",
       "    .dataframe tbody tr th {\n",
       "        vertical-align: top;\n",
       "    }\n",
       "\n",
       "    .dataframe thead th {\n",
       "        text-align: right;\n",
       "    }\n",
       "</style>\n",
       "<table border=\"1\" class=\"dataframe\">\n",
       "  <thead>\n",
       "    <tr style=\"text-align: right;\">\n",
       "      <th></th>\n",
       "      <th>bq39_2</th>\n",
       "      <th>bq40</th>\n",
       "      <th>bq41_1</th>\n",
       "      <th>bq41_2</th>\n",
       "      <th>bq41_3</th>\n",
       "    </tr>\n",
       "    <tr>\n",
       "      <th>idx</th>\n",
       "      <th></th>\n",
       "      <th></th>\n",
       "      <th></th>\n",
       "      <th></th>\n",
       "      <th></th>\n",
       "    </tr>\n",
       "  </thead>\n",
       "  <tbody>\n",
       "    <tr>\n",
       "      <th>13</th>\n",
       "      <td>6</td>\n",
       "      <td>NaN</td>\n",
       "      <td>NaN</td>\n",
       "      <td>4500</td>\n",
       "      <td>NaN</td>\n",
       "    </tr>\n",
       "    <tr>\n",
       "      <th>20</th>\n",
       "      <td>6</td>\n",
       "      <td>NaN</td>\n",
       "      <td>NaN</td>\n",
       "      <td>4800</td>\n",
       "      <td>NaN</td>\n",
       "    </tr>\n",
       "    <tr>\n",
       "      <th>23</th>\n",
       "      <td>5</td>\n",
       "      <td>NaN</td>\n",
       "      <td>NaN</td>\n",
       "      <td>6000</td>\n",
       "      <td>NaN</td>\n",
       "    </tr>\n",
       "    <tr>\n",
       "      <th>24</th>\n",
       "      <td>6</td>\n",
       "      <td>NaN</td>\n",
       "      <td>NaN</td>\n",
       "      <td>15000</td>\n",
       "      <td>NaN</td>\n",
       "    </tr>\n",
       "    <tr>\n",
       "      <th>26</th>\n",
       "      <td>6</td>\n",
       "      <td>NaN</td>\n",
       "      <td>NaN</td>\n",
       "      <td>2200</td>\n",
       "      <td>NaN</td>\n",
       "    </tr>\n",
       "    <tr>\n",
       "      <th>...</th>\n",
       "      <td>...</td>\n",
       "      <td>...</td>\n",
       "      <td>...</td>\n",
       "      <td>...</td>\n",
       "      <td>...</td>\n",
       "    </tr>\n",
       "    <tr>\n",
       "      <th>9465</th>\n",
       "      <td>5</td>\n",
       "      <td>NaN</td>\n",
       "      <td>NaN</td>\n",
       "      <td>3380</td>\n",
       "      <td>NaN</td>\n",
       "    </tr>\n",
       "    <tr>\n",
       "      <th>9468</th>\n",
       "      <td>5</td>\n",
       "      <td>NaN</td>\n",
       "      <td>NaN</td>\n",
       "      <td>10000</td>\n",
       "      <td>NaN</td>\n",
       "    </tr>\n",
       "    <tr>\n",
       "      <th>9469</th>\n",
       "      <td>6</td>\n",
       "      <td>NaN</td>\n",
       "      <td>NaN</td>\n",
       "      <td>1500</td>\n",
       "      <td>NaN</td>\n",
       "    </tr>\n",
       "    <tr>\n",
       "      <th>9476</th>\n",
       "      <td>5</td>\n",
       "      <td>NaN</td>\n",
       "      <td>NaN</td>\n",
       "      <td>6000</td>\n",
       "      <td>NaN</td>\n",
       "    </tr>\n",
       "    <tr>\n",
       "      <th>9477</th>\n",
       "      <td>5</td>\n",
       "      <td>NaN</td>\n",
       "      <td>NaN</td>\n",
       "      <td>3000</td>\n",
       "      <td>NaN</td>\n",
       "    </tr>\n",
       "  </tbody>\n",
       "</table>\n",
       "<p>1301 rows × 5 columns</p>\n",
       "</div>"
      ],
      "text/plain": [
       "      bq39_2 bq40 bq41_1 bq41_2 bq41_3\n",
       "idx                                   \n",
       "13         6  NaN    NaN   4500    NaN\n",
       "20         6  NaN    NaN   4800    NaN\n",
       "23         5  NaN    NaN   6000    NaN\n",
       "24         6  NaN    NaN  15000    NaN\n",
       "26         6  NaN    NaN   2200    NaN\n",
       "...      ...  ...    ...    ...    ...\n",
       "9465       5  NaN    NaN   3380    NaN\n",
       "9468       5  NaN    NaN  10000    NaN\n",
       "9469       6  NaN    NaN   1500    NaN\n",
       "9476       5  NaN    NaN   6000    NaN\n",
       "9477       5  NaN    NaN   3000    NaN\n",
       "\n",
       "[1301 rows x 5 columns]"
      ]
     },
     "execution_count": 91,
     "metadata": {},
     "output_type": "execute_result"
    }
   ],
   "source": [
    "know_train[0].loc[(know_train[0].bq39_2>4), ['bq39_2', 'bq40','bq41_1','bq41_2','bq41_3']]"
   ]
  },
  {
   "cell_type": "markdown",
   "id": "b4c56724",
   "metadata": {},
   "source": [
    "* 'bq39_2'>5 (비 임금근로자)일때 bq41_2값이 null이고 bq41_3에 응답이 있어야하는데 모두 비어있음. \n",
    "* bq41_2, bq41_3 열이 바뀐것으로 추정"
   ]
  },
  {
   "cell_type": "code",
   "execution_count": 103,
   "id": "47ed65c5",
   "metadata": {},
   "outputs": [],
   "source": [
    "know_train[0].rename(columns={'bq41_3':'bq41_2','bq41_2':'bq41_3'}, inplace=True)"
   ]
  },
  {
   "cell_type": "code",
   "execution_count": 104,
   "id": "7c4d6eb1",
   "metadata": {},
   "outputs": [
    {
     "data": {
      "text/html": [
       "<div>\n",
       "<style scoped>\n",
       "    .dataframe tbody tr th:only-of-type {\n",
       "        vertical-align: middle;\n",
       "    }\n",
       "\n",
       "    .dataframe tbody tr th {\n",
       "        vertical-align: top;\n",
       "    }\n",
       "\n",
       "    .dataframe thead th {\n",
       "        text-align: right;\n",
       "    }\n",
       "</style>\n",
       "<table border=\"1\" class=\"dataframe\">\n",
       "  <thead>\n",
       "    <tr style=\"text-align: right;\">\n",
       "      <th></th>\n",
       "      <th>bq39_2</th>\n",
       "      <th>bq40</th>\n",
       "      <th>bq41_1</th>\n",
       "      <th>bq41_2</th>\n",
       "      <th>bq41_3</th>\n",
       "    </tr>\n",
       "    <tr>\n",
       "      <th>idx</th>\n",
       "      <th></th>\n",
       "      <th></th>\n",
       "      <th></th>\n",
       "      <th></th>\n",
       "      <th></th>\n",
       "    </tr>\n",
       "  </thead>\n",
       "  <tbody>\n",
       "    <tr>\n",
       "      <th>13</th>\n",
       "      <td>6</td>\n",
       "      <td>NaN</td>\n",
       "      <td>NaN</td>\n",
       "      <td>NaN</td>\n",
       "      <td>4500</td>\n",
       "    </tr>\n",
       "    <tr>\n",
       "      <th>20</th>\n",
       "      <td>6</td>\n",
       "      <td>NaN</td>\n",
       "      <td>NaN</td>\n",
       "      <td>NaN</td>\n",
       "      <td>4800</td>\n",
       "    </tr>\n",
       "    <tr>\n",
       "      <th>23</th>\n",
       "      <td>5</td>\n",
       "      <td>NaN</td>\n",
       "      <td>NaN</td>\n",
       "      <td>NaN</td>\n",
       "      <td>6000</td>\n",
       "    </tr>\n",
       "    <tr>\n",
       "      <th>24</th>\n",
       "      <td>6</td>\n",
       "      <td>NaN</td>\n",
       "      <td>NaN</td>\n",
       "      <td>NaN</td>\n",
       "      <td>15000</td>\n",
       "    </tr>\n",
       "    <tr>\n",
       "      <th>26</th>\n",
       "      <td>6</td>\n",
       "      <td>NaN</td>\n",
       "      <td>NaN</td>\n",
       "      <td>NaN</td>\n",
       "      <td>2200</td>\n",
       "    </tr>\n",
       "    <tr>\n",
       "      <th>...</th>\n",
       "      <td>...</td>\n",
       "      <td>...</td>\n",
       "      <td>...</td>\n",
       "      <td>...</td>\n",
       "      <td>...</td>\n",
       "    </tr>\n",
       "    <tr>\n",
       "      <th>9465</th>\n",
       "      <td>5</td>\n",
       "      <td>NaN</td>\n",
       "      <td>NaN</td>\n",
       "      <td>NaN</td>\n",
       "      <td>3380</td>\n",
       "    </tr>\n",
       "    <tr>\n",
       "      <th>9468</th>\n",
       "      <td>5</td>\n",
       "      <td>NaN</td>\n",
       "      <td>NaN</td>\n",
       "      <td>NaN</td>\n",
       "      <td>10000</td>\n",
       "    </tr>\n",
       "    <tr>\n",
       "      <th>9469</th>\n",
       "      <td>6</td>\n",
       "      <td>NaN</td>\n",
       "      <td>NaN</td>\n",
       "      <td>NaN</td>\n",
       "      <td>1500</td>\n",
       "    </tr>\n",
       "    <tr>\n",
       "      <th>9476</th>\n",
       "      <td>5</td>\n",
       "      <td>NaN</td>\n",
       "      <td>NaN</td>\n",
       "      <td>NaN</td>\n",
       "      <td>6000</td>\n",
       "    </tr>\n",
       "    <tr>\n",
       "      <th>9477</th>\n",
       "      <td>5</td>\n",
       "      <td>NaN</td>\n",
       "      <td>NaN</td>\n",
       "      <td>NaN</td>\n",
       "      <td>3000</td>\n",
       "    </tr>\n",
       "  </tbody>\n",
       "</table>\n",
       "<p>1301 rows × 5 columns</p>\n",
       "</div>"
      ],
      "text/plain": [
       "      bq39_2 bq40 bq41_1 bq41_2 bq41_3\n",
       "idx                                   \n",
       "13         6  NaN    NaN    NaN   4500\n",
       "20         6  NaN    NaN    NaN   4800\n",
       "23         5  NaN    NaN    NaN   6000\n",
       "24         6  NaN    NaN    NaN  15000\n",
       "26         6  NaN    NaN    NaN   2200\n",
       "...      ...  ...    ...    ...    ...\n",
       "9465       5  NaN    NaN    NaN   3380\n",
       "9468       5  NaN    NaN    NaN  10000\n",
       "9469       6  NaN    NaN    NaN   1500\n",
       "9476       5  NaN    NaN    NaN   6000\n",
       "9477       5  NaN    NaN    NaN   3000\n",
       "\n",
       "[1301 rows x 5 columns]"
      ]
     },
     "execution_count": 104,
     "metadata": {},
     "output_type": "execute_result"
    }
   ],
   "source": [
    "know_train[0].loc[(know_train[0].bq39_2>4), ['bq39_2', 'bq40','bq41_1','bq41_2','bq41_3']]"
   ]
  },
  {
   "cell_type": "code",
   "execution_count": 105,
   "id": "3574b772",
   "metadata": {},
   "outputs": [
    {
     "data": {
      "text/html": [
       "<div>\n",
       "<style scoped>\n",
       "    .dataframe tbody tr th:only-of-type {\n",
       "        vertical-align: middle;\n",
       "    }\n",
       "\n",
       "    .dataframe tbody tr th {\n",
       "        vertical-align: top;\n",
       "    }\n",
       "\n",
       "    .dataframe thead th {\n",
       "        text-align: right;\n",
       "    }\n",
       "</style>\n",
       "<table border=\"1\" class=\"dataframe\">\n",
       "  <thead>\n",
       "    <tr style=\"text-align: right;\">\n",
       "      <th></th>\n",
       "      <th>bq39_2</th>\n",
       "      <th>bq40</th>\n",
       "      <th>bq41_1</th>\n",
       "      <th>bq41_2</th>\n",
       "      <th>bq41_3</th>\n",
       "    </tr>\n",
       "    <tr>\n",
       "      <th>idx</th>\n",
       "      <th></th>\n",
       "      <th></th>\n",
       "      <th></th>\n",
       "      <th></th>\n",
       "      <th></th>\n",
       "    </tr>\n",
       "  </thead>\n",
       "  <tbody>\n",
       "    <tr>\n",
       "      <th>10</th>\n",
       "      <td>5</td>\n",
       "      <td>NaN</td>\n",
       "      <td>NaN</td>\n",
       "      <td>5000</td>\n",
       "      <td>NaN</td>\n",
       "    </tr>\n",
       "    <tr>\n",
       "      <th>61</th>\n",
       "      <td>6</td>\n",
       "      <td>NaN</td>\n",
       "      <td>NaN</td>\n",
       "      <td>10000</td>\n",
       "      <td>NaN</td>\n",
       "    </tr>\n",
       "    <tr>\n",
       "      <th>78</th>\n",
       "      <td>5</td>\n",
       "      <td>NaN</td>\n",
       "      <td>NaN</td>\n",
       "      <td>8500</td>\n",
       "      <td>NaN</td>\n",
       "    </tr>\n",
       "    <tr>\n",
       "      <th>85</th>\n",
       "      <td>5</td>\n",
       "      <td>NaN</td>\n",
       "      <td>NaN</td>\n",
       "      <td>15000</td>\n",
       "      <td>NaN</td>\n",
       "    </tr>\n",
       "    <tr>\n",
       "      <th>88</th>\n",
       "      <td>5</td>\n",
       "      <td>NaN</td>\n",
       "      <td>NaN</td>\n",
       "      <td>3800</td>\n",
       "      <td>NaN</td>\n",
       "    </tr>\n",
       "    <tr>\n",
       "      <th>...</th>\n",
       "      <td>...</td>\n",
       "      <td>...</td>\n",
       "      <td>...</td>\n",
       "      <td>...</td>\n",
       "      <td>...</td>\n",
       "    </tr>\n",
       "    <tr>\n",
       "      <th>9458</th>\n",
       "      <td>5</td>\n",
       "      <td>NaN</td>\n",
       "      <td>NaN</td>\n",
       "      <td>4000</td>\n",
       "      <td>NaN</td>\n",
       "    </tr>\n",
       "    <tr>\n",
       "      <th>9466</th>\n",
       "      <td>6</td>\n",
       "      <td>NaN</td>\n",
       "      <td>NaN</td>\n",
       "      <td>1500</td>\n",
       "      <td>NaN</td>\n",
       "    </tr>\n",
       "    <tr>\n",
       "      <th>9477</th>\n",
       "      <td>6</td>\n",
       "      <td>NaN</td>\n",
       "      <td>NaN</td>\n",
       "      <td>5000</td>\n",
       "      <td>NaN</td>\n",
       "    </tr>\n",
       "    <tr>\n",
       "      <th>9481</th>\n",
       "      <td>6</td>\n",
       "      <td>NaN</td>\n",
       "      <td>NaN</td>\n",
       "      <td>3400</td>\n",
       "      <td>NaN</td>\n",
       "    </tr>\n",
       "    <tr>\n",
       "      <th>9483</th>\n",
       "      <td>6</td>\n",
       "      <td>NaN</td>\n",
       "      <td>NaN</td>\n",
       "      <td>4500</td>\n",
       "      <td>NaN</td>\n",
       "    </tr>\n",
       "  </tbody>\n",
       "</table>\n",
       "<p>1333 rows × 5 columns</p>\n",
       "</div>"
      ],
      "text/plain": [
       "      bq39_2 bq40 bq41_1 bq41_2 bq41_3\n",
       "idx                                   \n",
       "10         5  NaN    NaN   5000    NaN\n",
       "61         6  NaN    NaN  10000    NaN\n",
       "78         5  NaN    NaN   8500    NaN\n",
       "85         5  NaN    NaN  15000    NaN\n",
       "88         5  NaN    NaN   3800    NaN\n",
       "...      ...  ...    ...    ...    ...\n",
       "9458       5  NaN    NaN   4000    NaN\n",
       "9466       6  NaN    NaN   1500    NaN\n",
       "9477       6  NaN    NaN   5000    NaN\n",
       "9481       6  NaN    NaN   3400    NaN\n",
       "9483       6  NaN    NaN   4500    NaN\n",
       "\n",
       "[1333 rows x 5 columns]"
      ]
     },
     "execution_count": 105,
     "metadata": {},
     "output_type": "execute_result"
    }
   ],
   "source": [
    "know_test[0].loc[(know_test[0].bq39_2>4), ['bq39_2', 'bq40','bq41_1','bq41_2','bq41_3']]"
   ]
  },
  {
   "cell_type": "code",
   "execution_count": 106,
   "id": "0b784ded",
   "metadata": {},
   "outputs": [],
   "source": [
    "know_test[0].rename(columns={'bq41_3':'bq41_2','bq41_2':'bq41_3'}, inplace=True)"
   ]
  },
  {
   "cell_type": "code",
   "execution_count": null,
   "id": "a8dd402e",
   "metadata": {},
   "outputs": [],
   "source": []
  },
  {
   "cell_type": "code",
   "execution_count": 94,
   "id": "d4aa9c0c",
   "metadata": {},
   "outputs": [
    {
     "data": {
      "text/html": [
       "<div>\n",
       "<style scoped>\n",
       "    .dataframe tbody tr th:only-of-type {\n",
       "        vertical-align: middle;\n",
       "    }\n",
       "\n",
       "    .dataframe tbody tr th {\n",
       "        vertical-align: top;\n",
       "    }\n",
       "\n",
       "    .dataframe thead th {\n",
       "        text-align: right;\n",
       "    }\n",
       "</style>\n",
       "<table border=\"1\" class=\"dataframe\">\n",
       "  <thead>\n",
       "    <tr style=\"text-align: right;\">\n",
       "      <th></th>\n",
       "      <th>bq39_1</th>\n",
       "      <th>bq39_2</th>\n",
       "      <th>bq40</th>\n",
       "      <th>bq41_1</th>\n",
       "      <th>bq41_2</th>\n",
       "      <th>bq41_3</th>\n",
       "    </tr>\n",
       "    <tr>\n",
       "      <th>idx</th>\n",
       "      <th></th>\n",
       "      <th></th>\n",
       "      <th></th>\n",
       "      <th></th>\n",
       "      <th></th>\n",
       "      <th></th>\n",
       "    </tr>\n",
       "  </thead>\n",
       "  <tbody>\n",
       "    <tr>\n",
       "      <th>0</th>\n",
       "      <td>1</td>\n",
       "      <td>1</td>\n",
       "      <td>1</td>\n",
       "      <td>3000</td>\n",
       "      <td>NaN</td>\n",
       "      <td>2300</td>\n",
       "    </tr>\n",
       "    <tr>\n",
       "      <th>1</th>\n",
       "      <td>1</td>\n",
       "      <td>1</td>\n",
       "      <td>1</td>\n",
       "      <td>5500</td>\n",
       "      <td>NaN</td>\n",
       "      <td>2500</td>\n",
       "    </tr>\n",
       "    <tr>\n",
       "      <th>2</th>\n",
       "      <td>1</td>\n",
       "      <td>1</td>\n",
       "      <td>1</td>\n",
       "      <td>4300</td>\n",
       "      <td>NaN</td>\n",
       "      <td>4000</td>\n",
       "    </tr>\n",
       "    <tr>\n",
       "      <th>3</th>\n",
       "      <td>1</td>\n",
       "      <td>1</td>\n",
       "      <td>1</td>\n",
       "      <td>4100</td>\n",
       "      <td>NaN</td>\n",
       "      <td>3000</td>\n",
       "    </tr>\n",
       "    <tr>\n",
       "      <th>4</th>\n",
       "      <td>1</td>\n",
       "      <td>1</td>\n",
       "      <td>1</td>\n",
       "      <td>2800</td>\n",
       "      <td>NaN</td>\n",
       "      <td>2000</td>\n",
       "    </tr>\n",
       "    <tr>\n",
       "      <th>...</th>\n",
       "      <td>...</td>\n",
       "      <td>...</td>\n",
       "      <td>...</td>\n",
       "      <td>...</td>\n",
       "      <td>...</td>\n",
       "      <td>...</td>\n",
       "    </tr>\n",
       "    <tr>\n",
       "      <th>9479</th>\n",
       "      <td>1</td>\n",
       "      <td>1</td>\n",
       "      <td>1</td>\n",
       "      <td>3200</td>\n",
       "      <td>NaN</td>\n",
       "      <td>2500</td>\n",
       "    </tr>\n",
       "    <tr>\n",
       "      <th>9480</th>\n",
       "      <td>1</td>\n",
       "      <td>1</td>\n",
       "      <td>1</td>\n",
       "      <td>3700</td>\n",
       "      <td>NaN</td>\n",
       "      <td>1800</td>\n",
       "    </tr>\n",
       "    <tr>\n",
       "      <th>9482</th>\n",
       "      <td>1</td>\n",
       "      <td>1</td>\n",
       "      <td>1</td>\n",
       "      <td>7000</td>\n",
       "      <td>NaN</td>\n",
       "      <td>2400</td>\n",
       "    </tr>\n",
       "    <tr>\n",
       "      <th>9484</th>\n",
       "      <td>1</td>\n",
       "      <td>1</td>\n",
       "      <td>1</td>\n",
       "      <td>6000</td>\n",
       "      <td>NaN</td>\n",
       "      <td>4000</td>\n",
       "    </tr>\n",
       "    <tr>\n",
       "      <th>9485</th>\n",
       "      <td>1</td>\n",
       "      <td>1</td>\n",
       "      <td>1</td>\n",
       "      <td>3000</td>\n",
       "      <td>NaN</td>\n",
       "      <td>2000</td>\n",
       "    </tr>\n",
       "  </tbody>\n",
       "</table>\n",
       "<p>8153 rows × 6 columns</p>\n",
       "</div>"
      ],
      "text/plain": [
       "      bq39_1  bq39_2 bq40 bq41_1 bq41_2 bq41_3\n",
       "idx                                           \n",
       "0          1       1    1   3000    NaN   2300\n",
       "1          1       1    1   5500    NaN   2500\n",
       "2          1       1    1   4300    NaN   4000\n",
       "3          1       1    1   4100    NaN   3000\n",
       "4          1       1    1   2800    NaN   2000\n",
       "...      ...     ...  ...    ...    ...    ...\n",
       "9479       1       1    1   3200    NaN   2500\n",
       "9480       1       1    1   3700    NaN   1800\n",
       "9482       1       1    1   7000    NaN   2400\n",
       "9484       1       1    1   6000    NaN   4000\n",
       "9485       1       1    1   3000    NaN   2000\n",
       "\n",
       "[8153 rows x 6 columns]"
      ]
     },
     "execution_count": 94,
     "metadata": {},
     "output_type": "execute_result"
    }
   ],
   "source": [
    "know_test[0].loc[know_test[0].bq39_2<5,['bq39_1','bq39_2','bq40', 'bq41_1', 'bq41_2', 'bq41_3']]"
   ]
  },
  {
   "cell_type": "code",
   "execution_count": null,
   "id": "5acead97",
   "metadata": {},
   "outputs": [],
   "source": []
  },
  {
   "cell_type": "code",
   "execution_count": 95,
   "id": "4298bfe8",
   "metadata": {
    "scrolled": false
   },
   "outputs": [
    {
     "data": {
      "text/html": [
       "<div>\n",
       "<style scoped>\n",
       "    .dataframe tbody tr th:only-of-type {\n",
       "        vertical-align: middle;\n",
       "    }\n",
       "\n",
       "    .dataframe tbody tr th {\n",
       "        vertical-align: top;\n",
       "    }\n",
       "\n",
       "    .dataframe thead th {\n",
       "        text-align: right;\n",
       "    }\n",
       "</style>\n",
       "<table border=\"1\" class=\"dataframe\">\n",
       "  <thead>\n",
       "    <tr style=\"text-align: right;\">\n",
       "      <th></th>\n",
       "      <th>bq39_1</th>\n",
       "      <th>bq39_2</th>\n",
       "      <th>bq40</th>\n",
       "      <th>bq41_1</th>\n",
       "      <th>bq41_2</th>\n",
       "      <th>bq41_3</th>\n",
       "    </tr>\n",
       "    <tr>\n",
       "      <th>idx</th>\n",
       "      <th></th>\n",
       "      <th></th>\n",
       "      <th></th>\n",
       "      <th></th>\n",
       "      <th></th>\n",
       "      <th></th>\n",
       "    </tr>\n",
       "  </thead>\n",
       "  <tbody>\n",
       "    <tr>\n",
       "      <th>0</th>\n",
       "      <td>1</td>\n",
       "      <td>1</td>\n",
       "      <td>1</td>\n",
       "      <td>3000</td>\n",
       "      <td>NaN</td>\n",
       "      <td>2300</td>\n",
       "    </tr>\n",
       "    <tr>\n",
       "      <th>1</th>\n",
       "      <td>1</td>\n",
       "      <td>1</td>\n",
       "      <td>1</td>\n",
       "      <td>5500</td>\n",
       "      <td>NaN</td>\n",
       "      <td>2500</td>\n",
       "    </tr>\n",
       "    <tr>\n",
       "      <th>2</th>\n",
       "      <td>1</td>\n",
       "      <td>1</td>\n",
       "      <td>1</td>\n",
       "      <td>4300</td>\n",
       "      <td>NaN</td>\n",
       "      <td>4000</td>\n",
       "    </tr>\n",
       "    <tr>\n",
       "      <th>3</th>\n",
       "      <td>1</td>\n",
       "      <td>1</td>\n",
       "      <td>1</td>\n",
       "      <td>4100</td>\n",
       "      <td>NaN</td>\n",
       "      <td>3000</td>\n",
       "    </tr>\n",
       "    <tr>\n",
       "      <th>4</th>\n",
       "      <td>1</td>\n",
       "      <td>1</td>\n",
       "      <td>1</td>\n",
       "      <td>2800</td>\n",
       "      <td>NaN</td>\n",
       "      <td>2000</td>\n",
       "    </tr>\n",
       "    <tr>\n",
       "      <th>...</th>\n",
       "      <td>...</td>\n",
       "      <td>...</td>\n",
       "      <td>...</td>\n",
       "      <td>...</td>\n",
       "      <td>...</td>\n",
       "      <td>...</td>\n",
       "    </tr>\n",
       "    <tr>\n",
       "      <th>9481</th>\n",
       "      <td>2</td>\n",
       "      <td>6</td>\n",
       "      <td>NaN</td>\n",
       "      <td>NaN</td>\n",
       "      <td>3400</td>\n",
       "      <td>NaN</td>\n",
       "    </tr>\n",
       "    <tr>\n",
       "      <th>9482</th>\n",
       "      <td>1</td>\n",
       "      <td>1</td>\n",
       "      <td>1</td>\n",
       "      <td>7000</td>\n",
       "      <td>NaN</td>\n",
       "      <td>2400</td>\n",
       "    </tr>\n",
       "    <tr>\n",
       "      <th>9483</th>\n",
       "      <td>2</td>\n",
       "      <td>6</td>\n",
       "      <td>NaN</td>\n",
       "      <td>NaN</td>\n",
       "      <td>4500</td>\n",
       "      <td>NaN</td>\n",
       "    </tr>\n",
       "    <tr>\n",
       "      <th>9484</th>\n",
       "      <td>1</td>\n",
       "      <td>1</td>\n",
       "      <td>1</td>\n",
       "      <td>6000</td>\n",
       "      <td>NaN</td>\n",
       "      <td>4000</td>\n",
       "    </tr>\n",
       "    <tr>\n",
       "      <th>9485</th>\n",
       "      <td>1</td>\n",
       "      <td>1</td>\n",
       "      <td>1</td>\n",
       "      <td>3000</td>\n",
       "      <td>NaN</td>\n",
       "      <td>2000</td>\n",
       "    </tr>\n",
       "  </tbody>\n",
       "</table>\n",
       "<p>9486 rows × 6 columns</p>\n",
       "</div>"
      ],
      "text/plain": [
       "      bq39_1  bq39_2 bq40 bq41_1 bq41_2 bq41_3\n",
       "idx                                           \n",
       "0          1       1    1   3000    NaN   2300\n",
       "1          1       1    1   5500    NaN   2500\n",
       "2          1       1    1   4300    NaN   4000\n",
       "3          1       1    1   4100    NaN   3000\n",
       "4          1       1    1   2800    NaN   2000\n",
       "...      ...     ...  ...    ...    ...    ...\n",
       "9481       2       6  NaN    NaN   3400    NaN\n",
       "9482       1       1    1   7000    NaN   2400\n",
       "9483       2       6  NaN    NaN   4500    NaN\n",
       "9484       1       1    1   6000    NaN   4000\n",
       "9485       1       1    1   3000    NaN   2000\n",
       "\n",
       "[9486 rows x 6 columns]"
      ]
     },
     "execution_count": 95,
     "metadata": {},
     "output_type": "execute_result"
    }
   ],
   "source": [
    "know_test[0].loc[:,['bq39_1','bq39_2','bq40', 'bq41_1', 'bq41_2', 'bq41_3']]"
   ]
  },
  {
   "cell_type": "markdown",
   "id": "0e56690b",
   "metadata": {},
   "source": [
    "# 'bq40', \n",
    "## 1 정규직 2 비정규직"
   ]
  },
  {
   "cell_type": "code",
   "execution_count": 96,
   "id": "f9f638d1",
   "metadata": {},
   "outputs": [
    {
     "name": "stdout",
     "output_type": "stream",
     "text": [
      "1301\n",
      "1333\n"
     ]
    }
   ],
   "source": [
    "print(know_train[0]['bq40'].isna().sum())\n",
    "print(know_test[0]['bq40'].isna().sum())"
   ]
  },
  {
   "cell_type": "code",
   "execution_count": null,
   "id": "e6c24fd2",
   "metadata": {},
   "outputs": [],
   "source": []
  },
  {
   "cell_type": "markdown",
   "id": "5d1b9faf",
   "metadata": {},
   "source": [
    "# 'bq41_1',\n",
    "## 근로소득. bq39_1 임금근로자(1~4일경우만)"
   ]
  },
  {
   "cell_type": "code",
   "execution_count": null,
   "id": "b91ecac1",
   "metadata": {},
   "outputs": [],
   "source": []
  },
  {
   "cell_type": "code",
   "execution_count": null,
   "id": "3d2cfda8",
   "metadata": {},
   "outputs": [],
   "source": []
  },
  {
   "cell_type": "markdown",
   "id": "26babfa0",
   "metadata": {},
   "source": [
    "# 'bq41_2', \n",
    "## 초임임금. bq39_1 임금근로자(1~4일경우만)"
   ]
  },
  {
   "cell_type": "code",
   "execution_count": null,
   "id": "1b28c19b",
   "metadata": {},
   "outputs": [],
   "source": []
  },
  {
   "cell_type": "code",
   "execution_count": null,
   "id": "a6adf62b",
   "metadata": {},
   "outputs": [],
   "source": []
  },
  {
   "cell_type": "markdown",
   "id": "976399bd",
   "metadata": {},
   "source": [
    "# 'bq41_3'\n",
    "## 순수입. bq39_2 비임금근로자 (5~7일경우)"
   ]
  },
  {
   "cell_type": "code",
   "execution_count": null,
   "id": "9352d3ce",
   "metadata": {},
   "outputs": [],
   "source": []
  },
  {
   "cell_type": "code",
   "execution_count": null,
   "id": "89e22891",
   "metadata": {},
   "outputs": [],
   "source": []
  },
  {
   "cell_type": "code",
   "execution_count": null,
   "id": "56e057b4",
   "metadata": {},
   "outputs": [],
   "source": []
  },
  {
   "cell_type": "code",
   "execution_count": null,
   "id": "8d5aced9",
   "metadata": {},
   "outputs": [],
   "source": []
  },
  {
   "cell_type": "code",
   "execution_count": null,
   "id": "74caea40",
   "metadata": {},
   "outputs": [],
   "source": []
  },
  {
   "cell_type": "markdown",
   "id": "0317814b",
   "metadata": {},
   "source": [
    "# 데이터 타입 변경"
   ]
  },
  {
   "cell_type": "code",
   "execution_count": 97,
   "id": "a9d834b7",
   "metadata": {},
   "outputs": [],
   "source": [
    "# know_train[0].select_dtypes('object').columns"
   ]
  },
  {
   "cell_type": "code",
   "execution_count": 98,
   "id": "91234460",
   "metadata": {},
   "outputs": [],
   "source": [
    "# # 텍스트 데이터\n",
    "# text_cols = ['bq4_1a', 'bq4_1b', 'bq4_1c', 'bq5_2', 'bq19_1', 'bq30', 'bq31', 'bq32', 'bq33', 'bq34', 'bq38_1']\n",
    "# type_dict ={col:'int64'  for col in know_train[0].select_dtypes('object').columns.tolist() if col not in text_cols}\n",
    "# know_train[0].astype(type_dict)\n",
    "# #nan값 있으면 안됨..ㅠㅠ"
   ]
  },
  {
   "cell_type": "code",
   "execution_count": 99,
   "id": "18d1eb86",
   "metadata": {
    "scrolled": false
   },
   "outputs": [],
   "source": [
    "# c = know_train[0].select_dtypes('int64').columns[:-1]\n",
    "# fig, ax = plt.subplots(nrows=len(c)//3, ncols=3, figsize=(30, 100))\n",
    "\n",
    "# for i, col_name in enumerate(c):\n",
    "#     sns.countplot(x=col_name, data=know_train[0], ax=ax[i//3][i%3], palette='Set2')\n",
    "# plt.show()"
   ]
  },
  {
   "cell_type": "code",
   "execution_count": 100,
   "id": "550d6338",
   "metadata": {},
   "outputs": [],
   "source": [
    "# know_train[0].columns[know_train[0].isna().sum()>0]"
   ]
  },
  {
   "cell_type": "code",
   "execution_count": null,
   "id": "1f54f159",
   "metadata": {},
   "outputs": [],
   "source": []
  },
  {
   "cell_type": "code",
   "execution_count": null,
   "id": "3ab17df2",
   "metadata": {},
   "outputs": [],
   "source": []
  },
  {
   "cell_type": "code",
   "execution_count": null,
   "id": "8b486b29",
   "metadata": {},
   "outputs": [],
   "source": []
  }
 ],
 "metadata": {
  "kernelspec": {
   "display_name": "py37",
   "language": "python",
   "name": "py37"
  },
  "language_info": {
   "codemirror_mode": {
    "name": "ipython",
    "version": 3
   },
   "file_extension": ".py",
   "mimetype": "text/x-python",
   "name": "python",
   "nbconvert_exporter": "python",
   "pygments_lexer": "ipython3",
   "version": "3.7.0"
  }
 },
 "nbformat": 4,
 "nbformat_minor": 5
}
