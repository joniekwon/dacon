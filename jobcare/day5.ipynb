{
 "cells": [
  {
   "cell_type": "code",
   "execution_count": 3,
   "id": "db06dbbc",
   "metadata": {},
   "outputs": [],
   "source": [
    "import pandas as pd\n",
    "import numpy as np\n",
    "import matplotlib.pyplot as plt\n",
    "import seaborn as sns\n",
    "sns.set_style('darkgrid')\n",
    "\n",
    "import warnings\n",
    "warnings.filterwarnings('ignore')\n",
    "import re"
   ]
  },
  {
   "cell_type": "markdown",
   "id": "5bf33a76",
   "metadata": {},
   "source": [
    "# 데이터-속성 매칭\n",
    "### HappyNewYear님의 공유 코드 사용\n",
    "* https://dacon.io/competitions/official/235863/codeshare/3877?page=1&dtype=recent"
   ]
  },
  {
   "cell_type": "code",
   "execution_count": 14,
   "id": "30c7c240",
   "metadata": {},
   "outputs": [],
   "source": [
    "d_code = pd.read_csv('./_data/속성_D_코드.csv', index_col=0).T.to_dict()\n",
    "h_code = pd.read_csv('./_data/속성_H_코드.csv', index_col=0).T.to_dict()\n",
    "l_code = pd.read_csv('./_data/속성_L_코드.csv', index_col=0).T.to_dict()\n",
    "\n",
    "t1 = pd.read_csv('./_data/train.csv',index_col=0)\n",
    "t2 = pd.read_csv('./_data/test.csv',index_col=0)\n",
    "\n",
    "# d_code.columns= [\"attribute_d\",\"attribute_d_n\",\"attribute_d_s\",\"attribute_d_m\",\"attribute_d_l\"]\n",
    "# h_code.columns= [\"attribute_h\",\"attribute_h_m\", \"attribute_h_l\"]\n",
    "# l_code.columns= [\"attribute_l\",\"attribute_l_n\",\"attribute_l_s\",\"attribute_l_m\",\"attribute_l_l\"]"
   ]
  },
  {
   "cell_type": "code",
   "execution_count": 7,
   "id": "c4205851",
   "metadata": {},
   "outputs": [],
   "source": [
    "from typing import Dict\n",
    "def add_code(\n",
    "    df: pd.DataFrame,\n",
    "    d_code: Dict[int, Dict[str, int]], \n",
    "    h_code: Dict[int, Dict[str, int]], \n",
    "    l_code: Dict[int, Dict[str, int]],\n",
    ") -> pd.DataFrame:\n",
    "    \n",
    "    # Copy input data\n",
    "    df = df.copy()   \n",
    "\n",
    "    # D Code\n",
    "    df['person_prefer_d_1_n'] = df['person_prefer_d_1'].apply(lambda x: d_code[x]['속성 D 세분류코드'])\n",
    "    df['person_prefer_d_1_s'] = df['person_prefer_d_1'].apply(lambda x: d_code[x]['속성 D 소분류코드'])\n",
    "    df['person_prefer_d_1_m'] = df['person_prefer_d_1'].apply(lambda x: d_code[x]['속성 D 중분류코드'])\n",
    "    df['person_prefer_d_1_l'] = df['person_prefer_d_1'].apply(lambda x: d_code[x]['속성 D 대분류코드'])\n",
    "\n",
    "    df['person_prefer_d_2_n'] = df['person_prefer_d_2'].apply(lambda x: d_code[x]['속성 D 세분류코드'])\n",
    "    df['person_prefer_d_2_s'] = df['person_prefer_d_2'].apply(lambda x: d_code[x]['속성 D 소분류코드'])\n",
    "    df['person_prefer_d_2_m'] = df['person_prefer_d_2'].apply(lambda x: d_code[x]['속성 D 중분류코드'])\n",
    "    df['person_prefer_d_2_l'] = df['person_prefer_d_2'].apply(lambda x: d_code[x]['속성 D 대분류코드'])\n",
    "\n",
    "    df['person_prefer_d_3_n'] = df['person_prefer_d_3'].apply(lambda x: d_code[x]['속성 D 세분류코드'])\n",
    "    df['person_prefer_d_3_s'] = df['person_prefer_d_3'].apply(lambda x: d_code[x]['속성 D 소분류코드'])\n",
    "    df['person_prefer_d_3_m'] = df['person_prefer_d_3'].apply(lambda x: d_code[x]['속성 D 중분류코드'])\n",
    "    df['person_prefer_d_3_l'] = df['person_prefer_d_3'].apply(lambda x: d_code[x]['속성 D 대분류코드'])\n",
    "\n",
    "    df['contents_attribute_d_n'] = df['contents_attribute_d'].apply(lambda x: d_code[x]['속성 D 세분류코드'])\n",
    "    df['contents_attribute_d_s'] = df['contents_attribute_d'].apply(lambda x: d_code[x]['속성 D 소분류코드'])\n",
    "    df['contents_attribute_d_m'] = df['contents_attribute_d'].apply(lambda x: d_code[x]['속성 D 중분류코드'])\n",
    "    df['contents_attribute_d_l'] = df['contents_attribute_d'].apply(lambda x: d_code[x]['속성 D 대분류코드'])\n",
    "\n",
    "    # H Code\n",
    "    df['person_prefer_h_1_l'] = df['person_prefer_h_1'].apply(lambda x: h_code[x]['속성 H 대분류코드'])\n",
    "    df['person_prefer_h_1_m'] = df['person_prefer_h_1'].apply(lambda x: h_code[x]['속성 H 중분류코드'])\n",
    "    \n",
    "    df['person_prefer_h_2_l'] = df['person_prefer_h_2'].apply(lambda x: h_code[x]['속성 H 대분류코드'])\n",
    "    df['person_prefer_h_2_m'] = df['person_prefer_h_2'].apply(lambda x: h_code[x]['속성 H 중분류코드'])\n",
    "    \n",
    "    df['person_prefer_h_3_l'] = df['person_prefer_h_3'].apply(lambda x: h_code[x]['속성 H 대분류코드'])\n",
    "    df['person_prefer_h_3_m'] = df['person_prefer_h_3'].apply(lambda x: h_code[x]['속성 H 중분류코드'])\n",
    "\n",
    "    df['contents_attribute_h_l'] = df['contents_attribute_h'].apply(lambda x: h_code[x]['속성 H 대분류코드'])\n",
    "    df['contents_attribute_h_m'] = df['contents_attribute_h'].apply(lambda x: h_code[x]['속성 H 중분류코드'])\n",
    "\n",
    "    # L Code\n",
    "    df['contents_attribute_l_n'] = df['contents_attribute_l'].apply(lambda x: l_code[x]['속성 L 세분류코드'])\n",
    "    df['contents_attribute_l_s'] = df['contents_attribute_l'].apply(lambda x: l_code[x]['속성 L 소분류코드'])\n",
    "    df['contents_attribute_l_m'] = df['contents_attribute_l'].apply(lambda x: l_code[x]['속성 L 중분류코드'])\n",
    "    df['contents_attribute_l_l'] = df['contents_attribute_l'].apply(lambda x: l_code[x]['속성 L 대분류코드'])\n",
    "    \n",
    "    return df"
   ]
  },
  {
   "cell_type": "code",
   "execution_count": 15,
   "id": "498d9d96",
   "metadata": {},
   "outputs": [],
   "source": [
    "df_train = add_code(t1, d_code, h_code, l_code)\n",
    "df_test = add_code(t2, d_code, h_code, l_code)"
   ]
  },
  {
   "cell_type": "markdown",
   "id": "6f0a43af",
   "metadata": {},
   "source": [
    "## 훈련 데이터는 1~11월, 테스트 데이터는 12월의 자료로 구성되어있음"
   ]
  },
  {
   "cell_type": "code",
   "execution_count": 5,
   "id": "c951a902",
   "metadata": {},
   "outputs": [
    {
     "data": {
      "text/plain": [
       "['01', '02', '03', '04', '05', '06', '07', '08', '09', '10', '11']"
      ]
     },
     "execution_count": 5,
     "metadata": {},
     "output_type": "execute_result"
    }
   ],
   "source": [
    "# train 월데이터 \n",
    "sorted(df_train['contents_open_dt'].apply(lambda x: x.split('-')[1]).unique())"
   ]
  },
  {
   "cell_type": "code",
   "execution_count": 6,
   "id": "63a5904d",
   "metadata": {},
   "outputs": [
    {
     "data": {
      "text/plain": [
       "['12']"
      ]
     },
     "execution_count": 6,
     "metadata": {},
     "output_type": "execute_result"
    }
   ],
   "source": [
    "# test 월데이터 \n",
    "sorted(df_test['contents_open_dt'].apply(lambda x: x.split('-')[1]).unique())"
   ]
  },
  {
   "cell_type": "code",
   "execution_count": 7,
   "id": "72f91c87",
   "metadata": {},
   "outputs": [
    {
     "data": {
      "text/plain": [
       "id\n",
       "0         2020-01-17 12:09:36\n",
       "1         2020-06-18 17:48:52\n",
       "2         2020-07-08 20:00:10\n",
       "3         2020-01-13 18:09:34\n",
       "4         2020-03-09 20:39:22\n",
       "                 ...         \n",
       "501946    2020-03-13 12:55:52\n",
       "501947    2020-01-20 11:51:51\n",
       "501948    2020-08-05 17:27:24\n",
       "501949    2020-06-15 09:23:21\n",
       "501950    2020-05-25 14:34:48\n",
       "Name: contents_open_dt, Length: 501951, dtype: object"
      ]
     },
     "execution_count": 7,
     "metadata": {},
     "output_type": "execute_result"
    }
   ],
   "source": [
    "df_train['contents_open_dt']"
   ]
  },
  {
   "cell_type": "markdown",
   "id": "fd6ef9bd",
   "metadata": {},
   "source": [
    "* 월 데이터는 의미 없을 것으로 보임.\n",
    "* 열람일시 데이터로 시간, 요일 정보 추가\n",
    "* 같은 알파벳은 동일한 속성을 의미. 속성 매칭 여부 정보 추가"
   ]
  },
  {
   "cell_type": "markdown",
   "id": "11bb2088",
   "metadata": {},
   "source": [
    "# 동일한 속성 매칭 및 순서형 데이터 처리"
   ]
  },
  {
   "cell_type": "code",
   "execution_count": 12,
   "id": "647d9074",
   "metadata": {},
   "outputs": [],
   "source": [
    "def match_cols(df, del_columns=False):\n",
    "    \n",
    "    del_cols = ['person_prefer_f','person_prefer_g', 'contents_open_dt', 'person_rn', 'contents_rn']\n",
    "\n",
    "    p_cols = []\n",
    "    c_d_cols = []\n",
    "    c_h_cols = []    \n",
    "    for i in df.columns:\n",
    "        if re.findall('person_prefer_._._',i):\n",
    "            p_cols.append(i)\n",
    "        if re.findall('contents_attribute_d_.',i):\n",
    "            c_d_cols.append(i)    \n",
    "        if re.findall('contents_attribute_h+',i):\n",
    "            c_h_cols.append(i)\n",
    "            \n",
    "    for i in p_cols:\n",
    "        if i.split('_')[2] == 'd':\n",
    "            for cols in c_d_cols:\n",
    "                if i.split('_')[-1] == cols[-1]:\n",
    "#                     print(i[-5:]+'_match_yn')\n",
    "                    df[i[-5:]+'_match_yn'] = (df[i]==df[cols]).astype(int)\n",
    "        else:\n",
    "            for cols in c_h_cols:\n",
    "                if i.split('_')[-1] == cols[-1]:\n",
    "#                     print(i[-5:]+'_match_yn')\n",
    "                    df[i[-5:]+'_match_yn'] = (df[i]==df[cols]).astype(int)\n",
    "    \n",
    "    # 회원속성a와 컨텐츠 속성a 일치여부\n",
    "#     df['match_a'] = (df.person_attribute_a==df.contents_attribute_a).astype(int)  \n",
    "\n",
    "    # 선호속성c와 컨텐츠 속성c 일치여부\n",
    "    df['match_c'] = (df.person_prefer_c==df.contents_attribute_c).astype(int)  \n",
    "    # 회원선호속성 c는 1~5까지 있는 반면, 컨텐츠 속성c는 1~4만 있음\n",
    "    # 5 = 무응답이나 기타일것같은..\n",
    "    df['person_prefer_c5'] = (df.person_prefer_c==5).astype(int)\n",
    "    \n",
    "    # 선호속성e와 컨텐츠 속성e 일치여부\n",
    "    df['match_e'] = (df.person_prefer_e==df.contents_attribute_e).astype(int)\n",
    "    # person_prefer_e 와 contents_attribute_e차이\n",
    "    df['differ_e'] = df['person_prefer_e'] - df['contents_attribute_e']\n",
    "    \n",
    "    # 순서가 있는 속성\n",
    "    df = pd.get_dummies(df, columns=['person_attribute_a_1','person_attribute_b','person_prefer_e'])\n",
    "        \n",
    "    #ontents_open_dt\n",
    "    df['contents_open_dt'] = pd.to_datetime(df['contents_open_dt'])\n",
    "    df['contents_open_hour'] = df['contents_open_dt'].dt.hour\n",
    "    df['contents_open_day'] = df['contents_open_dt'].dt.dayofweek\n",
    "    \n",
    "    if del_columns:\n",
    "        del_cols += (p_cols + c_d_cols + c_h_cols)\n",
    "                     \n",
    "    \n",
    "    new_df = df.drop(del_cols, axis=1)\n",
    "    new_df = new_df.drop(columns=['contents_attribute_e','person_prefer_c', 'contents_attribute_c',])\n",
    "    \n",
    "    return new_df"
   ]
  },
  {
   "cell_type": "code",
   "execution_count": 16,
   "id": "0ad3f489",
   "metadata": {},
   "outputs": [],
   "source": [
    "train = match_cols(df_train)\n",
    "test = match_cols(df_test)"
   ]
  },
  {
   "cell_type": "code",
   "execution_count": 17,
   "id": "af4994a8",
   "metadata": {},
   "outputs": [
    {
     "data": {
      "text/plain": [
       "Index(['d_l_match_yn', 'd_m_match_yn', 'd_s_match_yn', 'h_l_match_yn',\n",
       "       'h_m_match_yn', 'h_s_match_yn', 'person_attribute_a',\n",
       "       'person_prefer_d_1', 'person_prefer_d_2', 'person_prefer_d_3',\n",
       "       ...\n",
       "       'person_prefer_e_4', 'person_prefer_e_5', 'person_prefer_e_6',\n",
       "       'person_prefer_e_7', 'person_prefer_e_8', 'person_prefer_e_9',\n",
       "       'person_prefer_e_10', 'person_prefer_e_11', 'contents_open_hour',\n",
       "       'contents_open_day'],\n",
       "      dtype='object', length=101)"
      ]
     },
     "execution_count": 17,
     "metadata": {},
     "output_type": "execute_result"
    }
   ],
   "source": [
    "train.columns"
   ]
  },
  {
   "cell_type": "markdown",
   "id": "5c84efab",
   "metadata": {},
   "source": [
    "# CatBoostClassifier 사용"
   ]
  },
  {
   "cell_type": "code",
   "execution_count": 19,
   "id": "0df57331",
   "metadata": {},
   "outputs": [
    {
     "name": "stdout",
     "output_type": "stream",
     "text": [
      "Collecting catboost\n",
      "  Downloading catboost-1.0.3-cp37-none-win_amd64.whl (77.3 MB)\n",
      "Requirement already satisfied: scipy in c:\\programdata\\anaconda3\\envs\\py37\\lib\\site-packages (from catboost) (1.7.3)\n",
      "Collecting plotly\n",
      "  Downloading plotly-5.5.0-py2.py3-none-any.whl (26.5 MB)\n",
      "Requirement already satisfied: six in c:\\programdata\\anaconda3\\envs\\py37\\lib\\site-packages (from catboost) (1.16.0)\n",
      "Requirement already satisfied: numpy>=1.16.0 in c:\\programdata\\anaconda3\\envs\\py37\\lib\\site-packages (from catboost) (1.21.5)\n",
      "Requirement already satisfied: matplotlib in c:\\programdata\\anaconda3\\envs\\py37\\lib\\site-packages (from catboost) (3.5.1)\n",
      "Collecting graphviz\n",
      "  Downloading graphviz-0.19.1-py3-none-any.whl (46 kB)\n",
      "Requirement already satisfied: pandas>=0.24.0 in c:\\programdata\\anaconda3\\envs\\py37\\lib\\site-packages (from catboost) (1.3.5)\n",
      "Requirement already satisfied: pytz>=2017.3 in c:\\programdata\\anaconda3\\envs\\py37\\lib\\site-packages (from pandas>=0.24.0->catboost) (2021.3)\n",
      "Requirement already satisfied: python-dateutil>=2.7.3 in c:\\programdata\\anaconda3\\envs\\py37\\lib\\site-packages (from pandas>=0.24.0->catboost) (2.8.2)\n",
      "Requirement already satisfied: pyparsing>=2.2.1 in c:\\programdata\\anaconda3\\envs\\py37\\lib\\site-packages (from matplotlib->catboost) (3.0.6)\n",
      "Requirement already satisfied: cycler>=0.10 in c:\\programdata\\anaconda3\\envs\\py37\\lib\\site-packages (from matplotlib->catboost) (0.11.0)\n",
      "Requirement already satisfied: pillow>=6.2.0 in c:\\programdata\\anaconda3\\envs\\py37\\lib\\site-packages (from matplotlib->catboost) (9.0.0)\n",
      "Requirement already satisfied: kiwisolver>=1.0.1 in c:\\programdata\\anaconda3\\envs\\py37\\lib\\site-packages (from matplotlib->catboost) (1.3.2)\n",
      "Requirement already satisfied: fonttools>=4.22.0 in c:\\programdata\\anaconda3\\envs\\py37\\lib\\site-packages (from matplotlib->catboost) (4.28.5)\n",
      "Requirement already satisfied: packaging>=20.0 in c:\\programdata\\anaconda3\\envs\\py37\\lib\\site-packages (from matplotlib->catboost) (21.3)\n",
      "Collecting tenacity>=6.2.0\n",
      "  Downloading tenacity-8.0.1-py3-none-any.whl (24 kB)\n",
      "Installing collected packages: tenacity, plotly, graphviz, catboost\n",
      "Successfully installed catboost-1.0.3 graphviz-0.19.1 plotly-5.5.0 tenacity-8.0.1\n"
     ]
    }
   ],
   "source": [
    "!pip install catboost"
   ]
  },
  {
   "cell_type": "code",
   "execution_count": 20,
   "id": "e336dc2c",
   "metadata": {},
   "outputs": [],
   "source": [
    "from catboost import Pool,CatBoostClassifier\n",
    "import sklearn \n",
    "from sklearn.model_selection import StratifiedKFold , KFold\n",
    "from sklearn.metrics import f1_score \n"
   ]
  },
  {
   "cell_type": "code",
   "execution_count": 21,
   "id": "88878edb",
   "metadata": {},
   "outputs": [],
   "source": [
    "y_train = train['target']\n",
    "X_train = train.drop('target',axis=1)\n",
    "X_test = test"
   ]
  },
  {
   "cell_type": "code",
   "execution_count": 10,
   "id": "62d25e0d",
   "metadata": {},
   "outputs": [],
   "source": [
    "#X_train = X_train.drop('contents_attribute_j_1', axis=1)"
   ]
  },
  {
   "cell_type": "code",
   "execution_count": 11,
   "id": "f404fc5b",
   "metadata": {},
   "outputs": [],
   "source": [
    "# f, ax = plt.subplots(figsize=(30, 30))\n",
    "# ax = sns.heatmap(pd.concat([X_train,y_train],axis=1).corr(), cmap=\"YlGnBu\", vmax=.3, annot=True, linewidths=.5)"
   ]
  },
  {
   "cell_type": "code",
   "execution_count": 22,
   "id": "905a715f",
   "metadata": {},
   "outputs": [],
   "source": [
    "cat_features = X_train.columns[X_train.nunique() > 2].tolist()\n",
    "cat_features = cat_features[:-3] + cat_features[-2:]"
   ]
  },
  {
   "cell_type": "code",
   "execution_count": 23,
   "id": "2cc5f3a8",
   "metadata": {},
   "outputs": [
    {
     "data": {
      "text/plain": [
       "['person_prefer_d_1',\n",
       " 'person_prefer_d_2',\n",
       " 'person_prefer_d_3',\n",
       " 'person_prefer_h_1',\n",
       " 'person_prefer_h_2',\n",
       " 'person_prefer_h_3',\n",
       " 'contents_attribute_i',\n",
       " 'contents_attribute_a',\n",
       " 'contents_attribute_j_1',\n",
       " 'contents_attribute_l',\n",
       " 'contents_attribute_d',\n",
       " 'contents_attribute_m',\n",
       " 'contents_attribute_h',\n",
       " 'person_prefer_d_1_n',\n",
       " 'person_prefer_d_1_s',\n",
       " 'person_prefer_d_1_m',\n",
       " 'person_prefer_d_1_l',\n",
       " 'person_prefer_d_2_n',\n",
       " 'person_prefer_d_2_s',\n",
       " 'person_prefer_d_2_m',\n",
       " 'person_prefer_d_2_l',\n",
       " 'person_prefer_d_3_n',\n",
       " 'person_prefer_d_3_s',\n",
       " 'person_prefer_d_3_m',\n",
       " 'person_prefer_d_3_l',\n",
       " 'contents_attribute_d_n',\n",
       " 'contents_attribute_d_s',\n",
       " 'contents_attribute_d_m',\n",
       " 'contents_attribute_d_l',\n",
       " 'person_prefer_h_1_l',\n",
       " 'person_prefer_h_1_m',\n",
       " 'person_prefer_h_2_l',\n",
       " 'person_prefer_h_2_m',\n",
       " 'person_prefer_h_3_l',\n",
       " 'person_prefer_h_3_m',\n",
       " 'contents_attribute_h_l',\n",
       " 'contents_attribute_h_m',\n",
       " 'contents_attribute_l_n',\n",
       " 'contents_attribute_l_s',\n",
       " 'contents_attribute_l_m',\n",
       " 'contents_attribute_l_l',\n",
       " 'contents_open_hour',\n",
       " 'contents_open_day']"
      ]
     },
     "execution_count": 23,
     "metadata": {},
     "output_type": "execute_result"
    }
   ],
   "source": [
    "cat_features"
   ]
  },
  {
   "cell_type": "code",
   "execution_count": 24,
   "id": "acd9e8cd",
   "metadata": {},
   "outputs": [
    {
     "data": {
      "text/plain": [
       "43"
      ]
     },
     "execution_count": 24,
     "metadata": {},
     "output_type": "execute_result"
    }
   ],
   "source": [
    "len(cat_features)"
   ]
  },
  {
   "cell_type": "code",
   "execution_count": 25,
   "id": "8456b502",
   "metadata": {},
   "outputs": [],
   "source": [
    "SEED = 42\n",
    "is_holdout = False\n",
    "n_splits = 5\n",
    "iterations = 3000\n",
    "patience = 50\n",
    "\n",
    "cv = KFold(n_splits=n_splits, shuffle=True, random_state=SEED)"
   ]
  },
  {
   "cell_type": "code",
   "execution_count": 27,
   "id": "19559991",
   "metadata": {},
   "outputs": [
    {
     "name": "stdout",
     "output_type": "stream",
     "text": [
      "==================================================\n"
     ]
    },
    {
     "name": "stderr",
     "output_type": "stream",
     "text": [
      "Custom logger is already specified. Specify more than one logger at same time is not thread safe."
     ]
    },
    {
     "name": "stdout",
     "output_type": "stream",
     "text": [
      "Learning rate set to 0.086395\n",
      "0:\tlearn: 0.6176044\ttest: 0.6204997\tbest: 0.6204997 (0)\ttotal: 1.32s\tremaining: 1h 6m 12s\n",
      "100:\tlearn: 0.6564871\ttest: 0.6835873\tbest: 0.6836423 (99)\ttotal: 2m 14s\tremaining: 1h 4m 32s\n",
      "200:\tlearn: 0.6635699\ttest: 0.6875260\tbest: 0.6875260 (200)\ttotal: 4m 33s\tremaining: 1h 3m 21s\n",
      "300:\tlearn: 0.6673718\ttest: 0.6885191\tbest: 0.6888565 (263)\ttotal: 7m\tremaining: 1h 2m 49s\n",
      "Stopped by overfitting detector  (50 iterations wait)\n",
      "\n",
      "bestTest = 0.6888565415\n",
      "bestIteration = 263\n",
      "\n",
      "Shrink model to first 264 iterations.\n",
      "==================================================\n",
      "Learning rate set to 0.086395\n",
      "0:\tlearn: 0.6152151\ttest: 0.6165772\tbest: 0.6165772 (0)\ttotal: 1.46s\tremaining: 1h 12m 50s\n",
      "100:\tlearn: 0.6574070\ttest: 0.6806341\tbest: 0.6807779 (99)\ttotal: 2m 32s\tremaining: 1h 13m 5s\n",
      "200:\tlearn: 0.6630460\ttest: 0.6870194\tbest: 0.6870194 (200)\ttotal: 5m 2s\tremaining: 1h 10m 14s\n",
      "300:\tlearn: 0.6673787\ttest: 0.6901006\tbest: 0.6901006 (300)\ttotal: 7m 33s\tremaining: 1h 7m 45s\n",
      "400:\tlearn: 0.6698990\ttest: 0.6904903\tbest: 0.6907889 (380)\ttotal: 10m 11s\tremaining: 1h 6m 4s\n",
      "500:\tlearn: 0.6718810\ttest: 0.6915049\tbest: 0.6915049 (500)\ttotal: 12m 44s\tremaining: 1h 3m 35s\n",
      "Stopped by overfitting detector  (50 iterations wait)\n",
      "\n",
      "bestTest = 0.6915255498\n",
      "bestIteration = 501\n",
      "\n",
      "Shrink model to first 502 iterations.\n",
      "==================================================\n",
      "Learning rate set to 0.086395\n",
      "0:\tlearn: 0.6221068\ttest: 0.6231406\tbest: 0.6231406 (0)\ttotal: 1.48s\tremaining: 1h 14m 11s\n",
      "100:\tlearn: 0.6580595\ttest: 0.6809917\tbest: 0.6809917 (100)\ttotal: 2m 41s\tremaining: 1h 17m 14s\n",
      "200:\tlearn: 0.6648812\ttest: 0.6851412\tbest: 0.6852793 (191)\ttotal: 5m 17s\tremaining: 1h 13m 43s\n",
      "300:\tlearn: 0.6684754\ttest: 0.6870563\tbest: 0.6871350 (297)\ttotal: 7m 49s\tremaining: 1h 10m 11s\n",
      "400:\tlearn: 0.6709789\ttest: 0.6885139\tbest: 0.6885139 (400)\ttotal: 10m 21s\tremaining: 1h 7m 6s\n",
      "Stopped by overfitting detector  (50 iterations wait)\n",
      "\n",
      "bestTest = 0.688591005\n",
      "bestIteration = 405\n",
      "\n",
      "Shrink model to first 406 iterations.\n",
      "==================================================\n",
      "Learning rate set to 0.086395\n",
      "0:\tlearn: 0.6068095\ttest: 0.6048002\tbest: 0.6048002 (0)\ttotal: 1.52s\tremaining: 1h 16m 11s\n",
      "100:\tlearn: 0.6575589\ttest: 0.6788859\tbest: 0.6789512 (99)\ttotal: 2m 40s\tremaining: 1h 16m 53s\n",
      "200:\tlearn: 0.6635935\ttest: 0.6853854\tbest: 0.6853854 (200)\ttotal: 5m 14s\tremaining: 1h 13m 3s\n",
      "300:\tlearn: 0.6679405\ttest: 0.6867111\tbest: 0.6872386 (275)\ttotal: 7m 52s\tremaining: 1h 10m 36s\n",
      "400:\tlearn: 0.6698298\ttest: 0.6873888\tbest: 0.6875442 (395)\ttotal: 10m 32s\tremaining: 1h 8m 22s\n",
      "Stopped by overfitting detector  (50 iterations wait)\n",
      "\n",
      "bestTest = 0.687544219\n",
      "bestIteration = 395\n",
      "\n",
      "Shrink model to first 396 iterations.\n",
      "==================================================\n",
      "Learning rate set to 0.086395\n",
      "0:\tlearn: 0.6236117\ttest: 0.6181561\tbest: 0.6181561 (0)\ttotal: 1.65s\tremaining: 1h 22m 23s\n",
      "100:\tlearn: 0.6574886\ttest: 0.6771417\tbest: 0.6771417 (100)\ttotal: 2m 43s\tremaining: 1h 18m 19s\n",
      "200:\tlearn: 0.6641696\ttest: 0.6829744\tbest: 0.6829975 (197)\ttotal: 5m 16s\tremaining: 1h 13m 22s\n",
      "300:\tlearn: 0.6678673\ttest: 0.6856871\tbest: 0.6857415 (299)\ttotal: 8m 3s\tremaining: 1h 12m 16s\n",
      "Stopped by overfitting detector  (50 iterations wait)\n",
      "\n",
      "bestTest = 0.6857414555\n",
      "bestIteration = 299\n",
      "\n",
      "Shrink model to first 300 iterations.\n"
     ]
    }
   ],
   "source": [
    "scores = []\n",
    "models = []\n",
    "\n",
    "\n",
    "models = []\n",
    "for tri, vai in cv.split(X_train):\n",
    "    print(\"=\"*50)\n",
    "    preds = []\n",
    "\n",
    "    model = CatBoostClassifier(iterations=iterations,random_state=SEED,task_type=\"CPU\",eval_metric=\"F1\",cat_features=cat_features,one_hot_max_size=4)\n",
    "    model.fit(X_train.iloc[tri], y_train[tri], \n",
    "            eval_set=[(X_train.iloc[vai], y_train[vai])], \n",
    "            early_stopping_rounds=patience ,\n",
    "            verbose = 100\n",
    "        )\n",
    "    \n",
    "    models.append(model)\n",
    "    scores.append(model.get_best_score()[\"validation\"][\"F1\"])\n",
    "    if is_holdout:\n",
    "        break   "
   ]
  },
  {
   "cell_type": "code",
   "execution_count": 28,
   "id": "1b03a480",
   "metadata": {},
   "outputs": [
    {
     "name": "stdout",
     "output_type": "stream",
     "text": [
      "[0.6888565415318431, 0.6915255497518449, 0.6885910049847843, 0.6875442189536399, 0.6857414555014825]\n",
      "0.6884517541447189\n"
     ]
    }
   ],
   "source": [
    "print(scores)\n",
    "print(np.mean(scores))"
   ]
  },
  {
   "cell_type": "code",
   "execution_count": null,
   "id": "f449905b",
   "metadata": {},
   "outputs": [],
   "source": [
    "#6.79"
   ]
  },
  {
   "cell_type": "code",
   "execution_count": 29,
   "id": "2b46323f",
   "metadata": {},
   "outputs": [
    {
     "name": "stdout",
     "output_type": "stream",
     "text": [
      "[0.7123246052368578, 0.7128248141039082, 0.711869876718518, 0.711875070579315, 0.7095565171232325]\n",
      "0.7116901767523662\n"
     ]
    }
   ],
   "source": [
    "threshold = 0.4\n",
    "pred_list = []\n",
    "scores = []\n",
    "for i,(tri, vai) in enumerate( cv.split(X_train) ):\n",
    "    pred = models[i].predict_proba(X_train.iloc[vai])[:, 1]\n",
    "    pred = np.where(pred >= threshold , 1, 0)\n",
    "    score = f1_score(y_train[vai],pred)\n",
    "    scores.append(score)\n",
    "    pred = models[i].predict_proba(X_test)[:, 1]\n",
    "    pred_list.append(pred)\n",
    "print(scores)\n",
    "print(np.mean(scores))"
   ]
  },
  {
   "cell_type": "code",
   "execution_count": 30,
   "id": "a0541e02",
   "metadata": {},
   "outputs": [],
   "source": [
    "pred = np.mean( pred_list , axis = 0 )\n",
    "pred = np.where(pred >= threshold , 1, 0)"
   ]
  },
  {
   "cell_type": "code",
   "execution_count": 31,
   "id": "3684eccf",
   "metadata": {},
   "outputs": [
    {
     "data": {
      "text/html": [
       "<div>\n",
       "<style scoped>\n",
       "    .dataframe tbody tr th:only-of-type {\n",
       "        vertical-align: middle;\n",
       "    }\n",
       "\n",
       "    .dataframe tbody tr th {\n",
       "        vertical-align: top;\n",
       "    }\n",
       "\n",
       "    .dataframe thead th {\n",
       "        text-align: right;\n",
       "    }\n",
       "</style>\n",
       "<table border=\"1\" class=\"dataframe\">\n",
       "  <thead>\n",
       "    <tr style=\"text-align: right;\">\n",
       "      <th></th>\n",
       "      <th>id</th>\n",
       "      <th>target</th>\n",
       "    </tr>\n",
       "  </thead>\n",
       "  <tbody>\n",
       "    <tr>\n",
       "      <th>0</th>\n",
       "      <td>0</td>\n",
       "      <td>0</td>\n",
       "    </tr>\n",
       "    <tr>\n",
       "      <th>1</th>\n",
       "      <td>1</td>\n",
       "      <td>0</td>\n",
       "    </tr>\n",
       "    <tr>\n",
       "      <th>2</th>\n",
       "      <td>2</td>\n",
       "      <td>0</td>\n",
       "    </tr>\n",
       "    <tr>\n",
       "      <th>3</th>\n",
       "      <td>3</td>\n",
       "      <td>0</td>\n",
       "    </tr>\n",
       "    <tr>\n",
       "      <th>4</th>\n",
       "      <td>4</td>\n",
       "      <td>0</td>\n",
       "    </tr>\n",
       "  </tbody>\n",
       "</table>\n",
       "</div>"
      ],
      "text/plain": [
       "   id  target\n",
       "0   0       0\n",
       "1   1       0\n",
       "2   2       0\n",
       "3   3       0\n",
       "4   4       0"
      ]
     },
     "execution_count": 31,
     "metadata": {},
     "output_type": "execute_result"
    }
   ],
   "source": [
    "submission = pd.read_csv('./_data/sample_submission.csv')\n",
    "submission.head()"
   ]
  },
  {
   "cell_type": "code",
   "execution_count": 32,
   "id": "5370dbed",
   "metadata": {},
   "outputs": [
    {
     "data": {
      "text/html": [
       "<div>\n",
       "<style scoped>\n",
       "    .dataframe tbody tr th:only-of-type {\n",
       "        vertical-align: middle;\n",
       "    }\n",
       "\n",
       "    .dataframe tbody tr th {\n",
       "        vertical-align: top;\n",
       "    }\n",
       "\n",
       "    .dataframe thead th {\n",
       "        text-align: right;\n",
       "    }\n",
       "</style>\n",
       "<table border=\"1\" class=\"dataframe\">\n",
       "  <thead>\n",
       "    <tr style=\"text-align: right;\">\n",
       "      <th></th>\n",
       "      <th>id</th>\n",
       "      <th>target</th>\n",
       "    </tr>\n",
       "  </thead>\n",
       "  <tbody>\n",
       "    <tr>\n",
       "      <th>0</th>\n",
       "      <td>0</td>\n",
       "      <td>1</td>\n",
       "    </tr>\n",
       "    <tr>\n",
       "      <th>1</th>\n",
       "      <td>1</td>\n",
       "      <td>0</td>\n",
       "    </tr>\n",
       "    <tr>\n",
       "      <th>2</th>\n",
       "      <td>2</td>\n",
       "      <td>0</td>\n",
       "    </tr>\n",
       "    <tr>\n",
       "      <th>3</th>\n",
       "      <td>3</td>\n",
       "      <td>0</td>\n",
       "    </tr>\n",
       "    <tr>\n",
       "      <th>4</th>\n",
       "      <td>4</td>\n",
       "      <td>0</td>\n",
       "    </tr>\n",
       "    <tr>\n",
       "      <th>...</th>\n",
       "      <td>...</td>\n",
       "      <td>...</td>\n",
       "    </tr>\n",
       "    <tr>\n",
       "      <th>46399</th>\n",
       "      <td>46399</td>\n",
       "      <td>1</td>\n",
       "    </tr>\n",
       "    <tr>\n",
       "      <th>46400</th>\n",
       "      <td>46400</td>\n",
       "      <td>1</td>\n",
       "    </tr>\n",
       "    <tr>\n",
       "      <th>46401</th>\n",
       "      <td>46401</td>\n",
       "      <td>1</td>\n",
       "    </tr>\n",
       "    <tr>\n",
       "      <th>46402</th>\n",
       "      <td>46402</td>\n",
       "      <td>1</td>\n",
       "    </tr>\n",
       "    <tr>\n",
       "      <th>46403</th>\n",
       "      <td>46403</td>\n",
       "      <td>1</td>\n",
       "    </tr>\n",
       "  </tbody>\n",
       "</table>\n",
       "<p>46404 rows × 2 columns</p>\n",
       "</div>"
      ],
      "text/plain": [
       "          id  target\n",
       "0          0       1\n",
       "1          1       0\n",
       "2          2       0\n",
       "3          3       0\n",
       "4          4       0\n",
       "...      ...     ...\n",
       "46399  46399       1\n",
       "46400  46400       1\n",
       "46401  46401       1\n",
       "46402  46402       1\n",
       "46403  46403       1\n",
       "\n",
       "[46404 rows x 2 columns]"
      ]
     },
     "execution_count": 32,
     "metadata": {},
     "output_type": "execute_result"
    }
   ],
   "source": [
    "submission['target'] = pred\n",
    "submission"
   ]
  },
  {
   "cell_type": "code",
   "execution_count": 33,
   "id": "40928988",
   "metadata": {},
   "outputs": [],
   "source": [
    "submission.to_csv('./submission4.csv', index=False)"
   ]
  },
  {
   "cell_type": "code",
   "execution_count": null,
   "id": "e7e48a36",
   "metadata": {},
   "outputs": [],
   "source": []
  }
 ],
 "metadata": {
  "kernelspec": {
   "display_name": "py37",
   "language": "python",
   "name": "py37"
  },
  "language_info": {
   "codemirror_mode": {
    "name": "ipython",
    "version": 3
   },
   "file_extension": ".py",
   "mimetype": "text/x-python",
   "name": "python",
   "nbconvert_exporter": "python",
   "pygments_lexer": "ipython3",
   "version": "3.7.11"
  }
 },
 "nbformat": 4,
 "nbformat_minor": 5
}
