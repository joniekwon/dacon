{
 "cells": [
  {
   "cell_type": "code",
   "execution_count": 1,
   "id": "db06dbbc",
   "metadata": {},
   "outputs": [],
   "source": [
    "import pandas as pd\n",
    "import numpy as np\n",
    "import matplotlib.pyplot as plt\n",
    "import seaborn as sns\n",
    "sns.set_style('darkgrid')\n",
    "\n",
    "import warnings\n",
    "warnings.filterwarnings('ignore')\n",
    "import re"
   ]
  },
  {
   "cell_type": "markdown",
   "id": "5bf33a76",
   "metadata": {},
   "source": [
    "# 데이터-속성 매칭\n",
    "### HappyNewYear님의 공유 코드 사용\n",
    "* https://dacon.io/competitions/official/235863/codeshare/3877?page=1&dtype=recent"
   ]
  },
  {
   "cell_type": "code",
   "execution_count": 44,
   "id": "30c7c240",
   "metadata": {},
   "outputs": [],
   "source": [
    "d_code = pd.read_csv('./_data/속성_D_코드.csv', index_col=0).T.to_dict()\n",
    "h_code = pd.read_csv('./_data/속성_H_코드.csv', index_col=0).T.to_dict()\n",
    "l_code = pd.read_csv('./_data/속성_L_코드.csv', index_col=0).T.to_dict()\n",
    "\n",
    "train = pd.read_csv('./_data/train.csv',index_col=0)\n",
    "test = pd.read_csv('./_data/test.csv',index_col=0)\n",
    "\n",
    "# d_code.columns= [\"attribute_d\",\"attribute_d_n\",\"attribute_d_s\",\"attribute_d_m\",\"attribute_d_l\"]\n",
    "# h_code.columns= [\"attribute_h\",\"attribute_h_m\", \"attribute_h_l\"]\n",
    "# l_code.columns= [\"attribute_l\",\"attribute_l_n\",\"attribute_l_s\",\"attribute_l_m\",\"attribute_l_l\"]"
   ]
  },
  {
   "cell_type": "code",
   "execution_count": 45,
   "id": "c4205851",
   "metadata": {},
   "outputs": [],
   "source": [
    "from typing import Dict\n",
    "def add_code(\n",
    "    df: pd.DataFrame,\n",
    "    d_code: Dict[int, Dict[str, int]], \n",
    "    h_code: Dict[int, Dict[str, int]], \n",
    "    l_code: Dict[int, Dict[str, int]],\n",
    ") -> pd.DataFrame:\n",
    "    \n",
    "    # Copy input data\n",
    "    df = df.copy()   \n",
    "\n",
    "    # D Code\n",
    "    df['person_prefer_d_1_n'] = df['person_prefer_d_1'].apply(lambda x: d_code[x]['속성 D 세분류코드'])\n",
    "    df['person_prefer_d_1_s'] = df['person_prefer_d_1'].apply(lambda x: d_code[x]['속성 D 소분류코드'])\n",
    "    df['person_prefer_d_1_m'] = df['person_prefer_d_1'].apply(lambda x: d_code[x]['속성 D 중분류코드'])\n",
    "    df['person_prefer_d_1_l'] = df['person_prefer_d_1'].apply(lambda x: d_code[x]['속성 D 대분류코드'])\n",
    "\n",
    "    df['person_prefer_d_2_n'] = df['person_prefer_d_2'].apply(lambda x: d_code[x]['속성 D 세분류코드'])\n",
    "    df['person_prefer_d_2_s'] = df['person_prefer_d_2'].apply(lambda x: d_code[x]['속성 D 소분류코드'])\n",
    "    df['person_prefer_d_2_m'] = df['person_prefer_d_2'].apply(lambda x: d_code[x]['속성 D 중분류코드'])\n",
    "    df['person_prefer_d_2_l'] = df['person_prefer_d_2'].apply(lambda x: d_code[x]['속성 D 대분류코드'])\n",
    "\n",
    "    df['person_prefer_d_3_n'] = df['person_prefer_d_3'].apply(lambda x: d_code[x]['속성 D 세분류코드'])\n",
    "    df['person_prefer_d_3_s'] = df['person_prefer_d_3'].apply(lambda x: d_code[x]['속성 D 소분류코드'])\n",
    "    df['person_prefer_d_3_m'] = df['person_prefer_d_3'].apply(lambda x: d_code[x]['속성 D 중분류코드'])\n",
    "    df['person_prefer_d_3_l'] = df['person_prefer_d_3'].apply(lambda x: d_code[x]['속성 D 대분류코드'])\n",
    "\n",
    "    df['contents_attribute_d_n'] = df['contents_attribute_d'].apply(lambda x: d_code[x]['속성 D 세분류코드'])\n",
    "    df['contents_attribute_d_s'] = df['contents_attribute_d'].apply(lambda x: d_code[x]['속성 D 소분류코드'])\n",
    "    df['contents_attribute_d_m'] = df['contents_attribute_d'].apply(lambda x: d_code[x]['속성 D 중분류코드'])\n",
    "    df['contents_attribute_d_l'] = df['contents_attribute_d'].apply(lambda x: d_code[x]['속성 D 대분류코드'])\n",
    "\n",
    "    # H Code\n",
    "    df['person_prefer_h_1_l'] = df['person_prefer_h_1'].apply(lambda x: h_code[x]['속성 H 대분류코드'])\n",
    "    df['person_prefer_h_1_m'] = df['person_prefer_h_1'].apply(lambda x: h_code[x]['속성 H 중분류코드'])\n",
    "    \n",
    "    df['person_prefer_h_2_l'] = df['person_prefer_h_2'].apply(lambda x: h_code[x]['속성 H 대분류코드'])\n",
    "    df['person_prefer_h_2_m'] = df['person_prefer_h_2'].apply(lambda x: h_code[x]['속성 H 중분류코드'])\n",
    "    \n",
    "    df['person_prefer_h_3_l'] = df['person_prefer_h_3'].apply(lambda x: h_code[x]['속성 H 대분류코드'])\n",
    "    df['person_prefer_h_3_m'] = df['person_prefer_h_3'].apply(lambda x: h_code[x]['속성 H 중분류코드'])\n",
    "\n",
    "    df['contents_attribute_h_l'] = df['contents_attribute_h'].apply(lambda x: h_code[x]['속성 H 대분류코드'])\n",
    "    df['contents_attribute_h_m'] = df['contents_attribute_h'].apply(lambda x: h_code[x]['속성 H 중분류코드'])\n",
    "\n",
    "    # L Code\n",
    "    df['contents_attribute_l_n'] = df['contents_attribute_l'].apply(lambda x: l_code[x]['속성 L 세분류코드'])\n",
    "    df['contents_attribute_l_s'] = df['contents_attribute_l'].apply(lambda x: l_code[x]['속성 L 소분류코드'])\n",
    "    df['contents_attribute_l_m'] = df['contents_attribute_l'].apply(lambda x: l_code[x]['속성 L 중분류코드'])\n",
    "    df['contents_attribute_l_l'] = df['contents_attribute_l'].apply(lambda x: l_code[x]['속성 L 대분류코드'])\n",
    "    \n",
    "    return df"
   ]
  },
  {
   "cell_type": "code",
   "execution_count": 46,
   "id": "498d9d96",
   "metadata": {},
   "outputs": [],
   "source": [
    "df_train = add_code(train, d_code, h_code, l_code)\n",
    "df_test = add_code(test, d_code, h_code, l_code)"
   ]
  },
  {
   "cell_type": "markdown",
   "id": "6f0a43af",
   "metadata": {},
   "source": [
    "## 훈련 데이터는 1~11월, 테스트 데이터는 12월의 자료로 구성되어있음"
   ]
  },
  {
   "cell_type": "code",
   "execution_count": 5,
   "id": "c951a902",
   "metadata": {},
   "outputs": [
    {
     "data": {
      "text/plain": [
       "['01', '02', '03', '04', '05', '06', '07', '08', '09', '10', '11']"
      ]
     },
     "execution_count": 5,
     "metadata": {},
     "output_type": "execute_result"
    }
   ],
   "source": [
    "# train 월데이터 \n",
    "sorted(df_train['contents_open_dt'].apply(lambda x: x.split('-')[1]).unique())"
   ]
  },
  {
   "cell_type": "code",
   "execution_count": 6,
   "id": "63a5904d",
   "metadata": {},
   "outputs": [
    {
     "data": {
      "text/plain": [
       "['12']"
      ]
     },
     "execution_count": 6,
     "metadata": {},
     "output_type": "execute_result"
    }
   ],
   "source": [
    "# test 월데이터 \n",
    "sorted(df_test['contents_open_dt'].apply(lambda x: x.split('-')[1]).unique())"
   ]
  },
  {
   "cell_type": "code",
   "execution_count": 7,
   "id": "72f91c87",
   "metadata": {},
   "outputs": [
    {
     "data": {
      "text/plain": [
       "id\n",
       "0         2020-01-17 12:09:36\n",
       "1         2020-06-18 17:48:52\n",
       "2         2020-07-08 20:00:10\n",
       "3         2020-01-13 18:09:34\n",
       "4         2020-03-09 20:39:22\n",
       "                 ...         \n",
       "501946    2020-03-13 12:55:52\n",
       "501947    2020-01-20 11:51:51\n",
       "501948    2020-08-05 17:27:24\n",
       "501949    2020-06-15 09:23:21\n",
       "501950    2020-05-25 14:34:48\n",
       "Name: contents_open_dt, Length: 501951, dtype: object"
      ]
     },
     "execution_count": 7,
     "metadata": {},
     "output_type": "execute_result"
    }
   ],
   "source": [
    "df_train['contents_open_dt']"
   ]
  },
  {
   "cell_type": "markdown",
   "id": "fd6ef9bd",
   "metadata": {},
   "source": [
    "* 월 데이터는 의미 없을 것으로 보임.\n",
    "* 열람일시 데이터로 시간, 요일 정보 추가\n",
    "* 같은 알파벳은 동일한 속성을 의미. 속성 매칭 여부 정보 추가"
   ]
  },
  {
   "cell_type": "markdown",
   "id": "11bb2088",
   "metadata": {},
   "source": [
    "# 동일한 속성 매칭 및 순서형 데이터 처리"
   ]
  },
  {
   "cell_type": "code",
   "execution_count": 41,
   "id": "647d9074",
   "metadata": {},
   "outputs": [],
   "source": [
    "def match_cols(df, del_columns=False):\n",
    "    \n",
    "    del_cols = ['person_prefer_f','person_prefer_g', 'contents_open_dt', 'person_rn', 'contents_rn']\n",
    "\n",
    "    p_cols = []\n",
    "    c_d_cols = []\n",
    "    c_h_cols = []    \n",
    "    for i in df.columns:\n",
    "        if re.findall('person_prefer_._._',i):\n",
    "            p_cols.append(i)\n",
    "        if re.findall('contents_attribute_d_.',i):\n",
    "            c_d_cols.append(i)    \n",
    "        if re.findall('contents_attribute_h+',i):\n",
    "            c_h_cols.append(i)\n",
    "            \n",
    "    for i in p_cols:\n",
    "        if i.split('_')[2] == 'd':\n",
    "            for cols in c_d_cols:\n",
    "                if i.split('_')[-1] == cols[-1]:\n",
    "#                     print(i[-5:]+'_match_yn')\n",
    "                    df[i[-5:]+'_match_yn'] = (df[i]==df[cols]).astype(int)\n",
    "        else:\n",
    "            for cols in c_h_cols:\n",
    "                if i.split('_')[-1] == cols[-1]:\n",
    "#                     print(i[-5:]+'_match_yn')\n",
    "                    df[i[-5:]+'_match_yn'] = (df[i]==df[cols]).astype(int)\n",
    "    \n",
    "    # 회원속성a와 컨텐츠 속성a 일치여부\n",
    "    df['match_a'] = (df.person_attribute_a==df.contents_attribute_a).astype(int)  \n",
    "\n",
    "    # 선호속성c와 컨텐츠 속성c 일치여부\n",
    "    df['match_c'] = (df.person_prefer_c==df.contents_attribute_c).astype(int)  \n",
    "    # 회원선호속성 c는 1~5까지 있는 반면, 컨텐츠 속성c는 1~4만 있음\n",
    "    # 5 = 무응답이나 기타일것같은..\n",
    "    #df['person_prefer_c5'] = (df.person_prefer_c==5).astype(int)\n",
    "    \n",
    "    # 선호속성e와 컨텐츠 속성e 일치여부\n",
    "    df['match_e'] = (df.person_prefer_e==df.contents_attribute_e).astype(int)\n",
    "    # person_prefer_e 와 contents_attribute_e차이\n",
    "    df['differ_e'] = df['person_prefer_e'] - df['contents_attribute_e']\n",
    "    \n",
    "    # 순서가 있는 속성\n",
    "    df = pd.get_dummies(df, columns=['person_attribute_a_1','person_attribute_b','person_prefer_e'])\n",
    "        \n",
    "    #ontents_open_dt\n",
    "    df['contents_open_dt'] = pd.to_datetime(df['contents_open_dt'])\n",
    "    df['contents_open_hour'] = df['contents_open_dt'].dt.hour\n",
    "    df['contents_open_day'] = df['contents_open_dt'].dt.dayofweek\n",
    "    \n",
    "    if del_columns:\n",
    "        del_cols += (p_cols + c_d_cols + c_h_cols)\n",
    "                     \n",
    "    \n",
    "    new_df = df.drop(del_cols, axis=1)\n",
    "    new_df = new_df.drop(columns=['contents_attribute_e','person_prefer_c', 'contents_attribute_c',])\n",
    "    \n",
    "    return new_df"
   ]
  },
  {
   "cell_type": "code",
   "execution_count": 47,
   "id": "0ad3f489",
   "metadata": {},
   "outputs": [],
   "source": [
    "train = match_cols(df_train)\n",
    "test = match_cols(df_test)"
   ]
  },
  {
   "cell_type": "code",
   "execution_count": null,
   "id": "af4994a8",
   "metadata": {},
   "outputs": [],
   "source": [
    "train.columns"
   ]
  },
  {
   "cell_type": "markdown",
   "id": "5c84efab",
   "metadata": {},
   "source": [
    "# CatBoostClassifier 사용"
   ]
  },
  {
   "cell_type": "code",
   "execution_count": 48,
   "id": "e336dc2c",
   "metadata": {},
   "outputs": [],
   "source": [
    "from catboost import Pool,CatBoostClassifier\n",
    "import sklearn \n",
    "from sklearn.model_selection import StratifiedKFold , KFold\n",
    "from sklearn.metrics import f1_score \n"
   ]
  },
  {
   "cell_type": "code",
   "execution_count": 49,
   "id": "88878edb",
   "metadata": {},
   "outputs": [],
   "source": [
    "y_train = train['target']\n",
    "X_train = train.drop('target',axis=1)\n",
    "X_test = test"
   ]
  },
  {
   "cell_type": "code",
   "execution_count": 10,
   "id": "62d25e0d",
   "metadata": {},
   "outputs": [],
   "source": [
    "#X_train = X_train.drop('contents_attribute_j_1', axis=1)"
   ]
  },
  {
   "cell_type": "code",
   "execution_count": 11,
   "id": "f404fc5b",
   "metadata": {},
   "outputs": [],
   "source": [
    "# f, ax = plt.subplots(figsize=(30, 30))\n",
    "# ax = sns.heatmap(pd.concat([X_train,y_train],axis=1).corr(), cmap=\"YlGnBu\", vmax=.3, annot=True, linewidths=.5)"
   ]
  },
  {
   "cell_type": "code",
   "execution_count": 50,
   "id": "905a715f",
   "metadata": {},
   "outputs": [],
   "source": [
    "cat_features = X_train.columns[X_train.nunique() > 2].tolist()\n",
    "cat_features = cat_features[:-3] + cat_features[-2:]"
   ]
  },
  {
   "cell_type": "code",
   "execution_count": 51,
   "id": "2cc5f3a8",
   "metadata": {},
   "outputs": [
    {
     "data": {
      "text/plain": [
       "['person_prefer_d_1',\n",
       " 'person_prefer_d_2',\n",
       " 'person_prefer_d_3',\n",
       " 'person_prefer_h_1',\n",
       " 'person_prefer_h_2',\n",
       " 'person_prefer_h_3',\n",
       " 'contents_attribute_i',\n",
       " 'contents_attribute_a',\n",
       " 'contents_attribute_j_1',\n",
       " 'contents_attribute_l',\n",
       " 'contents_attribute_d',\n",
       " 'contents_attribute_m',\n",
       " 'contents_attribute_h',\n",
       " 'person_prefer_d_1_n',\n",
       " 'person_prefer_d_1_s',\n",
       " 'person_prefer_d_1_m',\n",
       " 'person_prefer_d_1_l',\n",
       " 'person_prefer_d_2_n',\n",
       " 'person_prefer_d_2_s',\n",
       " 'person_prefer_d_2_m',\n",
       " 'person_prefer_d_2_l',\n",
       " 'person_prefer_d_3_n',\n",
       " 'person_prefer_d_3_s',\n",
       " 'person_prefer_d_3_m',\n",
       " 'person_prefer_d_3_l',\n",
       " 'contents_attribute_d_n',\n",
       " 'contents_attribute_d_s',\n",
       " 'contents_attribute_d_m',\n",
       " 'contents_attribute_d_l',\n",
       " 'person_prefer_h_1_l',\n",
       " 'person_prefer_h_1_m',\n",
       " 'person_prefer_h_2_l',\n",
       " 'person_prefer_h_2_m',\n",
       " 'person_prefer_h_3_l',\n",
       " 'person_prefer_h_3_m',\n",
       " 'contents_attribute_h_l',\n",
       " 'contents_attribute_h_m',\n",
       " 'contents_attribute_l_n',\n",
       " 'contents_attribute_l_s',\n",
       " 'contents_attribute_l_m',\n",
       " 'contents_attribute_l_l',\n",
       " 'contents_open_hour',\n",
       " 'contents_open_day']"
      ]
     },
     "execution_count": 51,
     "metadata": {},
     "output_type": "execute_result"
    }
   ],
   "source": [
    "cat_features"
   ]
  },
  {
   "cell_type": "code",
   "execution_count": 52,
   "id": "acd9e8cd",
   "metadata": {},
   "outputs": [
    {
     "data": {
      "text/plain": [
       "43"
      ]
     },
     "execution_count": 52,
     "metadata": {},
     "output_type": "execute_result"
    }
   ],
   "source": [
    "len(cat_features)"
   ]
  },
  {
   "cell_type": "code",
   "execution_count": 53,
   "id": "8456b502",
   "metadata": {},
   "outputs": [],
   "source": [
    "SEED = 42\n",
    "is_holdout = False\n",
    "n_splits = 5\n",
    "iterations = 3000\n",
    "patience = 50\n",
    "\n",
    "cv = KFold(n_splits=n_splits, shuffle=True, random_state=SEED)"
   ]
  },
  {
   "cell_type": "code",
   "execution_count": null,
   "id": "19559991",
   "metadata": {},
   "outputs": [
    {
     "name": "stdout",
     "output_type": "stream",
     "text": [
      "==================================================\n"
     ]
    },
    {
     "name": "stderr",
     "output_type": "stream",
     "text": [
      "Custom logger is already specified. Specify more than one logger at same time is not thread safe."
     ]
    },
    {
     "name": "stdout",
     "output_type": "stream",
     "text": [
      "Learning rate set to 0.027144\n",
      "0:\tlearn: 0.6300306\ttest: 0.6377524\tbest: 0.6377524 (0)\ttotal: 317ms\tremaining: 15m 51s\n",
      "bestTest = 0.6377524113\n",
      "bestIteration = 0\n",
      "Shrink model to first 1 iterations.\n",
      "==================================================\n",
      "Learning rate set to 0.027144\n",
      "0:\tlearn: 0.5954893\ttest: 0.5949821\tbest: 0.5949821 (0)\ttotal: 354ms\tremaining: 17m 43s\n",
      "100:\tlearn: 0.6404369\ttest: 0.6523580\tbest: 0.6523580 (100)\ttotal: 31.8s\tremaining: 15m 11s\n",
      "200:\tlearn: 0.6490913\ttest: 0.6633039\tbest: 0.6633039 (200)\ttotal: 1m 2s\tremaining: 14m 34s\n",
      "300:\tlearn: 0.6549244\ttest: 0.6688124\tbest: 0.6688124 (300)\ttotal: 1m 33s\tremaining: 14m 2s\n",
      "400:\tlearn: 0.6585429\ttest: 0.6725073\tbest: 0.6725073 (400)\ttotal: 2m 3s\tremaining: 13m 21s\n",
      "500:\tlearn: 0.6620001\ttest: 0.6755131\tbest: 0.6757019 (496)\ttotal: 2m 32s\tremaining: 12m 43s\n",
      "600:\tlearn: 0.6644246\ttest: 0.6783510\tbest: 0.6783510 (600)\ttotal: 3m 1s\tremaining: 12m 3s\n",
      "700:\tlearn: 0.6662977\ttest: 0.6796578\tbest: 0.6797066 (692)\ttotal: 3m 29s\tremaining: 11m 25s\n",
      "800:\tlearn: 0.6680589\ttest: 0.6800298\tbest: 0.6801755 (765)\ttotal: 3m 55s\tremaining: 10m 47s\n",
      "bestTest = 0.6805707806\n",
      "bestIteration = 840\n",
      "Shrink model to first 841 iterations.\n",
      "==================================================\n",
      "Learning rate set to 0.027144\n",
      "0:\tlearn: 0.6301279\ttest: 0.6287546\tbest: 0.6287546 (0)\ttotal: 283ms\tremaining: 14m 9s\n",
      "100:\tlearn: 0.6388587\ttest: 0.6460824\tbest: 0.6460824 (100)\ttotal: 30.2s\tremaining: 14m 25s\n",
      "200:\tlearn: 0.6500910\ttest: 0.6632301\tbest: 0.6632301 (200)\ttotal: 59.7s\tremaining: 13m 51s\n",
      "300:\tlearn: 0.6555950\ttest: 0.6696013\tbest: 0.6696378 (294)\ttotal: 1m 28s\tremaining: 13m 16s\n",
      "400:\tlearn: 0.6601933\ttest: 0.6737183\tbest: 0.6737183 (400)\ttotal: 1m 57s\tremaining: 12m 39s\n",
      "500:\tlearn: 0.6627843\ttest: 0.6755830\tbest: 0.6755830 (500)\ttotal: 2m 25s\tremaining: 12m 6s\n",
      "600:\tlearn: 0.6653958\ttest: 0.6767605\tbest: 0.6770981 (585)\ttotal: 2m 53s\tremaining: 11m 33s\n",
      "bestTest = 0.6770981242\n",
      "bestIteration = 585\n",
      "Shrink model to first 586 iterations.\n",
      "==================================================\n",
      "Learning rate set to 0.027144\n",
      "0:\tlearn: 0.6223571\ttest: 0.6187105\tbest: 0.6187105 (0)\ttotal: 374ms\tremaining: 18m 40s\n",
      "100:\tlearn: 0.6411308\ttest: 0.6493265\tbest: 0.6494398 (98)\ttotal: 32.8s\tremaining: 15m 42s\n",
      "200:\tlearn: 0.6504366\ttest: 0.6610607\tbest: 0.6610704 (194)\ttotal: 1m 4s\tremaining: 14m 58s\n"
     ]
    }
   ],
   "source": [
    "scores = []\n",
    "models = []\n",
    "\n",
    "\n",
    "models = []\n",
    "for tri, vai in cv.split(X_train):\n",
    "    print(\"=\"*50)\n",
    "    preds = []\n",
    "\n",
    "    model = CatBoostClassifier(iterations=iterations,random_state=SEED,task_type=\"GPU\",eval_metric=\"F1\",cat_features=cat_features,one_hot_max_size=4)\n",
    "    model.fit(X_train.iloc[tri], y_train[tri], \n",
    "            eval_set=[(X_train.iloc[vai], y_train[vai])], \n",
    "            early_stopping_rounds=patience ,\n",
    "            verbose = 100\n",
    "        )\n",
    "    \n",
    "    models.append(model)\n",
    "    scores.append(model.get_best_score()[\"validation\"][\"F1\"])\n",
    "    if is_holdout:\n",
    "        break   "
   ]
  },
  {
   "cell_type": "code",
   "execution_count": null,
   "id": "1b03a480",
   "metadata": {},
   "outputs": [],
   "source": [
    "print(scores)\n",
    "print(np.mean(scores))"
   ]
  },
  {
   "cell_type": "code",
   "execution_count": null,
   "id": "f449905b",
   "metadata": {},
   "outputs": [],
   "source": [
    "#6.79"
   ]
  },
  {
   "cell_type": "code",
   "execution_count": 17,
   "id": "2b46323f",
   "metadata": {},
   "outputs": [
    {
     "name": "stdout",
     "output_type": "stream",
     "text": [
      "[0.7117442299807867, 0.7111715518427676, 0.7060023563459242, 0.7072525569912468, 0.7094168263970583]\n",
      "0.7091175043115567\n"
     ]
    }
   ],
   "source": [
    "threshold = 0.4\n",
    "pred_list = []\n",
    "scores = []\n",
    "for i,(tri, vai) in enumerate( cv.split(X_train) ):\n",
    "    pred = models[i].predict_proba(X_train.iloc[vai])[:, 1]\n",
    "    pred = np.where(pred >= threshold , 1, 0)\n",
    "    score = f1_score(y_train[vai],pred)\n",
    "    scores.append(score)\n",
    "    pred = models[i].predict_proba(X_test)[:, 1]\n",
    "    pred_list.append(pred)\n",
    "print(scores)\n",
    "print(np.mean(scores))"
   ]
  },
  {
   "cell_type": "code",
   "execution_count": 18,
   "id": "a0541e02",
   "metadata": {},
   "outputs": [],
   "source": [
    "pred = np.mean( pred_list , axis = 0 )\n",
    "pred = np.where(pred >= threshold , 1, 0)"
   ]
  },
  {
   "cell_type": "code",
   "execution_count": 19,
   "id": "3684eccf",
   "metadata": {},
   "outputs": [
    {
     "data": {
      "text/html": [
       "<div>\n",
       "<style scoped>\n",
       "    .dataframe tbody tr th:only-of-type {\n",
       "        vertical-align: middle;\n",
       "    }\n",
       "\n",
       "    .dataframe tbody tr th {\n",
       "        vertical-align: top;\n",
       "    }\n",
       "\n",
       "    .dataframe thead th {\n",
       "        text-align: right;\n",
       "    }\n",
       "</style>\n",
       "<table border=\"1\" class=\"dataframe\">\n",
       "  <thead>\n",
       "    <tr style=\"text-align: right;\">\n",
       "      <th></th>\n",
       "      <th>id</th>\n",
       "      <th>target</th>\n",
       "    </tr>\n",
       "  </thead>\n",
       "  <tbody>\n",
       "    <tr>\n",
       "      <th>0</th>\n",
       "      <td>0</td>\n",
       "      <td>0</td>\n",
       "    </tr>\n",
       "    <tr>\n",
       "      <th>1</th>\n",
       "      <td>1</td>\n",
       "      <td>0</td>\n",
       "    </tr>\n",
       "    <tr>\n",
       "      <th>2</th>\n",
       "      <td>2</td>\n",
       "      <td>0</td>\n",
       "    </tr>\n",
       "    <tr>\n",
       "      <th>3</th>\n",
       "      <td>3</td>\n",
       "      <td>0</td>\n",
       "    </tr>\n",
       "    <tr>\n",
       "      <th>4</th>\n",
       "      <td>4</td>\n",
       "      <td>0</td>\n",
       "    </tr>\n",
       "  </tbody>\n",
       "</table>\n",
       "</div>"
      ],
      "text/plain": [
       "   id  target\n",
       "0   0       0\n",
       "1   1       0\n",
       "2   2       0\n",
       "3   3       0\n",
       "4   4       0"
      ]
     },
     "execution_count": 19,
     "metadata": {},
     "output_type": "execute_result"
    }
   ],
   "source": [
    "submission = pd.read_csv('./_data/sample_submission.csv')\n",
    "submission.head()"
   ]
  },
  {
   "cell_type": "code",
   "execution_count": 20,
   "id": "5370dbed",
   "metadata": {},
   "outputs": [
    {
     "data": {
      "text/html": [
       "<div>\n",
       "<style scoped>\n",
       "    .dataframe tbody tr th:only-of-type {\n",
       "        vertical-align: middle;\n",
       "    }\n",
       "\n",
       "    .dataframe tbody tr th {\n",
       "        vertical-align: top;\n",
       "    }\n",
       "\n",
       "    .dataframe thead th {\n",
       "        text-align: right;\n",
       "    }\n",
       "</style>\n",
       "<table border=\"1\" class=\"dataframe\">\n",
       "  <thead>\n",
       "    <tr style=\"text-align: right;\">\n",
       "      <th></th>\n",
       "      <th>id</th>\n",
       "      <th>target</th>\n",
       "    </tr>\n",
       "  </thead>\n",
       "  <tbody>\n",
       "    <tr>\n",
       "      <th>0</th>\n",
       "      <td>0</td>\n",
       "      <td>1</td>\n",
       "    </tr>\n",
       "    <tr>\n",
       "      <th>1</th>\n",
       "      <td>1</td>\n",
       "      <td>0</td>\n",
       "    </tr>\n",
       "    <tr>\n",
       "      <th>2</th>\n",
       "      <td>2</td>\n",
       "      <td>1</td>\n",
       "    </tr>\n",
       "    <tr>\n",
       "      <th>3</th>\n",
       "      <td>3</td>\n",
       "      <td>0</td>\n",
       "    </tr>\n",
       "    <tr>\n",
       "      <th>4</th>\n",
       "      <td>4</td>\n",
       "      <td>1</td>\n",
       "    </tr>\n",
       "    <tr>\n",
       "      <th>...</th>\n",
       "      <td>...</td>\n",
       "      <td>...</td>\n",
       "    </tr>\n",
       "    <tr>\n",
       "      <th>46399</th>\n",
       "      <td>46399</td>\n",
       "      <td>1</td>\n",
       "    </tr>\n",
       "    <tr>\n",
       "      <th>46400</th>\n",
       "      <td>46400</td>\n",
       "      <td>1</td>\n",
       "    </tr>\n",
       "    <tr>\n",
       "      <th>46401</th>\n",
       "      <td>46401</td>\n",
       "      <td>1</td>\n",
       "    </tr>\n",
       "    <tr>\n",
       "      <th>46402</th>\n",
       "      <td>46402</td>\n",
       "      <td>1</td>\n",
       "    </tr>\n",
       "    <tr>\n",
       "      <th>46403</th>\n",
       "      <td>46403</td>\n",
       "      <td>1</td>\n",
       "    </tr>\n",
       "  </tbody>\n",
       "</table>\n",
       "<p>46404 rows × 2 columns</p>\n",
       "</div>"
      ],
      "text/plain": [
       "          id  target\n",
       "0          0       1\n",
       "1          1       0\n",
       "2          2       1\n",
       "3          3       0\n",
       "4          4       1\n",
       "...      ...     ...\n",
       "46399  46399       1\n",
       "46400  46400       1\n",
       "46401  46401       1\n",
       "46402  46402       1\n",
       "46403  46403       1\n",
       "\n",
       "[46404 rows x 2 columns]"
      ]
     },
     "execution_count": 20,
     "metadata": {},
     "output_type": "execute_result"
    }
   ],
   "source": [
    "submission['target'] = pred\n",
    "submission"
   ]
  },
  {
   "cell_type": "code",
   "execution_count": 21,
   "id": "40928988",
   "metadata": {},
   "outputs": [],
   "source": [
    "submission.to_csv('./submission3.csv', index=False)"
   ]
  },
  {
   "cell_type": "code",
   "execution_count": null,
   "id": "e7e48a36",
   "metadata": {},
   "outputs": [],
   "source": []
  }
 ],
 "metadata": {
  "kernelspec": {
   "display_name": "py37",
   "language": "python",
   "name": "py37"
  },
  "language_info": {
   "codemirror_mode": {
    "name": "ipython",
    "version": 3
   },
   "file_extension": ".py",
   "mimetype": "text/x-python",
   "name": "python",
   "nbconvert_exporter": "python",
   "pygments_lexer": "ipython3",
   "version": "3.7.0"
  }
 },
 "nbformat": 4,
 "nbformat_minor": 5
}
