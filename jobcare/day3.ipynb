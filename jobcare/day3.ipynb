{
 "cells": [
  {
   "cell_type": "code",
   "execution_count": 1,
   "id": "db06dbbc",
   "metadata": {},
   "outputs": [],
   "source": [
    "import pandas as pd\n",
    "import numpy as np\n",
    "import matplotlib.pyplot as plt\n",
    "import seaborn as sns\n",
    "sns.set_style('darkgrid')\n",
    "\n",
    "import warnings\n",
    "warnings.filterwarnings('ignore')"
   ]
  },
  {
   "cell_type": "markdown",
   "id": "5bf33a76",
   "metadata": {},
   "source": [
    "# 데이터-속성 매칭\n",
    "### HappyNewYear님의 공유 코드 사용\n",
    "* https://dacon.io/competitions/official/235863/codeshare/3877?page=1&dtype=recent"
   ]
  },
  {
   "cell_type": "code",
   "execution_count": 2,
   "id": "b1fffee5",
   "metadata": {},
   "outputs": [],
   "source": [
    "from typing import Dict\n",
    "def add_code(\n",
    "    df: pd.DataFrame,\n",
    "    d_code: Dict[int, Dict[str, int]], \n",
    "    h_code: Dict[int, Dict[str, int]], \n",
    "    l_code: Dict[int, Dict[str, int]],\n",
    ") -> pd.DataFrame:\n",
    "    \n",
    "    # Copy input data\n",
    "    df = df.copy()   \n",
    "\n",
    "    # D Code\n",
    "    df['person_prefer_d_1_n'] = df['person_prefer_d_1'].apply(lambda x: d_code[x]['속성 D 세분류코드'])\n",
    "    df['person_prefer_d_1_s'] = df['person_prefer_d_1'].apply(lambda x: d_code[x]['속성 D 소분류코드'])\n",
    "    df['person_prefer_d_1_m'] = df['person_prefer_d_1'].apply(lambda x: d_code[x]['속성 D 중분류코드'])\n",
    "    df['person_prefer_d_1_l'] = df['person_prefer_d_1'].apply(lambda x: d_code[x]['속성 D 대분류코드'])\n",
    "\n",
    "    df['person_prefer_d_2_n'] = df['person_prefer_d_2'].apply(lambda x: d_code[x]['속성 D 세분류코드'])\n",
    "    df['person_prefer_d_2_s'] = df['person_prefer_d_2'].apply(lambda x: d_code[x]['속성 D 소분류코드'])\n",
    "    df['person_prefer_d_2_m'] = df['person_prefer_d_2'].apply(lambda x: d_code[x]['속성 D 중분류코드'])\n",
    "    df['person_prefer_d_2_l'] = df['person_prefer_d_2'].apply(lambda x: d_code[x]['속성 D 대분류코드'])\n",
    "\n",
    "    df['person_prefer_d_3_n'] = df['person_prefer_d_3'].apply(lambda x: d_code[x]['속성 D 세분류코드'])\n",
    "    df['person_prefer_d_3_s'] = df['person_prefer_d_3'].apply(lambda x: d_code[x]['속성 D 소분류코드'])\n",
    "    df['person_prefer_d_3_m'] = df['person_prefer_d_3'].apply(lambda x: d_code[x]['속성 D 중분류코드'])\n",
    "    df['person_prefer_d_3_l'] = df['person_prefer_d_3'].apply(lambda x: d_code[x]['속성 D 대분류코드'])\n",
    "\n",
    "    df['contents_attribute_d_n'] = df['contents_attribute_d'].apply(lambda x: d_code[x]['속성 D 세분류코드'])\n",
    "    df['contents_attribute_d_s'] = df['contents_attribute_d'].apply(lambda x: d_code[x]['속성 D 소분류코드'])\n",
    "    df['contents_attribute_d_m'] = df['contents_attribute_d'].apply(lambda x: d_code[x]['속성 D 중분류코드'])\n",
    "    df['contents_attribute_d_l'] = df['contents_attribute_d'].apply(lambda x: d_code[x]['속성 D 대분류코드'])\n",
    "\n",
    "    # H Code\n",
    "    df['person_prefer_h_1_l'] = df['person_prefer_h_1'].apply(lambda x: h_code[x]['속성 H 대분류코드'])\n",
    "    df['person_prefer_h_1_m'] = df['person_prefer_h_1'].apply(lambda x: h_code[x]['속성 H 중분류코드'])\n",
    "    \n",
    "    df['person_prefer_h_2_l'] = df['person_prefer_h_2'].apply(lambda x: h_code[x]['속성 H 대분류코드'])\n",
    "    df['person_prefer_h_2_m'] = df['person_prefer_h_2'].apply(lambda x: h_code[x]['속성 H 중분류코드'])\n",
    "    \n",
    "    df['person_prefer_h_3_l'] = df['person_prefer_h_3'].apply(lambda x: h_code[x]['속성 H 대분류코드'])\n",
    "    df['person_prefer_h_3_m'] = df['person_prefer_h_3'].apply(lambda x: h_code[x]['속성 H 중분류코드'])\n",
    "\n",
    "    df['contents_attribute_h_l'] = df['contents_attribute_h'].apply(lambda x: h_code[x]['속성 H 대분류코드'])\n",
    "    df['contents_attribute_h_m'] = df['contents_attribute_h'].apply(lambda x: h_code[x]['속성 H 중분류코드'])\n",
    "\n",
    "    # L Code\n",
    "    df['contents_attribute_l_n'] = df['contents_attribute_l'].apply(lambda x: l_code[x]['속성 L 세분류코드'])\n",
    "    df['contents_attribute_l_s'] = df['contents_attribute_l'].apply(lambda x: l_code[x]['속성 L 소분류코드'])\n",
    "    df['contents_attribute_l_m'] = df['contents_attribute_l'].apply(lambda x: l_code[x]['속성 L 중분류코드'])\n",
    "    df['contents_attribute_l_l'] = df['contents_attribute_l'].apply(lambda x: l_code[x]['속성 L 대분류코드'])\n",
    "    \n",
    "    return df"
   ]
  },
  {
   "cell_type": "code",
   "execution_count": 3,
   "id": "30c7c240",
   "metadata": {},
   "outputs": [],
   "source": [
    "d_code = pd.read_csv('./_data/속성_D_코드.csv', index_col=0).T.to_dict()\n",
    "h_code = pd.read_csv('./_data/속성_H_코드.csv', index_col=0).T.to_dict()\n",
    "l_code = pd.read_csv('./_data/속성_L_코드.csv', index_col=0).T.to_dict()\n",
    "\n",
    "df_train = pd.read_csv('./_data/train.csv',index_col=0)\n",
    "df_test = pd.read_csv('./_data/test.csv',index_col=0)\n",
    "\n",
    "df_train = add_code(df_train, d_code, h_code, l_code)\n",
    "df_test = add_code(df_test, d_code, h_code, l_code)"
   ]
  },
  {
   "cell_type": "code",
   "execution_count": 4,
   "id": "cbe310b7",
   "metadata": {
    "scrolled": true
   },
   "outputs": [
    {
     "name": "stdout",
     "output_type": "stream",
     "text": [
      "<class 'pandas.core.frame.DataFrame'>\n",
      "Int64Index: 501951 entries, 0 to 501950\n",
      "Data columns (total 62 columns):\n",
      " #   Column                  Non-Null Count   Dtype \n",
      "---  ------                  --------------   ----- \n",
      " 0   d_l_match_yn            501951 non-null  bool  \n",
      " 1   d_m_match_yn            501951 non-null  bool  \n",
      " 2   d_s_match_yn            501951 non-null  bool  \n",
      " 3   h_l_match_yn            501951 non-null  bool  \n",
      " 4   h_m_match_yn            501951 non-null  bool  \n",
      " 5   h_s_match_yn            501951 non-null  bool  \n",
      " 6   person_attribute_a      501951 non-null  int64 \n",
      " 7   person_attribute_a_1    501951 non-null  int64 \n",
      " 8   person_attribute_b      501951 non-null  int64 \n",
      " 9   person_prefer_c         501951 non-null  int64 \n",
      " 10  person_prefer_d_1       501951 non-null  int64 \n",
      " 11  person_prefer_d_2       501951 non-null  int64 \n",
      " 12  person_prefer_d_3       501951 non-null  int64 \n",
      " 13  person_prefer_e         501951 non-null  int64 \n",
      " 14  person_prefer_f         501951 non-null  int64 \n",
      " 15  person_prefer_g         501951 non-null  int64 \n",
      " 16  person_prefer_h_1       501951 non-null  int64 \n",
      " 17  person_prefer_h_2       501951 non-null  int64 \n",
      " 18  person_prefer_h_3       501951 non-null  int64 \n",
      " 19  contents_attribute_i    501951 non-null  int64 \n",
      " 20  contents_attribute_a    501951 non-null  int64 \n",
      " 21  contents_attribute_j_1  501951 non-null  int64 \n",
      " 22  contents_attribute_j    501951 non-null  int64 \n",
      " 23  contents_attribute_c    501951 non-null  int64 \n",
      " 24  contents_attribute_k    501951 non-null  int64 \n",
      " 25  contents_attribute_l    501951 non-null  int64 \n",
      " 26  contents_attribute_d    501951 non-null  int64 \n",
      " 27  contents_attribute_m    501951 non-null  int64 \n",
      " 28  contents_attribute_e    501951 non-null  int64 \n",
      " 29  contents_attribute_h    501951 non-null  int64 \n",
      " 30  person_rn               501951 non-null  int64 \n",
      " 31  contents_rn             501951 non-null  int64 \n",
      " 32  contents_open_dt        501951 non-null  object\n",
      " 33  target                  501951 non-null  int64 \n",
      " 34  person_prefer_d_1_n     501951 non-null  int64 \n",
      " 35  person_prefer_d_1_s     501951 non-null  int64 \n",
      " 36  person_prefer_d_1_m     501951 non-null  int64 \n",
      " 37  person_prefer_d_1_l     501951 non-null  int64 \n",
      " 38  person_prefer_d_2_n     501951 non-null  int64 \n",
      " 39  person_prefer_d_2_s     501951 non-null  int64 \n",
      " 40  person_prefer_d_2_m     501951 non-null  int64 \n",
      " 41  person_prefer_d_2_l     501951 non-null  int64 \n",
      " 42  person_prefer_d_3_n     501951 non-null  int64 \n",
      " 43  person_prefer_d_3_s     501951 non-null  int64 \n",
      " 44  person_prefer_d_3_m     501951 non-null  int64 \n",
      " 45  person_prefer_d_3_l     501951 non-null  int64 \n",
      " 46  contents_attribute_d_n  501951 non-null  int64 \n",
      " 47  contents_attribute_d_s  501951 non-null  int64 \n",
      " 48  contents_attribute_d_m  501951 non-null  int64 \n",
      " 49  contents_attribute_d_l  501951 non-null  int64 \n",
      " 50  person_prefer_h_1_l     501951 non-null  int64 \n",
      " 51  person_prefer_h_1_m     501951 non-null  int64 \n",
      " 52  person_prefer_h_2_l     501951 non-null  int64 \n",
      " 53  person_prefer_h_2_m     501951 non-null  int64 \n",
      " 54  person_prefer_h_3_l     501951 non-null  int64 \n",
      " 55  person_prefer_h_3_m     501951 non-null  int64 \n",
      " 56  contents_attribute_h_l  501951 non-null  int64 \n",
      " 57  contents_attribute_h_m  501951 non-null  int64 \n",
      " 58  contents_attribute_l_n  501951 non-null  int64 \n",
      " 59  contents_attribute_l_s  501951 non-null  int64 \n",
      " 60  contents_attribute_l_m  501951 non-null  int64 \n",
      " 61  contents_attribute_l_l  501951 non-null  int64 \n",
      "dtypes: bool(6), int64(55), object(1)\n",
      "memory usage: 221.2+ MB\n"
     ]
    }
   ],
   "source": [
    "df_train.info()"
   ]
  },
  {
   "cell_type": "markdown",
   "id": "f458e535",
   "metadata": {},
   "source": [
    "# 회원속성 a, a1열 합침"
   ]
  },
  {
   "cell_type": "code",
   "execution_count": 41,
   "id": "b3142920",
   "metadata": {},
   "outputs": [],
   "source": [
    "from sklearn.preprocessing import LabelEncoder\n",
    "\n",
    "def a_cross_a1(df:pd.DataFrame):\n",
    "    df.loc[df_train['person_attribute_a']==2,'person_attribute_a'] = 11\n",
    "    df['person_attribute_a_cross_a1'] = df['person_attribute_a'] * df['person_attribute_a_1'].apply(lambda x: x+1)\n",
    "\n",
    "    le = LabelEncoder()\n",
    "    y = le.fit_transform(df['person_attribute_a_cross_a1'].values)\n",
    "    df['person_attribute_a_cross_a1'] = pd.DataFrame(y)\n",
    "    return df"
   ]
  },
  {
   "cell_type": "code",
   "execution_count": 42,
   "id": "259c285b",
   "metadata": {},
   "outputs": [],
   "source": [
    "df_train = a_cross_a1(df_train)\n",
    "df_test = a_cross_a1(df_test)"
   ]
  },
  {
   "cell_type": "markdown",
   "id": "71aec242",
   "metadata": {},
   "source": [
    "## 선호속성 2, 3에 대해서도 일치 여부 판단하는 열 추가"
   ]
  },
  {
   "cell_type": "code",
   "execution_count": 43,
   "id": "c0e46e43",
   "metadata": {},
   "outputs": [],
   "source": [
    "def prep_df(df:pd.DataFrame):\n",
    "    \n",
    "    df['d_n_match_yn'] = 0\n",
    "\n",
    "    # 선호 속성 d 2\n",
    "    df['d_n_match_yn_2'] = 0\n",
    "    df['d_l_match_yn_2'] = 0\n",
    "    df['d_m_match_yn_2'] = 0\n",
    "    df['d_s_match_yn_2'] = 0\n",
    "\n",
    "    # 선호 속성 d 3\n",
    "    df['d_n_match_yn_3'] = 0\n",
    "    df['d_l_match_yn_3'] = 0\n",
    "    df['d_m_match_yn_3'] = 0\n",
    "    df['d_s_match_yn_3'] = 0\n",
    "\n",
    "    # 선호 속성 h2\n",
    "    df['h_l_match_yn_2'] = 0\n",
    "    df['h_m_match_yn_2'] = 0\n",
    "    df['h_s_match_yn_2'] = 0\n",
    "\n",
    "    # 선호 속성 h3\n",
    "    df['h_l_match_yn_3'] = 0\n",
    "    df['h_m_match_yn_3'] = 0\n",
    "    df['h_s_match_yn_3'] = 0\n",
    "    \n",
    "    df['d_n_match_yn']= df['person_prefer_d_1_n']==df['contents_attribute_d_n']\n",
    "\n",
    "    df['d_n_match_yn_2']= df['person_prefer_d_2_n']==df['contents_attribute_d_n']\n",
    "    df['d_l_match_yn_2']= df['person_prefer_d_2_l']==df['contents_attribute_d_l']\n",
    "    df['d_m_match_yn_2']= df['person_prefer_d_2_m']==df['contents_attribute_d_m']\n",
    "    df['d_s_match_yn_2']= df['person_prefer_d_2_s']==df['contents_attribute_d_s']\n",
    "\n",
    "    df['d_n_match_yn_3']= df['person_prefer_d_3_n']==df['contents_attribute_d_n']\n",
    "    df['d_l_match_yn_3']= df['person_prefer_d_3_l']==df['contents_attribute_d_l']\n",
    "    df['d_m_match_yn_3']= df['person_prefer_d_3_m']==df['contents_attribute_d_m']\n",
    "    df['d_s_match_yn_3']= df['person_prefer_d_3_s']==df['contents_attribute_d_s']\n",
    "\n",
    "    df['h_l_match_yn_2']= df['person_prefer_h_2_l']==df['contents_attribute_h_l']\n",
    "    df['h_m_match_yn_2']= df['person_prefer_h_2_m']==df['contents_attribute_h_m']\n",
    "    df['h_s_match_yn_2']= df['person_prefer_h_2']==df['contents_attribute_h']\n",
    "\n",
    "    df['h_l_match_yn_3']= df['person_prefer_h_3_l']==df['contents_attribute_h_l']\n",
    "    df['h_m_match_yn_3']= df['person_prefer_h_3_m']==df['contents_attribute_h_m']\n",
    "    df['h_s_match_yn_3']= df['person_prefer_h_3']==df['contents_attribute_h']\n",
    "    \n",
    "    # 필요없는 열 제거\n",
    "    df = df.drop(columns=['person_prefer_d_1', 'person_prefer_d_2', 'person_prefer_d_3',\n",
    "                      'person_prefer_h_1', 'person_prefer_h_2', 'person_prefer_h_3',\n",
    "                      'contents_attribute_d','contents_attribute_h','person_attribute_a',\n",
    "                      'person_attribute_a_1','contents_attribute_j','person_prefer_g',\n",
    "                      'person_prefer_f', 'person_rn', 'contents_rn', 'contents_open_dt'])\n",
    "    return df"
   ]
  },
  {
   "cell_type": "code",
   "execution_count": 45,
   "id": "88878edb",
   "metadata": {},
   "outputs": [],
   "source": [
    "df_train = prep_df(df_train)\n",
    "df_test = prep_df(df_test)"
   ]
  },
  {
   "cell_type": "code",
   "execution_count": null,
   "id": "c7a45486",
   "metadata": {},
   "outputs": [],
   "source": []
  },
  {
   "cell_type": "code",
   "execution_count": 14,
   "id": "e336dc2c",
   "metadata": {},
   "outputs": [],
   "source": [
    "from catboost import Pool,CatBoostClassifier\n",
    "import sklearn \n",
    "from sklearn.model_selection import StratifiedKFold , KFold\n",
    "from sklearn.metrics import f1_score \n",
    "SEED = 87"
   ]
  },
  {
   "cell_type": "code",
   "execution_count": 16,
   "id": "24794b1e",
   "metadata": {},
   "outputs": [],
   "source": [
    "is_holdout = False\n",
    "n_splits = 5\n",
    "iterations = 3000\n",
    "patience = 50\n",
    "\n",
    "cv = KFold(n_splits=n_splits, shuffle=True, random_state=SEED)"
   ]
  },
  {
   "cell_type": "code",
   "execution_count": 48,
   "id": "297bd244",
   "metadata": {},
   "outputs": [],
   "source": [
    "X_train = df_train.drop(columns=['target'])\n",
    "y_train = df_train['target']"
   ]
  },
  {
   "cell_type": "code",
   "execution_count": 49,
   "id": "f1b8c4ad",
   "metadata": {},
   "outputs": [],
   "source": [
    "cat_features = X_train.columns.tolist()"
   ]
  },
  {
   "cell_type": "code",
   "execution_count": 50,
   "id": "7653ced6",
   "metadata": {},
   "outputs": [
    {
     "name": "stdout",
     "output_type": "stream",
     "text": [
      "====================================================================================================\n",
      "Learning rate set to 0.027144\n",
      "0:\tlearn: 0.6264655\ttest: 0.6302337\tbest: 0.6302337 (0)\ttotal: 277ms\tremaining: 13m 49s\n",
      "100:\tlearn: 0.6392461\ttest: 0.6506996\tbest: 0.6506996 (100)\ttotal: 27.8s\tremaining: 13m 19s\n",
      "200:\tlearn: 0.6494319\ttest: 0.6619650\tbest: 0.6619650 (200)\ttotal: 53.4s\tremaining: 12m 23s\n",
      "300:\tlearn: 0.6548670\ttest: 0.6670896\tbest: 0.6672822 (298)\ttotal: 1m 17s\tremaining: 11m 38s\n",
      "400:\tlearn: 0.6586562\ttest: 0.6699324\tbest: 0.6700881 (394)\ttotal: 1m 42s\tremaining: 11m 6s\n",
      "500:\tlearn: 0.6616119\ttest: 0.6735985\tbest: 0.6739923 (480)\ttotal: 2m 6s\tremaining: 10m 32s\n",
      "bestTest = 0.6739923306\n",
      "bestIteration = 480\n",
      "Shrink model to first 481 iterations.\n",
      "====================================================================================================\n",
      "Learning rate set to 0.027144\n",
      "0:\tlearn: 0.6353612\ttest: 0.6335492\tbest: 0.6335492 (0)\ttotal: 334ms\tremaining: 16m 40s\n",
      "bestTest = 0.6335491758\n",
      "bestIteration = 0\n",
      "Shrink model to first 1 iterations.\n",
      "====================================================================================================\n",
      "Learning rate set to 0.027144\n",
      "0:\tlearn: 0.6098283\ttest: 0.6096117\tbest: 0.6096117 (0)\ttotal: 256ms\tremaining: 12m 47s\n",
      "100:\tlearn: 0.6414556\ttest: 0.6451280\tbest: 0.6451280 (100)\ttotal: 28s\tremaining: 13m 23s\n",
      "200:\tlearn: 0.6514391\ttest: 0.6581223\tbest: 0.6582194 (198)\ttotal: 53.9s\tremaining: 12m 30s\n",
      "300:\tlearn: 0.6565657\ttest: 0.6648064\tbest: 0.6649057 (299)\ttotal: 1m 18s\tremaining: 11m 46s\n",
      "400:\tlearn: 0.6604418\ttest: 0.6671267\tbest: 0.6673375 (382)\ttotal: 1m 43s\tremaining: 11m 12s\n",
      "500:\tlearn: 0.6633139\ttest: 0.6690337\tbest: 0.6694448 (473)\ttotal: 2m 8s\tremaining: 10m 38s\n",
      "600:\tlearn: 0.6659541\ttest: 0.6704891\tbest: 0.6705897 (598)\ttotal: 2m 32s\tremaining: 10m 8s\n",
      "700:\tlearn: 0.6679622\ttest: 0.6721058\tbest: 0.6721677 (698)\ttotal: 2m 56s\tremaining: 9m 37s\n",
      "800:\tlearn: 0.6698773\ttest: 0.6732465\tbest: 0.6733155 (797)\ttotal: 3m 19s\tremaining: 9m 7s\n",
      "bestTest = 0.6733154812\n",
      "bestIteration = 797\n",
      "Shrink model to first 798 iterations.\n",
      "====================================================================================================\n",
      "Learning rate set to 0.027144\n",
      "0:\tlearn: 0.6086135\ttest: 0.6077626\tbest: 0.6077626 (0)\ttotal: 273ms\tremaining: 13m 39s\n",
      "100:\tlearn: 0.6397310\ttest: 0.6476166\tbest: 0.6476502 (98)\ttotal: 28s\tremaining: 13m 23s\n",
      "200:\tlearn: 0.6481355\ttest: 0.6570523\tbest: 0.6570523 (200)\ttotal: 54s\tremaining: 12m 31s\n",
      "300:\tlearn: 0.6547909\ttest: 0.6651503\tbest: 0.6651503 (300)\ttotal: 1m 18s\tremaining: 11m 40s\n",
      "400:\tlearn: 0.6592032\ttest: 0.6688439\tbest: 0.6688439 (400)\ttotal: 1m 42s\tremaining: 11m 4s\n",
      "500:\tlearn: 0.6632147\ttest: 0.6711087\tbest: 0.6711622 (493)\ttotal: 2m 6s\tremaining: 10m 32s\n",
      "600:\tlearn: 0.6655037\ttest: 0.6734133\tbest: 0.6734264 (597)\ttotal: 2m 31s\tremaining: 10m 4s\n",
      "700:\tlearn: 0.6674738\ttest: 0.6747671\tbest: 0.6747831 (696)\ttotal: 2m 55s\tremaining: 9m 34s\n",
      "800:\tlearn: 0.6688787\ttest: 0.6762776\tbest: 0.6763843 (799)\ttotal: 3m 18s\tremaining: 9m 4s\n",
      "900:\tlearn: 0.6701612\ttest: 0.6762722\tbest: 0.6768654 (866)\ttotal: 3m 41s\tremaining: 8m 35s\n",
      "bestTest = 0.6768654089\n",
      "bestIteration = 866\n",
      "Shrink model to first 867 iterations.\n",
      "====================================================================================================\n",
      "Learning rate set to 0.027144\n",
      "0:\tlearn: 0.6141932\ttest: 0.6143984\tbest: 0.6143984 (0)\ttotal: 300ms\tremaining: 15m\n",
      "100:\tlearn: 0.6366723\ttest: 0.6416101\tbest: 0.6416101 (100)\ttotal: 28.5s\tremaining: 13m 37s\n",
      "200:\tlearn: 0.6480310\ttest: 0.6583014\tbest: 0.6583014 (200)\ttotal: 53.6s\tremaining: 12m 27s\n",
      "300:\tlearn: 0.6539406\ttest: 0.6664597\tbest: 0.6664597 (300)\ttotal: 1m 18s\tremaining: 11m 42s\n",
      "400:\tlearn: 0.6577347\ttest: 0.6697041\tbest: 0.6697487 (399)\ttotal: 1m 43s\tremaining: 11m 10s\n",
      "500:\tlearn: 0.6614149\ttest: 0.6725909\tbest: 0.6725966 (498)\ttotal: 2m 8s\tremaining: 10m 41s\n",
      "600:\tlearn: 0.6638828\ttest: 0.6733467\tbest: 0.6734272 (596)\ttotal: 2m 33s\tremaining: 10m 10s\n",
      "700:\tlearn: 0.6662623\ttest: 0.6739201\tbest: 0.6742762 (665)\ttotal: 2m 57s\tremaining: 9m 43s\n",
      "800:\tlearn: 0.6680530\ttest: 0.6750086\tbest: 0.6751040 (799)\ttotal: 3m 21s\tremaining: 9m 12s\n",
      "900:\tlearn: 0.6695141\ttest: 0.6762519\tbest: 0.6763201 (898)\ttotal: 3m 44s\tremaining: 8m 43s\n",
      "1000:\tlearn: 0.6706259\ttest: 0.6766381\tbest: 0.6767271 (998)\ttotal: 4m 8s\tremaining: 8m 16s\n",
      "1100:\tlearn: 0.6716067\ttest: 0.6770885\tbest: 0.6771262 (1055)\ttotal: 4m 32s\tremaining: 7m 50s\n",
      "bestTest = 0.6772568473\n",
      "bestIteration = 1139\n",
      "Shrink model to first 1140 iterations.\n"
     ]
    }
   ],
   "source": [
    "scores = []\n",
    "models = []\n",
    "\n",
    "\n",
    "models = []\n",
    "for tri, vai in cv.split(X_train):\n",
    "    print(\"=\"*100)\n",
    "    preds = []\n",
    "\n",
    "    model = CatBoostClassifier(iterations=iterations,random_state=SEED,task_type=\"GPU\",eval_metric=\"F1\",cat_features=cat_features,one_hot_max_size=4)\n",
    "    model.fit(X_train.iloc[tri], y_train[tri], \n",
    "            eval_set=[(X_train.iloc[vai], y_train[vai])], \n",
    "            early_stopping_rounds=patience ,\n",
    "            verbose = 100\n",
    "        )\n",
    "    \n",
    "    models.append(model)\n",
    "    scores.append(model.get_best_score()[\"validation\"][\"F1\"])\n",
    "    if is_holdout:\n",
    "        break    "
   ]
  },
  {
   "cell_type": "code",
   "execution_count": 51,
   "id": "ff05bbbf",
   "metadata": {},
   "outputs": [
    {
     "name": "stdout",
     "output_type": "stream",
     "text": [
      "[0.6739923305549566, 0.633549175753603, 0.6733154812032209, 0.6768654089486352, 0.6772568472659191]\n",
      "0.666995848745267\n"
     ]
    }
   ],
   "source": [
    "print(scores)\n",
    "print(np.mean(scores))"
   ]
  },
  {
   "cell_type": "code",
   "execution_count": 52,
   "id": "2dece0f2",
   "metadata": {},
   "outputs": [],
   "source": [
    "threshold = 0.4"
   ]
  },
  {
   "cell_type": "code",
   "execution_count": 53,
   "id": "2bee07ab",
   "metadata": {},
   "outputs": [
    {
     "name": "stdout",
     "output_type": "stream",
     "text": [
      "[0.7054560887813006, 0.665097601191426, 0.7054016007722318, 0.708541821351325, 0.7104871303977878]\n",
      "0.6989968484988143\n"
     ]
    }
   ],
   "source": [
    "pred_list = []\n",
    "scores = []\n",
    "for i,(tri, vai) in enumerate( cv.split(X_train) ):\n",
    "    pred = models[i].predict_proba(X_train.iloc[vai])[:, 1]\n",
    "    pred = np.where(pred >= threshold , 1, 0)\n",
    "    score = f1_score(y_train[vai],pred)\n",
    "    scores.append(score)\n",
    "    pred = models[i].predict_proba(df_test)[:, 1]\n",
    "    pred_list.append(pred)\n",
    "print(scores)\n",
    "print(np.mean(scores))"
   ]
  },
  {
   "cell_type": "markdown",
   "id": "b04a665f",
   "metadata": {},
   "source": [
    "# 속성 L..??\n",
    "# 속성 C 처리방법 생각해보기."
   ]
  },
  {
   "cell_type": "code",
   "execution_count": 56,
   "id": "3684eccf",
   "metadata": {},
   "outputs": [
    {
     "data": {
      "text/html": [
       "<div>\n",
       "<style scoped>\n",
       "    .dataframe tbody tr th:only-of-type {\n",
       "        vertical-align: middle;\n",
       "    }\n",
       "\n",
       "    .dataframe tbody tr th {\n",
       "        vertical-align: top;\n",
       "    }\n",
       "\n",
       "    .dataframe thead th {\n",
       "        text-align: right;\n",
       "    }\n",
       "</style>\n",
       "<table border=\"1\" class=\"dataframe\">\n",
       "  <thead>\n",
       "    <tr style=\"text-align: right;\">\n",
       "      <th></th>\n",
       "      <th>id</th>\n",
       "      <th>target</th>\n",
       "    </tr>\n",
       "  </thead>\n",
       "  <tbody>\n",
       "    <tr>\n",
       "      <th>0</th>\n",
       "      <td>0</td>\n",
       "      <td>0</td>\n",
       "    </tr>\n",
       "    <tr>\n",
       "      <th>1</th>\n",
       "      <td>1</td>\n",
       "      <td>0</td>\n",
       "    </tr>\n",
       "    <tr>\n",
       "      <th>2</th>\n",
       "      <td>2</td>\n",
       "      <td>0</td>\n",
       "    </tr>\n",
       "    <tr>\n",
       "      <th>3</th>\n",
       "      <td>3</td>\n",
       "      <td>0</td>\n",
       "    </tr>\n",
       "    <tr>\n",
       "      <th>4</th>\n",
       "      <td>4</td>\n",
       "      <td>0</td>\n",
       "    </tr>\n",
       "  </tbody>\n",
       "</table>\n",
       "</div>"
      ],
      "text/plain": [
       "   id  target\n",
       "0   0       0\n",
       "1   1       0\n",
       "2   2       0\n",
       "3   3       0\n",
       "4   4       0"
      ]
     },
     "execution_count": 56,
     "metadata": {},
     "output_type": "execute_result"
    }
   ],
   "source": [
    "submission = pd.read_csv('./_data/sample_submission.csv')\n",
    "submission.head()"
   ]
  },
  {
   "cell_type": "code",
   "execution_count": 57,
   "id": "5fe3f038",
   "metadata": {},
   "outputs": [],
   "source": [
    "pred = np.mean( pred_list , axis = 0 )\n",
    "pred = np.where(pred >= threshold , 1, 0)"
   ]
  },
  {
   "cell_type": "code",
   "execution_count": 58,
   "id": "9ac08b8d",
   "metadata": {},
   "outputs": [
    {
     "data": {
      "text/html": [
       "<div>\n",
       "<style scoped>\n",
       "    .dataframe tbody tr th:only-of-type {\n",
       "        vertical-align: middle;\n",
       "    }\n",
       "\n",
       "    .dataframe tbody tr th {\n",
       "        vertical-align: top;\n",
       "    }\n",
       "\n",
       "    .dataframe thead th {\n",
       "        text-align: right;\n",
       "    }\n",
       "</style>\n",
       "<table border=\"1\" class=\"dataframe\">\n",
       "  <thead>\n",
       "    <tr style=\"text-align: right;\">\n",
       "      <th></th>\n",
       "      <th>id</th>\n",
       "      <th>target</th>\n",
       "    </tr>\n",
       "  </thead>\n",
       "  <tbody>\n",
       "    <tr>\n",
       "      <th>0</th>\n",
       "      <td>0</td>\n",
       "      <td>1</td>\n",
       "    </tr>\n",
       "    <tr>\n",
       "      <th>1</th>\n",
       "      <td>1</td>\n",
       "      <td>0</td>\n",
       "    </tr>\n",
       "    <tr>\n",
       "      <th>2</th>\n",
       "      <td>2</td>\n",
       "      <td>1</td>\n",
       "    </tr>\n",
       "    <tr>\n",
       "      <th>3</th>\n",
       "      <td>3</td>\n",
       "      <td>0</td>\n",
       "    </tr>\n",
       "    <tr>\n",
       "      <th>4</th>\n",
       "      <td>4</td>\n",
       "      <td>1</td>\n",
       "    </tr>\n",
       "    <tr>\n",
       "      <th>...</th>\n",
       "      <td>...</td>\n",
       "      <td>...</td>\n",
       "    </tr>\n",
       "    <tr>\n",
       "      <th>46399</th>\n",
       "      <td>46399</td>\n",
       "      <td>1</td>\n",
       "    </tr>\n",
       "    <tr>\n",
       "      <th>46400</th>\n",
       "      <td>46400</td>\n",
       "      <td>1</td>\n",
       "    </tr>\n",
       "    <tr>\n",
       "      <th>46401</th>\n",
       "      <td>46401</td>\n",
       "      <td>1</td>\n",
       "    </tr>\n",
       "    <tr>\n",
       "      <th>46402</th>\n",
       "      <td>46402</td>\n",
       "      <td>1</td>\n",
       "    </tr>\n",
       "    <tr>\n",
       "      <th>46403</th>\n",
       "      <td>46403</td>\n",
       "      <td>1</td>\n",
       "    </tr>\n",
       "  </tbody>\n",
       "</table>\n",
       "<p>46404 rows × 2 columns</p>\n",
       "</div>"
      ],
      "text/plain": [
       "          id  target\n",
       "0          0       1\n",
       "1          1       0\n",
       "2          2       1\n",
       "3          3       0\n",
       "4          4       1\n",
       "...      ...     ...\n",
       "46399  46399       1\n",
       "46400  46400       1\n",
       "46401  46401       1\n",
       "46402  46402       1\n",
       "46403  46403       1\n",
       "\n",
       "[46404 rows x 2 columns]"
      ]
     },
     "execution_count": 58,
     "metadata": {},
     "output_type": "execute_result"
    }
   ],
   "source": [
    "submission['target'] = pred\n",
    "submission"
   ]
  },
  {
   "cell_type": "code",
   "execution_count": 60,
   "id": "91fee2e0",
   "metadata": {},
   "outputs": [
    {
     "data": {
      "text/plain": [
       "1    35300\n",
       "0    11104\n",
       "Name: target, dtype: int64"
      ]
     },
     "execution_count": 60,
     "metadata": {},
     "output_type": "execute_result"
    }
   ],
   "source": [
    "submission['target'].value_counts()"
   ]
  },
  {
   "cell_type": "code",
   "execution_count": 61,
   "id": "27bd7d68",
   "metadata": {},
   "outputs": [],
   "source": [
    "submission.to_csv('./submission2.csv', index=False)"
   ]
  },
  {
   "cell_type": "code",
   "execution_count": null,
   "id": "309924ac",
   "metadata": {},
   "outputs": [],
   "source": []
  }
 ],
 "metadata": {
  "kernelspec": {
   "display_name": "py37",
   "language": "python",
   "name": "py37"
  },
  "language_info": {
   "codemirror_mode": {
    "name": "ipython",
    "version": 3
   },
   "file_extension": ".py",
   "mimetype": "text/x-python",
   "name": "python",
   "nbconvert_exporter": "python",
   "pygments_lexer": "ipython3",
   "version": "3.7.0"
  }
 },
 "nbformat": 4,
 "nbformat_minor": 5
}
