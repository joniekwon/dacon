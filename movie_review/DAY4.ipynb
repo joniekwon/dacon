{
 "cells": [
  {
   "cell_type": "code",
   "execution_count": 1,
   "id": "dc81f142",
   "metadata": {},
   "outputs": [],
   "source": [
    "import sys\n",
    "sys.version\n",
    "\n",
    "import re\n",
    "from konlpy.tag import Okt          \n",
    "from konlpy.tag import Komoran\n",
    "from collections import Counter\n",
    "import pandas as pd \n",
    "\n",
    "import matplotlib\n",
    "import matplotlib.pyplot as plt\n",
    "from matplotlib import font_manager, rc\n",
    "from wordcloud import WordCloud\n",
    "\n",
    "from hanspell import spell_checker\n",
    "from sklearn.feature_extraction.text import TfidfVectorizer\n",
    "\n",
    "from sklearn.model_selection import RandomizedSearchCV\n",
    "from sklearn.linear_model import SGDClassifier\n",
    "from sklearn.utils.fixes import loguniform\n",
    "SEED = 42"
   ]
  },
  {
   "cell_type": "markdown",
   "id": "bc41f9f8",
   "metadata": {},
   "source": [
    "### 형태소 분석 및 품사 태깅 라이브러리\n",
    "* https://konlpy.org/ko/v0.4.3/morph/#"
   ]
  },
  {
   "cell_type": "markdown",
   "id": "f3927da3",
   "metadata": {},
   "source": [
    "## 한글 폰트 설정"
   ]
  },
  {
   "cell_type": "code",
   "execution_count": null,
   "id": "038ebafb",
   "metadata": {},
   "outputs": [],
   "source": [
    "font_path =\"C:/Windows/fonts/malgun.ttf\"\n",
    "font_name = font_manager.FontProperties(fname=font_path).get_name()\n",
    "matplotlib.rc('font',family=font_name)"
   ]
  },
  {
   "cell_type": "code",
   "execution_count": 83,
   "id": "f3427440",
   "metadata": {},
   "outputs": [
    {
     "name": "stdout",
     "output_type": "stream",
     "text": [
      "<class 'pandas.core.frame.DataFrame'>\n",
      "Int64Index: 5000 entries, 1 to 5000\n",
      "Data columns (total 2 columns):\n",
      " #   Column    Non-Null Count  Dtype \n",
      "---  ------    --------------  ----- \n",
      " 0   document  5000 non-null   object\n",
      " 1   label     5000 non-null   int64 \n",
      "dtypes: int64(1), object(1)\n",
      "memory usage: 117.2+ KB\n"
     ]
    }
   ],
   "source": [
    "train = pd.read_csv('_data/train.csv', index_col=0)\n",
    "train.info()"
   ]
  },
  {
   "cell_type": "code",
   "execution_count": 84,
   "id": "8d08fb7d",
   "metadata": {},
   "outputs": [
    {
     "name": "stdout",
     "output_type": "stream",
     "text": [
      "<class 'pandas.core.frame.DataFrame'>\n",
      "Int64Index: 5000 entries, 1 to 5000\n",
      "Data columns (total 1 columns):\n",
      " #   Column    Non-Null Count  Dtype \n",
      "---  ------    --------------  ----- \n",
      " 0   document  5000 non-null   object\n",
      "dtypes: object(1)\n",
      "memory usage: 78.1+ KB\n"
     ]
    }
   ],
   "source": [
    "test = pd.read_csv('_data/test.csv', index_col=0)\n",
    "test.info()"
   ]
  },
  {
   "cell_type": "markdown",
   "id": "19639493",
   "metadata": {},
   "source": [
    "# 형태소 및 단어 분리\n",
    "* 영어만으로 작성된 리뷰도 있기 때문에 문자열을 제외한 나머지를 공백으로 치환 `re.sub(r'[^\\w]+', ' ', x` -->자음,모음삭제하고 숫자는 남기기 위해 `[^0-9a-zA-Zㅏ-ㅣ가-힣]`로 변경"
   ]
  },
  {
   "cell_type": "code",
   "execution_count": 4,
   "id": "57e3bb8e",
   "metadata": {},
   "outputs": [],
   "source": [
    "okt = Okt()\n",
    "def preprocessing(df):\n",
    "    df['document'] = df.document.apply(lambda x : re.sub(r'[^;!~0-9a-zA-Zㅏ-ㅣ가-힣]+', ' ', x).strip())\n",
    "    df['spell_ck'] = df.document.apply(lambda x : spell_checker.check(x).checked)\n",
    "    #df['tokenized_stem'] = df.document.apply(lambda x : ' '.join(okt.morphs(x, stem=True)))\n",
    "    df['tokenized_stem'] = df.spell_ck.apply(lambda x : ' '.join(okt.morphs(x, stem=True)))\n",
    "\n",
    "    return df"
   ]
  },
  {
   "cell_type": "code",
   "execution_count": 136,
   "id": "e11421b5",
   "metadata": {
    "scrolled": true
   },
   "outputs": [
    {
     "data": {
      "text/html": [
       "<div>\n",
       "<style scoped>\n",
       "    .dataframe tbody tr th:only-of-type {\n",
       "        vertical-align: middle;\n",
       "    }\n",
       "\n",
       "    .dataframe tbody tr th {\n",
       "        vertical-align: top;\n",
       "    }\n",
       "\n",
       "    .dataframe thead th {\n",
       "        text-align: right;\n",
       "    }\n",
       "</style>\n",
       "<table border=\"1\" class=\"dataframe\">\n",
       "  <thead>\n",
       "    <tr style=\"text-align: right;\">\n",
       "      <th></th>\n",
       "      <th>document</th>\n",
       "      <th>label</th>\n",
       "      <th>spell_ck</th>\n",
       "      <th>tokenized_stem</th>\n",
       "    </tr>\n",
       "    <tr>\n",
       "      <th>id</th>\n",
       "      <th></th>\n",
       "      <th></th>\n",
       "      <th></th>\n",
       "      <th></th>\n",
       "    </tr>\n",
       "  </thead>\n",
       "  <tbody>\n",
       "    <tr>\n",
       "      <th>1</th>\n",
       "      <td>영상이나 음악이 이쁘다 해도 미화시킨 불륜일뿐</td>\n",
       "      <td>0</td>\n",
       "      <td>영상이나 음악이 이쁘다 해도 미화시킨 불륜일 뿐</td>\n",
       "      <td>영상 이나 음악 이 이쁘다 해도 미화 시키다 불륜 일 뿐</td>\n",
       "    </tr>\n",
       "    <tr>\n",
       "      <th>2</th>\n",
       "      <td>히치콕이 이 영화를 봤다면 분명 박수를 쳤을듯</td>\n",
       "      <td>1</td>\n",
       "      <td>히치콕이 이 영화를 봤다면 분명 손뼉을 쳤을 듯</td>\n",
       "      <td>히치콕 이 이 영화 를 보다 분명 손뼉 을 치다 듯</td>\n",
       "    </tr>\n",
       "    <tr>\n",
       "      <th>3</th>\n",
       "      <td>괜찮은 음악영화가 또 나왔군요!!! 따뜻한 겨울이 될 것 같아요~</td>\n",
       "      <td>1</td>\n",
       "      <td>괜찮은 음악영화가 또 나왔군요!!! 따뜻한 겨울이 될 것 같아요~</td>\n",
       "      <td>괜찮다 음악 영화 가 또 나오다 !!! 따뜻하다 겨울 이 되다 것 같다 ~</td>\n",
       "    </tr>\n",
       "    <tr>\n",
       "      <th>4</th>\n",
       "      <td>아무래도 20년도지난작품이라 지금보기는너무유치하다</td>\n",
       "      <td>0</td>\n",
       "      <td>아무래도 20년도 지난 작품이라 지금 보기는 너무 유치하다</td>\n",
       "      <td>아무래도 20년 도 지난 작품 이라 지금 보기 는 너무 유치하다</td>\n",
       "    </tr>\n",
       "    <tr>\n",
       "      <th>5</th>\n",
       "      <td>지금까지의 영화들이 그랬듯 이 영화역시 일본에 대한 미화는 여전하다</td>\n",
       "      <td>0</td>\n",
       "      <td>지금까지의 영화들이 그랬듯 이 영화 역시 일본에 대한 미화는 여전하다</td>\n",
       "      <td>지금 까지의 영화 들 이 그렇다 이 영화 역시 일본 에 대한 미화 는 여전하다</td>\n",
       "    </tr>\n",
       "  </tbody>\n",
       "</table>\n",
       "</div>"
      ],
      "text/plain": [
       "                                 document  label  \\\n",
       "id                                                 \n",
       "1               영상이나 음악이 이쁘다 해도 미화시킨 불륜일뿐      0   \n",
       "2               히치콕이 이 영화를 봤다면 분명 박수를 쳤을듯      1   \n",
       "3    괜찮은 음악영화가 또 나왔군요!!! 따뜻한 겨울이 될 것 같아요~      1   \n",
       "4             아무래도 20년도지난작품이라 지금보기는너무유치하다      0   \n",
       "5   지금까지의 영화들이 그랬듯 이 영화역시 일본에 대한 미화는 여전하다      0   \n",
       "\n",
       "                                  spell_ck  \\\n",
       "id                                           \n",
       "1               영상이나 음악이 이쁘다 해도 미화시킨 불륜일 뿐   \n",
       "2               히치콕이 이 영화를 봤다면 분명 손뼉을 쳤을 듯   \n",
       "3     괜찮은 음악영화가 또 나왔군요!!! 따뜻한 겨울이 될 것 같아요~   \n",
       "4         아무래도 20년도 지난 작품이라 지금 보기는 너무 유치하다   \n",
       "5   지금까지의 영화들이 그랬듯 이 영화 역시 일본에 대한 미화는 여전하다   \n",
       "\n",
       "                                 tokenized_stem  \n",
       "id                                               \n",
       "1               영상 이나 음악 이 이쁘다 해도 미화 시키다 불륜 일 뿐  \n",
       "2                  히치콕 이 이 영화 를 보다 분명 손뼉 을 치다 듯  \n",
       "3     괜찮다 음악 영화 가 또 나오다 !!! 따뜻하다 겨울 이 되다 것 같다 ~  \n",
       "4           아무래도 20년 도 지난 작품 이라 지금 보기 는 너무 유치하다  \n",
       "5   지금 까지의 영화 들 이 그렇다 이 영화 역시 일본 에 대한 미화 는 여전하다  "
      ]
     },
     "execution_count": 136,
     "metadata": {},
     "output_type": "execute_result"
    }
   ],
   "source": [
    "train_df = preprocessing(train)\n",
    "train_df.head()"
   ]
  },
  {
   "cell_type": "code",
   "execution_count": 9,
   "id": "f2c39a4f",
   "metadata": {},
   "outputs": [
    {
     "data": {
      "text/html": [
       "<div>\n",
       "<style scoped>\n",
       "    .dataframe tbody tr th:only-of-type {\n",
       "        vertical-align: middle;\n",
       "    }\n",
       "\n",
       "    .dataframe tbody tr th {\n",
       "        vertical-align: top;\n",
       "    }\n",
       "\n",
       "    .dataframe thead th {\n",
       "        text-align: right;\n",
       "    }\n",
       "</style>\n",
       "<table border=\"1\" class=\"dataframe\">\n",
       "  <thead>\n",
       "    <tr style=\"text-align: right;\">\n",
       "      <th></th>\n",
       "      <th>document</th>\n",
       "      <th>spell_ck</th>\n",
       "      <th>tokenized_stem</th>\n",
       "    </tr>\n",
       "    <tr>\n",
       "      <th>id</th>\n",
       "      <th></th>\n",
       "      <th></th>\n",
       "      <th></th>\n",
       "    </tr>\n",
       "  </thead>\n",
       "  <tbody>\n",
       "    <tr>\n",
       "      <th>1</th>\n",
       "      <td>시간 때우기 좋은 영화 지루함</td>\n",
       "      <td>시간 때우기 좋은 영화 지루함</td>\n",
       "      <td>시간 때우다 좋다 영화 지루함</td>\n",
       "    </tr>\n",
       "    <tr>\n",
       "      <th>2</th>\n",
       "      <td>훈훈한 정이 느껴지는 영화! 가족끼리 드라마 보듯이 보면 딱~!</td>\n",
       "      <td>훈훈한 정이 느껴지는 영화! 가족끼리 드라마 보듯이 보면 딱~!</td>\n",
       "      <td>훈훈하다 정이 느껴지다 영화 ! 가족 끼리 드라마 보다 보다 딱 ~!</td>\n",
       "    </tr>\n",
       "    <tr>\n",
       "      <th>3</th>\n",
       "      <td>Childhood fantasy</td>\n",
       "      <td>Childhood fantasy</td>\n",
       "      <td>Childhood fantasy</td>\n",
       "    </tr>\n",
       "    <tr>\n",
       "      <th>4</th>\n",
       "      <td>멋있는 영화입니다 잊을 수 없는!</td>\n",
       "      <td>멋있는 영화입니다 잊을 수 없는!</td>\n",
       "      <td>멋있다 영화 이다 잊다 수 없다 !</td>\n",
       "    </tr>\n",
       "    <tr>\n",
       "      <th>5</th>\n",
       "      <td>너무 감동적이네요 펑펑 울었습니다</td>\n",
       "      <td>너무 감동적이네요 펑펑 울었습니다</td>\n",
       "      <td>너무 감동 적다 펑펑 울다</td>\n",
       "    </tr>\n",
       "  </tbody>\n",
       "</table>\n",
       "</div>"
      ],
      "text/plain": [
       "                               document                             spell_ck  \\\n",
       "id                                                                             \n",
       "1                      시간 때우기 좋은 영화 지루함                     시간 때우기 좋은 영화 지루함   \n",
       "2   훈훈한 정이 느껴지는 영화! 가족끼리 드라마 보듯이 보면 딱~!  훈훈한 정이 느껴지는 영화! 가족끼리 드라마 보듯이 보면 딱~!   \n",
       "3                     Childhood fantasy                    Childhood fantasy   \n",
       "4                    멋있는 영화입니다 잊을 수 없는!                   멋있는 영화입니다 잊을 수 없는!   \n",
       "5                    너무 감동적이네요 펑펑 울었습니다                   너무 감동적이네요 펑펑 울었습니다   \n",
       "\n",
       "                            tokenized_stem  \n",
       "id                                          \n",
       "1                         시간 때우다 좋다 영화 지루함  \n",
       "2   훈훈하다 정이 느껴지다 영화 ! 가족 끼리 드라마 보다 보다 딱 ~!  \n",
       "3                        Childhood fantasy  \n",
       "4                      멋있다 영화 이다 잊다 수 없다 !  \n",
       "5                           너무 감동 적다 펑펑 울다  "
      ]
     },
     "execution_count": 9,
     "metadata": {},
     "output_type": "execute_result"
    }
   ],
   "source": [
    "test_df = preprocessing(test)\n",
    "test_df.head()"
   ]
  },
  {
   "cell_type": "code",
   "execution_count": 10,
   "id": "4172c95d",
   "metadata": {},
   "outputs": [
    {
     "data": {
      "text/html": [
       "<div>\n",
       "<style scoped>\n",
       "    .dataframe tbody tr th:only-of-type {\n",
       "        vertical-align: middle;\n",
       "    }\n",
       "\n",
       "    .dataframe tbody tr th {\n",
       "        vertical-align: top;\n",
       "    }\n",
       "\n",
       "    .dataframe thead th {\n",
       "        text-align: right;\n",
       "    }\n",
       "</style>\n",
       "<table border=\"1\" class=\"dataframe\">\n",
       "  <thead>\n",
       "    <tr style=\"text-align: right;\">\n",
       "      <th></th>\n",
       "      <th>id</th>\n",
       "      <th>label</th>\n",
       "    </tr>\n",
       "  </thead>\n",
       "  <tbody>\n",
       "    <tr>\n",
       "      <th>0</th>\n",
       "      <td>1</td>\n",
       "      <td>0</td>\n",
       "    </tr>\n",
       "    <tr>\n",
       "      <th>1</th>\n",
       "      <td>2</td>\n",
       "      <td>0</td>\n",
       "    </tr>\n",
       "    <tr>\n",
       "      <th>2</th>\n",
       "      <td>3</td>\n",
       "      <td>0</td>\n",
       "    </tr>\n",
       "    <tr>\n",
       "      <th>3</th>\n",
       "      <td>4</td>\n",
       "      <td>0</td>\n",
       "    </tr>\n",
       "    <tr>\n",
       "      <th>4</th>\n",
       "      <td>5</td>\n",
       "      <td>0</td>\n",
       "    </tr>\n",
       "    <tr>\n",
       "      <th>...</th>\n",
       "      <td>...</td>\n",
       "      <td>...</td>\n",
       "    </tr>\n",
       "    <tr>\n",
       "      <th>4995</th>\n",
       "      <td>4996</td>\n",
       "      <td>0</td>\n",
       "    </tr>\n",
       "    <tr>\n",
       "      <th>4996</th>\n",
       "      <td>4997</td>\n",
       "      <td>0</td>\n",
       "    </tr>\n",
       "    <tr>\n",
       "      <th>4997</th>\n",
       "      <td>4998</td>\n",
       "      <td>0</td>\n",
       "    </tr>\n",
       "    <tr>\n",
       "      <th>4998</th>\n",
       "      <td>4999</td>\n",
       "      <td>0</td>\n",
       "    </tr>\n",
       "    <tr>\n",
       "      <th>4999</th>\n",
       "      <td>5000</td>\n",
       "      <td>0</td>\n",
       "    </tr>\n",
       "  </tbody>\n",
       "</table>\n",
       "<p>5000 rows × 2 columns</p>\n",
       "</div>"
      ],
      "text/plain": [
       "        id  label\n",
       "0        1      0\n",
       "1        2      0\n",
       "2        3      0\n",
       "3        4      0\n",
       "4        5      0\n",
       "...    ...    ...\n",
       "4995  4996      0\n",
       "4996  4997      0\n",
       "4997  4998      0\n",
       "4998  4999      0\n",
       "4999  5000      0\n",
       "\n",
       "[5000 rows x 2 columns]"
      ]
     },
     "execution_count": 10,
     "metadata": {},
     "output_type": "execute_result"
    }
   ],
   "source": [
    "submission = pd.read_csv('./_data/sample_submission.csv')\n",
    "submission"
   ]
  },
  {
   "cell_type": "code",
   "execution_count": 11,
   "id": "283c5922",
   "metadata": {},
   "outputs": [],
   "source": [
    "from sklearn.pipeline import Pipeline\n",
    "from sklearn.model_selection import StratifiedKFold\n",
    "from sklearn.metrics import accuracy_score\n",
    "\n",
    "from sklearn.naive_bayes import BernoulliNB\n",
    "from sklearn.linear_model import SGDClassifier, LogisticRegression\n",
    "from sklearn.ensemble import RandomForestClassifier, GradientBoostingClassifier\n",
    "from sklearn.svm import SVC\n",
    "from tqdm.auto import tqdm\n",
    "import numpy as np"
   ]
  },
  {
   "cell_type": "code",
   "execution_count": 12,
   "id": "e137025c",
   "metadata": {},
   "outputs": [],
   "source": [
    "def return_kfold_accuarcy(model, k: int = 5) -> float:\n",
    "    \"모델을 입력받아 KFold 예측 후 accuracy score를 반환하는 함수\"\n",
    "    kfold = StratifiedKFold(k, shuffle=True, random_state=SEED)\n",
    "    result = []\n",
    "    for train_idx, test_idx in kfold.split(train_df[\"tokenized_stem\"], train_df[\"label\"]):\n",
    "        train, val = train_df.iloc[train_idx], train_df.iloc[test_idx]\n",
    "        model.fit(train[\"tokenized_stem\"], train[\"label\"])\n",
    "        pred = model.predict(val[\"tokenized_stem\"])\n",
    "        acc = accuracy_score(val[\"label\"], pred)\n",
    "        result.append(acc)\n",
    "\n",
    "    return np.mean(result)"
   ]
  },
  {
   "cell_type": "code",
   "execution_count": 13,
   "id": "742c90d8",
   "metadata": {},
   "outputs": [],
   "source": [
    "tfidf = TfidfVectorizer(ngram_range=(1,2),\n",
    "                       min_df=3,\n",
    "                       max_df=0.9,\n",
    "                       tokenizer=okt.morphs,\n",
    "                       token_pattern=None)"
   ]
  },
  {
   "cell_type": "code",
   "execution_count": 21,
   "id": "7a1736a0",
   "metadata": {},
   "outputs": [],
   "source": [
    "models = [\n",
    "    (\"naive_bayes\", BernoulliNB()),\n",
    "    (\"SGD\", SGDClassifier(random_state=SEED, n_jobs=-1)),\n",
    "    (\"LR\", LogisticRegression(class_weight='balanced', max_iter=1000)),\n",
    "    (\"rfc\", RandomForestClassifier(random_state=SEED, n_jobs=-1)),\n",
    "    (\"SVC\", SVC(random_state=SEED)),\n",
    "   (\"gdb\", GradientBoostingClassifier(n_estimators=1000)),\n",
    "]\n",
    "\n",
    "model_pipes = [(name, Pipeline([('tfidf',tfidf),(name, model)])) for name, model in models]\n"
   ]
  },
  {
   "cell_type": "code",
   "execution_count": 22,
   "id": "4d0cfa1d",
   "metadata": {},
   "outputs": [
    {
     "data": {
      "application/vnd.jupyter.widget-view+json": {
       "model_id": "",
       "version_major": 2,
       "version_minor": 0
      },
      "text/plain": [
       "  0%|          | 0/3 [00:00<?, ?it/s]"
      ]
     },
     "metadata": {},
     "output_type": "display_data"
    },
    {
     "name": "stdout",
     "output_type": "stream",
     "text": [
      "[['naive_bayes', '0.877'], ['LR', '0.866'], ['SVC', '0.877']]\n"
     ]
    }
   ],
   "source": [
    "scores =[]\n",
    "for model_name, model in tqdm(model_pipes, leave=False):\n",
    "    acc = return_kfold_accuarcy(model)\n",
    "    scores.append([model_name, f\"{acc:0.3f}\"])\n",
    "print(scores)"
   ]
  },
  {
   "cell_type": "code",
   "execution_count": 18,
   "id": "fb3d4a0b",
   "metadata": {},
   "outputs": [
    {
     "data": {
      "text/plain": [
       "[['naive_bayes', '0.877'], ['SVC', '0.877'], ['LR', '0.866']]"
      ]
     },
     "execution_count": 18,
     "metadata": {},
     "output_type": "execute_result"
    }
   ],
   "source": [
    "top3 =sorted(scores, key=lambda x: x[1], reverse=True)[:3]\n",
    "top3"
   ]
  },
  {
   "cell_type": "code",
   "execution_count": null,
   "id": "9389ccb7",
   "metadata": {},
   "outputs": [],
   "source": []
  },
  {
   "cell_type": "markdown",
   "id": "b4f5e2b1",
   "metadata": {},
   "source": [
    "# 1. 가장 점수가 높은 3개모델 stacking"
   ]
  },
  {
   "cell_type": "code",
   "execution_count": 21,
   "id": "0225aeb1",
   "metadata": {},
   "outputs": [],
   "source": [
    "models = [\n",
    "    (\"naive_bayes\", BernoulliNB()),\n",
    "    #(\"SGD\", SGDClassifier(random_state=SEED, n_jobs=-1)),\n",
    "    (\"LR\", LogisticRegression(class_weight='balanced', max_iter=1000)),\n",
    "    #(\"rfc\", RandomForestClassifier(random_state=SEED, n_jobs=-1)),\n",
    "    (\"SVC\", SVC(random_state=SEED)),\n",
    "   # (\"gdb\", GradientBoostingClassifier(n_estimators=1000)),\n",
    "]\n",
    "\n",
    "model_pipes = [(name, Pipeline([('tfidf',tfidf),(name, model)])) for name, model in models]\n"
   ]
  },
  {
   "cell_type": "code",
   "execution_count": 22,
   "id": "6aa27b33",
   "metadata": {},
   "outputs": [
    {
     "data": {
      "application/vnd.jupyter.widget-view+json": {
       "model_id": "",
       "version_major": 2,
       "version_minor": 0
      },
      "text/plain": [
       "  0%|          | 0/3 [00:00<?, ?it/s]"
      ]
     },
     "metadata": {},
     "output_type": "display_data"
    },
    {
     "name": "stdout",
     "output_type": "stream",
     "text": [
      "[['naive_bayes', '0.877'], ['LR', '0.866'], ['SVC', '0.877']]\n"
     ]
    }
   ],
   "source": [
    "scores =[]\n",
    "for model_name, model in tqdm(model_pipes, leave=False):\n",
    "    acc = return_kfold_accuarcy(model)\n",
    "    scores.append([model_name, f\"{acc:0.3f}\"])\n",
    "print(scores)"
   ]
  },
  {
   "cell_type": "code",
   "execution_count": 19,
   "id": "d0766494",
   "metadata": {},
   "outputs": [],
   "source": [
    "from sklearn.ensemble import StackingClassifier\n"
   ]
  },
  {
   "cell_type": "code",
   "execution_count": 24,
   "id": "9726d481",
   "metadata": {},
   "outputs": [
    {
     "name": "stdout",
     "output_type": "stream",
     "text": [
      "0.8795999999999999\n"
     ]
    }
   ],
   "source": [
    "stack_models = [(name, Pipeline([('tfidf',tfidf),(name, model)])) for name, model in models]\n",
    "\n",
    "stacking = StackingClassifier(stack_models)\n",
    "acc = return_kfold_accuarcy(stacking)\n",
    "print(acc)"
   ]
  },
  {
   "cell_type": "code",
   "execution_count": 25,
   "id": "c61b417d",
   "metadata": {},
   "outputs": [],
   "source": [
    "stacking.fit(train_df['tokenized_stem'], train_df['label'])\n",
    "stacking_pred = stacking.predict(test_df[\"tokenized_stem\"])"
   ]
  },
  {
   "cell_type": "code",
   "execution_count": 26,
   "id": "ba7a7689",
   "metadata": {},
   "outputs": [
    {
     "data": {
      "text/plain": [
       "array([1, 1, 1, ..., 1, 0, 1], dtype=int64)"
      ]
     },
     "execution_count": 26,
     "metadata": {},
     "output_type": "execute_result"
    }
   ],
   "source": [
    "stacking_pred"
   ]
  },
  {
   "cell_type": "code",
   "execution_count": 27,
   "id": "cad9eb1f",
   "metadata": {},
   "outputs": [],
   "source": [
    "submission['label'] = stacking_pred"
   ]
  },
  {
   "cell_type": "code",
   "execution_count": 28,
   "id": "8309070a",
   "metadata": {},
   "outputs": [
    {
     "data": {
      "text/html": [
       "<div>\n",
       "<style scoped>\n",
       "    .dataframe tbody tr th:only-of-type {\n",
       "        vertical-align: middle;\n",
       "    }\n",
       "\n",
       "    .dataframe tbody tr th {\n",
       "        vertical-align: top;\n",
       "    }\n",
       "\n",
       "    .dataframe thead th {\n",
       "        text-align: right;\n",
       "    }\n",
       "</style>\n",
       "<table border=\"1\" class=\"dataframe\">\n",
       "  <thead>\n",
       "    <tr style=\"text-align: right;\">\n",
       "      <th></th>\n",
       "      <th>id</th>\n",
       "      <th>label</th>\n",
       "    </tr>\n",
       "  </thead>\n",
       "  <tbody>\n",
       "    <tr>\n",
       "      <th>0</th>\n",
       "      <td>1</td>\n",
       "      <td>1</td>\n",
       "    </tr>\n",
       "    <tr>\n",
       "      <th>1</th>\n",
       "      <td>2</td>\n",
       "      <td>1</td>\n",
       "    </tr>\n",
       "    <tr>\n",
       "      <th>2</th>\n",
       "      <td>3</td>\n",
       "      <td>1</td>\n",
       "    </tr>\n",
       "    <tr>\n",
       "      <th>3</th>\n",
       "      <td>4</td>\n",
       "      <td>1</td>\n",
       "    </tr>\n",
       "    <tr>\n",
       "      <th>4</th>\n",
       "      <td>5</td>\n",
       "      <td>1</td>\n",
       "    </tr>\n",
       "    <tr>\n",
       "      <th>...</th>\n",
       "      <td>...</td>\n",
       "      <td>...</td>\n",
       "    </tr>\n",
       "    <tr>\n",
       "      <th>4995</th>\n",
       "      <td>4996</td>\n",
       "      <td>0</td>\n",
       "    </tr>\n",
       "    <tr>\n",
       "      <th>4996</th>\n",
       "      <td>4997</td>\n",
       "      <td>0</td>\n",
       "    </tr>\n",
       "    <tr>\n",
       "      <th>4997</th>\n",
       "      <td>4998</td>\n",
       "      <td>1</td>\n",
       "    </tr>\n",
       "    <tr>\n",
       "      <th>4998</th>\n",
       "      <td>4999</td>\n",
       "      <td>0</td>\n",
       "    </tr>\n",
       "    <tr>\n",
       "      <th>4999</th>\n",
       "      <td>5000</td>\n",
       "      <td>1</td>\n",
       "    </tr>\n",
       "  </tbody>\n",
       "</table>\n",
       "<p>5000 rows × 2 columns</p>\n",
       "</div>"
      ],
      "text/plain": [
       "        id  label\n",
       "0        1      1\n",
       "1        2      1\n",
       "2        3      1\n",
       "3        4      1\n",
       "4        5      1\n",
       "...    ...    ...\n",
       "4995  4996      0\n",
       "4996  4997      0\n",
       "4997  4998      1\n",
       "4998  4999      0\n",
       "4999  5000      1\n",
       "\n",
       "[5000 rows x 2 columns]"
      ]
     },
     "execution_count": 28,
     "metadata": {},
     "output_type": "execute_result"
    }
   ],
   "source": [
    "submission"
   ]
  },
  {
   "cell_type": "code",
   "execution_count": 86,
   "id": "e14b6a9d",
   "metadata": {},
   "outputs": [],
   "source": [
    "submission.to_csv('submission4.csv', index=False)"
   ]
  },
  {
   "cell_type": "markdown",
   "id": "12fc248f",
   "metadata": {},
   "source": [
    "# 2. 각각 predict 후 앙상블"
   ]
  },
  {
   "cell_type": "code",
   "execution_count": 35,
   "id": "0a50e444",
   "metadata": {},
   "outputs": [],
   "source": [
    "tfidf.fit(train_df['tokenized_stem'])\n",
    "X_train_okt = tfidf.transform(train_df['tokenized_stem'])\n",
    "X_test_okt = tfidf.transform(test_df['tokenized_stem'])"
   ]
  },
  {
   "cell_type": "code",
   "execution_count": 40,
   "id": "0cd3917f",
   "metadata": {},
   "outputs": [
    {
     "data": {
      "text/plain": [
       "array([0, 1, 0, ..., 1, 0, 1], dtype=int64)"
      ]
     },
     "execution_count": 40,
     "metadata": {},
     "output_type": "execute_result"
    }
   ],
   "source": [
    "nb = BernoulliNB()\n",
    "nb.fit(X_train_okt, train_df['label'])\n",
    "nb_pred = nb.predict(X_test_okt)\n",
    "nb_pred"
   ]
  },
  {
   "cell_type": "code",
   "execution_count": 41,
   "id": "62a3b988",
   "metadata": {},
   "outputs": [
    {
     "data": {
      "text/plain": [
       "array([1, 1, 0, ..., 1, 0, 1], dtype=int64)"
      ]
     },
     "execution_count": 41,
     "metadata": {},
     "output_type": "execute_result"
    }
   ],
   "source": [
    "lr = LogisticRegression(class_weight='balanced', max_iter=1000)\n",
    "lr.fit(X_train_okt, train_df['label'])\n",
    "lr_pred = lr.predict(X_test_okt)\n",
    "lr_pred"
   ]
  },
  {
   "cell_type": "code",
   "execution_count": 42,
   "id": "6c42de5b",
   "metadata": {},
   "outputs": [
    {
     "data": {
      "text/plain": [
       "array([1, 1, 1, ..., 1, 0, 1], dtype=int64)"
      ]
     },
     "execution_count": 42,
     "metadata": {},
     "output_type": "execute_result"
    }
   ],
   "source": [
    "svc = SVC(random_state=SEED)\n",
    "svc.fit(X_train_okt, train_df['label'])\n",
    "svc_pred = svc.predict(X_test_okt)\n",
    "svc_pred"
   ]
  },
  {
   "cell_type": "code",
   "execution_count": 81,
   "id": "2de1cf37",
   "metadata": {},
   "outputs": [],
   "source": [
    "concat_pred = pd.concat([pd.Series(nb_pred), pd.Series(lr_pred), pd.Series(svc_pred)], axis=1)"
   ]
  },
  {
   "cell_type": "code",
   "execution_count": 98,
   "id": "c178b0a4",
   "metadata": {},
   "outputs": [],
   "source": [
    "concat_pred['label'] = round(concat_pred.sum(axis=1)/3)"
   ]
  },
  {
   "cell_type": "code",
   "execution_count": 99,
   "id": "49f869ca",
   "metadata": {},
   "outputs": [],
   "source": [
    "concat_pred.label = concat_pred.label.apply(lambda x: int(x))"
   ]
  },
  {
   "cell_type": "code",
   "execution_count": 100,
   "id": "a8afc3cf",
   "metadata": {},
   "outputs": [
    {
     "data": {
      "text/html": [
       "<div>\n",
       "<style scoped>\n",
       "    .dataframe tbody tr th:only-of-type {\n",
       "        vertical-align: middle;\n",
       "    }\n",
       "\n",
       "    .dataframe tbody tr th {\n",
       "        vertical-align: top;\n",
       "    }\n",
       "\n",
       "    .dataframe thead th {\n",
       "        text-align: right;\n",
       "    }\n",
       "</style>\n",
       "<table border=\"1\" class=\"dataframe\">\n",
       "  <thead>\n",
       "    <tr style=\"text-align: right;\">\n",
       "      <th></th>\n",
       "      <th>0</th>\n",
       "      <th>1</th>\n",
       "      <th>2</th>\n",
       "      <th>label</th>\n",
       "    </tr>\n",
       "  </thead>\n",
       "  <tbody>\n",
       "    <tr>\n",
       "      <th>0</th>\n",
       "      <td>0</td>\n",
       "      <td>1</td>\n",
       "      <td>1</td>\n",
       "      <td>1</td>\n",
       "    </tr>\n",
       "    <tr>\n",
       "      <th>1</th>\n",
       "      <td>1</td>\n",
       "      <td>1</td>\n",
       "      <td>1</td>\n",
       "      <td>1</td>\n",
       "    </tr>\n",
       "    <tr>\n",
       "      <th>2</th>\n",
       "      <td>0</td>\n",
       "      <td>0</td>\n",
       "      <td>1</td>\n",
       "      <td>0</td>\n",
       "    </tr>\n",
       "    <tr>\n",
       "      <th>3</th>\n",
       "      <td>1</td>\n",
       "      <td>1</td>\n",
       "      <td>1</td>\n",
       "      <td>1</td>\n",
       "    </tr>\n",
       "    <tr>\n",
       "      <th>4</th>\n",
       "      <td>1</td>\n",
       "      <td>1</td>\n",
       "      <td>1</td>\n",
       "      <td>1</td>\n",
       "    </tr>\n",
       "    <tr>\n",
       "      <th>...</th>\n",
       "      <td>...</td>\n",
       "      <td>...</td>\n",
       "      <td>...</td>\n",
       "      <td>...</td>\n",
       "    </tr>\n",
       "    <tr>\n",
       "      <th>4995</th>\n",
       "      <td>0</td>\n",
       "      <td>0</td>\n",
       "      <td>0</td>\n",
       "      <td>0</td>\n",
       "    </tr>\n",
       "    <tr>\n",
       "      <th>4996</th>\n",
       "      <td>0</td>\n",
       "      <td>0</td>\n",
       "      <td>0</td>\n",
       "      <td>0</td>\n",
       "    </tr>\n",
       "    <tr>\n",
       "      <th>4997</th>\n",
       "      <td>1</td>\n",
       "      <td>1</td>\n",
       "      <td>1</td>\n",
       "      <td>1</td>\n",
       "    </tr>\n",
       "    <tr>\n",
       "      <th>4998</th>\n",
       "      <td>0</td>\n",
       "      <td>0</td>\n",
       "      <td>0</td>\n",
       "      <td>0</td>\n",
       "    </tr>\n",
       "    <tr>\n",
       "      <th>4999</th>\n",
       "      <td>1</td>\n",
       "      <td>1</td>\n",
       "      <td>1</td>\n",
       "      <td>1</td>\n",
       "    </tr>\n",
       "  </tbody>\n",
       "</table>\n",
       "<p>5000 rows × 4 columns</p>\n",
       "</div>"
      ],
      "text/plain": [
       "      0  1  2  label\n",
       "0     0  1  1      1\n",
       "1     1  1  1      1\n",
       "2     0  0  1      0\n",
       "3     1  1  1      1\n",
       "4     1  1  1      1\n",
       "...  .. .. ..    ...\n",
       "4995  0  0  0      0\n",
       "4996  0  0  0      0\n",
       "4997  1  1  1      1\n",
       "4998  0  0  0      0\n",
       "4999  1  1  1      1\n",
       "\n",
       "[5000 rows x 4 columns]"
      ]
     },
     "execution_count": 100,
     "metadata": {},
     "output_type": "execute_result"
    }
   ],
   "source": [
    "concat_pred"
   ]
  },
  {
   "cell_type": "markdown",
   "id": "87fc0fe3",
   "metadata": {},
   "source": [
    "# 3. 전처리 다르게 해보기"
   ]
  },
  {
   "cell_type": "code",
   "execution_count": 125,
   "id": "c1d6a463",
   "metadata": {},
   "outputs": [
    {
     "data": {
      "application/vnd.jupyter.widget-view+json": {
       "model_id": "",
       "version_major": 2,
       "version_minor": 0
      },
      "text/plain": [
       "  0%|          | 0/6 [00:00<?, ?it/s]"
      ]
     },
     "metadata": {},
     "output_type": "display_data"
    },
    {
     "name": "stdout",
     "output_type": "stream",
     "text": [
      "[['naive_bayes', '0.881'], ['SGD', '0.869'], ['LR', '0.870'], ['rfc', '0.838'], ['SVC', '0.875'], ['gdb', '0.848']]\n"
     ]
    }
   ],
   "source": [
    "tfidf = TfidfVectorizer(ngram_range=(1,3),\n",
    "                       min_df= 2,\n",
    "                       max_df=0.9,\n",
    "                       tokenizer=okt.morphs,\n",
    "                       token_pattern=None)\n",
    "\n",
    "models = [\n",
    "    (\"naive_bayes\", BernoulliNB()),\n",
    "    (\"SGD\", SGDClassifier(random_state=SEED, n_jobs=-1)),\n",
    "    (\"LR\", LogisticRegression(class_weight='balanced', max_iter=1000)),\n",
    "    (\"rfc\", RandomForestClassifier(random_state=SEED, n_jobs=-1)),\n",
    "    (\"SVC\", SVC(random_state=SEED)),\n",
    "   (\"gdb\", GradientBoostingClassifier(n_estimators=1000)),\n",
    "]\n",
    "\n",
    "model_pipes = [(name, Pipeline([('tfidf',tfidf),(name, model)])) for name, model in models]\n",
    "\n",
    "scores =[]\n",
    "for model_name, model in tqdm(model_pipes, leave=False):\n",
    "    acc = return_kfold_accuarcy(model)\n",
    "    scores.append([model_name, f\"{acc:0.3f}\"])\n",
    "print(scores)"
   ]
  },
  {
   "cell_type": "code",
   "execution_count": 126,
   "id": "2b8277c3",
   "metadata": {},
   "outputs": [
    {
     "data": {
      "application/vnd.jupyter.widget-view+json": {
       "model_id": "",
       "version_major": 2,
       "version_minor": 0
      },
      "text/plain": [
       "  0%|          | 0/6 [00:00<?, ?it/s]"
      ]
     },
     "metadata": {},
     "output_type": "display_data"
    },
    {
     "name": "stdout",
     "output_type": "stream",
     "text": [
      "[['naive_bayes', '0.884'], ['SGD', '0.878'], ['LR', '0.865'], ['rfc', '0.840'], ['SVC', '0.872'], ['gdb', '0.846']]\n"
     ]
    }
   ],
   "source": [
    "tfidf = TfidfVectorizer(ngram_range=(1,2),\n",
    "                       min_df= 1,\n",
    "                       max_df=0.9,\n",
    "                       tokenizer=okt.morphs,\n",
    "                       token_pattern=None)\n",
    "\n",
    "models = [\n",
    "    (\"naive_bayes\", BernoulliNB()),\n",
    "    (\"SGD\", SGDClassifier(random_state=SEED, n_jobs=-1)),\n",
    "    (\"LR\", LogisticRegression(class_weight='balanced', max_iter=1000)),\n",
    "    (\"rfc\", RandomForestClassifier(random_state=SEED, n_jobs=-1)),\n",
    "    (\"SVC\", SVC(random_state=SEED)),\n",
    "   (\"gdb\", GradientBoostingClassifier(n_estimators=1000)),\n",
    "]\n",
    "\n",
    "model_pipes = [(name, Pipeline([('tfidf',tfidf),(name, model)])) for name, model in models]\n",
    "\n",
    "scores =[]\n",
    "for model_name, model in tqdm(model_pipes, leave=False):\n",
    "    acc = return_kfold_accuarcy(model)\n",
    "    scores.append([model_name, f\"{acc:0.3f}\"])\n",
    "print(scores)"
   ]
  },
  {
   "cell_type": "code",
   "execution_count": 127,
   "id": "536a0cf0",
   "metadata": {},
   "outputs": [
    {
     "data": {
      "application/vnd.jupyter.widget-view+json": {
       "model_id": "",
       "version_major": 2,
       "version_minor": 0
      },
      "text/plain": [
       "  0%|          | 0/6 [00:00<?, ?it/s]"
      ]
     },
     "metadata": {},
     "output_type": "display_data"
    },
    {
     "name": "stdout",
     "output_type": "stream",
     "text": [
      "[['naive_bayes', '0.884'], ['SGD', '0.878'], ['LR', '0.865'], ['rfc', '0.840'], ['SVC', '0.872'], ['gdb', '0.851']]\n"
     ]
    }
   ],
   "source": [
    "tfidf = TfidfVectorizer(ngram_range=(1,2),\n",
    "                       tokenizer=okt.morphs,\n",
    "                       token_pattern=None)\n",
    "\n",
    "models = [\n",
    "    (\"naive_bayes\", BernoulliNB()),\n",
    "    (\"SGD\", SGDClassifier(random_state=SEED, n_jobs=-1)),\n",
    "    (\"LR\", LogisticRegression(class_weight='balanced', max_iter=1000)),\n",
    "    (\"rfc\", RandomForestClassifier(random_state=SEED, n_jobs=-1)),\n",
    "    (\"SVC\", SVC(random_state=SEED)),\n",
    "   (\"gdb\", GradientBoostingClassifier(n_estimators=1000)),\n",
    "]\n",
    "\n",
    "model_pipes = [(name, Pipeline([('tfidf',tfidf),(name, model)])) for name, model in models]\n",
    "\n",
    "scores =[]\n",
    "for model_name, model in tqdm(model_pipes, leave=False):\n",
    "    acc = return_kfold_accuarcy(model)\n",
    "    scores.append([model_name, f\"{acc:0.3f}\"])\n",
    "print(scores)"
   ]
  },
  {
   "cell_type": "code",
   "execution_count": 128,
   "id": "2daf76da",
   "metadata": {},
   "outputs": [
    {
     "data": {
      "application/vnd.jupyter.widget-view+json": {
       "model_id": "",
       "version_major": 2,
       "version_minor": 0
      },
      "text/plain": [
       "  0%|          | 0/6 [00:00<?, ?it/s]"
      ]
     },
     "metadata": {},
     "output_type": "display_data"
    },
    {
     "name": "stdout",
     "output_type": "stream",
     "text": [
      "[['naive_bayes', '0.882'], ['SGD', '0.881'], ['LR', '0.861'], ['rfc', '0.834'], ['SVC', '0.869'], ['gdb', '0.845']]\n"
     ]
    }
   ],
   "source": [
    "tfidf = TfidfVectorizer(ngram_range=(1,3),\n",
    "                       tokenizer=okt.morphs,\n",
    "                       token_pattern=None)\n",
    "\n",
    "models = [\n",
    "    (\"naive_bayes\", BernoulliNB()),\n",
    "    (\"SGD\", SGDClassifier(random_state=SEED, n_jobs=-1)),\n",
    "    (\"LR\", LogisticRegression(class_weight='balanced', max_iter=1000)),\n",
    "    (\"rfc\", RandomForestClassifier(random_state=SEED, n_jobs=-1)),\n",
    "    (\"SVC\", SVC(random_state=SEED)),\n",
    "   (\"gdb\", GradientBoostingClassifier(n_estimators=1000)),\n",
    "]\n",
    "\n",
    "model_pipes = [(name, Pipeline([('tfidf',tfidf),(name, model)])) for name, model in models]\n",
    "\n",
    "scores =[]\n",
    "for model_name, model in tqdm(model_pipes, leave=False):\n",
    "    acc = return_kfold_accuarcy(model)\n",
    "    scores.append([model_name, f\"{acc:0.3f}\"])\n",
    "print(scores)"
   ]
  },
  {
   "cell_type": "markdown",
   "id": "aafa4aca",
   "metadata": {},
   "source": [
    "# 최종"
   ]
  },
  {
   "cell_type": "code",
   "execution_count": 129,
   "id": "40c69a5a",
   "metadata": {},
   "outputs": [
    {
     "data": {
      "application/vnd.jupyter.widget-view+json": {
       "model_id": "",
       "version_major": 2,
       "version_minor": 0
      },
      "text/plain": [
       "  0%|          | 0/3 [00:00<?, ?it/s]"
      ]
     },
     "metadata": {},
     "output_type": "display_data"
    },
    {
     "name": "stdout",
     "output_type": "stream",
     "text": [
      "[['naive_bayes', '0.884'], ['SGD', '0.878'], ['SVC', '0.872']]\n"
     ]
    }
   ],
   "source": [
    "tfidf = TfidfVectorizer(ngram_range=(1,2),\n",
    "                       tokenizer=okt.morphs,\n",
    "                       token_pattern=None)\n",
    "\n",
    "models = [\n",
    "    (\"naive_bayes\", BernoulliNB()),\n",
    "    (\"SGD\", SGDClassifier(random_state=SEED, n_jobs=-1)),\n",
    "    (\"SVC\", SVC(random_state=SEED)),\n",
    "]\n",
    "\n",
    "model_pipes = [(name, Pipeline([('tfidf',tfidf),(name, model)])) for name, model in models]\n",
    "\n",
    "scores =[]\n",
    "for model_name, model in tqdm(model_pipes, leave=False):\n",
    "    acc = return_kfold_accuarcy(model)\n",
    "    scores.append([model_name, f\"{acc:0.3f}\"])\n",
    "print(scores)"
   ]
  },
  {
   "cell_type": "code",
   "execution_count": 130,
   "id": "579d2641",
   "metadata": {},
   "outputs": [
    {
     "name": "stdout",
     "output_type": "stream",
     "text": [
      "0.8874000000000001\n"
     ]
    },
    {
     "data": {
      "text/html": [
       "<div>\n",
       "<style scoped>\n",
       "    .dataframe tbody tr th:only-of-type {\n",
       "        vertical-align: middle;\n",
       "    }\n",
       "\n",
       "    .dataframe tbody tr th {\n",
       "        vertical-align: top;\n",
       "    }\n",
       "\n",
       "    .dataframe thead th {\n",
       "        text-align: right;\n",
       "    }\n",
       "</style>\n",
       "<table border=\"1\" class=\"dataframe\">\n",
       "  <thead>\n",
       "    <tr style=\"text-align: right;\">\n",
       "      <th></th>\n",
       "      <th>id</th>\n",
       "      <th>label</th>\n",
       "    </tr>\n",
       "  </thead>\n",
       "  <tbody>\n",
       "    <tr>\n",
       "      <th>0</th>\n",
       "      <td>1</td>\n",
       "      <td>0</td>\n",
       "    </tr>\n",
       "    <tr>\n",
       "      <th>1</th>\n",
       "      <td>2</td>\n",
       "      <td>1</td>\n",
       "    </tr>\n",
       "    <tr>\n",
       "      <th>2</th>\n",
       "      <td>3</td>\n",
       "      <td>0</td>\n",
       "    </tr>\n",
       "    <tr>\n",
       "      <th>3</th>\n",
       "      <td>4</td>\n",
       "      <td>1</td>\n",
       "    </tr>\n",
       "    <tr>\n",
       "      <th>4</th>\n",
       "      <td>5</td>\n",
       "      <td>1</td>\n",
       "    </tr>\n",
       "    <tr>\n",
       "      <th>...</th>\n",
       "      <td>...</td>\n",
       "      <td>...</td>\n",
       "    </tr>\n",
       "    <tr>\n",
       "      <th>4995</th>\n",
       "      <td>4996</td>\n",
       "      <td>0</td>\n",
       "    </tr>\n",
       "    <tr>\n",
       "      <th>4996</th>\n",
       "      <td>4997</td>\n",
       "      <td>0</td>\n",
       "    </tr>\n",
       "    <tr>\n",
       "      <th>4997</th>\n",
       "      <td>4998</td>\n",
       "      <td>1</td>\n",
       "    </tr>\n",
       "    <tr>\n",
       "      <th>4998</th>\n",
       "      <td>4999</td>\n",
       "      <td>0</td>\n",
       "    </tr>\n",
       "    <tr>\n",
       "      <th>4999</th>\n",
       "      <td>5000</td>\n",
       "      <td>1</td>\n",
       "    </tr>\n",
       "  </tbody>\n",
       "</table>\n",
       "<p>5000 rows × 2 columns</p>\n",
       "</div>"
      ],
      "text/plain": [
       "        id  label\n",
       "0        1      0\n",
       "1        2      1\n",
       "2        3      0\n",
       "3        4      1\n",
       "4        5      1\n",
       "...    ...    ...\n",
       "4995  4996      0\n",
       "4996  4997      0\n",
       "4997  4998      1\n",
       "4998  4999      0\n",
       "4999  5000      1\n",
       "\n",
       "[5000 rows x 2 columns]"
      ]
     },
     "execution_count": 130,
     "metadata": {},
     "output_type": "execute_result"
    }
   ],
   "source": [
    "stack_models = [(name, Pipeline([('tfidf',tfidf),(name, model)])) for name, model in models]\n",
    "\n",
    "stacking = StackingClassifier(stack_models)\n",
    "acc = return_kfold_accuarcy(stacking)\n",
    "print(acc)\n",
    "\n",
    "stacking.fit(train_df['tokenized_stem'], train_df['label'])\n",
    "stacking_pred = stacking.predict(test_df[\"tokenized_stem\"])\n",
    "\n",
    "submission['label'] = stacking_pred\n",
    "submission"
   ]
  },
  {
   "cell_type": "code",
   "execution_count": 131,
   "id": "dc889910",
   "metadata": {},
   "outputs": [],
   "source": [
    "submission.to_csv('submission5.csv', index=False)"
   ]
  },
  {
   "cell_type": "markdown",
   "id": "abeb58b4",
   "metadata": {},
   "source": [
    "# public 0.882 (15위) private 0.88833(24위)"
   ]
  },
  {
   "cell_type": "markdown",
   "id": "0d54c0b9",
   "metadata": {},
   "source": [
    "### 특수문자, 자음 모음 전처리 안 할 경우 어떻게 될지 궁금하다. \n",
    "### 뒤늦게 참여해서 아쉬운 점이 많다!"
   ]
  },
  {
   "cell_type": "code",
   "execution_count": null,
   "id": "f7bfd8f0",
   "metadata": {},
   "outputs": [],
   "source": []
  }
 ],
 "metadata": {
  "kernelspec": {
   "display_name": "py37",
   "language": "python",
   "name": "py37"
  },
  "language_info": {
   "codemirror_mode": {
    "name": "ipython",
    "version": 3
   },
   "file_extension": ".py",
   "mimetype": "text/x-python",
   "name": "python",
   "nbconvert_exporter": "python",
   "pygments_lexer": "ipython3",
   "version": "3.7.11"
  }
 },
 "nbformat": 4,
 "nbformat_minor": 5
}
