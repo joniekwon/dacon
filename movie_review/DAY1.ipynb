{
 "cells": [
  {
   "cell_type": "code",
   "execution_count": 1,
   "id": "a30d1104",
   "metadata": {},
   "outputs": [],
   "source": [
    "import sys\n",
    "sys.version\n",
    "\n",
    "import re\n",
    "#from konlpy.tag import Okt          \n",
    "from konlpy.tag import Komoran\n",
    "from collections import Counter\n",
    "import pandas as pd \n",
    "\n",
    "import matplotlib\n",
    "import matplotlib.pyplot as plt\n",
    "from matplotlib import font_manager, rc\n",
    "from wordcloud import WordCloud"
   ]
  },
  {
   "cell_type": "markdown",
   "id": "71c523f0",
   "metadata": {},
   "source": [
    "## 한글 폰트 설정"
   ]
  },
  {
   "cell_type": "code",
   "execution_count": 2,
   "id": "0766c2f6",
   "metadata": {},
   "outputs": [],
   "source": [
    "font_path =\"C:/Windows/fonts/malgun.ttf\"\n",
    "font_name = font_manager.FontProperties(fname=font_path).get_name()\n",
    "matplotlib.rc('font',family=font_name)"
   ]
  },
  {
   "cell_type": "code",
   "execution_count": 3,
   "id": "2c6b3b82",
   "metadata": {},
   "outputs": [
    {
     "name": "stdout",
     "output_type": "stream",
     "text": [
      "<class 'pandas.core.frame.DataFrame'>\n",
      "Int64Index: 5000 entries, 1 to 5000\n",
      "Data columns (total 2 columns):\n",
      " #   Column    Non-Null Count  Dtype \n",
      "---  ------    --------------  ----- \n",
      " 0   document  5000 non-null   object\n",
      " 1   label     5000 non-null   int64 \n",
      "dtypes: int64(1), object(1)\n",
      "memory usage: 117.2+ KB\n"
     ]
    }
   ],
   "source": [
    "train = pd.read_csv('_data/train.csv', index_col=0)\n",
    "train.info()"
   ]
  },
  {
   "cell_type": "code",
   "execution_count": 4,
   "id": "4684d019",
   "metadata": {},
   "outputs": [
    {
     "name": "stdout",
     "output_type": "stream",
     "text": [
      "<class 'pandas.core.frame.DataFrame'>\n",
      "Int64Index: 5000 entries, 1 to 5000\n",
      "Data columns (total 1 columns):\n",
      " #   Column    Non-Null Count  Dtype \n",
      "---  ------    --------------  ----- \n",
      " 0   document  5000 non-null   object\n",
      "dtypes: object(1)\n",
      "memory usage: 78.1+ KB\n"
     ]
    }
   ],
   "source": [
    "test = pd.read_csv('_data/test.csv', index_col=0)\n",
    "test.info()"
   ]
  },
  {
   "cell_type": "markdown",
   "id": "b4265b1a",
   "metadata": {},
   "source": [
    "# 형태소 및 단어 분리\n",
    "* 영어만으로 작성된 리뷰도 있기 때문에 문자열을 제외한 나머지를 공백으로 치환 (re.sub(r'[^\\w]+', ' ', x)"
   ]
  },
  {
   "cell_type": "code",
   "execution_count": 74,
   "id": "ad8fb9fd",
   "metadata": {},
   "outputs": [],
   "source": [
    "nlp = Komoran()\n",
    "def preprocessing(df):\n",
    "    df['document'] = df.document.apply(lambda x : re.sub(r'[^\\w]+', ' ', x))\n",
    "    df['morphs'] = df.document.apply(lambda x : nlp.morphs(x))\n",
    "    df['nouns'] = df.document.apply(lambda x : nlp.nouns(x))\n",
    "    \n",
    "    for i, strings in enumerate(df.morphs):\n",
    "        after = strings\n",
    "        for j, s in enumerate(strings):\n",
    "            if len(s)<2:\n",
    "                after.pop(j)\n",
    "        if len(strings)!=len(after):\n",
    "            df.ioc[i, 'morphs'] = after\n",
    "    \n",
    "    for i, strings in enumerate(df.nouns):\n",
    "        after = strings\n",
    "        for j, s in enumerate(strings):\n",
    "            if len(s)<2:\n",
    "                after.pop(j)\n",
    "        if len(strings)!=len(after):\n",
    "            df.ioc[i, 'nouns'] = after\n",
    "    \n",
    "    return df"
   ]
  },
  {
   "cell_type": "code",
   "execution_count": 75,
   "id": "d97b1cb0",
   "metadata": {},
   "outputs": [
    {
     "data": {
      "text/html": [
       "<div>\n",
       "<style scoped>\n",
       "    .dataframe tbody tr th:only-of-type {\n",
       "        vertical-align: middle;\n",
       "    }\n",
       "\n",
       "    .dataframe tbody tr th {\n",
       "        vertical-align: top;\n",
       "    }\n",
       "\n",
       "    .dataframe thead th {\n",
       "        text-align: right;\n",
       "    }\n",
       "</style>\n",
       "<table border=\"1\" class=\"dataframe\">\n",
       "  <thead>\n",
       "    <tr style=\"text-align: right;\">\n",
       "      <th></th>\n",
       "      <th>document</th>\n",
       "      <th>label</th>\n",
       "      <th>morphs</th>\n",
       "      <th>nouns</th>\n",
       "    </tr>\n",
       "    <tr>\n",
       "      <th>id</th>\n",
       "      <th></th>\n",
       "      <th></th>\n",
       "      <th></th>\n",
       "      <th></th>\n",
       "    </tr>\n",
       "  </thead>\n",
       "  <tbody>\n",
       "    <tr>\n",
       "      <th>1</th>\n",
       "      <td>영상이나 음악이 이쁘다 해도 미화시킨 불륜일뿐</td>\n",
       "      <td>0</td>\n",
       "      <td>영상 이나 음악 이 이쁘 다 하 아도 미화 시키 불륜 일 뿐</td>\n",
       "      <td>[영상, 음악, 미화, 불륜, 일]</td>\n",
       "    </tr>\n",
       "    <tr>\n",
       "      <th>2</th>\n",
       "      <td>히치콕이 이 영화를 봤다면 분명 박수를 쳤을듯</td>\n",
       "      <td>1</td>\n",
       "      <td>히치콕 이 이 영화 를 보 았 다면 분명 박수 를 치 었 을 듯</td>\n",
       "      <td>[히치콕, 영화, 박수, 듯]</td>\n",
       "    </tr>\n",
       "    <tr>\n",
       "      <th>3</th>\n",
       "      <td>괜찮은 음악영화가 또 나왔군요 따뜻한 겨울이 될 것 같아요</td>\n",
       "      <td>1</td>\n",
       "      <td>괜찮 은 음악 영화 가 또 나오 았 군요 따뜻 하 겨울 이 되 것 같 아요</td>\n",
       "      <td>[음악, 영화, 겨울, 것]</td>\n",
       "    </tr>\n",
       "    <tr>\n",
       "      <th>4</th>\n",
       "      <td>아무래도 20년도지난작품이라 지금보기는너무유치하다</td>\n",
       "      <td>0</td>\n",
       "      <td>아무래도 년대 지난 작품 이 라 지금 보기 는 너무 유치 하 다</td>\n",
       "      <td>[년대, 지난, 작품, 지금, 보기, 유치]</td>\n",
       "    </tr>\n",
       "    <tr>\n",
       "      <th>5</th>\n",
       "      <td>지금까지의 영화들이 그랬듯 이 영화역시 일본에 대한 미화는 여전하다</td>\n",
       "      <td>0</td>\n",
       "      <td>지금 까지 의 영화 들 이 그렇 었 듯 이 영화 역시 일본 에 대하 미화 는 여전 하 다</td>\n",
       "      <td>[지금, 영화, 영화, 일본, 미화]</td>\n",
       "    </tr>\n",
       "  </tbody>\n",
       "</table>\n",
       "</div>"
      ],
      "text/plain": [
       "                                  document  label  \\\n",
       "id                                                  \n",
       "1                영상이나 음악이 이쁘다 해도 미화시킨 불륜일뿐      0   \n",
       "2               히치콕이 이 영화를 봤다면 분명 박수를 쳤을듯       1   \n",
       "3        괜찮은 음악영화가 또 나왔군요 따뜻한 겨울이 될 것 같아요       1   \n",
       "4              아무래도 20년도지난작품이라 지금보기는너무유치하다      0   \n",
       "5   지금까지의 영화들이 그랬듯 이 영화역시 일본에 대한 미화는 여전하다       0   \n",
       "\n",
       "                                               morphs  \\\n",
       "id                                                      \n",
       "1                   영상 이나 음악 이 이쁘 다 하 아도 미화 시키 불륜 일 뿐   \n",
       "2                 히치콕 이 이 영화 를 보 았 다면 분명 박수 를 치 었 을 듯   \n",
       "3           괜찮 은 음악 영화 가 또 나오 았 군요 따뜻 하 겨울 이 되 것 같 아요   \n",
       "4                 아무래도 년대 지난 작품 이 라 지금 보기 는 너무 유치 하 다   \n",
       "5   지금 까지 의 영화 들 이 그렇 었 듯 이 영화 역시 일본 에 대하 미화 는 여전 하 다   \n",
       "\n",
       "                       nouns  \n",
       "id                            \n",
       "1        [영상, 음악, 미화, 불륜, 일]  \n",
       "2           [히치콕, 영화, 박수, 듯]  \n",
       "3            [음악, 영화, 겨울, 것]  \n",
       "4   [년대, 지난, 작품, 지금, 보기, 유치]  \n",
       "5       [지금, 영화, 영화, 일본, 미화]  "
      ]
     },
     "execution_count": 75,
     "metadata": {},
     "output_type": "execute_result"
    }
   ],
   "source": [
    "train = preprocessing(train)\n",
    "train.head()"
   ]
  },
  {
   "cell_type": "code",
   "execution_count": 64,
   "id": "febb5e3f",
   "metadata": {},
   "outputs": [
    {
     "data": {
      "text/html": [
       "<div>\n",
       "<style scoped>\n",
       "    .dataframe tbody tr th:only-of-type {\n",
       "        vertical-align: middle;\n",
       "    }\n",
       "\n",
       "    .dataframe tbody tr th {\n",
       "        vertical-align: top;\n",
       "    }\n",
       "\n",
       "    .dataframe thead th {\n",
       "        text-align: right;\n",
       "    }\n",
       "</style>\n",
       "<table border=\"1\" class=\"dataframe\">\n",
       "  <thead>\n",
       "    <tr style=\"text-align: right;\">\n",
       "      <th></th>\n",
       "      <th>document</th>\n",
       "      <th>morphs</th>\n",
       "      <th>nouns</th>\n",
       "    </tr>\n",
       "    <tr>\n",
       "      <th>id</th>\n",
       "      <th></th>\n",
       "      <th></th>\n",
       "      <th></th>\n",
       "    </tr>\n",
       "  </thead>\n",
       "  <tbody>\n",
       "    <tr>\n",
       "      <th>1</th>\n",
       "      <td>시간 때우기 좋은 영화 지루함</td>\n",
       "      <td>[시간, 때우, 좋, 영화, 지루함]</td>\n",
       "      <td>[시간, 영화, 지루함]</td>\n",
       "    </tr>\n",
       "    <tr>\n",
       "      <th>2</th>\n",
       "      <td>훈훈한 정이 느껴지는 영화 가족끼리 드라마 보듯이 보면 딱</td>\n",
       "      <td>[훈훈, ㄴ, 정이, 느끼, 지, 영화, 가족, 끼리, 드라마, 듯이, 면]</td>\n",
       "      <td>[정이, 영화, 가족, 드라마]</td>\n",
       "    </tr>\n",
       "    <tr>\n",
       "      <th>3</th>\n",
       "      <td>Childhood fantasy</td>\n",
       "      <td>[Childhood, fantasy]</td>\n",
       "      <td>[]</td>\n",
       "    </tr>\n",
       "    <tr>\n",
       "      <th>4</th>\n",
       "      <td>멋있는 영화입니다 잊을 수 없는</td>\n",
       "      <td>[멋있, 영화, ㅂ니다, 을, 없]</td>\n",
       "      <td>[영화]</td>\n",
       "    </tr>\n",
       "    <tr>\n",
       "      <th>5</th>\n",
       "      <td>너무 감동적이네요 펑펑 울었습니다</td>\n",
       "      <td>[너무, 감동, 이, 네요, 펑펑, 었, 습니다]</td>\n",
       "      <td>[감동]</td>\n",
       "    </tr>\n",
       "  </tbody>\n",
       "</table>\n",
       "</div>"
      ],
      "text/plain": [
       "                             document  \\\n",
       "id                                      \n",
       "1                    시간 때우기 좋은 영화 지루함   \n",
       "2   훈훈한 정이 느껴지는 영화 가족끼리 드라마 보듯이 보면 딱    \n",
       "3                   Childhood fantasy   \n",
       "4                  멋있는 영화입니다 잊을 수 없는    \n",
       "5                  너무 감동적이네요 펑펑 울었습니다   \n",
       "\n",
       "                                        morphs              nouns  \n",
       "id                                                                 \n",
       "1                         [시간, 때우, 좋, 영화, 지루함]      [시간, 영화, 지루함]  \n",
       "2   [훈훈, ㄴ, 정이, 느끼, 지, 영화, 가족, 끼리, 드라마, 듯이, 면]  [정이, 영화, 가족, 드라마]  \n",
       "3                         [Childhood, fantasy]                 []  \n",
       "4                          [멋있, 영화, ㅂ니다, 을, 없]               [영화]  \n",
       "5                  [너무, 감동, 이, 네요, 펑펑, 었, 습니다]               [감동]  "
      ]
     },
     "execution_count": 64,
     "metadata": {},
     "output_type": "execute_result"
    }
   ],
   "source": [
    "test = preprocessing(test)\n",
    "test.head()"
   ]
  },
  {
   "cell_type": "code",
   "execution_count": 65,
   "id": "7000778f",
   "metadata": {},
   "outputs": [
    {
     "data": {
      "text/html": [
       "<div>\n",
       "<style scoped>\n",
       "    .dataframe tbody tr th:only-of-type {\n",
       "        vertical-align: middle;\n",
       "    }\n",
       "\n",
       "    .dataframe tbody tr th {\n",
       "        vertical-align: top;\n",
       "    }\n",
       "\n",
       "    .dataframe thead th {\n",
       "        text-align: right;\n",
       "    }\n",
       "</style>\n",
       "<table border=\"1\" class=\"dataframe\">\n",
       "  <thead>\n",
       "    <tr style=\"text-align: right;\">\n",
       "      <th></th>\n",
       "      <th>document</th>\n",
       "      <th>label</th>\n",
       "      <th>morphs</th>\n",
       "      <th>nouns</th>\n",
       "    </tr>\n",
       "    <tr>\n",
       "      <th>id</th>\n",
       "      <th></th>\n",
       "      <th></th>\n",
       "      <th></th>\n",
       "      <th></th>\n",
       "    </tr>\n",
       "  </thead>\n",
       "  <tbody>\n",
       "    <tr>\n",
       "      <th>4989</th>\n",
       "      <td>저 덕심 쥐뿔도 없지만 정말 재미있었어요</td>\n",
       "      <td>1</td>\n",
       "      <td>[덕, 쥐뿔, 없, 지만, 정말, 재미있, 어요]</td>\n",
       "      <td>[심, 쥐뿔]</td>\n",
       "    </tr>\n",
       "    <tr>\n",
       "      <th>4990</th>\n",
       "      <td>진짜재미있었다 조금지그러웠지만역시이토준지씨이다</td>\n",
       "      <td>1</td>\n",
       "      <td>[진짜, 재미있, 다, 조금지그러웠지만역시이토준지씨이다]</td>\n",
       "      <td>[진짜]</td>\n",
       "    </tr>\n",
       "    <tr>\n",
       "      <th>4993</th>\n",
       "      <td>아 오랜 기다림끝에 드디어 보게 되네요 최고입니다</td>\n",
       "      <td>1</td>\n",
       "      <td>[오랜, 기다리, 끝, 드디어, 게, 네요, 최고, ㅂ니다]</td>\n",
       "      <td>[최고]</td>\n",
       "    </tr>\n",
       "    <tr>\n",
       "      <th>4994</th>\n",
       "      <td>고난도의 심리 묘사가 표현된 최고의 영화</td>\n",
       "      <td>1</td>\n",
       "      <td>[고난, 의, 심리, 묘사, 표현, ㄴ, 최고, 영화]</td>\n",
       "      <td>[고난, 심리, 묘사, 표현, 최고, 영화]</td>\n",
       "    </tr>\n",
       "    <tr>\n",
       "      <th>4999</th>\n",
       "      <td>이런 평점 테러 네이버에서 좀 막아야 하는 것 아닌가</td>\n",
       "      <td>1</td>\n",
       "      <td>[이런, 평점, 테러, 네이버, 에서, 막, 아야, 는, 아니, ㄴ가]</td>\n",
       "      <td>[평점, 테러, 네이버]</td>\n",
       "    </tr>\n",
       "  </tbody>\n",
       "</table>\n",
       "</div>"
      ],
      "text/plain": [
       "                            document  label  \\\n",
       "id                                            \n",
       "4989         저 덕심 쥐뿔도 없지만 정말 재미있었어요       1   \n",
       "4990       진짜재미있었다 조금지그러웠지만역시이토준지씨이다      1   \n",
       "4993     아 오랜 기다림끝에 드디어 보게 되네요 최고입니다      1   \n",
       "4994          고난도의 심리 묘사가 표현된 최고의 영화      1   \n",
       "4999  이런 평점 테러 네이버에서 좀 막아야 하는 것 아닌가       1   \n",
       "\n",
       "                                       morphs                     nouns  \n",
       "id                                                                       \n",
       "4989              [덕, 쥐뿔, 없, 지만, 정말, 재미있, 어요]                   [심, 쥐뿔]  \n",
       "4990          [진짜, 재미있, 다, 조금지그러웠지만역시이토준지씨이다]                      [진짜]  \n",
       "4993        [오랜, 기다리, 끝, 드디어, 게, 네요, 최고, ㅂ니다]                      [최고]  \n",
       "4994           [고난, 의, 심리, 묘사, 표현, ㄴ, 최고, 영화]  [고난, 심리, 묘사, 표현, 최고, 영화]  \n",
       "4999  [이런, 평점, 테러, 네이버, 에서, 막, 아야, 는, 아니, ㄴ가]             [평점, 테러, 네이버]  "
      ]
     },
     "execution_count": 65,
     "metadata": {},
     "output_type": "execute_result"
    }
   ],
   "source": [
    "positive = train[train.label==1]\n",
    "positive.tail()"
   ]
  },
  {
   "cell_type": "code",
   "execution_count": 66,
   "id": "52c167f3",
   "metadata": {},
   "outputs": [
    {
     "data": {
      "text/html": [
       "<div>\n",
       "<style scoped>\n",
       "    .dataframe tbody tr th:only-of-type {\n",
       "        vertical-align: middle;\n",
       "    }\n",
       "\n",
       "    .dataframe tbody tr th {\n",
       "        vertical-align: top;\n",
       "    }\n",
       "\n",
       "    .dataframe thead th {\n",
       "        text-align: right;\n",
       "    }\n",
       "</style>\n",
       "<table border=\"1\" class=\"dataframe\">\n",
       "  <thead>\n",
       "    <tr style=\"text-align: right;\">\n",
       "      <th></th>\n",
       "      <th>document</th>\n",
       "      <th>label</th>\n",
       "      <th>morphs</th>\n",
       "      <th>nouns</th>\n",
       "    </tr>\n",
       "    <tr>\n",
       "      <th>id</th>\n",
       "      <th></th>\n",
       "      <th></th>\n",
       "      <th></th>\n",
       "      <th></th>\n",
       "    </tr>\n",
       "  </thead>\n",
       "  <tbody>\n",
       "    <tr>\n",
       "      <th>4995</th>\n",
       "      <td>도대체 누가 안소니짐머라는거지</td>\n",
       "      <td>0</td>\n",
       "      <td>[도대체, 누구, 안소니, 짐머, 라는, 거지]</td>\n",
       "      <td>[안소니, 짐머, 거지]</td>\n",
       "    </tr>\n",
       "    <tr>\n",
       "      <th>4996</th>\n",
       "      <td>좋은 배우들로 3류영화를 찍은 안타까운 영화</td>\n",
       "      <td>0</td>\n",
       "      <td>[은, 배우, 로, 류, 영화, 찍, 안타깝, 영화]</td>\n",
       "      <td>[배우, 영화, 영화]</td>\n",
       "    </tr>\n",
       "    <tr>\n",
       "      <th>4997</th>\n",
       "      <td>진짜 드럽게 재미없다 에드워드 호퍼 그림에 배경 빼고는 볼게 아닌영화</td>\n",
       "      <td>0</td>\n",
       "      <td>[진짜, 드럽, 재미없, 에드워드 호퍼, 그림, 배경, 고, 보, ㄹ게, 아니, 영화]</td>\n",
       "      <td>[에드워드 호퍼, 그림, 배경, 영화]</td>\n",
       "    </tr>\n",
       "    <tr>\n",
       "      <th>4998</th>\n",
       "      <td>가장 실망스러운 영화 지금까지 본영화중</td>\n",
       "      <td>0</td>\n",
       "      <td>[가장, 실망, 스럽, 영화, 지금, 까지, ㄴ, 영화]</td>\n",
       "      <td>[실망, 영화, 지금, 영화]</td>\n",
       "    </tr>\n",
       "    <tr>\n",
       "      <th>5000</th>\n",
       "      <td>여주인공이 전작에서는 귀여웠는데 여기선 완전 망했네 실망이다</td>\n",
       "      <td>0</td>\n",
       "      <td>[여주인공, 전작, 에서, 귀엽, 는데, 여기, ㄴ, 완전, 망하, 네, 실망, 다]</td>\n",
       "      <td>[여주인공, 전작, 완전, 실망]</td>\n",
       "    </tr>\n",
       "  </tbody>\n",
       "</table>\n",
       "</div>"
      ],
      "text/plain": [
       "                                    document  label  \\\n",
       "id                                                    \n",
       "4995                       도대체 누가 안소니짐머라는거지       0   \n",
       "4996                좋은 배우들로 3류영화를 찍은 안타까운 영화      0   \n",
       "4997  진짜 드럽게 재미없다 에드워드 호퍼 그림에 배경 빼고는 볼게 아닌영화      0   \n",
       "4998                  가장 실망스러운 영화 지금까지 본영화중       0   \n",
       "5000       여주인공이 전작에서는 귀여웠는데 여기선 완전 망했네 실망이다      0   \n",
       "\n",
       "                                                morphs                  nouns  \n",
       "id                                                                             \n",
       "4995                        [도대체, 누구, 안소니, 짐머, 라는, 거지]          [안소니, 짐머, 거지]  \n",
       "4996                     [은, 배우, 로, 류, 영화, 찍, 안타깝, 영화]           [배우, 영화, 영화]  \n",
       "4997  [진짜, 드럽, 재미없, 에드워드 호퍼, 그림, 배경, 고, 보, ㄹ게, 아니, 영화]  [에드워드 호퍼, 그림, 배경, 영화]  \n",
       "4998                   [가장, 실망, 스럽, 영화, 지금, 까지, ㄴ, 영화]       [실망, 영화, 지금, 영화]  \n",
       "5000   [여주인공, 전작, 에서, 귀엽, 는데, 여기, ㄴ, 완전, 망하, 네, 실망, 다]     [여주인공, 전작, 완전, 실망]  "
      ]
     },
     "execution_count": 66,
     "metadata": {},
     "output_type": "execute_result"
    }
   ],
   "source": [
    "negative = train[train.label==0]\n",
    "negative.tail()"
   ]
  },
  {
   "cell_type": "code",
   "execution_count": null,
   "id": "d3412007",
   "metadata": {},
   "outputs": [],
   "source": []
  },
  {
   "cell_type": "code",
   "execution_count": null,
   "id": "de26152a",
   "metadata": {},
   "outputs": [],
   "source": []
  },
  {
   "cell_type": "code",
   "execution_count": 43,
   "id": "948493b2",
   "metadata": {},
   "outputs": [
    {
     "name": "stdout",
     "output_type": "stream",
     "text": [
      "5000\n"
     ]
    },
    {
     "data": {
      "text/plain": [
       "'영상 음악 미화 불륜'"
      ]
     },
     "execution_count": 43,
     "metadata": {},
     "output_type": "execute_result"
    }
   ],
   "source": [
    "posi_train = df2str(train['nouns'])\n",
    "posi_train"
   ]
  },
  {
   "cell_type": "code",
   "execution_count": 25,
   "id": "17c9cd60",
   "metadata": {},
   "outputs": [],
   "source": [
    "c =Counter(posi_train)"
   ]
  },
  {
   "cell_type": "code",
   "execution_count": 26,
   "id": "a48002f4",
   "metadata": {},
   "outputs": [
    {
     "data": {
      "text/plain": [
       "[(' ', 27944),\n",
       " ('하', 2641),\n",
       " ('화', 1835),\n",
       " ('영', 1813),\n",
       " ('보', 1464),\n",
       " ('지', 1346),\n",
       " ('도', 1191),\n",
       " ('이', 1027),\n",
       " ('기', 1009),\n",
       " ('의', 937)]"
      ]
     },
     "execution_count": 26,
     "metadata": {},
     "output_type": "execute_result"
    }
   ],
   "source": [
    "c.most_common(10)"
   ]
  },
  {
   "cell_type": "code",
   "execution_count": null,
   "id": "6d9bc7d7",
   "metadata": {},
   "outputs": [],
   "source": []
  },
  {
   "cell_type": "code",
   "execution_count": 11,
   "id": "71867dc0",
   "metadata": {},
   "outputs": [
    {
     "ename": "NameError",
     "evalue": "name 'data' is not defined",
     "output_type": "error",
     "traceback": [
      "\u001b[1;31m---------------------------------------------------------------------------\u001b[0m",
      "\u001b[1;31mNameError\u001b[0m                                 Traceback (most recent call last)",
      "\u001b[1;32m<ipython-input-11-fb402af096ea>\u001b[0m in \u001b[0;36m<module>\u001b[1;34m\u001b[0m\n\u001b[1;32m----> 1\u001b[1;33m \u001b[0mdata\u001b[0m\u001b[1;33m[\u001b[0m\u001b[1;34m'len'\u001b[0m\u001b[1;33m]\u001b[0m \u001b[1;33m=\u001b[0m \u001b[0mdata\u001b[0m\u001b[1;33m.\u001b[0m\u001b[0mdocument\u001b[0m\u001b[1;33m.\u001b[0m\u001b[0mapply\u001b[0m\u001b[1;33m(\u001b[0m\u001b[1;32mlambda\u001b[0m \u001b[0mx\u001b[0m \u001b[1;33m:\u001b[0m \u001b[0mlen\u001b[0m\u001b[1;33m(\u001b[0m\u001b[0mx\u001b[0m\u001b[1;33m)\u001b[0m\u001b[1;33m)\u001b[0m\u001b[1;33m\u001b[0m\u001b[1;33m\u001b[0m\u001b[0m\n\u001b[0m",
      "\u001b[1;31mNameError\u001b[0m: name 'data' is not defined"
     ]
    }
   ],
   "source": [
    "data['len'] = data.document.apply(lambda x : len(x))"
   ]
  },
  {
   "cell_type": "code",
   "execution_count": null,
   "id": "ad886838",
   "metadata": {},
   "outputs": [],
   "source": [
    "data['split_len'] = data.document.apply(lambda x : len(x.split()))"
   ]
  },
  {
   "cell_type": "code",
   "execution_count": null,
   "id": "8d83ab90",
   "metadata": {},
   "outputs": [],
   "source": [
    "data['len/split'] = data['len']/data['split_len']"
   ]
  },
  {
   "cell_type": "code",
   "execution_count": null,
   "id": "37f2d5ac",
   "metadata": {},
   "outputs": [],
   "source": [
    "data[data['len/split']>6]"
   ]
  },
  {
   "cell_type": "code",
   "execution_count": null,
   "id": "31bae601",
   "metadata": {},
   "outputs": [],
   "source": []
  },
  {
   "cell_type": "code",
   "execution_count": null,
   "id": "e134556a",
   "metadata": {},
   "outputs": [],
   "source": []
  },
  {
   "cell_type": "code",
   "execution_count": null,
   "id": "4ac9c5a2",
   "metadata": {},
   "outputs": [],
   "source": []
  },
  {
   "cell_type": "code",
   "execution_count": null,
   "id": "646431be",
   "metadata": {},
   "outputs": [],
   "source": []
  }
 ],
 "metadata": {
  "kernelspec": {
   "display_name": "data36",
   "language": "python",
   "name": "py36-data"
  },
  "language_info": {
   "codemirror_mode": {
    "name": "ipython",
    "version": 3
   },
   "file_extension": ".py",
   "mimetype": "text/x-python",
   "name": "python",
   "nbconvert_exporter": "python",
   "pygments_lexer": "ipython3",
   "version": "3.6.13"
  }
 },
 "nbformat": 4,
 "nbformat_minor": 5
}
