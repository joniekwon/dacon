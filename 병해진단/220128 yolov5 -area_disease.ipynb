{
 "cells": [
  {
   "cell_type": "code",
   "execution_count": 1,
   "metadata": {
    "colab": {
     "base_uri": "https://localhost:8080/"
    },
    "executionInfo": {
     "elapsed": 7041,
     "status": "ok",
     "timestamp": 1643252073420,
     "user": {
      "displayName": "게임방송먀몸",
      "photoUrl": "https://lh3.googleusercontent.com/a/default-user=s64",
      "userId": "11393961306633484893"
     },
     "user_tz": -540
    },
    "id": "p60NMWfXuPkm",
    "outputId": "0cd06fbd-166e-4f84-c0bf-f8e81bb88129"
   },
   "outputs": [
    {
     "name": "stdout",
     "output_type": "stream",
     "text": [
      "- os: Windows-10-10.0.19041-SP0\n",
      "- python: 3.7.11 (default, Jul 27 2021, 09:42:29) [MSC v.1916 64 bit (AMD64)]\n",
      "- pandas: 1.3.0\n",
      "- numpy: 1.19.1\n",
      "- sklearn: 1.0.2\n",
      "- pytorch: 1.7.0\n",
      "- opencv: 4.5.5\n"
     ]
    }
   ],
   "source": [
    "import pandas as pd\n",
    "pd.set_option('mode.chained_assignment', None)\n",
    "import numpy as np\n",
    "import matplotlib.pyplot as plt\n",
    "import seaborn as sns\n",
    "sns.set_style('dark')\n",
    "\n",
    "import warnings\n",
    "warnings.filterwarnings('ignore')\n",
    "\n",
    "import torch\n",
    "from torch import nn\n",
    "from torchvision import models\n",
    "from torch.utils.data import Dataset\n",
    "from sklearn.preprocessing import LabelEncoder\n",
    "from sklearn.metrics import f1_score\n",
    "from sklearn.model_selection import train_test_split\n",
    "from tqdm import tqdm\n",
    "\n",
    "import platform\n",
    "import sys\n",
    "import os\n",
    "import sklearn \n",
    "import cv2\n",
    "import json\n",
    "from glob import glob\n",
    "\n",
    "print(f\"- os: {platform.platform()}\")\n",
    "print(f\"- python: {sys.version}\")\n",
    "print(f\"- pandas: {pd.__version__}\")\n",
    "print(f\"- numpy: {np.__version__}\")\n",
    "print(f\"- sklearn: {sklearn.__version__}\")\n",
    "print(f\"- pytorch: {torch.__version__}\")\n",
    "print(f\"- opencv: {cv2.__version__}\")"
   ]
  },
  {
   "cell_type": "code",
   "execution_count": 2,
   "metadata": {
    "colab": {
     "base_uri": "https://localhost:8080/"
    },
    "executionInfo": {
     "elapsed": 6,
     "status": "ok",
     "timestamp": 1643252073421,
     "user": {
      "displayName": "게임방송먀몸",
      "photoUrl": "https://lh3.googleusercontent.com/a/default-user=s64",
      "userId": "11393961306633484893"
     },
     "user_tz": -540
    },
    "id": "xs3Jo6dFuVqe",
    "outputId": "957a387d-b0d0-4adc-f3a9-b935312c2d78"
   },
   "outputs": [
    {
     "name": "stdout",
     "output_type": "stream",
     "text": [
      "Setup complete. Using torch 1.7.0 (NVIDIA GeForce GTX 1060 6GB)\n"
     ]
    }
   ],
   "source": [
    "import torch\n",
    "print(f\"Setup complete. Using torch {torch.__version__} ({torch.cuda.get_device_properties(0).name if torch.cuda.is_available() else 'CPU'})\")"
   ]
  },
  {
   "cell_type": "code",
   "execution_count": 3,
   "metadata": {
    "executionInfo": {
     "elapsed": 4,
     "status": "ok",
     "timestamp": 1643252073421,
     "user": {
      "displayName": "게임방송먀몸",
      "photoUrl": "https://lh3.googleusercontent.com/a/default-user=s64",
      "userId": "11393961306633484893"
     },
     "user_tz": -540
    },
    "id": "6Ce3r1S6vm-S"
   },
   "outputs": [],
   "source": [
    "from shutil import copyfile\n",
    "from sklearn.model_selection import StratifiedKFold\n",
    "\n",
    "#customize iPython writefile so we can write variables\n",
    "from IPython.core.magic import register_line_cell_magic\n",
    "\n",
    "@register_line_cell_magic\n",
    "def writetemplate(line, cell):\n",
    "    with open(line, 'w') as f:\n",
    "        f.write(cell.format(**globals()))"
   ]
  },
  {
   "cell_type": "code",
   "execution_count": 4,
   "metadata": {
    "colab": {
     "base_uri": "https://localhost:8080/"
    },
    "executionInfo": {
     "elapsed": 14948,
     "status": "ok",
     "timestamp": 1643252102966,
     "user": {
      "displayName": "게임방송먀몸",
      "photoUrl": "https://lh3.googleusercontent.com/a/default-user=s64",
      "userId": "11393961306633484893"
     },
     "user_tz": -540
    },
    "id": "IgucuEi2vuq3",
    "outputId": "c20bd1e0-a784-471e-b408-3de5faededf2"
   },
   "outputs": [],
   "source": [
    "# !pip install wandb\n",
    "# !wandb login"
   ]
  },
  {
   "cell_type": "code",
   "execution_count": 104,
   "metadata": {
    "executionInfo": {
     "elapsed": 3,
     "status": "ok",
     "timestamp": 1643252108414,
     "user": {
      "displayName": "게임방송먀몸",
      "photoUrl": "https://lh3.googleusercontent.com/a/default-user=s64",
      "userId": "11393961306633484893"
     },
     "user_tz": -540
    },
    "id": "Uq_WhkBPv3YI"
   },
   "outputs": [],
   "source": [
    "TRAIN_PATH = 'C:/git/jonie_github/VISION/_data/train/'\n",
    "BATCH_SIZE = 128\n",
    "EPOCHS = 150\n",
    "USE_FOLD = True\n",
    "SEED = 42\n",
    "NUM_FOLD = 5\n",
    "\n",
    "FLIP_IMG = True\n",
    "BLUR_IMG = True\n",
    "USE_AIHUB_DATA = False\n",
    "\n",
    "# image resize\n",
    "IMG_SIZE = 128"
   ]
  },
  {
   "cell_type": "code",
   "execution_count": 132,
   "metadata": {},
   "outputs": [],
   "source": [
    "def print_prams():\n",
    "    print(f'BATCH_SIZE: {BATCH_SIZE}')\n",
    "    print(f'EPOCHS: {EPOCHS}')\n",
    "    print(f'SEED: {SEED}')\n",
    "    print(f'NUM_FOLD: {NUM_FOLD}')\n",
    "    print(f'DATASET_NAME: {DATASET_NAME}')\n",
    "    print(f'IMG_SIZE: {IMG_SIZE}')\n",
    "    print(f'FLIP_IMG: {FLIP_IMG}')\n",
    "    print(f'BLUR_IMG: {BLUR_IMG}')\n",
    "    print(f'USE_AIHUB_DATA: {USE_AIHUB_DATA}')"
   ]
  },
  {
   "cell_type": "code",
   "execution_count": 67,
   "metadata": {
    "executionInfo": {
     "elapsed": 505,
     "status": "ok",
     "timestamp": 1643252176341,
     "user": {
      "displayName": "게임방송먀몸",
      "photoUrl": "https://lh3.googleusercontent.com/a/default-user=s64",
      "userId": "11393961306633484893"
     },
     "user_tz": -540
    },
    "id": "l9t69rJWwQr9"
   },
   "outputs": [],
   "source": [
    "train_csv = sorted(glob(TRAIN_PATH +'*/*.csv'))\n",
    "train_jpg = sorted(glob(TRAIN_PATH +'*/?????.jpg'))\n",
    "train_json = sorted(glob(TRAIN_PATH +'*/*.json'))\n",
    "\n",
    "# test_csv = sorted(glob(TRAIN_PATH +'*/*.csv'))\n",
    "# test_jpg = sorted(glob(TRAIN_PATH +'*/*.jpg'))\n",
    "# test_json = sorted(glob(TRAIN_PATH +'*/*.json'))"
   ]
  },
  {
   "cell_type": "code",
   "execution_count": 6,
   "metadata": {
    "colab": {
     "base_uri": "https://localhost:8080/"
    },
    "executionInfo": {
     "elapsed": 36135,
     "status": "ok",
     "timestamp": 1643252212471,
     "user": {
      "displayName": "게임방송먀몸",
      "photoUrl": "https://lh3.googleusercontent.com/a/default-user=s64",
      "userId": "11393961306633484893"
     },
     "user_tz": -540
    },
    "id": "WUDJQo1KwS0X",
    "outputId": "83530399-cf2b-49de-816e-6d3a6404b634"
   },
   "outputs": [
    {
     "name": "stderr",
     "output_type": "stream",
     "text": [
      "100%|█████████████████████████████████████████████████████████████████████████████| 5767/5767 [00:51<00:00, 112.44it/s]\n"
     ]
    }
   ],
   "source": [
    "def img_load(path):\n",
    "    img = cv2.imread(path)\n",
    "    #img = cv2.cvtColor(img, cv2.COLOR_BGR2RGB)\n",
    "    return img\n",
    "\n",
    "imgs = [img_load(k) for k in tqdm(train_jpg)]"
   ]
  },
  {
   "cell_type": "code",
   "execution_count": 83,
   "metadata": {
    "executionInfo": {
     "elapsed": 745,
     "status": "ok",
     "timestamp": 1643252213213,
     "user": {
      "displayName": "게임방송먀몸",
      "photoUrl": "https://lh3.googleusercontent.com/a/default-user=s64",
      "userId": "11393961306633484893"
     },
     "user_tz": -540
    },
    "id": "5_TS3Qj7wXmF"
   },
   "outputs": [],
   "source": [
    "crops = []\n",
    "areas = []\n",
    "diseases = []\n",
    "risks = []\n",
    "labels = []\n",
    "img_names = []\n",
    "parts=[]\n",
    "objects = []\n",
    "img_w = []\n",
    "img_h = []\n",
    "grows = []\n",
    "\n",
    "for i in range(len(train_json)):\n",
    "    with open(train_json[i], 'r') as f:\n",
    "        sample = json.load(f)\n",
    "        \n",
    "        crop = sample['annotations']['crop']\n",
    "        area = sample['annotations']['area']\n",
    "        disease = sample['annotations']['disease']\n",
    "        grow = sample['annotations']['grow']\n",
    "        risk = sample['annotations']['risk']\n",
    "        label=f\"{crop}_{disease}_{risk}\"        \n",
    "        img_name = sample['description']['image'].replace('.jpg','')\n",
    "        width = sample['description']['width']\n",
    "        height = sample['description']['height']\n",
    "\n",
    "        crops.append(crop)\n",
    "        areas.append(area)\n",
    "        diseases.append(disease)\n",
    "        risks.append(risk)\n",
    "        labels.append(label)\n",
    "        img_names.append(img_name)\n",
    "        img_w.append(width)\n",
    "        img_h.append(height)\n",
    "        grows.append(grow)\n",
    "        r = sample['annotations']['bbox'][0]\n",
    "        temp = [int(r['x']), int(r['y']), int(r['w']), int(r['h'])]\n",
    "        objects.append(temp)    \n",
    "        \n",
    "        p = []\n",
    "        \n",
    "        for part in sample['annotations']['part']:\n",
    "            p.append({\n",
    "                'bbox': [\n",
    "                    int(part['x']), int(part['y']), int(part['w']), int(part['h'])\n",
    "                ],\n",
    "                'id': part['id']\n",
    "            })\n",
    "        parts.append(p)"
   ]
  },
  {
   "cell_type": "code",
   "execution_count": 84,
   "metadata": {
    "executionInfo": {
     "elapsed": 10,
     "status": "ok",
     "timestamp": 1643252213213,
     "user": {
      "displayName": "게임방송먀몸",
      "photoUrl": "https://lh3.googleusercontent.com/a/default-user=s64",
      "userId": "11393961306633484893"
     },
     "user_tz": -540
    },
    "id": "4GXd1yE4wZrd"
   },
   "outputs": [
    {
     "data": {
      "text/html": [
       "<div>\n",
       "<style scoped>\n",
       "    .dataframe tbody tr th:only-of-type {\n",
       "        vertical-align: middle;\n",
       "    }\n",
       "\n",
       "    .dataframe tbody tr th {\n",
       "        vertical-align: top;\n",
       "    }\n",
       "\n",
       "    .dataframe thead th {\n",
       "        text-align: right;\n",
       "    }\n",
       "</style>\n",
       "<table border=\"1\" class=\"dataframe\">\n",
       "  <thead>\n",
       "    <tr style=\"text-align: right;\">\n",
       "      <th></th>\n",
       "      <th>image</th>\n",
       "      <th>crops</th>\n",
       "      <th>areas</th>\n",
       "      <th>diseases</th>\n",
       "      <th>risks</th>\n",
       "      <th>grows</th>\n",
       "      <th>xc</th>\n",
       "      <th>yc</th>\n",
       "      <th>w</th>\n",
       "      <th>h</th>\n",
       "      <th>img_w</th>\n",
       "      <th>img_h</th>\n",
       "      <th>dir</th>\n",
       "    </tr>\n",
       "  </thead>\n",
       "  <tbody>\n",
       "    <tr>\n",
       "      <th>0</th>\n",
       "      <td>10027</td>\n",
       "      <td>3</td>\n",
       "      <td>3</td>\n",
       "      <td>b7</td>\n",
       "      <td>1</td>\n",
       "      <td>13</td>\n",
       "      <td>171</td>\n",
       "      <td>280</td>\n",
       "      <td>165</td>\n",
       "      <td>237</td>\n",
       "      <td>384</td>\n",
       "      <td>512</td>\n",
       "      <td>C:/git/jonie_github/VISION/_data/train/10027/1...</td>\n",
       "    </tr>\n",
       "    <tr>\n",
       "      <th>1</th>\n",
       "      <td>10037</td>\n",
       "      <td>3</td>\n",
       "      <td>5</td>\n",
       "      <td>00</td>\n",
       "      <td>0</td>\n",
       "      <td>11</td>\n",
       "      <td>190</td>\n",
       "      <td>159</td>\n",
       "      <td>48</td>\n",
       "      <td>315</td>\n",
       "      <td>384</td>\n",
       "      <td>512</td>\n",
       "      <td>C:/git/jonie_github/VISION/_data/train/10037/1...</td>\n",
       "    </tr>\n",
       "    <tr>\n",
       "      <th>2</th>\n",
       "      <td>10043</td>\n",
       "      <td>3</td>\n",
       "      <td>1</td>\n",
       "      <td>00</td>\n",
       "      <td>0</td>\n",
       "      <td>13</td>\n",
       "      <td>191</td>\n",
       "      <td>251</td>\n",
       "      <td>272</td>\n",
       "      <td>271</td>\n",
       "      <td>384</td>\n",
       "      <td>512</td>\n",
       "      <td>C:/git/jonie_github/VISION/_data/train/10043/1...</td>\n",
       "    </tr>\n",
       "    <tr>\n",
       "      <th>3</th>\n",
       "      <td>10045</td>\n",
       "      <td>3</td>\n",
       "      <td>3</td>\n",
       "      <td>00</td>\n",
       "      <td>0</td>\n",
       "      <td>11</td>\n",
       "      <td>214</td>\n",
       "      <td>319</td>\n",
       "      <td>172</td>\n",
       "      <td>263</td>\n",
       "      <td>384</td>\n",
       "      <td>512</td>\n",
       "      <td>C:/git/jonie_github/VISION/_data/train/10045/1...</td>\n",
       "    </tr>\n",
       "    <tr>\n",
       "      <th>4</th>\n",
       "      <td>10063</td>\n",
       "      <td>3</td>\n",
       "      <td>1</td>\n",
       "      <td>00</td>\n",
       "      <td>0</td>\n",
       "      <td>13</td>\n",
       "      <td>184</td>\n",
       "      <td>287</td>\n",
       "      <td>285</td>\n",
       "      <td>283</td>\n",
       "      <td>384</td>\n",
       "      <td>512</td>\n",
       "      <td>C:/git/jonie_github/VISION/_data/train/10063/1...</td>\n",
       "    </tr>\n",
       "    <tr>\n",
       "      <th>...</th>\n",
       "      <td>...</td>\n",
       "      <td>...</td>\n",
       "      <td>...</td>\n",
       "      <td>...</td>\n",
       "      <td>...</td>\n",
       "      <td>...</td>\n",
       "      <td>...</td>\n",
       "      <td>...</td>\n",
       "      <td>...</td>\n",
       "      <td>...</td>\n",
       "      <td>...</td>\n",
       "      <td>...</td>\n",
       "      <td>...</td>\n",
       "    </tr>\n",
       "    <tr>\n",
       "      <th>5762</th>\n",
       "      <td>67640</td>\n",
       "      <td>3</td>\n",
       "      <td>5</td>\n",
       "      <td>00</td>\n",
       "      <td>0</td>\n",
       "      <td>11</td>\n",
       "      <td>131</td>\n",
       "      <td>185</td>\n",
       "      <td>160</td>\n",
       "      <td>370</td>\n",
       "      <td>384</td>\n",
       "      <td>512</td>\n",
       "      <td>C:/git/jonie_github/VISION/_data/train/67640/6...</td>\n",
       "    </tr>\n",
       "    <tr>\n",
       "      <th>5763</th>\n",
       "      <td>67644</td>\n",
       "      <td>1</td>\n",
       "      <td>3</td>\n",
       "      <td>00</td>\n",
       "      <td>0</td>\n",
       "      <td>11</td>\n",
       "      <td>401</td>\n",
       "      <td>258</td>\n",
       "      <td>560</td>\n",
       "      <td>488</td>\n",
       "      <td>682</td>\n",
       "      <td>512</td>\n",
       "      <td>C:/git/jonie_github/VISION/_data/train/67644/6...</td>\n",
       "    </tr>\n",
       "    <tr>\n",
       "      <th>5764</th>\n",
       "      <td>67647</td>\n",
       "      <td>2</td>\n",
       "      <td>3</td>\n",
       "      <td>a5</td>\n",
       "      <td>2</td>\n",
       "      <td>12</td>\n",
       "      <td>374</td>\n",
       "      <td>303</td>\n",
       "      <td>322</td>\n",
       "      <td>174</td>\n",
       "      <td>682</td>\n",
       "      <td>512</td>\n",
       "      <td>C:/git/jonie_github/VISION/_data/train/67647/6...</td>\n",
       "    </tr>\n",
       "    <tr>\n",
       "      <th>5765</th>\n",
       "      <td>67649</td>\n",
       "      <td>1</td>\n",
       "      <td>3</td>\n",
       "      <td>00</td>\n",
       "      <td>0</td>\n",
       "      <td>12</td>\n",
       "      <td>261</td>\n",
       "      <td>154</td>\n",
       "      <td>220</td>\n",
       "      <td>239</td>\n",
       "      <td>384</td>\n",
       "      <td>512</td>\n",
       "      <td>C:/git/jonie_github/VISION/_data/train/67649/6...</td>\n",
       "    </tr>\n",
       "    <tr>\n",
       "      <th>5766</th>\n",
       "      <td>67678</td>\n",
       "      <td>5</td>\n",
       "      <td>3</td>\n",
       "      <td>b6</td>\n",
       "      <td>1</td>\n",
       "      <td>13</td>\n",
       "      <td>205</td>\n",
       "      <td>253</td>\n",
       "      <td>184</td>\n",
       "      <td>424</td>\n",
       "      <td>384</td>\n",
       "      <td>512</td>\n",
       "      <td>C:/git/jonie_github/VISION/_data/train/67678/6...</td>\n",
       "    </tr>\n",
       "  </tbody>\n",
       "</table>\n",
       "<p>5767 rows × 13 columns</p>\n",
       "</div>"
      ],
      "text/plain": [
       "      image  crops  areas diseases  risks  grows   xc   yc    w    h  img_w  \\\n",
       "0     10027      3      3       b7      1     13  171  280  165  237    384   \n",
       "1     10037      3      5       00      0     11  190  159   48  315    384   \n",
       "2     10043      3      1       00      0     13  191  251  272  271    384   \n",
       "3     10045      3      3       00      0     11  214  319  172  263    384   \n",
       "4     10063      3      1       00      0     13  184  287  285  283    384   \n",
       "...     ...    ...    ...      ...    ...    ...  ...  ...  ...  ...    ...   \n",
       "5762  67640      3      5       00      0     11  131  185  160  370    384   \n",
       "5763  67644      1      3       00      0     11  401  258  560  488    682   \n",
       "5764  67647      2      3       a5      2     12  374  303  322  174    682   \n",
       "5765  67649      1      3       00      0     12  261  154  220  239    384   \n",
       "5766  67678      5      3       b6      1     13  205  253  184  424    384   \n",
       "\n",
       "      img_h                                                dir  \n",
       "0       512  C:/git/jonie_github/VISION/_data/train/10027/1...  \n",
       "1       512  C:/git/jonie_github/VISION/_data/train/10037/1...  \n",
       "2       512  C:/git/jonie_github/VISION/_data/train/10043/1...  \n",
       "3       512  C:/git/jonie_github/VISION/_data/train/10045/1...  \n",
       "4       512  C:/git/jonie_github/VISION/_data/train/10063/1...  \n",
       "...     ...                                                ...  \n",
       "5762    512  C:/git/jonie_github/VISION/_data/train/67640/6...  \n",
       "5763    512  C:/git/jonie_github/VISION/_data/train/67644/6...  \n",
       "5764    512  C:/git/jonie_github/VISION/_data/train/67647/6...  \n",
       "5765    512  C:/git/jonie_github/VISION/_data/train/67649/6...  \n",
       "5766    512  C:/git/jonie_github/VISION/_data/train/67678/6...  \n",
       "\n",
       "[5767 rows x 13 columns]"
      ]
     },
     "execution_count": 84,
     "metadata": {},
     "output_type": "execute_result"
    }
   ],
   "source": [
    "df = pd.DataFrame({'image':img_names, 'img_w':img_w, 'img_h':img_h, 'crops':crops,'areas':areas,'diseases':diseases,'risks':risks, 'grows':grows, 'bbox':objects, 'labels':labels, 'dir':train_jpg})\n",
    "df['crop_area'] = df.crops.astype(str) + '_' + df.areas.astype(str)\n",
    "df['disease_risk'] = df.diseases.astype(str) + '_' + df.risks.astype(str)\n",
    "\n",
    "df['x'] = df.bbox.apply(lambda x: x[0])\n",
    "df['y'] = df.bbox.apply(lambda x: x[1])\n",
    "df['w'] = df.bbox.apply(lambda x: x[2])\n",
    "df['h'] = df.bbox.apply(lambda x: x[3])\n",
    "df['xc'] = df.x + df.w.apply(lambda x:x//2)\n",
    "df['yc'] = df.y + df.h.apply(lambda x:x//2)\n",
    "df.dir = df.dir.apply(lambda x: x.replace('\\\\','/'))\n",
    "\n",
    "df = df[['image','crops','areas','diseases','risks','grows','xc','yc','w','h', 'img_w', 'img_h', 'dir']]\n",
    "df"
   ]
  },
  {
   "cell_type": "markdown",
   "metadata": {},
   "source": [
    "## 학습 이미지 생성"
   ]
  },
  {
   "cell_type": "code",
   "execution_count": 81,
   "metadata": {
    "colab": {
     "base_uri": "https://localhost:8080/",
     "height": 424
    },
    "executionInfo": {
     "elapsed": 10,
     "status": "ok",
     "timestamp": 1643252213214,
     "user": {
      "displayName": "게임방송먀몸",
      "photoUrl": "https://lh3.googleusercontent.com/a/default-user=s64",
      "userId": "11393961306633484893"
     },
     "user_tz": -540
    },
    "id": "jHpg10HfwuDZ",
    "outputId": "db30d821-016b-4b24-c05c-73e85b2add78"
   },
   "outputs": [],
   "source": [
    "# Gaussian이미지 생성\n",
    "def add_gaussian_img(df:pd.DataFrame, jpg_dir):\n",
    "    \n",
    "    for img_dir in tqdm(jpg_dir):\n",
    "        img = cv2.imread(img_dir)\n",
    "        temp_dir = img_dir.replace('.jpg', f'_blur.jpg')\n",
    "        gaussian_img = cv2.GaussianBlur(img, (0, 0), 1)\n",
    "        cv2.imwrite(temp_dir, gaussian_img)\n",
    "        \n",
    "    df_blur = df.copy()\n",
    "    df_blur.dir = df.dir.apply(lambda x: x.replace('.jpg', '_blur.jpg'))\n",
    "    df_blur.image = df.image.apply(lambda x: x+'_blur')\n",
    "    df = pd.concat([df, df_blur])\n",
    "    df.reset_index(inplace=True, drop=True)\n",
    "    return df"
   ]
  },
  {
   "cell_type": "code",
   "execution_count": 82,
   "metadata": {},
   "outputs": [],
   "source": [
    "# filp 이미지 생성\n",
    "def add_filp_img(df:pd.DataFrame, jpg_dir):\n",
    "    for img_dir in tqdm(jpg_dir):\n",
    "        img = cv2.imread(img_dir)\n",
    "        for flip in range(2):\n",
    "            flip_dir = img_dir.replace('.jpg', f'_flip{flip}.jpg')\n",
    "            cv2.imwrite(flip_dir, cv2.flip(img, flip))\n",
    "    \n",
    "    # 좌표 변경\n",
    "    df_flip0 = df.copy()\n",
    "    df_flip0.yc = df.img_h - df.yc\n",
    "    df_flip0.image = df_flip0.image + '_flip0'\n",
    "    df_flip0.dir = df_flip0.dir.apply(lambda x: x.replace('.jpg', '_flip0.jpg'))\n",
    "\n",
    "    df_flip1 = df.copy()\n",
    "    df_flip1.xc = df.img_w - df.xc\n",
    "    df_flip1.image = df_flip1.image + '_flip1'\n",
    "    df_flip1.dir = df_flip1.dir.apply(lambda x: x.replace('.jpg', '_flip1.jpg'))\n",
    "    \n",
    "    df = pd.concat([df, df_flip0, df_flip1])\n",
    "    df.reset_index(inplace=True, drop=True)\n",
    "\n",
    "    return df"
   ]
  },
  {
   "cell_type": "code",
   "execution_count": 87,
   "metadata": {},
   "outputs": [
    {
     "name": "stderr",
     "output_type": "stream",
     "text": [
      "100%|██████████████████████████████████████████████████████████████████████████████| 5767/5767 [01:01<00:00, 93.20it/s]\n",
      "100%|████████████████████████████████████████████████████████████████████████████| 11534/11534 [03:36<00:00, 53.21it/s]\n"
     ]
    }
   ],
   "source": [
    "if BLUR_IMG:\n",
    "    df = add_gaussian_img(df, df.dir)\n",
    "if FLIP_IMG:\n",
    "    df = add_filp_img(df, df.dir)"
   ]
  },
  {
   "cell_type": "code",
   "execution_count": 89,
   "metadata": {},
   "outputs": [
    {
     "data": {
      "text/html": [
       "<div>\n",
       "<style scoped>\n",
       "    .dataframe tbody tr th:only-of-type {\n",
       "        vertical-align: middle;\n",
       "    }\n",
       "\n",
       "    .dataframe tbody tr th {\n",
       "        vertical-align: top;\n",
       "    }\n",
       "\n",
       "    .dataframe thead th {\n",
       "        text-align: right;\n",
       "    }\n",
       "</style>\n",
       "<table border=\"1\" class=\"dataframe\">\n",
       "  <thead>\n",
       "    <tr style=\"text-align: right;\">\n",
       "      <th></th>\n",
       "      <th>image</th>\n",
       "      <th>crops</th>\n",
       "      <th>areas</th>\n",
       "      <th>diseases</th>\n",
       "      <th>risks</th>\n",
       "      <th>grows</th>\n",
       "      <th>xc</th>\n",
       "      <th>yc</th>\n",
       "      <th>w</th>\n",
       "      <th>h</th>\n",
       "      <th>img_w</th>\n",
       "      <th>img_h</th>\n",
       "      <th>dir</th>\n",
       "    </tr>\n",
       "  </thead>\n",
       "  <tbody>\n",
       "    <tr>\n",
       "      <th>0</th>\n",
       "      <td>10027</td>\n",
       "      <td>3</td>\n",
       "      <td>3</td>\n",
       "      <td>b7</td>\n",
       "      <td>1</td>\n",
       "      <td>13</td>\n",
       "      <td>171</td>\n",
       "      <td>280</td>\n",
       "      <td>165</td>\n",
       "      <td>237</td>\n",
       "      <td>384</td>\n",
       "      <td>512</td>\n",
       "      <td>C:/git/jonie_github/VISION/_data/train/10027/1...</td>\n",
       "    </tr>\n",
       "    <tr>\n",
       "      <th>5767</th>\n",
       "      <td>10027_blur</td>\n",
       "      <td>3</td>\n",
       "      <td>3</td>\n",
       "      <td>b7</td>\n",
       "      <td>1</td>\n",
       "      <td>13</td>\n",
       "      <td>171</td>\n",
       "      <td>280</td>\n",
       "      <td>165</td>\n",
       "      <td>237</td>\n",
       "      <td>384</td>\n",
       "      <td>512</td>\n",
       "      <td>C:/git/jonie_github/VISION/_data/train/10027/1...</td>\n",
       "    </tr>\n",
       "    <tr>\n",
       "      <th>17301</th>\n",
       "      <td>10027_blur_flip0</td>\n",
       "      <td>3</td>\n",
       "      <td>3</td>\n",
       "      <td>b7</td>\n",
       "      <td>1</td>\n",
       "      <td>13</td>\n",
       "      <td>171</td>\n",
       "      <td>232</td>\n",
       "      <td>165</td>\n",
       "      <td>237</td>\n",
       "      <td>384</td>\n",
       "      <td>512</td>\n",
       "      <td>C:/git/jonie_github/VISION/_data/train/10027/1...</td>\n",
       "    </tr>\n",
       "    <tr>\n",
       "      <th>28835</th>\n",
       "      <td>10027_blur_flip1</td>\n",
       "      <td>3</td>\n",
       "      <td>3</td>\n",
       "      <td>b7</td>\n",
       "      <td>1</td>\n",
       "      <td>13</td>\n",
       "      <td>213</td>\n",
       "      <td>280</td>\n",
       "      <td>165</td>\n",
       "      <td>237</td>\n",
       "      <td>384</td>\n",
       "      <td>512</td>\n",
       "      <td>C:/git/jonie_github/VISION/_data/train/10027/1...</td>\n",
       "    </tr>\n",
       "    <tr>\n",
       "      <th>11534</th>\n",
       "      <td>10027_flip0</td>\n",
       "      <td>3</td>\n",
       "      <td>3</td>\n",
       "      <td>b7</td>\n",
       "      <td>1</td>\n",
       "      <td>13</td>\n",
       "      <td>171</td>\n",
       "      <td>232</td>\n",
       "      <td>165</td>\n",
       "      <td>237</td>\n",
       "      <td>384</td>\n",
       "      <td>512</td>\n",
       "      <td>C:/git/jonie_github/VISION/_data/train/10027/1...</td>\n",
       "    </tr>\n",
       "    <tr>\n",
       "      <th>...</th>\n",
       "      <td>...</td>\n",
       "      <td>...</td>\n",
       "      <td>...</td>\n",
       "      <td>...</td>\n",
       "      <td>...</td>\n",
       "      <td>...</td>\n",
       "      <td>...</td>\n",
       "      <td>...</td>\n",
       "      <td>...</td>\n",
       "      <td>...</td>\n",
       "      <td>...</td>\n",
       "      <td>...</td>\n",
       "      <td>...</td>\n",
       "    </tr>\n",
       "    <tr>\n",
       "      <th>11533</th>\n",
       "      <td>67678_blur</td>\n",
       "      <td>5</td>\n",
       "      <td>3</td>\n",
       "      <td>b6</td>\n",
       "      <td>1</td>\n",
       "      <td>13</td>\n",
       "      <td>205</td>\n",
       "      <td>253</td>\n",
       "      <td>184</td>\n",
       "      <td>424</td>\n",
       "      <td>384</td>\n",
       "      <td>512</td>\n",
       "      <td>C:/git/jonie_github/VISION/_data/train/67678/6...</td>\n",
       "    </tr>\n",
       "    <tr>\n",
       "      <th>23067</th>\n",
       "      <td>67678_blur_flip0</td>\n",
       "      <td>5</td>\n",
       "      <td>3</td>\n",
       "      <td>b6</td>\n",
       "      <td>1</td>\n",
       "      <td>13</td>\n",
       "      <td>205</td>\n",
       "      <td>259</td>\n",
       "      <td>184</td>\n",
       "      <td>424</td>\n",
       "      <td>384</td>\n",
       "      <td>512</td>\n",
       "      <td>C:/git/jonie_github/VISION/_data/train/67678/6...</td>\n",
       "    </tr>\n",
       "    <tr>\n",
       "      <th>34601</th>\n",
       "      <td>67678_blur_flip1</td>\n",
       "      <td>5</td>\n",
       "      <td>3</td>\n",
       "      <td>b6</td>\n",
       "      <td>1</td>\n",
       "      <td>13</td>\n",
       "      <td>179</td>\n",
       "      <td>253</td>\n",
       "      <td>184</td>\n",
       "      <td>424</td>\n",
       "      <td>384</td>\n",
       "      <td>512</td>\n",
       "      <td>C:/git/jonie_github/VISION/_data/train/67678/6...</td>\n",
       "    </tr>\n",
       "    <tr>\n",
       "      <th>17300</th>\n",
       "      <td>67678_flip0</td>\n",
       "      <td>5</td>\n",
       "      <td>3</td>\n",
       "      <td>b6</td>\n",
       "      <td>1</td>\n",
       "      <td>13</td>\n",
       "      <td>205</td>\n",
       "      <td>259</td>\n",
       "      <td>184</td>\n",
       "      <td>424</td>\n",
       "      <td>384</td>\n",
       "      <td>512</td>\n",
       "      <td>C:/git/jonie_github/VISION/_data/train/67678/6...</td>\n",
       "    </tr>\n",
       "    <tr>\n",
       "      <th>28834</th>\n",
       "      <td>67678_flip1</td>\n",
       "      <td>5</td>\n",
       "      <td>3</td>\n",
       "      <td>b6</td>\n",
       "      <td>1</td>\n",
       "      <td>13</td>\n",
       "      <td>179</td>\n",
       "      <td>253</td>\n",
       "      <td>184</td>\n",
       "      <td>424</td>\n",
       "      <td>384</td>\n",
       "      <td>512</td>\n",
       "      <td>C:/git/jonie_github/VISION/_data/train/67678/6...</td>\n",
       "    </tr>\n",
       "  </tbody>\n",
       "</table>\n",
       "<p>34602 rows × 13 columns</p>\n",
       "</div>"
      ],
      "text/plain": [
       "                  image  crops  areas diseases  risks  grows   xc   yc    w  \\\n",
       "0                 10027      3      3       b7      1     13  171  280  165   \n",
       "5767         10027_blur      3      3       b7      1     13  171  280  165   \n",
       "17301  10027_blur_flip0      3      3       b7      1     13  171  232  165   \n",
       "28835  10027_blur_flip1      3      3       b7      1     13  213  280  165   \n",
       "11534       10027_flip0      3      3       b7      1     13  171  232  165   \n",
       "...                 ...    ...    ...      ...    ...    ...  ...  ...  ...   \n",
       "11533        67678_blur      5      3       b6      1     13  205  253  184   \n",
       "23067  67678_blur_flip0      5      3       b6      1     13  205  259  184   \n",
       "34601  67678_blur_flip1      5      3       b6      1     13  179  253  184   \n",
       "17300       67678_flip0      5      3       b6      1     13  205  259  184   \n",
       "28834       67678_flip1      5      3       b6      1     13  179  253  184   \n",
       "\n",
       "         h  img_w  img_h                                                dir  \n",
       "0      237    384    512  C:/git/jonie_github/VISION/_data/train/10027/1...  \n",
       "5767   237    384    512  C:/git/jonie_github/VISION/_data/train/10027/1...  \n",
       "17301  237    384    512  C:/git/jonie_github/VISION/_data/train/10027/1...  \n",
       "28835  237    384    512  C:/git/jonie_github/VISION/_data/train/10027/1...  \n",
       "11534  237    384    512  C:/git/jonie_github/VISION/_data/train/10027/1...  \n",
       "...    ...    ...    ...                                                ...  \n",
       "11533  424    384    512  C:/git/jonie_github/VISION/_data/train/67678/6...  \n",
       "23067  424    384    512  C:/git/jonie_github/VISION/_data/train/67678/6...  \n",
       "34601  424    384    512  C:/git/jonie_github/VISION/_data/train/67678/6...  \n",
       "17300  424    384    512  C:/git/jonie_github/VISION/_data/train/67678/6...  \n",
       "28834  424    384    512  C:/git/jonie_github/VISION/_data/train/67678/6...  \n",
       "\n",
       "[34602 rows x 13 columns]"
      ]
     },
     "execution_count": 89,
     "metadata": {},
     "output_type": "execute_result"
    }
   ],
   "source": [
    "df = df.sort_values(by=['image'])\n",
    "df"
   ]
  },
  {
   "cell_type": "code",
   "execution_count": 57,
   "metadata": {},
   "outputs": [
    {
     "name": "stderr",
     "output_type": "stream",
     "text": [
      "100%|██████████████████████████████████████████████████████████████████████████████| 5767/5767 [01:32<00:00, 62.13it/s]\n"
     ]
    }
   ],
   "source": [
    "# 라벨 확인해 보려고 ..\n",
    "# for i, dir_ in enumerate(tqdm(df.dir)):\n",
    "#     temp = cv2.imread(dir_)\n",
    "#     label_df = df.diseases + '_' + df.risks.apply(lambda x: str(x))\n",
    "#     label = label_df[i]\n",
    "    \n",
    "#     cv2.putText(temp, label, (40,50), cv2.FONT_HERSHEY_SIMPLEX, 1.5,(255,255,0),3)\n",
    "#     temp_dir = f'./temp/{df.image[i]}.jpg'\n",
    "#     cv2.imwrite(temp_dir, temp)"
   ]
  },
  {
   "cell_type": "markdown",
   "metadata": {},
   "source": [
    " ## 5fold-split"
   ]
  },
  {
   "cell_type": "code",
   "execution_count": 91,
   "metadata": {
    "colab": {
     "base_uri": "https://localhost:8080/",
     "height": 424
    },
    "executionInfo": {
     "elapsed": 300,
     "status": "ok",
     "timestamp": 1643252701193,
     "user": {
      "displayName": "게임방송먀몸",
      "photoUrl": "https://lh3.googleusercontent.com/a/default-user=s64",
      "userId": "11393961306633484893"
     },
     "user_tz": -540
    },
    "id": "DtJo-s8qxAsg",
    "outputId": "a3ee7f4e-c91d-40aa-f654-e408a97e6aaf"
   },
   "outputs": [
    {
     "data": {
      "text/html": [
       "<div>\n",
       "<style scoped>\n",
       "    .dataframe tbody tr th:only-of-type {\n",
       "        vertical-align: middle;\n",
       "    }\n",
       "\n",
       "    .dataframe tbody tr th {\n",
       "        vertical-align: top;\n",
       "    }\n",
       "\n",
       "    .dataframe thead th {\n",
       "        text-align: right;\n",
       "    }\n",
       "</style>\n",
       "<table border=\"1\" class=\"dataframe\">\n",
       "  <thead>\n",
       "    <tr style=\"text-align: right;\">\n",
       "      <th></th>\n",
       "      <th>image</th>\n",
       "      <th>crops</th>\n",
       "      <th>areas</th>\n",
       "      <th>diseases</th>\n",
       "      <th>risks</th>\n",
       "      <th>grows</th>\n",
       "      <th>xc</th>\n",
       "      <th>yc</th>\n",
       "      <th>w</th>\n",
       "      <th>h</th>\n",
       "      <th>img_w</th>\n",
       "      <th>img_h</th>\n",
       "      <th>dir</th>\n",
       "      <th>fold</th>\n",
       "    </tr>\n",
       "  </thead>\n",
       "  <tbody>\n",
       "    <tr>\n",
       "      <th>0</th>\n",
       "      <td>10027</td>\n",
       "      <td>3</td>\n",
       "      <td>3</td>\n",
       "      <td>b7</td>\n",
       "      <td>1</td>\n",
       "      <td>13</td>\n",
       "      <td>171</td>\n",
       "      <td>280</td>\n",
       "      <td>165</td>\n",
       "      <td>237</td>\n",
       "      <td>384</td>\n",
       "      <td>512</td>\n",
       "      <td>C:/git/jonie_github/VISION/_data/train/10027/1...</td>\n",
       "      <td>3</td>\n",
       "    </tr>\n",
       "    <tr>\n",
       "      <th>5767</th>\n",
       "      <td>10027_blur</td>\n",
       "      <td>3</td>\n",
       "      <td>3</td>\n",
       "      <td>b7</td>\n",
       "      <td>1</td>\n",
       "      <td>13</td>\n",
       "      <td>171</td>\n",
       "      <td>280</td>\n",
       "      <td>165</td>\n",
       "      <td>237</td>\n",
       "      <td>384</td>\n",
       "      <td>512</td>\n",
       "      <td>C:/git/jonie_github/VISION/_data/train/10027/1...</td>\n",
       "      <td>3</td>\n",
       "    </tr>\n",
       "    <tr>\n",
       "      <th>17301</th>\n",
       "      <td>10027_blur_flip0</td>\n",
       "      <td>3</td>\n",
       "      <td>3</td>\n",
       "      <td>b7</td>\n",
       "      <td>1</td>\n",
       "      <td>13</td>\n",
       "      <td>171</td>\n",
       "      <td>232</td>\n",
       "      <td>165</td>\n",
       "      <td>237</td>\n",
       "      <td>384</td>\n",
       "      <td>512</td>\n",
       "      <td>C:/git/jonie_github/VISION/_data/train/10027/1...</td>\n",
       "      <td>4</td>\n",
       "    </tr>\n",
       "    <tr>\n",
       "      <th>28835</th>\n",
       "      <td>10027_blur_flip1</td>\n",
       "      <td>3</td>\n",
       "      <td>3</td>\n",
       "      <td>b7</td>\n",
       "      <td>1</td>\n",
       "      <td>13</td>\n",
       "      <td>213</td>\n",
       "      <td>280</td>\n",
       "      <td>165</td>\n",
       "      <td>237</td>\n",
       "      <td>384</td>\n",
       "      <td>512</td>\n",
       "      <td>C:/git/jonie_github/VISION/_data/train/10027/1...</td>\n",
       "      <td>1</td>\n",
       "    </tr>\n",
       "    <tr>\n",
       "      <th>11534</th>\n",
       "      <td>10027_flip0</td>\n",
       "      <td>3</td>\n",
       "      <td>3</td>\n",
       "      <td>b7</td>\n",
       "      <td>1</td>\n",
       "      <td>13</td>\n",
       "      <td>171</td>\n",
       "      <td>232</td>\n",
       "      <td>165</td>\n",
       "      <td>237</td>\n",
       "      <td>384</td>\n",
       "      <td>512</td>\n",
       "      <td>C:/git/jonie_github/VISION/_data/train/10027/1...</td>\n",
       "      <td>3</td>\n",
       "    </tr>\n",
       "    <tr>\n",
       "      <th>...</th>\n",
       "      <td>...</td>\n",
       "      <td>...</td>\n",
       "      <td>...</td>\n",
       "      <td>...</td>\n",
       "      <td>...</td>\n",
       "      <td>...</td>\n",
       "      <td>...</td>\n",
       "      <td>...</td>\n",
       "      <td>...</td>\n",
       "      <td>...</td>\n",
       "      <td>...</td>\n",
       "      <td>...</td>\n",
       "      <td>...</td>\n",
       "      <td>...</td>\n",
       "    </tr>\n",
       "    <tr>\n",
       "      <th>11533</th>\n",
       "      <td>67678_blur</td>\n",
       "      <td>5</td>\n",
       "      <td>3</td>\n",
       "      <td>b6</td>\n",
       "      <td>1</td>\n",
       "      <td>13</td>\n",
       "      <td>205</td>\n",
       "      <td>253</td>\n",
       "      <td>184</td>\n",
       "      <td>424</td>\n",
       "      <td>384</td>\n",
       "      <td>512</td>\n",
       "      <td>C:/git/jonie_github/VISION/_data/train/67678/6...</td>\n",
       "      <td>4</td>\n",
       "    </tr>\n",
       "    <tr>\n",
       "      <th>23067</th>\n",
       "      <td>67678_blur_flip0</td>\n",
       "      <td>5</td>\n",
       "      <td>3</td>\n",
       "      <td>b6</td>\n",
       "      <td>1</td>\n",
       "      <td>13</td>\n",
       "      <td>205</td>\n",
       "      <td>259</td>\n",
       "      <td>184</td>\n",
       "      <td>424</td>\n",
       "      <td>384</td>\n",
       "      <td>512</td>\n",
       "      <td>C:/git/jonie_github/VISION/_data/train/67678/6...</td>\n",
       "      <td>3</td>\n",
       "    </tr>\n",
       "    <tr>\n",
       "      <th>34601</th>\n",
       "      <td>67678_blur_flip1</td>\n",
       "      <td>5</td>\n",
       "      <td>3</td>\n",
       "      <td>b6</td>\n",
       "      <td>1</td>\n",
       "      <td>13</td>\n",
       "      <td>179</td>\n",
       "      <td>253</td>\n",
       "      <td>184</td>\n",
       "      <td>424</td>\n",
       "      <td>384</td>\n",
       "      <td>512</td>\n",
       "      <td>C:/git/jonie_github/VISION/_data/train/67678/6...</td>\n",
       "      <td>3</td>\n",
       "    </tr>\n",
       "    <tr>\n",
       "      <th>17300</th>\n",
       "      <td>67678_flip0</td>\n",
       "      <td>5</td>\n",
       "      <td>3</td>\n",
       "      <td>b6</td>\n",
       "      <td>1</td>\n",
       "      <td>13</td>\n",
       "      <td>205</td>\n",
       "      <td>259</td>\n",
       "      <td>184</td>\n",
       "      <td>424</td>\n",
       "      <td>384</td>\n",
       "      <td>512</td>\n",
       "      <td>C:/git/jonie_github/VISION/_data/train/67678/6...</td>\n",
       "      <td>0</td>\n",
       "    </tr>\n",
       "    <tr>\n",
       "      <th>28834</th>\n",
       "      <td>67678_flip1</td>\n",
       "      <td>5</td>\n",
       "      <td>3</td>\n",
       "      <td>b6</td>\n",
       "      <td>1</td>\n",
       "      <td>13</td>\n",
       "      <td>179</td>\n",
       "      <td>253</td>\n",
       "      <td>184</td>\n",
       "      <td>424</td>\n",
       "      <td>384</td>\n",
       "      <td>512</td>\n",
       "      <td>C:/git/jonie_github/VISION/_data/train/67678/6...</td>\n",
       "      <td>4</td>\n",
       "    </tr>\n",
       "  </tbody>\n",
       "</table>\n",
       "<p>34602 rows × 14 columns</p>\n",
       "</div>"
      ],
      "text/plain": [
       "                  image  crops  areas diseases  risks  grows   xc   yc    w  \\\n",
       "0                 10027      3      3       b7      1     13  171  280  165   \n",
       "5767         10027_blur      3      3       b7      1     13  171  280  165   \n",
       "17301  10027_blur_flip0      3      3       b7      1     13  171  232  165   \n",
       "28835  10027_blur_flip1      3      3       b7      1     13  213  280  165   \n",
       "11534       10027_flip0      3      3       b7      1     13  171  232  165   \n",
       "...                 ...    ...    ...      ...    ...    ...  ...  ...  ...   \n",
       "11533        67678_blur      5      3       b6      1     13  205  253  184   \n",
       "23067  67678_blur_flip0      5      3       b6      1     13  205  259  184   \n",
       "34601  67678_blur_flip1      5      3       b6      1     13  179  253  184   \n",
       "17300       67678_flip0      5      3       b6      1     13  205  259  184   \n",
       "28834       67678_flip1      5      3       b6      1     13  179  253  184   \n",
       "\n",
       "         h  img_w  img_h                                                dir  \\\n",
       "0      237    384    512  C:/git/jonie_github/VISION/_data/train/10027/1...   \n",
       "5767   237    384    512  C:/git/jonie_github/VISION/_data/train/10027/1...   \n",
       "17301  237    384    512  C:/git/jonie_github/VISION/_data/train/10027/1...   \n",
       "28835  237    384    512  C:/git/jonie_github/VISION/_data/train/10027/1...   \n",
       "11534  237    384    512  C:/git/jonie_github/VISION/_data/train/10027/1...   \n",
       "...    ...    ...    ...                                                ...   \n",
       "11533  424    384    512  C:/git/jonie_github/VISION/_data/train/67678/6...   \n",
       "23067  424    384    512  C:/git/jonie_github/VISION/_data/train/67678/6...   \n",
       "34601  424    384    512  C:/git/jonie_github/VISION/_data/train/67678/6...   \n",
       "17300  424    384    512  C:/git/jonie_github/VISION/_data/train/67678/6...   \n",
       "28834  424    384    512  C:/git/jonie_github/VISION/_data/train/67678/6...   \n",
       "\n",
       "       fold  \n",
       "0         3  \n",
       "5767      3  \n",
       "17301     4  \n",
       "28835     1  \n",
       "11534     3  \n",
       "...     ...  \n",
       "11533     4  \n",
       "23067     3  \n",
       "34601     3  \n",
       "17300     0  \n",
       "28834     4  \n",
       "\n",
       "[34602 rows x 14 columns]"
      ]
     },
     "execution_count": 91,
     "metadata": {},
     "output_type": "execute_result"
    }
   ],
   "source": [
    "# Create train and validation split.\n",
    "# 병해 비율 유지하여 나눔\n",
    "Fold = StratifiedKFold(n_splits=NUM_FOLD, shuffle=True, random_state=SEED)\n",
    "ratio = df.diseases.apply(lambda x: str(x)) + '_' + df.risks.apply(lambda x: str(x))\n",
    "\n",
    "for n, (train_index, val_index) in enumerate(Fold.split(df, ratio)):\n",
    "    df.loc[val_index, 'fold'] = int(n)\n",
    "df['fold'] = df['fold'].astype(int)\n",
    "df.to_csv('train_fold.csv', index=False)\n",
    "df"
   ]
  },
  {
   "cell_type": "code",
   "execution_count": 98,
   "metadata": {},
   "outputs": [
    {
     "data": {
      "text/plain": [
       "diseases  risks  crops\n",
       "00        0      3        1442\n",
       "                 4        1095\n",
       "                 6         998\n",
       "                 1         929\n",
       "a5        2      2         224\n",
       "b6        1      5         198\n",
       "b7        1      5         197\n",
       "b3        1      3         197\n",
       "b8        1      3         189\n",
       "                 5         188\n",
       "a9        1      3         186\n",
       "b6        1      3         181\n",
       "00        0      2         164\n",
       "b7        1      3         161\n",
       "a9        2      3         144\n",
       "a7        2      5         125\n",
       "00        0      5          81\n",
       "a11       1      6          51\n",
       "a9        3      3          45\n",
       "a12       2      6          32\n",
       "b5        1      6          28\n",
       "b4        1      6          26\n",
       "a11       2      6          17\n",
       "b4        3      6          13\n",
       "a12       1      6          10\n",
       "dtype: int64"
      ]
     },
     "execution_count": 98,
     "metadata": {},
     "output_type": "execute_result"
    }
   ],
   "source": [
    "df.loc[df.fold==0, ['diseases', 'risks','crops']].value_counts()"
   ]
  },
  {
   "cell_type": "code",
   "execution_count": 97,
   "metadata": {},
   "outputs": [
    {
     "data": {
      "text/plain": [
       "diseases  risks  crops\n",
       "00        0      3        1415\n",
       "                 4        1129\n",
       "                 6         990\n",
       "                 1         986\n",
       "a5        2      2         229\n",
       "b7        1      5         205\n",
       "b8        1      5         202\n",
       "b7        1      3         197\n",
       "00        0      2         188\n",
       "b3        1      3         188\n",
       "b6        1      5         183\n",
       "a9        1      3         178\n",
       "b8        1      3         158\n",
       "b6        1      3         153\n",
       "a9        2      3         122\n",
       "a7        2      5         111\n",
       "00        0      5          84\n",
       "a9        3      3          52\n",
       "a11       1      6          43\n",
       "a12       2      6          33\n",
       "b4        1      6          22\n",
       "b5        1      6          16\n",
       "b4        3      6          15\n",
       "a12       1      6          13\n",
       "a11       2      6           9\n",
       "dtype: int64"
      ]
     },
     "execution_count": 97,
     "metadata": {},
     "output_type": "execute_result"
    }
   ],
   "source": [
    "df.loc[df.fold==1, ['diseases', 'risks','crops']].value_counts()"
   ]
  },
  {
   "cell_type": "markdown",
   "metadata": {},
   "source": [
    "## 라벨 생성"
   ]
  },
  {
   "cell_type": "code",
   "execution_count": 99,
   "metadata": {
    "executionInfo": {
     "elapsed": 330,
     "status": "ok",
     "timestamp": 1643252730032,
     "user": {
      "displayName": "게임방송먀몸",
      "photoUrl": "https://lh3.googleusercontent.com/a/default-user=s64",
      "userId": "11393961306633484893"
     },
     "user_tz": -540
    },
    "id": "JeEznRGfxGg6"
   },
   "outputs": [],
   "source": [
    "# 병해가 있으면 병해+피해정도+촬영위치+생육단계로 라벨링\n",
    "disease_area = df.diseases.apply(lambda x: str(x)) + '_' + df.risks.apply(lambda x: str(x)) + '_'+ df.areas.apply(lambda x: str(x)) + '_' + df.grows.apply(lambda x: str(x))\n",
    "disease_area_df = pd.DataFrame({'image': df.image, 'xc':df.xc, 'yc': df.yc, 'w':df.w, 'h':df.h, 'label':disease_area,'fold':df.fold,'path':df.dir,'img_w':df.img_w, 'img_h':df.img_h})"
   ]
  },
  {
   "cell_type": "code",
   "execution_count": 101,
   "metadata": {},
   "outputs": [
    {
     "data": {
      "text/html": [
       "<div>\n",
       "<style scoped>\n",
       "    .dataframe tbody tr th:only-of-type {\n",
       "        vertical-align: middle;\n",
       "    }\n",
       "\n",
       "    .dataframe tbody tr th {\n",
       "        vertical-align: top;\n",
       "    }\n",
       "\n",
       "    .dataframe thead th {\n",
       "        text-align: right;\n",
       "    }\n",
       "</style>\n",
       "<table border=\"1\" class=\"dataframe\">\n",
       "  <thead>\n",
       "    <tr style=\"text-align: right;\">\n",
       "      <th></th>\n",
       "      <th>image</th>\n",
       "      <th>xc</th>\n",
       "      <th>yc</th>\n",
       "      <th>w</th>\n",
       "      <th>h</th>\n",
       "      <th>label</th>\n",
       "      <th>fold</th>\n",
       "      <th>path</th>\n",
       "      <th>img_w</th>\n",
       "      <th>img_h</th>\n",
       "    </tr>\n",
       "  </thead>\n",
       "  <tbody>\n",
       "    <tr>\n",
       "      <th>0</th>\n",
       "      <td>10027</td>\n",
       "      <td>171</td>\n",
       "      <td>280</td>\n",
       "      <td>165</td>\n",
       "      <td>237</td>\n",
       "      <td>b7_1_3_13</td>\n",
       "      <td>3</td>\n",
       "      <td>C:/git/jonie_github/VISION/_data/train/10027/1...</td>\n",
       "      <td>384</td>\n",
       "      <td>512</td>\n",
       "    </tr>\n",
       "    <tr>\n",
       "      <th>5767</th>\n",
       "      <td>10027_blur</td>\n",
       "      <td>171</td>\n",
       "      <td>280</td>\n",
       "      <td>165</td>\n",
       "      <td>237</td>\n",
       "      <td>b7_1_3_13</td>\n",
       "      <td>3</td>\n",
       "      <td>C:/git/jonie_github/VISION/_data/train/10027/1...</td>\n",
       "      <td>384</td>\n",
       "      <td>512</td>\n",
       "    </tr>\n",
       "    <tr>\n",
       "      <th>17301</th>\n",
       "      <td>10027_blur_flip0</td>\n",
       "      <td>171</td>\n",
       "      <td>232</td>\n",
       "      <td>165</td>\n",
       "      <td>237</td>\n",
       "      <td>b7_1_3_13</td>\n",
       "      <td>4</td>\n",
       "      <td>C:/git/jonie_github/VISION/_data/train/10027/1...</td>\n",
       "      <td>384</td>\n",
       "      <td>512</td>\n",
       "    </tr>\n",
       "    <tr>\n",
       "      <th>28835</th>\n",
       "      <td>10027_blur_flip1</td>\n",
       "      <td>213</td>\n",
       "      <td>280</td>\n",
       "      <td>165</td>\n",
       "      <td>237</td>\n",
       "      <td>b7_1_3_13</td>\n",
       "      <td>1</td>\n",
       "      <td>C:/git/jonie_github/VISION/_data/train/10027/1...</td>\n",
       "      <td>384</td>\n",
       "      <td>512</td>\n",
       "    </tr>\n",
       "    <tr>\n",
       "      <th>11534</th>\n",
       "      <td>10027_flip0</td>\n",
       "      <td>171</td>\n",
       "      <td>232</td>\n",
       "      <td>165</td>\n",
       "      <td>237</td>\n",
       "      <td>b7_1_3_13</td>\n",
       "      <td>3</td>\n",
       "      <td>C:/git/jonie_github/VISION/_data/train/10027/1...</td>\n",
       "      <td>384</td>\n",
       "      <td>512</td>\n",
       "    </tr>\n",
       "    <tr>\n",
       "      <th>...</th>\n",
       "      <td>...</td>\n",
       "      <td>...</td>\n",
       "      <td>...</td>\n",
       "      <td>...</td>\n",
       "      <td>...</td>\n",
       "      <td>...</td>\n",
       "      <td>...</td>\n",
       "      <td>...</td>\n",
       "      <td>...</td>\n",
       "      <td>...</td>\n",
       "    </tr>\n",
       "    <tr>\n",
       "      <th>11533</th>\n",
       "      <td>67678_blur</td>\n",
       "      <td>205</td>\n",
       "      <td>253</td>\n",
       "      <td>184</td>\n",
       "      <td>424</td>\n",
       "      <td>b6_1_3_13</td>\n",
       "      <td>4</td>\n",
       "      <td>C:/git/jonie_github/VISION/_data/train/67678/6...</td>\n",
       "      <td>384</td>\n",
       "      <td>512</td>\n",
       "    </tr>\n",
       "    <tr>\n",
       "      <th>23067</th>\n",
       "      <td>67678_blur_flip0</td>\n",
       "      <td>205</td>\n",
       "      <td>259</td>\n",
       "      <td>184</td>\n",
       "      <td>424</td>\n",
       "      <td>b6_1_3_13</td>\n",
       "      <td>3</td>\n",
       "      <td>C:/git/jonie_github/VISION/_data/train/67678/6...</td>\n",
       "      <td>384</td>\n",
       "      <td>512</td>\n",
       "    </tr>\n",
       "    <tr>\n",
       "      <th>34601</th>\n",
       "      <td>67678_blur_flip1</td>\n",
       "      <td>179</td>\n",
       "      <td>253</td>\n",
       "      <td>184</td>\n",
       "      <td>424</td>\n",
       "      <td>b6_1_3_13</td>\n",
       "      <td>3</td>\n",
       "      <td>C:/git/jonie_github/VISION/_data/train/67678/6...</td>\n",
       "      <td>384</td>\n",
       "      <td>512</td>\n",
       "    </tr>\n",
       "    <tr>\n",
       "      <th>17300</th>\n",
       "      <td>67678_flip0</td>\n",
       "      <td>205</td>\n",
       "      <td>259</td>\n",
       "      <td>184</td>\n",
       "      <td>424</td>\n",
       "      <td>b6_1_3_13</td>\n",
       "      <td>0</td>\n",
       "      <td>C:/git/jonie_github/VISION/_data/train/67678/6...</td>\n",
       "      <td>384</td>\n",
       "      <td>512</td>\n",
       "    </tr>\n",
       "    <tr>\n",
       "      <th>28834</th>\n",
       "      <td>67678_flip1</td>\n",
       "      <td>179</td>\n",
       "      <td>253</td>\n",
       "      <td>184</td>\n",
       "      <td>424</td>\n",
       "      <td>b6_1_3_13</td>\n",
       "      <td>4</td>\n",
       "      <td>C:/git/jonie_github/VISION/_data/train/67678/6...</td>\n",
       "      <td>384</td>\n",
       "      <td>512</td>\n",
       "    </tr>\n",
       "  </tbody>\n",
       "</table>\n",
       "<p>34602 rows × 10 columns</p>\n",
       "</div>"
      ],
      "text/plain": [
       "                  image   xc   yc    w    h      label  fold  \\\n",
       "0                 10027  171  280  165  237  b7_1_3_13     3   \n",
       "5767         10027_blur  171  280  165  237  b7_1_3_13     3   \n",
       "17301  10027_blur_flip0  171  232  165  237  b7_1_3_13     4   \n",
       "28835  10027_blur_flip1  213  280  165  237  b7_1_3_13     1   \n",
       "11534       10027_flip0  171  232  165  237  b7_1_3_13     3   \n",
       "...                 ...  ...  ...  ...  ...        ...   ...   \n",
       "11533        67678_blur  205  253  184  424  b6_1_3_13     4   \n",
       "23067  67678_blur_flip0  205  259  184  424  b6_1_3_13     3   \n",
       "34601  67678_blur_flip1  179  253  184  424  b6_1_3_13     3   \n",
       "17300       67678_flip0  205  259  184  424  b6_1_3_13     0   \n",
       "28834       67678_flip1  179  253  184  424  b6_1_3_13     4   \n",
       "\n",
       "                                                    path  img_w  img_h  \n",
       "0      C:/git/jonie_github/VISION/_data/train/10027/1...    384    512  \n",
       "5767   C:/git/jonie_github/VISION/_data/train/10027/1...    384    512  \n",
       "17301  C:/git/jonie_github/VISION/_data/train/10027/1...    384    512  \n",
       "28835  C:/git/jonie_github/VISION/_data/train/10027/1...    384    512  \n",
       "11534  C:/git/jonie_github/VISION/_data/train/10027/1...    384    512  \n",
       "...                                                  ...    ...    ...  \n",
       "11533  C:/git/jonie_github/VISION/_data/train/67678/6...    384    512  \n",
       "23067  C:/git/jonie_github/VISION/_data/train/67678/6...    384    512  \n",
       "34601  C:/git/jonie_github/VISION/_data/train/67678/6...    384    512  \n",
       "17300  C:/git/jonie_github/VISION/_data/train/67678/6...    384    512  \n",
       "28834  C:/git/jonie_github/VISION/_data/train/67678/6...    384    512  \n",
       "\n",
       "[34602 rows x 10 columns]"
      ]
     },
     "execution_count": 101,
     "metadata": {},
     "output_type": "execute_result"
    }
   ],
   "source": [
    "# disease =00 일때는 작물+촬영위치+생육단계로 라벨링\n",
    "disease_area_df.loc[df.diseases=='00','label'] = df[df.diseases=='00'].crops.apply(lambda x: str(x)) + '_'+ df[df.diseases=='00'].areas.apply(lambda x: str(x)) + '_'+ df[df.diseases=='00'].grows.apply(lambda x: str(x))\n",
    "disease_area_df"
   ]
  },
  {
   "cell_type": "code",
   "execution_count": null,
   "metadata": {},
   "outputs": [],
   "source": []
  },
  {
   "cell_type": "code",
   "execution_count": 103,
   "metadata": {},
   "outputs": [
    {
     "name": "stdout",
     "output_type": "stream",
     "text": [
      "['다량원소결핍(P)_초기_잎_착화/과실기' '파프리카_줄기_유묘기' '파프리카_열매_착화/과실기' '파프리카_잎_유묘기'\n",
      " '오이_잎_착화/과실기' '파프리카흰가루병_초기_잎_착화/과실기' '딸기_잎_생장기' '오이_꽃_착화/과실기'\n",
      " '칼슘결핍_초기_잎_착화/과실기' '다량원소결핍(K)_초기_잎_착화/과실기' '파프리카_잎_생장기'\n",
      " '다량원소결핍(N)_초기_잎_착화/과실기' '딸기_잎_유묘기' '시설포도_열매_과실성숙기' '시설포도_잎_과실성숙기'\n",
      " '토마토흰가루병_중기_잎_생장기' '파프리카흰가루병_중기_잎_착화/과실기' '토마토_잎_착화/과실기'\n",
      " '고추탄저병_중기_열매_착화/과실기' '오이_잎_생장기' '다량원소결핍(P)_초기_잎_유묘기' '오이_줄기_생장기'\n",
      " '오이_꽃_생장기' '파프리카흰가루병_말기_잎_착화/과실기' '일소피해_초기_잎_과실성숙기' '고추_잎_생장기'\n",
      " '일소피해_말기_잎_과실성숙기' '토마토_열매_착화/과실기' '시설포도탄저병_초기_열매_과실성숙기' '시설포도_줄기_과실성숙기'\n",
      " '시설포도노균병_초기_잎_과실성숙기' '시설포도노균병_중기_잎_과실성숙기' '파프리카_꽃_생장기' '축과병_초기_열매_과실성숙기'\n",
      " '시설포도탄저병_중기_열매_과실성숙기' '고추_열매_생장기' '시설포도_가지_과실성숙기']\n",
      "['b7_1_3_13' '3_5_11' '3_1_13' '3_3_11' '4_3_13' 'a9_1_3_13' '1_3_12'\n",
      " '4_2_13' 'b3_1_3_13' 'b8_1_3_13' '3_3_12' 'b6_1_3_13' '1_3_11' '6_1_24'\n",
      " '6_3_24' 'a5_2_3_12' 'a9_2_3_13' '2_3_13' 'a7_2_1_13' '4_3_12'\n",
      " 'b7_1_3_11' '4_5_12' '4_2_12' 'a9_3_3_13' 'b4_1_3_24' '5_3_12'\n",
      " 'b4_3_3_24' '2_1_13' 'a11_1_1_24' '6_5_24' 'a12_1_3_24' 'a12_2_3_24'\n",
      " '3_2_12' 'b5_1_1_24' 'a11_2_1_24' '5_1_12' '6_4_24']\n",
      "37\n"
     ]
    }
   ],
   "source": [
    "#라벨이 궁금해서..\n",
    "disease_area_df['kor_label'] = df.diseases.apply(lambda x: disease_dict[x]) + '_' + df.risks.apply(lambda x: risk_dict[x]) + '_'+ df.areas.apply(lambda x: area_dict[x]) + '_' + df.grows.apply(lambda x: grow_dict[x])\n",
    "disease_area_df.loc[df.diseases=='00','kor_label'] = df[df.diseases=='00'].crops.apply(lambda x: crop_dict[x]) + '_'+ df[df.diseases=='00'].areas.apply(lambda x: area_dict[x]) + '_'+ df[df.diseases=='00'].grows.apply(lambda x: grow_dict[x])\n",
    "print(disease_area_df.kor_label.unique())\n",
    "print(disease_area_df.label.unique())\n",
    "print(len(disease_area_df.kor_label.unique()))"
   ]
  },
  {
   "cell_type": "code",
   "execution_count": 119,
   "metadata": {},
   "outputs": [
    {
     "data": {
      "text/plain": [
       "'C:/git/jonie_github/VISION/_data/train/10027/10027_blur.jpg'"
      ]
     },
     "execution_count": 119,
     "metadata": {},
     "output_type": "execute_result"
    }
   ],
   "source": [
    "disease_area_df.path[5767]"
   ]
  },
  {
   "cell_type": "markdown",
   "metadata": {},
   "source": [
    "## 5 fold images copy"
   ]
  },
  {
   "cell_type": "code",
   "execution_count": 112,
   "metadata": {
    "colab": {
     "base_uri": "https://localhost:8080/"
    },
    "executionInfo": {
     "elapsed": 471471,
     "status": "ok",
     "timestamp": 1643253205767,
     "user": {
      "displayName": "게임방송먀몸",
      "photoUrl": "https://lh3.googleusercontent.com/a/default-user=s64",
      "userId": "11393961306633484893"
     },
     "user_tz": -540
    },
    "id": "1WDECexSxIAy",
    "outputId": "62418c9a-cecd-4955-9fa3-395e28001577"
   },
   "outputs": [],
   "source": [
    "# 디렉터리에 fold로 지정된 이미지 복사\n",
    "def nfold_img_copy(df):\n",
    "    # Remove existing dirs\n",
    "    for fold in range(NUM_FOLD):\n",
    "        print(f'{\"=\"*30} CREATE {NUM_FOLD}-FOLD DATASETS (IMAGE) FOLD_{fold} {\"=\"*30}')\n",
    "        \n",
    "        # Prepare train and valid df\n",
    "        train_df = df.loc[df.fold != fold].reset_index(drop=True)\n",
    "        valid_df = df.loc[df.fold == fold].reset_index(drop=True)\n",
    "\n",
    "        try:\n",
    "            shutil.rmtree(f'{DATASET_NAME}/dataset_folds_{fold}/images')\n",
    "            shutil.rmtree(f'{DATASET_NAME}/dataset_folds_{fold}/labels')\n",
    "        except:\n",
    "            print('No dirs')\n",
    "\n",
    "            # Make new dirs\n",
    "        os.makedirs(f'{DATASET_NAME}/dataset_folds_{fold}/images/train', exist_ok=True)\n",
    "        os.makedirs(f'{DATASET_NAME}/dataset_folds_{fold}/images/valid', exist_ok=True)\n",
    "        os.makedirs(f'{DATASET_NAME}/dataset_folds_{fold}/labels/train', exist_ok=True)\n",
    "        os.makedirs(f'{DATASET_NAME}/dataset_folds_{fold}/labels/valid', exist_ok=True)\n",
    "\n",
    "        # Move the images to relevant split folder.\n",
    "        for i in tqdm(range(len(train_df))):\n",
    "            row = train_df.loc[i]\n",
    "            copyfile(row.path, f'{DATASET_NAME}/dataset_folds_{fold}/images/train/{row.image}.jpg')\n",
    "        for i in tqdm(range(len(valid_df))):\n",
    "            row = valid_df.loc[i]\n",
    "            copyfile(row.path, f'{DATASET_NAME}/dataset_folds_{fold}/images/valid/{row.image}.jpg')"
   ]
  },
  {
   "cell_type": "code",
   "execution_count": 125,
   "metadata": {
    "executionInfo": {
     "elapsed": 3,
     "status": "ok",
     "timestamp": 1643253351182,
     "user": {
      "displayName": "게임방송먀몸",
      "photoUrl": "https://lh3.googleusercontent.com/a/default-user=s64",
      "userId": "11393961306633484893"
     },
     "user_tz": -540
    },
    "id": "Fp2mrQRVxKKP"
   },
   "outputs": [],
   "source": [
    "def get_yolo_format_bbox(row):\n",
    "    # yolo format bbox\n",
    "    xc = row.xc/row.img_w\n",
    "    yc = row.yc/row.img_h\n",
    "    w = row.w/row.img_w\n",
    "    h = row.h/row.img_h\n",
    "    if (xc*yc*w*h<0) | ((xc>1) | (yc>1) | (w>1) | (h>1)) :\n",
    "        raise Exception('Please check the bbox coordinates.')\n",
    "    \n",
    "    return [str(xc), str(yc), str(w), str(h)]"
   ]
  },
  {
   "cell_type": "code",
   "execution_count": 126,
   "metadata": {
    "executionInfo": {
     "elapsed": 3,
     "status": "ok",
     "timestamp": 1643253352644,
     "user": {
      "displayName": "게임방송먀몸",
      "photoUrl": "https://lh3.googleusercontent.com/a/default-user=s64",
      "userId": "11393961306633484893"
     },
     "user_tz": -540
    },
    "id": "06X5A-oFxLoN"
   },
   "outputs": [],
   "source": [
    "def write_bbox_files(tmp_df, fold_num, split):\n",
    "    path = f'{DATASET_NAME}/dataset_folds_{fold}/labels/{split}'\n",
    "    \n",
    "    for i in tqdm(range(len(tmp_df))):\n",
    "        row = tmp_df.loc[i]\n",
    "\n",
    "        # Get image name\n",
    "        img_name = row.image\n",
    "        \n",
    "        # Get label\n",
    "        label = le.transform([row.label])[0]\n",
    "        \n",
    "        bbox_str = ' '.join(get_yolo_format_bbox(row))\n",
    "        \n",
    "        file_name = f'{path}/{img_name}.txt'\n",
    "\n",
    "        with open(file_name, 'w') as f:\n",
    "            f.write(str(label) + ' ' + bbox_str + '\\n')       "
   ]
  },
  {
   "cell_type": "code",
   "execution_count": 127,
   "metadata": {
    "colab": {
     "base_uri": "https://localhost:8080/"
    },
    "executionInfo": {
     "elapsed": 79872,
     "status": "ok",
     "timestamp": 1643253433398,
     "user": {
      "displayName": "게임방송먀몸",
      "photoUrl": "https://lh3.googleusercontent.com/a/default-user=s64",
      "userId": "11393961306633484893"
     },
     "user_tz": -540
    },
    "id": "Apr46skFxM6g",
    "outputId": "21de0771-06cf-4810-bc02-151e1d2a17fa"
   },
   "outputs": [],
   "source": [
    "def generate_nfold_annotation(df):\n",
    "    # Prepare the txt files for bounding box\n",
    "    for fold in range(NUM_FOLD):\n",
    "        print(f'{\"=\"*30} CREATE {NUM_FOLD}-FOLD DATASETS (ANNOTATION) FOLD_{fold} {\"=\"*30}')\n",
    "\n",
    "        # Prepare train and valid df\n",
    "        train_df = df.loc[df.fold != fold].reset_index(drop=True)\n",
    "        valid_df = df.loc[df.fold == fold].reset_index(drop=True)\n",
    "\n",
    "        # prepare label for train\n",
    "        write_bbox_files(train_df, fold, 'train')\n",
    "        # prepare label for valid\n",
    "        write_bbox_files(valid_df, fold, 'valid')"
   ]
  },
  {
   "cell_type": "code",
   "execution_count": 128,
   "metadata": {},
   "outputs": [
    {
     "name": "stdout",
     "output_type": "stream",
     "text": [
      "============================== CREATE 5-FOLD DATASETS (ANNOTATION) FOLD_0 ==============================\n"
     ]
    },
    {
     "name": "stderr",
     "output_type": "stream",
     "text": [
      "100%|██████████████████████████████████████████████████████████████████████████| 27681/27681 [00:25<00:00, 1096.50it/s]\n",
      "100%|████████████████████████████████████████████████████████████████████████████| 6921/6921 [00:06<00:00, 1153.13it/s]\n"
     ]
    },
    {
     "name": "stdout",
     "output_type": "stream",
     "text": [
      "============================== CREATE 5-FOLD DATASETS (ANNOTATION) FOLD_1 ==============================\n"
     ]
    },
    {
     "name": "stderr",
     "output_type": "stream",
     "text": [
      "100%|██████████████████████████████████████████████████████████████████████████| 27681/27681 [00:22<00:00, 1239.37it/s]\n",
      "100%|████████████████████████████████████████████████████████████████████████████| 6921/6921 [00:06<00:00, 1096.72it/s]\n"
     ]
    },
    {
     "name": "stdout",
     "output_type": "stream",
     "text": [
      "============================== CREATE 5-FOLD DATASETS (ANNOTATION) FOLD_2 ==============================\n"
     ]
    },
    {
     "name": "stderr",
     "output_type": "stream",
     "text": [
      "100%|██████████████████████████████████████████████████████████████████████████| 27682/27682 [00:21<00:00, 1262.50it/s]\n",
      "100%|█████████████████████████████████████████████████████████████████████████████| 6920/6920 [00:06<00:00, 996.73it/s]\n"
     ]
    },
    {
     "name": "stdout",
     "output_type": "stream",
     "text": [
      "============================== CREATE 5-FOLD DATASETS (ANNOTATION) FOLD_3 ==============================\n"
     ]
    },
    {
     "name": "stderr",
     "output_type": "stream",
     "text": [
      "100%|██████████████████████████████████████████████████████████████████████████| 27682/27682 [00:20<00:00, 1374.63it/s]\n",
      "100%|████████████████████████████████████████████████████████████████████████████| 6920/6920 [00:06<00:00, 1149.36it/s]\n"
     ]
    },
    {
     "name": "stdout",
     "output_type": "stream",
     "text": [
      "============================== CREATE 5-FOLD DATASETS (ANNOTATION) FOLD_4 ==============================\n"
     ]
    },
    {
     "name": "stderr",
     "output_type": "stream",
     "text": [
      "100%|██████████████████████████████████████████████████████████████████████████| 27682/27682 [00:20<00:00, 1331.38it/s]\n",
      "100%|████████████████████████████████████████████████████████████████████████████| 6920/6920 [00:06<00:00, 1119.14it/s]\n"
     ]
    }
   ],
   "source": [
    "if not USE_FOLD:\n",
    "    pass\n",
    "else:\n",
    "    DATASET_NAME = 'DISEASE_AREA'\n",
    "    le = LabelEncoder()\n",
    "    le.fit(disease_area_df.label)\n",
    "    nfold_img_copy(disease_area_df)\n",
    "    generate_nfold_annotation(disease_area_df)"
   ]
  },
  {
   "cell_type": "code",
   "execution_count": 129,
   "metadata": {
    "executionInfo": {
     "elapsed": 301,
     "status": "ok",
     "timestamp": 1643253433695,
     "user": {
      "displayName": "게임방송먀몸",
      "photoUrl": "https://lh3.googleusercontent.com/a/default-user=s64",
      "userId": "11393961306633484893"
     },
     "user_tz": -540
    },
    "id": "kTDB3K8jxRJ5"
   },
   "outputs": [],
   "source": [
    "# Create .yaml file \n",
    "import yaml\n",
    "label_unique = le.classes_\n",
    "\n",
    "for fold in range(NUM_FOLD):\n",
    "    data_yaml = dict(\n",
    "            path = f'../DISEASE_AREA/dataset_folds_{fold}/images',\n",
    "            train = 'train',\n",
    "            val = 'valid',\n",
    "            nc = len(label_unique),\n",
    "            names = [str(x) for x in label_unique]\n",
    "        )\n",
    "\n",
    "    with open(f'yolov5/data/DISEASE_AREA_data_fold_{fold}.yaml', 'w') as outfile:\n",
    "        yaml.dump(data_yaml, outfile, default_flow_style=True)"
   ]
  },
  {
   "cell_type": "markdown",
   "metadata": {},
   "source": [
    "# 🚄🚄🚄"
   ]
  },
  {
   "cell_type": "code",
   "execution_count": 130,
   "metadata": {
    "colab": {
     "base_uri": "https://localhost:8080/"
    },
    "executionInfo": {
     "elapsed": 4,
     "status": "ok",
     "timestamp": 1643253433696,
     "user": {
      "displayName": "게임방송먀몸",
      "photoUrl": "https://lh3.googleusercontent.com/a/default-user=s64",
      "userId": "11393961306633484893"
     },
     "user_tz": -540
    },
    "id": "QN6ETE-pxXUA",
    "outputId": "2aca443e-abd2-46ea-c6ce-33c92502b9d9"
   },
   "outputs": [
    {
     "name": "stdout",
     "output_type": "stream",
     "text": [
      "C:\\git\\jonie_github\\VISION\\yolov5\n"
     ]
    }
   ],
   "source": [
    "%cd  yolov5"
   ]
  },
  {
   "cell_type": "code",
   "execution_count": 133,
   "metadata": {},
   "outputs": [
    {
     "name": "stdout",
     "output_type": "stream",
     "text": [
      "BATCH_SIZE: 128\n",
      "EPOCHS: 150\n",
      "SEED: 42\n",
      "NUM_FOLD: 5\n",
      "DATASET_NAME: DISEASE_AREA\n",
      "IMG_SIZE: 128\n",
      "FLIP_IMG: True\n",
      "BLUR_IMG: True\n",
      "USE_AIHUB_DATA: False\n"
     ]
    }
   ],
   "source": [
    "print_prams()"
   ]
  },
  {
   "cell_type": "code",
   "execution_count": null,
   "metadata": {
    "colab": {
     "base_uri": "https://localhost:8080/"
    },
    "id": "XVi_sSnkMFaQ",
    "outputId": "23443868-2404-4572-c3f3-675f683105a0"
   },
   "outputs": [
    {
     "name": "stdout",
     "output_type": "stream",
     "text": [
      "FOLD NUMBER:  0\n"
     ]
    }
   ],
   "source": [
    "yolo_weight = 'yolov5l'\n",
    "for fold in range(NUM_FOLD):    \n",
    "    print('FOLD NUMBER: ', fold)\n",
    "    !python train.py --img {IMG_SIZE} \\\n",
    "                      --batch {BATCH_SIZE} \\\n",
    "                      --epochs {EPOCHS} \\\n",
    "                      --data {DATASET_NAME}_data_fold_{fold}.yaml \\\n",
    "                      --weights {yolo_weight}.pt \\\n",
    "                      --project {DATASET_NAME}-GROW \\\n",
    "                      --name {yolo_weight}-b-{BATCH_SIZE}-e-{EPOCHS}-img-{IMG_SIZE}-fold-{fold}                 \n",
    "    print('###########################################################################################\\n')"
   ]
  },
  {
   "cell_type": "code",
   "execution_count": null,
   "metadata": {
    "id": "OrR8DfF0loyd"
   },
   "outputs": [],
   "source": []
  },
  {
   "cell_type": "code",
   "execution_count": null,
   "metadata": {
    "colab": {
     "base_uri": "https://localhost:8080/"
    },
    "executionInfo": {
     "elapsed": 281,
     "status": "ok",
     "timestamp": 1643226705839,
     "user": {
      "displayName": "binogi ma",
      "photoUrl": "https://lh3.googleusercontent.com/a/default-user=s64",
      "userId": "04394130245789193670"
     },
     "user_tz": -540
    },
    "id": "zBtxGWkrxhqy",
    "outputId": "af7245fd-273a-4f41-fe5e-758f125cd47c"
   },
   "outputs": [
    {
     "name": "stdout",
     "output_type": "stream",
     "text": [
      "['1_3' '2_1' '2_3' '3_1' '3_2' '3_3' '3_5' '4_2' '4_3' '4_5' '5_1' '5_3'\n",
      " '6_1' '6_3' '6_4' '6_5']\n",
      "['00_0' 'a11_1' 'a11_2' 'a12_1' 'a12_2' 'a5_2' 'a7_2' 'a9_1' 'a9_2' 'a9_3'\n",
      " 'b3_1' 'b4_1' 'b4_3' 'b5_1' 'b6_1' 'b7_1' 'b8_1']\n",
      "16\n",
      "17\n"
     ]
    }
   ],
   "source": [
    "print(crop_le.classes_)\n",
    "print(disease_le.classes_)\n",
    "print(len(crop_le.classes_))\n",
    "print(len(disease_le.classes_))"
   ]
  },
  {
   "cell_type": "markdown",
   "metadata": {
    "id": "TbnHUSraq_uT"
   },
   "source": [
    "## 환경정보 [LINK](https://www.nongsaro.go.kr/portal/ps/pss/pssa/photoSearchLst.ps?menuId=PS00202&sKidofcomdtyTabCode=VC&sKidofcomdtyCode=&hlsctCode=&sicknsCode=&nnmyInsectCode=)\n",
    "1. 노균병\n",
    "  - 노균병은 20∼25℃의 다습한 상태나 밀식으로 통풍과 채광이 불량 할 때 많이 발생\n",
    "  - **생육 후기**에 저온, 다습하면 아랫잎부터 발생하여 큰 피해를 주는데, **최소 6시간 동안 100%의 상대습도가 유지**되어야만 병원균의 포자낭이 형성되고, 발병 온도 범위는 5～30℃이며, 발병 적온은 **15～20℃**이다.\n",
    "2. 탄저병\n",
    "  - 온도 25～30℃, 상대습도 70% 이상에서 잘 이루어지며, 분생포자의 전반은 고온기에 관수시의 물방울이나 빗방울 혹은 바람에 의해 이루어진다.\n",
    "  - (고추)노지포장에서는 여름철 장마기에 분생포자가 주로 비, 바람에 의해 전반된다. 노지재배의 풋고추에서는 7월 초순부터 병이 발생하기 시작하여 수확기까지 계속 발생한다.\n",
    "3. 잿빛곰팡이병\n",
    "  - 시설재배시 기온이 20℃내외이고 습도가 높을 때 많이 발생하며, 노지재배시는 여름철 장마기때 주로 발생한다.\n",
    "  - 20℃ 전,후의 저온과 다습 조건이 가장 중요한 다 발생 원인\n",
    "  - 이른 봄과 가을의 시설재배지에서 심하게 발생하며, 특히 과습한 재배환경에서 피해가 크다.\n",
    "4. 흰가루병\n",
    "  - 주로 봄과 가을의 시설재배에서 많이 발생하며, 여름에는 발생하지 않는다. (본 병은 일반적으로 15～28℃에서 많이 발생되며, 32℃이상의 고온에서는 병 발생이 억제된다.)\n",
    "  - 시설재배지와 가을 날씨가 건조할 때 심하게 발생한다.\n",
    "5. 잘록병\n",
    "  - 기온이 다소 서늘하고(20℃이하) 토양이 **다습한 조건**에서 발생이 심하지만 외부 병징은 고온 건조 시에 잘 나타난다.\n",
    "  - 병든 식물체내에서 난포자 상태로 겨울을 보낸 병원균은 토양 온도가 10℃이상이 되면 다시 발아하여 활동을 시작한다.\n",
    "  - 유묘기부터 생육 초기까지 발생\n"
   ]
  },
  {
   "cell_type": "code",
   "execution_count": 38,
   "metadata": {
    "id": "3kYe3V-PwRKS"
   },
   "outputs": [],
   "source": [
    "crop_dict = {1:'딸기', \n",
    "             2:'토마토',\n",
    "             3:'파프리카',\n",
    "             4:'오이', \n",
    "             5:'고추',\n",
    "             6: '시설포도'}\n",
    "\n",
    "area_dict = {1:'열매',\n",
    "             2:'꽃',\n",
    "             3:'잎',\n",
    "             4:'가지',\n",
    "             5:'줄기',\n",
    "             6:'뿌리',\n",
    "             7:'해충'}\n",
    "\n",
    "task_dict = {0:'정상',\n",
    "             1:'병해',\n",
    "             2:'생리장애',\n",
    "             3:'보호제처리반응'}\n",
    "\n",
    "disease_dict = {'00' : '정상',\n",
    "                \n",
    "                # 병해 a\n",
    "                'a1' : '딸기잿빛곰팡이병',\n",
    "                'a2' : '딸기흰가루병',\n",
    "                'a3' : '오이노균병',\n",
    "                'a4' : '오이흰가루병',\n",
    "                'a5' : '토마토흰가루병',\n",
    "                'a6' : '토마토잿빛곰팡이병',\n",
    "                'a7' : '고추탄저병',\n",
    "                'a8' : '고추흰가루병',\n",
    "                'a9' : '파프리카흰가루병',\n",
    "                'a10' : '파프리카잘록병',\n",
    "                'a11' : '시설포도탄저병',\n",
    "                'a12' : '시설포도노균병',\n",
    "                \n",
    "                # 생리장애 b\n",
    "                'b1' : '냉해피해',\n",
    "                'b2' : '열과',\n",
    "                'b3' : '칼슘결핍',\n",
    "                'b4' : '일소피해',\n",
    "                'b5' : '축과병',\n",
    "                'b6' : '다량원소결핍(N)',\n",
    "                'b7' : '다량원소결핍(P)',\n",
    "                'b8' : '다량원소결핍(K)',\n",
    "                \n",
    "                # 보호제 처리반응 c\n",
    "                'c1' : '딸기잿빛곰팡이병반응',\n",
    "                'c2' : '딸기흰가루병반응',\n",
    "                'c3' : '오이노균병반응',\n",
    "                'c4' : '오이흰가루병반응',\n",
    "                'c5' : '토마토흰가루병반응',\n",
    "                'c6' : '토마토잿빛곰팡이병반응',\n",
    "                'c7' : '고추탄저병반응',\n",
    "                'c8' : '고추흰가루병반응',\n",
    "                'c9' : '파프리카흰가루병반응',\n",
    "                'c10' : '파프리카잘록병반응',\n",
    "                'c11' : '시설포도탄저병반응',\n",
    "                'c12' : '시설포도노균병반응'\n",
    "               }\n",
    "\n",
    "            # 시설 과채류\n",
    "grow_dict = {11:'유묘기',\n",
    "             12:'생장기',\n",
    "             13:'착화/과실기',\n",
    "             \n",
    "             # 시설 과수류 (포도)\n",
    "             21:'발아기',\n",
    "             22:'개화기',\n",
    "             23:'신초생장기',\n",
    "             24:'과실성숙기',\n",
    "             25:'수확기',\n",
    "             26:'휴면기'}\n",
    "\n",
    "risk_dict = {0:'정상',\n",
    "             1:'초기',\n",
    "             2:'중기',\n",
    "             3:'말기'}"
   ]
  },
  {
   "cell_type": "code",
   "execution_count": null,
   "metadata": {},
   "outputs": [],
   "source": []
  }
 ],
 "metadata": {
  "accelerator": "GPU",
  "colab": {
   "collapsed_sections": [],
   "name": "yolov5m-CROP_AREA-USE-AIHUBDATA-folds.ipynb",
   "provenance": [
    {
     "file_id": "1eNqqVN_jK4t1VysV5k9qQ76lmbMG7ixz",
     "timestamp": 1643205783890
    }
   ]
  },
  "kernelspec": {
   "display_name": "vsPjt",
   "language": "python",
   "name": "vspjt"
  },
  "language_info": {
   "codemirror_mode": {
    "name": "ipython",
    "version": 3
   },
   "file_extension": ".py",
   "mimetype": "text/x-python",
   "name": "python",
   "nbconvert_exporter": "python",
   "pygments_lexer": "ipython3",
   "version": "3.7.11"
  }
 },
 "nbformat": 4,
 "nbformat_minor": 1
}
