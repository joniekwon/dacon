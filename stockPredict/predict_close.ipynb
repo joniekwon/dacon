{
 "cells": [
  {
   "cell_type": "code",
   "execution_count": 81,
   "id": "bade941f",
   "metadata": {},
   "outputs": [],
   "source": [
    "import FinanceDataReader as fdr\n",
    "import pandas as pd\n",
    "import numpy as np\n",
    "import datetime\n",
    "\n",
    "from sklearn.model_selection import train_test_split\n",
    "from sklearn.preprocessing import OneHotEncoder\n",
    "from sklearn.linear_model import LinearRegression"
   ]
  },
  {
   "cell_type": "code",
   "execution_count": 76,
   "id": "3a15d0e6",
   "metadata": {},
   "outputs": [],
   "source": [
    "sample_submission = pd.read_csv(\"./_data/sample_submission.csv\")\n",
    "stock_list = pd.read_csv(\"./_data/stock_list.csv\")\n",
    "stock_list['종목코드'] = stock_list['종목코드'].apply(lambda x: str(x).zfill(6)) #zfill 숫자만큼 자릿수 맞춰 0 채우기\n"
   ]
  },
  {
   "cell_type": "code",
   "execution_count": 61,
   "id": "a9d5b2f0",
   "metadata": {},
   "outputs": [
    {
     "data": {
      "text/html": [
       "<div>\n",
       "<style scoped>\n",
       "    .dataframe tbody tr th:only-of-type {\n",
       "        vertical-align: middle;\n",
       "    }\n",
       "\n",
       "    .dataframe tbody tr th {\n",
       "        vertical-align: top;\n",
       "    }\n",
       "\n",
       "    .dataframe thead th {\n",
       "        text-align: right;\n",
       "    }\n",
       "</style>\n",
       "<table border=\"1\" class=\"dataframe\">\n",
       "  <thead>\n",
       "    <tr style=\"text-align: right;\">\n",
       "      <th></th>\n",
       "      <th>종목명</th>\n",
       "      <th>종목코드</th>\n",
       "      <th>상장시장</th>\n",
       "    </tr>\n",
       "  </thead>\n",
       "  <tbody>\n",
       "    <tr>\n",
       "      <th>0</th>\n",
       "      <td>삼성전자</td>\n",
       "      <td>005930</td>\n",
       "      <td>KOSPI</td>\n",
       "    </tr>\n",
       "    <tr>\n",
       "      <th>1</th>\n",
       "      <td>SK하이닉스</td>\n",
       "      <td>000660</td>\n",
       "      <td>KOSPI</td>\n",
       "    </tr>\n",
       "    <tr>\n",
       "      <th>2</th>\n",
       "      <td>NAVER</td>\n",
       "      <td>035420</td>\n",
       "      <td>KOSPI</td>\n",
       "    </tr>\n",
       "    <tr>\n",
       "      <th>3</th>\n",
       "      <td>카카오</td>\n",
       "      <td>035720</td>\n",
       "      <td>KOSPI</td>\n",
       "    </tr>\n",
       "    <tr>\n",
       "      <th>4</th>\n",
       "      <td>삼성바이오로직스</td>\n",
       "      <td>207940</td>\n",
       "      <td>KOSPI</td>\n",
       "    </tr>\n",
       "    <tr>\n",
       "      <th>...</th>\n",
       "      <td>...</td>\n",
       "      <td>...</td>\n",
       "      <td>...</td>\n",
       "    </tr>\n",
       "    <tr>\n",
       "      <th>365</th>\n",
       "      <td>맘스터치</td>\n",
       "      <td>220630</td>\n",
       "      <td>KOSDAQ</td>\n",
       "    </tr>\n",
       "    <tr>\n",
       "      <th>366</th>\n",
       "      <td>다날</td>\n",
       "      <td>064260</td>\n",
       "      <td>KOSDAQ</td>\n",
       "    </tr>\n",
       "    <tr>\n",
       "      <th>367</th>\n",
       "      <td>제이시스메디칼</td>\n",
       "      <td>287410</td>\n",
       "      <td>KOSDAQ</td>\n",
       "    </tr>\n",
       "    <tr>\n",
       "      <th>368</th>\n",
       "      <td>크리스에프앤씨</td>\n",
       "      <td>110790</td>\n",
       "      <td>KOSDAQ</td>\n",
       "    </tr>\n",
       "    <tr>\n",
       "      <th>369</th>\n",
       "      <td>쎄트렉아이</td>\n",
       "      <td>099320</td>\n",
       "      <td>KOSDAQ</td>\n",
       "    </tr>\n",
       "  </tbody>\n",
       "</table>\n",
       "<p>370 rows × 3 columns</p>\n",
       "</div>"
      ],
      "text/plain": [
       "          종목명    종목코드    상장시장\n",
       "0        삼성전자  005930   KOSPI\n",
       "1      SK하이닉스  000660   KOSPI\n",
       "2       NAVER  035420   KOSPI\n",
       "3         카카오  035720   KOSPI\n",
       "4    삼성바이오로직스  207940   KOSPI\n",
       "..        ...     ...     ...\n",
       "365      맘스터치  220630  KOSDAQ\n",
       "366        다날  064260  KOSDAQ\n",
       "367   제이시스메디칼  287410  KOSDAQ\n",
       "368   크리스에프앤씨  110790  KOSDAQ\n",
       "369     쎄트렉아이  099320  KOSDAQ\n",
       "\n",
       "[370 rows x 3 columns]"
      ]
     },
     "execution_count": 61,
     "metadata": {},
     "output_type": "execute_result"
    }
   ],
   "source": [
    "stock_list"
   ]
  },
  {
   "cell_type": "code",
   "execution_count": 77,
   "id": "4faf1908",
   "metadata": {},
   "outputs": [],
   "source": [
    "stock_code = '005930' #삼성전자\n",
    "stock_code ='035420'\n",
    "predict_date = '20211129'  # 29일의 종가 예측\n",
    "period = 365         # 1년간의 데이터를 사용"
   ]
  },
  {
   "cell_type": "code",
   "execution_count": 78,
   "id": "a68d592e",
   "metadata": {},
   "outputs": [],
   "source": [
    "predict_date = pd.to_datetime(predict_date)\n",
    "start_date = '20210104'\n",
    "end_date = '20211105'"
   ]
  },
  {
   "cell_type": "code",
   "execution_count": 79,
   "id": "a33db6fb",
   "metadata": {},
   "outputs": [],
   "source": [
    "start_weekday = pd.to_datetime(start_date).weekday()\n",
    "max_weeknum = pd.to_datetime(end_date).strftime('%V')\n",
    "Business_days = pd.DataFrame(pd.date_range(start_date,end_date,freq='B'), columns = ['Date'])"
   ]
  },
  {
   "cell_type": "code",
   "execution_count": 65,
   "id": "06d9318c",
   "metadata": {
    "scrolled": true
   },
   "outputs": [
    {
     "data": {
      "text/plain": [
       "0"
      ]
     },
     "execution_count": 65,
     "metadata": {},
     "output_type": "execute_result"
    }
   ],
   "source": [
    "start_weekday"
   ]
  },
  {
   "cell_type": "code",
   "execution_count": 66,
   "id": "2b3ef91b",
   "metadata": {
    "scrolled": true
   },
   "outputs": [
    {
     "data": {
      "text/plain": [
       "'44'"
      ]
     },
     "execution_count": 66,
     "metadata": {},
     "output_type": "execute_result"
    }
   ],
   "source": [
    "max_weeknum"
   ]
  },
  {
   "cell_type": "code",
   "execution_count": 67,
   "id": "91439373",
   "metadata": {},
   "outputs": [
    {
     "data": {
      "text/html": [
       "<div>\n",
       "<style scoped>\n",
       "    .dataframe tbody tr th:only-of-type {\n",
       "        vertical-align: middle;\n",
       "    }\n",
       "\n",
       "    .dataframe tbody tr th {\n",
       "        vertical-align: top;\n",
       "    }\n",
       "\n",
       "    .dataframe thead th {\n",
       "        text-align: right;\n",
       "    }\n",
       "</style>\n",
       "<table border=\"1\" class=\"dataframe\">\n",
       "  <thead>\n",
       "    <tr style=\"text-align: right;\">\n",
       "      <th></th>\n",
       "      <th>Date</th>\n",
       "    </tr>\n",
       "  </thead>\n",
       "  <tbody>\n",
       "    <tr>\n",
       "      <th>0</th>\n",
       "      <td>2021-01-04</td>\n",
       "    </tr>\n",
       "    <tr>\n",
       "      <th>1</th>\n",
       "      <td>2021-01-05</td>\n",
       "    </tr>\n",
       "    <tr>\n",
       "      <th>2</th>\n",
       "      <td>2021-01-06</td>\n",
       "    </tr>\n",
       "    <tr>\n",
       "      <th>3</th>\n",
       "      <td>2021-01-07</td>\n",
       "    </tr>\n",
       "    <tr>\n",
       "      <th>4</th>\n",
       "      <td>2021-01-08</td>\n",
       "    </tr>\n",
       "    <tr>\n",
       "      <th>...</th>\n",
       "      <td>...</td>\n",
       "    </tr>\n",
       "    <tr>\n",
       "      <th>215</th>\n",
       "      <td>2021-11-01</td>\n",
       "    </tr>\n",
       "    <tr>\n",
       "      <th>216</th>\n",
       "      <td>2021-11-02</td>\n",
       "    </tr>\n",
       "    <tr>\n",
       "      <th>217</th>\n",
       "      <td>2021-11-03</td>\n",
       "    </tr>\n",
       "    <tr>\n",
       "      <th>218</th>\n",
       "      <td>2021-11-04</td>\n",
       "    </tr>\n",
       "    <tr>\n",
       "      <th>219</th>\n",
       "      <td>2021-11-05</td>\n",
       "    </tr>\n",
       "  </tbody>\n",
       "</table>\n",
       "<p>220 rows × 1 columns</p>\n",
       "</div>"
      ],
      "text/plain": [
       "          Date\n",
       "0   2021-01-04\n",
       "1   2021-01-05\n",
       "2   2021-01-06\n",
       "3   2021-01-07\n",
       "4   2021-01-08\n",
       "..         ...\n",
       "215 2021-11-01\n",
       "216 2021-11-02\n",
       "217 2021-11-03\n",
       "218 2021-11-04\n",
       "219 2021-11-05\n",
       "\n",
       "[220 rows x 1 columns]"
      ]
     },
     "execution_count": 67,
     "metadata": {},
     "output_type": "execute_result"
    }
   ],
   "source": [
    "Business_days"
   ]
  },
  {
   "cell_type": "code",
   "execution_count": 80,
   "id": "3bf298d7",
   "metadata": {},
   "outputs": [],
   "source": [
    "stock = fdr.DataReader(stock_code, start=start_date, end=end_date)[[\"Close\"]].reset_index()"
   ]
  },
  {
   "cell_type": "code",
   "execution_count": 69,
   "id": "bd67b074",
   "metadata": {
    "scrolled": false
   },
   "outputs": [
    {
     "data": {
      "text/html": [
       "<div>\n",
       "<style scoped>\n",
       "    .dataframe tbody tr th:only-of-type {\n",
       "        vertical-align: middle;\n",
       "    }\n",
       "\n",
       "    .dataframe tbody tr th {\n",
       "        vertical-align: top;\n",
       "    }\n",
       "\n",
       "    .dataframe thead th {\n",
       "        text-align: right;\n",
       "    }\n",
       "</style>\n",
       "<table border=\"1\" class=\"dataframe\">\n",
       "  <thead>\n",
       "    <tr style=\"text-align: right;\">\n",
       "      <th></th>\n",
       "      <th>Date</th>\n",
       "      <th>Close</th>\n",
       "    </tr>\n",
       "  </thead>\n",
       "  <tbody>\n",
       "    <tr>\n",
       "      <th>0</th>\n",
       "      <td>2021-01-04</td>\n",
       "      <td>293000</td>\n",
       "    </tr>\n",
       "    <tr>\n",
       "      <th>1</th>\n",
       "      <td>2021-01-05</td>\n",
       "      <td>292500</td>\n",
       "    </tr>\n",
       "    <tr>\n",
       "      <th>2</th>\n",
       "      <td>2021-01-06</td>\n",
       "      <td>290000</td>\n",
       "    </tr>\n",
       "    <tr>\n",
       "      <th>3</th>\n",
       "      <td>2021-01-07</td>\n",
       "      <td>289500</td>\n",
       "    </tr>\n",
       "    <tr>\n",
       "      <th>4</th>\n",
       "      <td>2021-01-08</td>\n",
       "      <td>312000</td>\n",
       "    </tr>\n",
       "    <tr>\n",
       "      <th>...</th>\n",
       "      <td>...</td>\n",
       "      <td>...</td>\n",
       "    </tr>\n",
       "    <tr>\n",
       "      <th>204</th>\n",
       "      <td>2021-11-01</td>\n",
       "      <td>408500</td>\n",
       "    </tr>\n",
       "    <tr>\n",
       "      <th>205</th>\n",
       "      <td>2021-11-02</td>\n",
       "      <td>410000</td>\n",
       "    </tr>\n",
       "    <tr>\n",
       "      <th>206</th>\n",
       "      <td>2021-11-03</td>\n",
       "      <td>402500</td>\n",
       "    </tr>\n",
       "    <tr>\n",
       "      <th>207</th>\n",
       "      <td>2021-11-04</td>\n",
       "      <td>411500</td>\n",
       "    </tr>\n",
       "    <tr>\n",
       "      <th>208</th>\n",
       "      <td>2021-11-05</td>\n",
       "      <td>410500</td>\n",
       "    </tr>\n",
       "  </tbody>\n",
       "</table>\n",
       "<p>209 rows × 2 columns</p>\n",
       "</div>"
      ],
      "text/plain": [
       "          Date   Close\n",
       "0   2021-01-04  293000\n",
       "1   2021-01-05  292500\n",
       "2   2021-01-06  290000\n",
       "3   2021-01-07  289500\n",
       "4   2021-01-08  312000\n",
       "..         ...     ...\n",
       "204 2021-11-01  408500\n",
       "205 2021-11-02  410000\n",
       "206 2021-11-03  402500\n",
       "207 2021-11-04  411500\n",
       "208 2021-11-05  410500\n",
       "\n",
       "[209 rows x 2 columns]"
      ]
     },
     "execution_count": 69,
     "metadata": {},
     "output_type": "execute_result"
    }
   ],
   "source": [
    "stock"
   ]
  },
  {
   "cell_type": "code",
   "execution_count": 70,
   "id": "81dec6d8",
   "metadata": {},
   "outputs": [
    {
     "data": {
      "text/html": [
       "<div>\n",
       "<style scoped>\n",
       "    .dataframe tbody tr th:only-of-type {\n",
       "        vertical-align: middle;\n",
       "    }\n",
       "\n",
       "    .dataframe tbody tr th {\n",
       "        vertical-align: top;\n",
       "    }\n",
       "\n",
       "    .dataframe thead th {\n",
       "        text-align: right;\n",
       "    }\n",
       "</style>\n",
       "<table border=\"1\" class=\"dataframe\">\n",
       "  <thead>\n",
       "    <tr style=\"text-align: right;\">\n",
       "      <th>weekday</th>\n",
       "      <th>0</th>\n",
       "      <th>1</th>\n",
       "      <th>2</th>\n",
       "      <th>3</th>\n",
       "      <th>4</th>\n",
       "    </tr>\n",
       "    <tr>\n",
       "      <th>weeknum</th>\n",
       "      <th></th>\n",
       "      <th></th>\n",
       "      <th></th>\n",
       "      <th></th>\n",
       "      <th></th>\n",
       "    </tr>\n",
       "  </thead>\n",
       "  <tbody>\n",
       "    <tr>\n",
       "      <th>01</th>\n",
       "      <td>293000.0</td>\n",
       "      <td>292500.0</td>\n",
       "      <td>290000.0</td>\n",
       "      <td>289500.0</td>\n",
       "      <td>312000.0</td>\n",
       "    </tr>\n",
       "    <tr>\n",
       "      <th>02</th>\n",
       "      <td>309000.0</td>\n",
       "      <td>304000.0</td>\n",
       "      <td>314000.0</td>\n",
       "      <td>318000.0</td>\n",
       "      <td>306000.0</td>\n",
       "    </tr>\n",
       "    <tr>\n",
       "      <th>03</th>\n",
       "      <td>300500.0</td>\n",
       "      <td>308000.0</td>\n",
       "      <td>308000.0</td>\n",
       "      <td>322500.0</td>\n",
       "      <td>343500.0</td>\n",
       "    </tr>\n",
       "    <tr>\n",
       "      <th>04</th>\n",
       "      <td>349000.0</td>\n",
       "      <td>342000.0</td>\n",
       "      <td>341500.0</td>\n",
       "      <td>355000.0</td>\n",
       "      <td>343000.0</td>\n",
       "    </tr>\n",
       "    <tr>\n",
       "      <th>05</th>\n",
       "      <td>348000.0</td>\n",
       "      <td>362500.0</td>\n",
       "      <td>370500.0</td>\n",
       "      <td>358000.0</td>\n",
       "      <td>362500.0</td>\n",
       "    </tr>\n",
       "  </tbody>\n",
       "</table>\n",
       "</div>"
      ],
      "text/plain": [
       "weekday         0         1         2         3         4\n",
       "weeknum                                                  \n",
       "01       293000.0  292500.0  290000.0  289500.0  312000.0\n",
       "02       309000.0  304000.0  314000.0  318000.0  306000.0\n",
       "03       300500.0  308000.0  308000.0  322500.0  343500.0\n",
       "04       349000.0  342000.0  341500.0  355000.0  343000.0\n",
       "05       348000.0  362500.0  370500.0  358000.0  362500.0"
      ]
     },
     "execution_count": 70,
     "metadata": {},
     "output_type": "execute_result"
    }
   ],
   "source": [
    "stock = pd.merge(Business_days, stock, how='outer')\n",
    "stock['weekday'] = stock.Date.apply(lambda x : x.weekday())\n",
    "stock['weeknum'] = stock.Date.apply(lambda x : x.strftime('%V'))\n",
    "stock.Close = stock.Close.ffill()\n",
    "stock = pd.pivot_table(data = stock, values = 'Close', columns = 'weekday', index = 'weeknum')\n",
    "stock.head()\n"
   ]
  },
  {
   "cell_type": "code",
   "execution_count": 71,
   "id": "ae7b2185",
   "metadata": {},
   "outputs": [
    {
     "data": {
      "text/plain": [
       "(42, 5)"
      ]
     },
     "execution_count": 71,
     "metadata": {},
     "output_type": "execute_result"
    }
   ],
   "source": [
    "\n",
    "from sklearn.linear_model import LinearRegression\n",
    "model = LinearRegression()\n",
    "x = stock.iloc[0:-2].to_numpy()\n",
    "x.shape"
   ]
  },
  {
   "cell_type": "code",
   "execution_count": 36,
   "id": "d59f2416",
   "metadata": {},
   "outputs": [],
   "source": [
    "y = sample.iloc[1:-1].to_numpy()\n",
    "y_0 = y[:,0]\n",
    "y_1 = y[:,1]\n",
    "y_2 = y[:,2]\n",
    "y_3 = y[:,3]\n",
    "y_4 = y[:,4]\n",
    "\n",
    "y_values = [y_0, y_1, y_2, y_3, y_4]\n",
    "x_public = sample.iloc[-2].to_numpy()"
   ]
  },
  {
   "cell_type": "code",
   "execution_count": null,
   "id": "d41b74c7",
   "metadata": {},
   "outputs": [],
   "source": []
  },
  {
   "cell_type": "code",
   "execution_count": 82,
   "id": "ef0b8176",
   "metadata": {},
   "outputs": [
    {
     "name": "stdout",
     "output_type": "stream",
     "text": [
      "[108203.55088251]\n",
      "테스트 정확도:-0.4201362293799922\n",
      "[109184.84791057]\n",
      "테스트 정확도:-0.3262521542971113\n",
      "[107582.48344749]\n",
      "테스트 정확도:-0.28389371838698674\n",
      "[106521.74505204]\n",
      "테스트 정확도:-0.11326359591531898\n",
      "[105411.87467592]\n",
      "테스트 정확도:0.05996633794318951\n"
     ]
    }
   ],
   "source": [
    "predictions = []\n",
    "for y_value in y_values :\n",
    "    X_train, X_test, y_train, y_test = train_test_split(x, y_value, random_state=11, test_size=0.3)\n",
    "    model.fit(X_train,y_train)\n",
    "    score = model.score(X_test, y_test)\n",
    "    prediction = model.predict(np.expand_dims(x_public,0))\n",
    "    print(f\"{prediction}\")\n",
    "    print(f\"테스트 정확도:{score}\")\n",
    "\n",
    "\n",
    "    predictions.append(prediction[0])\n",
    "#predictions"
   ]
  },
  {
   "cell_type": "code",
   "execution_count": null,
   "id": "9d8ada27",
   "metadata": {},
   "outputs": [],
   "source": []
  },
  {
   "cell_type": "code",
   "execution_count": null,
   "id": "42325b9d",
   "metadata": {},
   "outputs": [],
   "source": []
  },
  {
   "cell_type": "code",
   "execution_count": 84,
   "id": "2cd638ff",
   "metadata": {},
   "outputs": [
    {
     "data": {
      "text/plain": [
       "Pipeline(steps=[('standardscaler', StandardScaler()),\n",
       "                ('pca', PCA(n_components=2)),\n",
       "                ('logisticregression', LogisticRegression(random_state=1))])"
      ]
     },
     "execution_count": 84,
     "metadata": {},
     "output_type": "execute_result"
    }
   ],
   "source": [
    "from sklearn.preprocessing import StandardScaler\n",
    "from sklearn.decomposition import PCA\n",
    "from sklearn.linear_model import LogisticRegression\n",
    "from sklearn.pipeline import make_pipeline\n",
    "pipe_lr = make_pipeline(StandardScaler(),\n",
    "                        PCA(n_components=2),\n",
    "                           LogisticRegression(random_state=1))\n",
    "pipe_lr.fit(X_train, y_train)\n"
   ]
  },
  {
   "cell_type": "code",
   "execution_count": null,
   "id": "94441ee3",
   "metadata": {},
   "outputs": [],
   "source": []
  }
 ],
 "metadata": {
  "kernelspec": {
   "display_name": "Python 3 (ipykernel)",
   "language": "python",
   "name": "python3"
  },
  "language_info": {
   "codemirror_mode": {
    "name": "ipython",
    "version": 3
   },
   "file_extension": ".py",
   "mimetype": "text/x-python",
   "name": "python",
   "nbconvert_exporter": "python",
   "pygments_lexer": "ipython3",
   "version": "3.9.7"
  }
 },
 "nbformat": 4,
 "nbformat_minor": 5
}
